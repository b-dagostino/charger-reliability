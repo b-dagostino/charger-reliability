{
 "cells": [
  {
   "cell_type": "markdown",
   "metadata": {},
   "source": [
    "# **Stanford Transportation - ChargePoint EV Chargers - Sep-2023**"
   ]
  },
  {
   "cell_type": "markdown",
   "metadata": {},
   "source": [
    "## **Initialization**"
   ]
  },
  {
   "cell_type": "markdown",
   "metadata": {},
   "source": [
    "### **Code Setup**"
   ]
  },
  {
   "cell_type": "code",
   "execution_count": 1,
   "metadata": {},
   "outputs": [],
   "source": [
    "from datetime import datetime, timedelta\n",
    "import sys\n",
    "from typing import Optional\n",
    "from zoneinfo import ZoneInfo\n",
    "\n",
    "from IPython.display import display\n",
    "import networkx as nx\n",
    "import pandas as pd\n",
    "\n",
    "# Add repo's python directory to PYTHONPATH so we can import our utilities\n",
    "sys.path.append('../python/')\n",
    "\n",
    "from s3l_utils.dataset import Dataset\n",
    "from s3l_utils.notebook import print_md\n",
    "from s3l_utils.functional import grouper\n",
    "\n",
    "# Output formatting\n",
    "pd.set_option('display.max_columns', None)\n",
    "pd.set_option('display.max_rows', 100)\n",
    "\n",
    "# Timezone abbreviation to zoneinfo\n",
    "tz_abbrev_to_zoneinfo = {\n",
    "    'PDT': ZoneInfo('US/Pacific'),\n",
    "    'PST': ZoneInfo('US/Pacific'),\n",
    "}\n",
    "\n",
    "# Convert alarm times to proper datetimes... why is this so hard???\n",
    "def alarm_time_to_datetime(alarm_time):\n",
    "    if isinstance(alarm_time, datetime):\n",
    "        return alarm_time\n",
    "\n",
    "    components = alarm_time.split()\n",
    "    naive_time = datetime.strptime(' '.join(components[:-1]), '%Y-%m-%d %H:%M:%S')\n",
    "    aware_time = naive_time.astimezone(tz_abbrev_to_zoneinfo[components[-1][1:-1]])\n",
    "    return aware_time\n",
    "\n",
    "# Summarize table\n",
    "def summarize_dataframe_md(df: pd.DataFrame, header: str = ''):\n",
    "    if header:\n",
    "        print_md(f'#### **{header}**')\n",
    "    \n",
    "    print_md(f'**Number of Rows:** {len(df)}')\n",
    "    print_md(f'**Columns:** {\", \".join(df.columns)}')\n",
    "\n",
    "    print_md('#### **Unique Column Values**')\n",
    "    for column in df.columns:\n",
    "        unique_column_values = ', '.join(filter(None, map(str, list(df[column].unique()))))\n",
    "        print_md(f'##### **{column.strip()}**')\n",
    "        print_md(unique_column_values)\n",
    "\n",
    "# Pandas options\n",
    "# pd.set_option('display.max_rows', None)"
   ]
  },
  {
   "cell_type": "markdown",
   "metadata": {},
   "source": [
    "### **Load and Prepare Dataset**"
   ]
  },
  {
   "cell_type": "code",
   "execution_count": 2,
   "metadata": {},
   "outputs": [],
   "source": [
    "# Load dataset and tables\n",
    "dataset = Dataset('../data/manifest.yml')\n",
    "station_overview = dataset.stations.overview\n",
    "alarms = dataset.reports.alarms\n",
    "station_inventory = dataset.organizations.inventory.stations\n",
    "\n",
    "# Canonicalize alarm times to US/Pacific datetimes\n",
    "if not pd.api.types.is_datetime64_any_dtype(alarms['Alarm Time']):\n",
    "    # alarms['Alarm Time'] = pd.to_datetime(alarms['Alarm Time'].map(lambda x: ' '.join(x.split()[:-1]))).dt.tz_localize('US/Pacific', ambiguous='NaT')\n",
    "    dst_map = alarms['Alarm Time'].str.contains('PST')\n",
    "    alarms['Alarm Time'] = pd.to_datetime(alarms['Alarm Time'].map(lambda x: ' '.join(x.split()[:-1]))).dt.tz_localize('US/Pacific', dst_map)"
   ]
  },
  {
   "cell_type": "markdown",
   "metadata": {},
   "source": [
    "## **Analysis**"
   ]
  },
  {
   "cell_type": "markdown",
   "metadata": {},
   "source": [
    "### **Station Overview**"
   ]
  },
  {
   "cell_type": "code",
   "execution_count": 3,
   "metadata": {},
   "outputs": [
    {
     "data": {
      "text/markdown": [
       "#### **Station Overview Summary**"
      ]
     },
     "metadata": {},
     "output_type": "display_data"
    },
    {
     "data": {
      "text/markdown": [
       "**Number of Rows:** 109"
      ]
     },
     "metadata": {},
     "output_type": "display_data"
    },
    {
     "data": {
      "text/markdown": [
       "**Columns:** Model Number, Station Name, Org Name, MAC Address, System S/N, Address 1, Address 2, Floor Label, City, State, Zip/Postal Code, County, Country , Activation Status, Network Status, Station Status, Port 1 Status, Port 2 Status, No. of Ports, Pricing Policy Name, Reservations, Station Message, Enabled, Station Activation Type, Usable By, Visibility (Access Policy Name), EVSE ID, Radio Group Name, Software Version, Customer Category, Customer Subcategory, Circuit Sharing, Currency Name, Power Select / AC Breaker Rating, Scheduled Charging Policy Name, Warranty, Station Activation Date, Warranty Expiration Date, Warranty Service, Plug Type, Device Access Restriction, Waitlist Policy Name, Asset Tag ID, Meter ID, Service Delivery Point ID, Point of Service ID, Account ID, Circuit ID, Panel ID, Customer Name, Customer ID, Site ID, Site mode, Site Validation Status, Paired, Latitude, Longitude"
      ]
     },
     "metadata": {},
     "output_type": "display_data"
    },
    {
     "data": {
      "text/markdown": [
       "#### **Unique Column Values**"
      ]
     },
     "metadata": {},
     "output_type": "display_data"
    },
    {
     "data": {
      "text/markdown": [
       "##### **Model Number**"
      ]
     },
     "metadata": {},
     "output_type": "display_data"
    },
    {
     "data": {
      "text/markdown": [
       "CT4020-HD, CT4020-HD-GW, CT4020-HD2-GW-LTE, CT4010-HD-GW, CT4010-HD, CPE200T-S-CHD-CMB"
      ]
     },
     "metadata": {},
     "output_type": "display_data"
    },
    {
     "data": {
      "text/markdown": [
       "##### **Station Name**"
      ]
     },
     "metadata": {},
     "output_type": "display_data"
    },
    {
     "data": {
      "text/markdown": [
       "STANFORD / THO NGW-B5, STANFORD / THO NGW-B4, STANFORD / THO NGW-B3, STANFORD / THO NGW-B2, STANFORD / THO NGW-B1, STANFORD / THO NGW-A5 ADA, STANFORD / THO NGW-A4, STANFORD / THO NGW-A3, STANFORD / THO NGW-A2, STANFORD / THO NGW-A1, STANFORD / THO GW-B, STANFORD / THO GW-A, STANFORD / TH WALL MOUNT, STANFORD / TH STATION 1, STANFORD / STATION 9, STANFORD / STATION 8 PS-5, STANFORD / STATION 8, STANFORD / STATION 7 PS-5, STANFORD / STATION 7, STANFORD / STATION 6 PS-5, STANFORD / STATION 6, STANFORD / STATION 5 PS-5, STANFORD / STATION 5, STANFORD / STATION 4 PS-5, STANFORD / STATION 4, STANFORD / STATION 3 PS-5, STANFORD / STATION 3, STANFORD / STATION 2 TMU, STANFORD / STATION 2 PS-5, STANFORD / STATION 2, STANFORD / STATION 11, STANFORD / STATION 10, STANFORD / STATION 1 TMU, STANFORD / STATION 1 PS-5, STANFORD / STATION 1, STANFORD / ROBLE LL2-12, STANFORD / OAK ROAD #1, STANFORD / CD STATION 6, STANFORD / CD STATION 4, STANFORD / CD STATION 3, STANFORD / CD STATION 2, STANFORD / CD STATION 1, STANFORD / CD GATEWAY #3, STANFORD / CD GATEWAY #2, STANFORD / CD GATEWAY #1, STANFORD / CAM 6 LL1, STANFORD / CAM 5 LL1, STANFORD / CAM 4 LL1, STANFORD / CAM 3 LL1, STANFORD / CAM 2 LL1, STANFORD / CAM 1 LL1, SRWC / RWC L5 5, SRWC / RWC L5 4, SRWC / RWC L5 3, SRWC / RWC L5 2, SRWC / RWC L5 1, SRWC / RWC L4 4, SRWC / RWC L4 3, SRWC / RWC L4 2, SRWC / RWC L4 1, SRWC / RWC L3 4, SRWC / RWC L3 3, SRWC / RWC L3 2, SRWC / RWC L3 1, SRWC / RWC L2 4, SRWC / RWC L2 3, SRWC / RWC L2 2, SRWC / RWC L2 1, SRWC / RWC L1 6, SRWC / RWC L1 5, SRWC / RWC L1 4, SRWC / RWC L1 3, SRWC / RWC L1 2, SRWC / RWC L1 1, SRWC / RWC B1 4, SRWC / RWC B1 3, SRWC / RWC B1 2, SRWC / RWC B1 1, SRWC / CHARGER 5, SRWC / CHARGER 4, SRWC / CHARGER 3, SRWC / CHARGER 2, SRWC / CHARGER 1, ROBLE / ROBLE LL2-9, ROBLE / ROBLE LL2-8, ROBLE / ROBLE LL2-7, ROBLE / ROBLE LL2-6, ROBLE / ROBLE LL2-5, ROBLE / ROBLE LL2-4, ROBLE / ROBLE LL2-3, ROBLE / ROBLE LL2-2, ROBLE / ROBLE LL2-14, ROBLE / ROBLE LL2-13, ROBLE / ROBLE LL2-11, ROBLE / ROBLE LL2-10, ROBLE / ROBLE LL2-1, ROBLE / ROBLE LL1-DIS, ROBLE / ROBLE LL1-9, ROBLE / ROBLE LL1-8, ROBLE / ROBLE LL1-7, ROBLE / ROBLE LL1-6, ROBLE / ROBLE LL1-5, ROBLE / ROBLE LL1-4, ROBLE / ROBLE LL1-3, ROBLE / ROBLE LL1-2, ROBLE / ROBLE LL1-12, ROBLE / ROBLE LL1-11, ROBLE / ROBLE LL1-10, ROBLE / ROBLE LL1-1"
      ]
     },
     "metadata": {},
     "output_type": "display_data"
    },
    {
     "data": {
      "text/markdown": [
       "##### **Org Name**"
      ]
     },
     "metadata": {},
     "output_type": "display_data"
    },
    {
     "data": {
      "text/markdown": [
       "Stanford University"
      ]
     },
     "metadata": {},
     "output_type": "display_data"
    },
    {
     "data": {
      "text/markdown": [
       "##### **MAC Address**"
      ]
     },
     "metadata": {},
     "output_type": "display_data"
    },
    {
     "data": {
      "text/markdown": [
       "0024:B100:0003:12F8, 0024:B100:0003:130F, 0024:B100:0003:12EE, 0024:B100:0003:12F1, 0024:B100:0003:12D9, 0024:B100:0003:1318, 0024:B100:0003:1312, 0024:B100:0003:130E, 0024:B100:0003:130B, 0024:B100:0003:12EB, 0024:B100:0003:2C1C, 0024:B100:0003:2A8C, 0024:B100:0002:16F3, 0024:B100:0004:0667, 0024:B100:0006:C0E1, 0024:B100:0002:15D4, 0024:B100:0006:BD1D, 0024:B100:0002:1C6A, 0024:B100:0006:C802, 0024:B100:0002:15D0, 0024:B100:0006:BD13, 0024:B100:0002:15DF, 0024:B100:0006:BD20, 0024:B100:0002:13E5, 0024:B100:0006:C80F, 0024:B100:0002:1F6C, 0024:B100:0006:C80C, 0024:B100:0006:BC3D, 0024:B100:0004:3B91, 0024:B100:0006:C0E2, 0024:B100:000C:083C, 0024:B100:0006:C7DC, 0024:B100:0003:33C3, 0024:B100:0002:1EED, 0024:B100:0006:4538, 0024:B100:0002:2A6E, 0024:B100:0003:824E, 0024:B100:0003:2ADF, 0024:B100:0004:2ED8, 0024:B100:0003:2AB1, 0024:B100:0004:A22C, 0024:B100:0003:2AB5, 0024:B100:0004:1B12, 0024:B100:0004:A250, 0024:B100:0004:C4B2, 0024:B100:0003:C68A, 0024:B100:0003:C689, 0024:B100:0003:BF91, 0024:B100:0003:BF3D, 0024:B100:0004:0E93, 0024:B100:0003:BF3B, 0024:B100:0002:8DD9, 0024:B100:0002:8E32, 0024:B100:0002:A917, 0024:B100:0003:1F95, 0024:B100:0002:9194, 0024:B100:0002:8E49, 0024:B100:0002:8FD1, 0024:B100:0002:8E36, 0024:B100:0002:8E37, 0024:B100:0002:8E28, 0024:B100:0002:8E02, 0024:B100:0002:91C3, 0024:B100:0002:918F, 0024:B100:0002:8E2F, 0024:B100:0002:8E27, 0024:B100:0002:8FCA, 0024:B100:0002:8E2C, 0024:B100:0002:B04A, 0024:B100:0002:919B, 0024:B100:0002:AE14, 0024:B100:0002:AD71, 0024:B100:0002:9202, 0024:B100:0002:594F, 0024:B100:0002:8DDC, 0024:B100:0003:9836, 0024:B100:0002:9193, 0024:B100:0002:8E4A, 000D:6F00:04F8:B0AC, 0024:B100:0002:5752, 0024:B100:0002:575E, 0024:B100:0002:5144, 0024:B100:0002:4AEB, 0024:B100:0002:295F, 0024:B100:0002:2A8E, 0024:B100:0002:2A74, 0024:B100:0002:2A6B, 0024:B100:0002:2A70, 0024:B100:0002:2A80, 0024:B100:0002:2955, 0024:B100:0002:297C, 0024:B100:0002:5154, 0024:B100:0002:294E, 0024:B100:0002:2A7B, 0024:B100:0002:2A71, 0024:B100:0002:5134, 0024:B100:0002:299E, 0024:B100:0004:5D08, 0024:B100:0002:2A7C, 0024:B100:0002:2940, 0024:B100:0002:2954, 0024:B100:0003:D5D6, 0024:B100:0003:D26F, 0024:B100:0002:2A73, 0024:B100:0004:20C4, 0024:B100:0004:0EC1, 0024:B100:0002:3F5A, 0024:B100:0004:5CE8, 0024:B100:0002:5158"
      ]
     },
     "metadata": {},
     "output_type": "display_data"
    },
    {
     "data": {
      "text/markdown": [
       "##### **System S/N**"
      ]
     },
     "metadata": {},
     "output_type": "display_data"
    },
    {
     "data": {
      "text/markdown": [
       "184141024581, 184141024600, 184141024577, 184141024593, 184141024567, 184141024610, 184141024603, 184141024588, 184141024608, 184141024573, 184841030920, 184741030870, 143641006567, 201741012775, 220241003311, 143441006254, 220141000705, 145041008118, 220241003288, 143441006255, 220141000697, 143441006275, 220141000714, 143041005775, 220241003284, 150341000232, 220241003312, 220141000444, 200541004831, 220241003310, 231641072278, 220241003273, 153741004116, 150241000120, 213841045402, 152741003067, 193041017182, 184741030714, 192741015842, 184741030692, 210241001954, 184741030683, 192641015360, 210241001974, 211141011323, 195241034416, 195241034419, 195041032475, 195041032407, 170141000309, 195041032410, 173441009978, 173441009986, 175241017410, 184541028755, 173641010743, 173441009989, 173541010301, 173441009990, 173441010008, 173441009974, 173541010298, 173641010752, 173641010749, 173441009983, 173441009973, 173541010306, 173441009984, 180241000629, 173641010742, 175241017163, 175141017015, 173641010746, 164041005488, 173441009933, 164741006937, 173641010737, 173441009991, 37569, 163841004932, 163841004941, 162741003523, 153441003891, 152541002783, 152741003076, 152741003072, 152741003068, 152741003081, 152741003082, 152541002779, 152541002807, 162841003554, 152541002762, 152741003077, 152741003079, 162741003546, 152641002898, 183441017415, 152741003088, 152541002775, 152541002778, 200441003033, 200341002120, 152741003075, 185141033955, 172641007698, 155141008435, 164941007425, 162841003560"
      ]
     },
     "metadata": {},
     "output_type": "display_data"
    },
    {
     "data": {
      "text/markdown": [
       "##### **Address 1**"
      ]
     },
     "metadata": {},
     "output_type": "display_data"
    },
    {
     "data": {
      "text/markdown": [
       "740 Serra St, 295 Galvez St, 400 El Camino Real, 340 Oak Rd, 495 El Camino Real, 360 Oak Rd, 526-566 Lagunita Dr, 526-566 Stanford UniversityLagunita Dr, 375 Santa Teresa St, 484 Oak Rd, 742 Campus Drive, 453 Quarry Rd, 425 Broadway, 2850 Bay Rd, 2858 Bay Rd, 585 Broadway, 900-998 Douglas Ave, 373 Santa Teresa St, 287 Santa Teresa St, 671-725 Panama St"
      ]
     },
     "metadata": {},
     "output_type": "display_data"
    },
    {
     "data": {
      "text/markdown": [
       "##### **Address 2**"
      ]
     },
     "metadata": {},
     "output_type": "display_data"
    },
    {
     "data": {
      "text/markdown": [
       "Manzanita Garage"
      ]
     },
     "metadata": {},
     "output_type": "display_data"
    },
    {
     "data": {
      "text/markdown": [
       "##### **Floor Label**"
      ]
     },
     "metadata": {},
     "output_type": "display_data"
    },
    {
     "data": {
      "text/markdown": [
       "1, L5, L4, L3, L2, L1, B1"
      ]
     },
     "metadata": {},
     "output_type": "display_data"
    },
    {
     "data": {
      "text/markdown": [
       "##### **City**"
      ]
     },
     "metadata": {},
     "output_type": "display_data"
    },
    {
     "data": {
      "text/markdown": [
       "Stanford, Menlo Park, Palo Alto, Redwood City"
      ]
     },
     "metadata": {},
     "output_type": "display_data"
    },
    {
     "data": {
      "text/markdown": [
       "##### **State**"
      ]
     },
     "metadata": {},
     "output_type": "display_data"
    },
    {
     "data": {
      "text/markdown": [
       "California"
      ]
     },
     "metadata": {},
     "output_type": "display_data"
    },
    {
     "data": {
      "text/markdown": [
       "##### **Zip/Postal Code**"
      ]
     },
     "metadata": {},
     "output_type": "display_data"
    },
    {
     "data": {
      "text/markdown": [
       "94305, 94025, 94304, 94063"
      ]
     },
     "metadata": {},
     "output_type": "display_data"
    },
    {
     "data": {
      "text/markdown": [
       "##### **County**"
      ]
     },
     "metadata": {},
     "output_type": "display_data"
    },
    {
     "data": {
      "text/markdown": [
       "Santa Clara County, San Mateo County"
      ]
     },
     "metadata": {},
     "output_type": "display_data"
    },
    {
     "data": {
      "text/markdown": [
       "##### **Country**"
      ]
     },
     "metadata": {},
     "output_type": "display_data"
    },
    {
     "data": {
      "text/markdown": [
       "United States"
      ]
     },
     "metadata": {},
     "output_type": "display_data"
    },
    {
     "data": {
      "text/markdown": [
       "##### **Activation Status**"
      ]
     },
     "metadata": {},
     "output_type": "display_data"
    },
    {
     "data": {
      "text/markdown": [
       "Activated"
      ]
     },
     "metadata": {},
     "output_type": "display_data"
    },
    {
     "data": {
      "text/markdown": [
       "##### **Network Status**"
      ]
     },
     "metadata": {},
     "output_type": "display_data"
    },
    {
     "data": {
      "text/markdown": [
       "Unreachable, Reachable"
      ]
     },
     "metadata": {},
     "output_type": "display_data"
    },
    {
     "data": {
      "text/markdown": [
       "##### **Station Status**"
      ]
     },
     "metadata": {},
     "output_type": "display_data"
    },
    {
     "data": {
      "text/markdown": [
       "Watch List, Available, Needs Service, Inuse"
      ]
     },
     "metadata": {},
     "output_type": "display_data"
    },
    {
     "data": {
      "text/markdown": [
       "##### **Port 1 Status**"
      ]
     },
     "metadata": {},
     "output_type": "display_data"
    },
    {
     "data": {
      "text/markdown": [
       "Watch List, Available, In Use, Needs Service"
      ]
     },
     "metadata": {},
     "output_type": "display_data"
    },
    {
     "data": {
      "text/markdown": [
       "##### **Port 2 Status**"
      ]
     },
     "metadata": {},
     "output_type": "display_data"
    },
    {
     "data": {
      "text/markdown": [
       "Watch List, Available, In Use, Needs Service"
      ]
     },
     "metadata": {},
     "output_type": "display_data"
    },
    {
     "data": {
      "text/markdown": [
       "##### **No. of Ports**"
      ]
     },
     "metadata": {},
     "output_type": "display_data"
    },
    {
     "data": {
      "text/markdown": [
       "2, 1"
      ]
     },
     "metadata": {},
     "output_type": "display_data"
    },
    {
     "data": {
      "text/markdown": [
       "##### **Pricing Policy Name**"
      ]
     },
     "metadata": {},
     "output_type": "display_data"
    },
    {
     "data": {
      "text/markdown": [
       "$1 per hr enforcement hours, $2 per hr enforcement hours $1 per hr otherwise (e, Stanford University Mirrored"
      ]
     },
     "metadata": {},
     "output_type": "display_data"
    },
    {
     "data": {
      "text/markdown": [
       "##### **Reservations**"
      ]
     },
     "metadata": {},
     "output_type": "display_data"
    },
    {
     "data": {
      "text/markdown": [
       "Disabled"
      ]
     },
     "metadata": {},
     "output_type": "display_data"
    },
    {
     "data": {
      "text/markdown": [
       "##### **Station Message**"
      ]
     },
     "metadata": {},
     "output_type": "display_data"
    },
    {
     "data": {
      "text/markdown": [
       "Plugged In Required"
      ]
     },
     "metadata": {},
     "output_type": "display_data"
    },
    {
     "data": {
      "text/markdown": [
       "##### **Enabled**"
      ]
     },
     "metadata": {},
     "output_type": "display_data"
    },
    {
     "data": {
      "text/markdown": [
       "Yes"
      ]
     },
     "metadata": {},
     "output_type": "display_data"
    },
    {
     "data": {
      "text/markdown": [
       "##### **Station Activation Type**"
      ]
     },
     "metadata": {},
     "output_type": "display_data"
    },
    {
     "data": {
      "text/markdown": [
       "Public"
      ]
     },
     "metadata": {},
     "output_type": "display_data"
    },
    {
     "data": {
      "text/markdown": [
       "##### **Usable By**"
      ]
     },
     "metadata": {},
     "output_type": "display_data"
    },
    {
     "data": {
      "text/markdown": [
       "All Drivers, Stanford University Mirrored"
      ]
     },
     "metadata": {},
     "output_type": "display_data"
    },
    {
     "data": {
      "text/markdown": [
       "##### **Visibility (Access Policy Name)**"
      ]
     },
     "metadata": {},
     "output_type": "display_data"
    },
    {
     "data": {
      "text/markdown": [
       "No Drivers, All Drivers, Stanford University Mirrored"
      ]
     },
     "metadata": {},
     "output_type": "display_data"
    },
    {
     "data": {
      "text/markdown": [
       "##### **EVSE ID**"
      ]
     },
     "metadata": {},
     "output_type": "display_data"
    },
    {
     "data": {
      "text/markdown": [
       "1942901, 1942891, 1942871, 1942831, 1942771, 1943001, 1942971, 1942961, 1942951, 1942911, 715031, 715051, 119361, 118801, 13124741, 110213, 13124781, 117141, 13124701, 110125, 13124811, 110209, 13124771, 107663, 13124731, 118797, 13124761, 118781, 119315, 13124721, 13125171, 13125341, 119355, 118785, 13124711, 126643, 2002541, 5499441, 5499291, 5499251, 5499161, 5498991, 5390121, 5441611, 5456051, 5485451, 5474401, 5474381, 5475761, 5480591, 5474391, 239571, 239611, 428361, 738381, 254601, 239441, 247101, 239411, 239671, 239621, 246721, 254841, 254621, 239541, 239631, 246861, 239531, 446341, 254801, 422291, 419271, 254681, 254641, 239661, 246781, 254711, 239511, 158679, 168373, 168401, 162597, 2100951, 125893, 126669, 126653, 126645, 126683, 126679, 125887, 125961, 162667, 125833, 126661, 126673, 162657, 126187, 126651, 126695, 125855, 125881, 126277, 125885, 126663, 126169, 162655, 148717, 126693, 162797"
      ]
     },
     "metadata": {},
     "output_type": "display_data"
    },
    {
     "data": {
      "text/markdown": [
       "##### **Radio Group Name**"
      ]
     },
     "metadata": {},
     "output_type": "display_data"
    },
    {
     "data": {
      "text/markdown": [
       "RG-GW1, RG-GW2, Track House, RG_00040667, GW 9, PS5 - SW Wall, GW 8, GW 7, GW 6, GW 5, GW 4, PS-5 NW Wall, GW 3, RG_0006BC3D, GW 2, GW 11, GW 10, TMU, GW 1, LL2 Group 1, Oak Road RG 01, Campus Dr RG2, RG_00042ED8, Campus Dr RG1, RG_0004A22C, Campus Dr RG3, Quarry Rd RG 6, Quarry Rd RG 5, Quarry Rd RG 4, Quarry Rd RG 3, Quarry Rd RG 2, Quarry Rd RG 1, RWC L5, RWC L4, RWC L3, RWC L2, RWC L1, RWC B1, Broadway GW2, Broadway GW1, Roble LL2 Group 2, Roble LL1 Group 2, RG_00045D08, Roble LL1 Group 1, RG_0003D5D6, RG_0003D26F, RG_000420C4, RG_00045CE8"
      ]
     },
     "metadata": {},
     "output_type": "display_data"
    },
    {
     "data": {
      "text/markdown": [
       "##### **Software Version**"
      ]
     },
     "metadata": {},
     "output_type": "display_data"
    },
    {
     "data": {
      "text/markdown": [
       "4.6.0.46, 4.20.0+2023.02.10.63-alpha, 4.6.0.39, 4.5.0.40, 3.7.9.19-6777192/v1.5.80000000000, 4.6.0.33, 4.6.0.35"
      ]
     },
     "metadata": {},
     "output_type": "display_data"
    },
    {
     "data": {
      "text/markdown": [
       "##### **Customer Category**"
      ]
     },
     "metadata": {},
     "output_type": "display_data"
    },
    {
     "data": {
      "text/markdown": [
       "Education, Workplace"
      ]
     },
     "metadata": {},
     "output_type": "display_data"
    },
    {
     "data": {
      "text/markdown": [
       "##### **Customer Subcategory**"
      ]
     },
     "metadata": {},
     "output_type": "display_data"
    },
    {
     "data": {
      "text/markdown": [
       "University / College, General"
      ]
     },
     "metadata": {},
     "output_type": "display_data"
    },
    {
     "data": {
      "text/markdown": [
       "##### **Circuit Sharing**"
      ]
     },
     "metadata": {},
     "output_type": "display_data"
    },
    {
     "data": {
      "text/markdown": [
       "Disabled, Enabled"
      ]
     },
     "metadata": {},
     "output_type": "display_data"
    },
    {
     "data": {
      "text/markdown": [
       "##### **Currency Name**"
      ]
     },
     "metadata": {},
     "output_type": "display_data"
    },
    {
     "data": {
      "text/markdown": [
       "U.S. Dollars (USD)"
      ]
     },
     "metadata": {},
     "output_type": "display_data"
    },
    {
     "data": {
      "text/markdown": [
       "##### **Power Select / AC Breaker Rating**"
      ]
     },
     "metadata": {},
     "output_type": "display_data"
    },
    {
     "data": {
      "text/markdown": [
       "40A, 30A"
      ]
     },
     "metadata": {},
     "output_type": "display_data"
    },
    {
     "data": {
      "text/markdown": [
       "##### **Scheduled Charging Policy Name**"
      ]
     },
     "metadata": {},
     "output_type": "display_data"
    },
    {
     "data": {
      "text/markdown": []
     },
     "metadata": {},
     "output_type": "display_data"
    },
    {
     "data": {
      "text/markdown": [
       "##### **Warranty**"
      ]
     },
     "metadata": {},
     "output_type": "display_data"
    },
    {
     "data": {
      "text/markdown": [
       "ChargePoint Assure, Standard Warranty"
      ]
     },
     "metadata": {},
     "output_type": "display_data"
    },
    {
     "data": {
      "text/markdown": [
       "##### **Station Activation Date**"
      ]
     },
     "metadata": {},
     "output_type": "display_data"
    },
    {
     "data": {
      "text/markdown": [
       "2020-09-17 15:38:10, 2020-09-17 15:35:51, 2020-09-17 15:29:31, 2020-09-17 15:36:26, 2020-09-17 15:38:46, 2020-09-17 15:40:18, 2020-09-17 15:39:25, 2020-09-17 15:42:11, 2020-09-17 15:44:39, 2020-09-17 15:40:00, 2020-08-19 23:02:32, 2020-08-19 23:10:20, 2015-03-19 08:32:56, 2015-03-20 12:37:34, 2023-01-19 08:43:35, 2016-06-08 14:14:10, 2023-01-19 08:41:24, 2016-06-08 14:56:20, 2023-02-02 10:49:00, 2016-06-08 14:54:04, 2023-01-19 08:37:34, 2016-06-08 14:45:44, 2023-01-19 08:33:44, 2016-06-08 14:11:06, 2023-01-19 08:31:07, 2015-03-18 15:43:43, 2023-01-19 08:26:50, 2015-03-30 07:36:25, 2015-03-18 15:12:52, 2023-01-19 08:20:56, 2023-05-11 14:04:13, 2023-03-06 12:38:27, 2015-03-19 15:24:31, 2015-03-18 15:22:59, 2023-01-19 08:10:23, 2017-02-01 11:44:03, 2020-05-28 05:26:59, 2020-12-22 17:53:21, 2020-11-25 17:06:57, 2020-11-25 17:07:07, 2020-11-25 16:50:44, 2020-11-25 16:52:25, 2021-05-11 09:01:41, 2020-12-19 23:28:41, 2020-11-25 14:57:07, 2021-03-22 10:30:10, 2021-03-16 14:00:45, 2021-03-16 13:53:28, 2021-03-22 11:53:21, 2021-10-12 12:55:13, 2021-03-16 12:59:29, 2019-03-15 06:51:13, 2019-03-15 06:55:18, 2019-03-15 05:56:15, 2019-03-15 06:53:15, 2019-03-15 06:49:16, 2019-03-15 06:35:19, 2019-03-15 05:44:19, 2019-03-15 06:39:16, 2019-03-15 06:37:20, 2019-03-15 06:45:14, 2019-03-15 05:38:11, 2019-03-15 06:47:15, 2019-03-15 06:43:15, 2019-03-15 06:39:14, 2019-03-15 06:35:18, 2019-03-15 05:36:14, 2019-03-15 06:37:13, 2019-03-15 05:34:14, 2019-03-15 06:43:16, 2019-03-15 06:49:14, 2019-03-15 06:39:15, 2019-03-15 06:47:14, 2019-03-15 06:45:15, 2019-03-15 05:54:18, 2019-03-15 05:22:14, 2019-03-15 05:52:14, 2019-03-15 05:56:13, 2020-11-11 06:56:36, 2017-03-23 17:38:00, 2017-03-23 17:37:23, 2017-03-23 16:35:37, 2020-02-11 13:52:31, 2017-01-31 15:24:07, 2017-01-31 14:43:12, 2017-01-31 15:24:08, 2017-01-31 15:20:58, 2017-02-01 03:56:40, 2017-01-31 15:27:12, 2017-01-27 17:27:15, 2017-01-27 18:33:32, 2017-01-27 13:18:14, 2017-01-27 13:30:53, 2017-01-31 16:36:41, 2017-02-01 02:20:56, 2017-01-27 16:59:07, 2017-01-27 15:02:08, 2017-01-26 17:26:13, 2017-01-26 17:35:38, 2017-01-26 17:45:11, 2017-01-26 17:32:28, 2017-01-26 18:10:23, 2017-01-26 17:48:17, 2017-01-26 17:29:23, 2017-01-26 17:51:26, 2017-01-26 14:33:33, 2017-01-26 15:27:05, 2017-01-31 15:17:50, 2017-01-26 16:39:08"
      ]
     },
     "metadata": {},
     "output_type": "display_data"
    },
    {
     "data": {
      "text/markdown": [
       "##### **Warranty Expiration Date**"
      ]
     },
     "metadata": {},
     "output_type": "display_data"
    },
    {
     "data": {
      "text/markdown": [
       "2023-12-31, 2027-09-11, 2021-05-28, 2026-03-22, 2026-03-16, 2026-10-12, 2020-03-15, 2021-11-11, 2018-03-23, 2021-02-11"
      ]
     },
     "metadata": {},
     "output_type": "display_data"
    },
    {
     "data": {
      "text/markdown": [
       "##### **Warranty Service**"
      ]
     },
     "metadata": {},
     "output_type": "display_data"
    },
    {
     "data": {
      "text/markdown": [
       "Parts & Labor, Parts Only"
      ]
     },
     "metadata": {},
     "output_type": "display_data"
    },
    {
     "data": {
      "text/markdown": [
       "##### **Plug Type**"
      ]
     },
     "metadata": {},
     "output_type": "display_data"
    },
    {
     "data": {
      "text/markdown": [
       "J1772, CHAdeMO, Combo"
      ]
     },
     "metadata": {},
     "output_type": "display_data"
    },
    {
     "data": {
      "text/markdown": [
       "##### **Device Access Restriction**"
      ]
     },
     "metadata": {},
     "output_type": "display_data"
    },
    {
     "data": {
      "text/markdown": [
       "NONE"
      ]
     },
     "metadata": {},
     "output_type": "display_data"
    },
    {
     "data": {
      "text/markdown": [
       "##### **Waitlist Policy Name**"
      ]
     },
     "metadata": {},
     "output_type": "display_data"
    },
    {
     "data": {
      "text/markdown": []
     },
     "metadata": {},
     "output_type": "display_data"
    },
    {
     "data": {
      "text/markdown": [
       "##### **Asset Tag ID**"
      ]
     },
     "metadata": {},
     "output_type": "display_data"
    },
    {
     "data": {
      "text/markdown": [
       "152541002783, 152741003076, 152741003072, 152741003068, 152741003081, 152741003082, 152541002779, 152541002807, 162841003554, 152541002762, 152741003077, 152741003079, 162741003546, 152641002898, 152741003088, 152541002775, 152541002778, 152641002895, 152541002782, 152741003075, 155141008435, 162841003560"
      ]
     },
     "metadata": {},
     "output_type": "display_data"
    },
    {
     "data": {
      "text/markdown": [
       "##### **Meter ID**"
      ]
     },
     "metadata": {},
     "output_type": "display_data"
    },
    {
     "data": {
      "text/markdown": [
       "SN152741003067"
      ]
     },
     "metadata": {},
     "output_type": "display_data"
    },
    {
     "data": {
      "text/markdown": [
       "##### **Service Delivery Point ID**"
      ]
     },
     "metadata": {},
     "output_type": "display_data"
    },
    {
     "data": {
      "text/markdown": []
     },
     "metadata": {},
     "output_type": "display_data"
    },
    {
     "data": {
      "text/markdown": [
       "##### **Point of Service ID**"
      ]
     },
     "metadata": {},
     "output_type": "display_data"
    },
    {
     "data": {
      "text/markdown": []
     },
     "metadata": {},
     "output_type": "display_data"
    },
    {
     "data": {
      "text/markdown": [
       "##### **Account ID**"
      ]
     },
     "metadata": {},
     "output_type": "display_data"
    },
    {
     "data": {
      "text/markdown": []
     },
     "metadata": {},
     "output_type": "display_data"
    },
    {
     "data": {
      "text/markdown": [
       "##### **Circuit ID**"
      ]
     },
     "metadata": {},
     "output_type": "display_data"
    },
    {
     "data": {
      "text/markdown": []
     },
     "metadata": {},
     "output_type": "display_data"
    },
    {
     "data": {
      "text/markdown": [
       "##### **Panel ID**"
      ]
     },
     "metadata": {},
     "output_type": "display_data"
    },
    {
     "data": {
      "text/markdown": []
     },
     "metadata": {},
     "output_type": "display_data"
    },
    {
     "data": {
      "text/markdown": [
       "##### **Customer Name**"
      ]
     },
     "metadata": {},
     "output_type": "display_data"
    },
    {
     "data": {
      "text/markdown": [
       "Stanford Parking & Transportation Services, ABM Electrical & Lighting Solutions, LLC (SoCal), Oak Park Unified School District, The Board of Trustees of The Leland Stanford Junior University, Stanford University"
      ]
     },
     "metadata": {},
     "output_type": "display_data"
    },
    {
     "data": {
      "text/markdown": [
       "##### **Customer ID**"
      ]
     },
     "metadata": {},
     "output_type": "display_data"
    },
    {
     "data": {
      "text/markdown": [
       "0014000000wFNW2, 0014000000aMh42, 0014000000gHPcz, 0014000000kfOC5"
      ]
     },
     "metadata": {},
     "output_type": "display_data"
    },
    {
     "data": {
      "text/markdown": [
       "##### **Site ID**"
      ]
     },
     "metadata": {},
     "output_type": "display_data"
    },
    {
     "data": {
      "text/markdown": []
     },
     "metadata": {},
     "output_type": "display_data"
    },
    {
     "data": {
      "text/markdown": [
       "##### **Site mode**"
      ]
     },
     "metadata": {},
     "output_type": "display_data"
    },
    {
     "data": {
      "text/markdown": []
     },
     "metadata": {},
     "output_type": "display_data"
    },
    {
     "data": {
      "text/markdown": [
       "##### **Site Validation Status**"
      ]
     },
     "metadata": {},
     "output_type": "display_data"
    },
    {
     "data": {
      "text/markdown": [
       "Validated, Not Validated"
      ]
     },
     "metadata": {},
     "output_type": "display_data"
    },
    {
     "data": {
      "text/markdown": [
       "##### **Paired**"
      ]
     },
     "metadata": {},
     "output_type": "display_data"
    },
    {
     "data": {
      "text/markdown": [
       "No"
      ]
     },
     "metadata": {},
     "output_type": "display_data"
    },
    {
     "data": {
      "text/markdown": [
       "##### **Latitude**"
      ]
     },
     "metadata": {},
     "output_type": "display_data"
    },
    {
     "data": {
      "text/markdown": [
       "37.426793659810016, 37.42680510868808, 37.42783416929919, 37.426802179905486, 37.4268107, 37.426785139713566, 37.4278075443645, 37.4278757041782, 37.43220734102387, 37.432241418935455, 37.45041, 37.43171044847697, 37.450394, 37.43175282649997, 37.45039733830973, 37.431757357410085, 37.45037, 37.43174023441741, 37.43175217797956, 37.4503876418016, 37.43187166339748, 37.450404144282025, 37.4235392953854, 37.43193981951077, 37.450413, 37.450653, 37.450396159211294, 37.42353031813845, 37.43199093655503, 37.42621544618659, 37.42925895023151, 37.42546342823224, 37.42563276795673, 37.42566152372096, 37.42562249843807, 37.42558910177513, 37.42552093987972, 37.425431477297856, 37.425595491949615, 37.43758993277954, 37.43994537522589, 37.437244799999995, 37.44008806162375, 37.440014588811074, 37.43996028277272, 37.483830085831535, 37.48380241662368, 37.48377900420903, 37.483708766921104, 37.483685354477096, 37.48385881922885, 37.4837598485916, 37.48374069296927, 37.483682161870526, 37.48382928768144, 37.4836513, 37.4837279225516, 37.483678969263806, 37.48382582903098, 37.483760912792704, 37.48375239918352, 37.48371408793006, 37.48384553997287, 37.48387691062148, 37.483716216333534, 37.483693069942404, 37.483680565567184, 37.48365555681048, 37.48380454502468, 37.483723665745266, 37.48365412633115, 37.48465735481143, 37.4846431782048, 37.4849383, 37.48494042836861, 37.484929786524965, 37.426269408993285, 37.426286449302594, 37.42632052990961, 37.426363130646514, 37.42638869107704, 37.42643129177518, 37.426439811911905, 37.426329050058925, 37.42631200975929, 37.42620976788015, 37.42622680820304, 37.426448332047634, 37.42632368474175, 37.42649998495956, 37.426465904434274, 37.426435544044864, 37.4264255395908, 37.42678556649676, 37.42639846349808, 37.426411897405714, 37.42634876198768, 37.426527734861885, 37.42647208247871, 37.426317033400885, 37.426334040085905"
      ]
     },
     "metadata": {},
     "output_type": "display_data"
    },
    {
     "data": {
      "text/markdown": [
       "##### **Longitude**"
      ]
     },
     "metadata": {},
     "output_type": "display_data"
    },
    {
     "data": {
      "text/markdown": [
       "-122.1592395153442, -122.15920263497024, -122.15657205847889, -122.15917514232784, -122.1591858711639, -122.1591322269836, -122.15916441349178, -122.15919659999996, -122.15915368465572, -122.15660022167354, -122.15649293331296, -122.16329689629517, -122.1632325232788, -122.177246, -122.1828376358759, -122.17716, -122.18284779288138, -122.17725536441804, -122.18285127986668, -122.17628, -122.18283775917509, -122.17633, -122.18286498364182, -122.17729425644876, -122.1826917650818, -122.17726810491084, -122.17110856613158, -122.18259520555728, -122.17723, -122.17668, -122.17727013988112, -122.17105130926204, -122.18247718836062, -122.17725, -122.17528922540896, -122.1844759464882, -122.15975492268448, -122.159489383992, -122.15954705148584, -122.15954674077344, -122.15958057909852, -122.15980588465575, -122.15982197790986, -122.15962885886078, -122.1714015910874, -122.17132815833588, -122.1716781, -122.1711511325409, -122.17118331904908, -122.17122623439332, -122.20392049695892, -122.20392586137694, -122.20395000125808, -122.20398486997529, -122.20401705648344, -122.20390306260032, -122.20396877672118, -122.20397682334824, -122.2040090098564, -122.20393357272786, -122.2037542, -122.2039915754978, -122.2040251031105, -122.2039164736454, -122.20396475340766, -122.20398755218427, -122.20399425770682, -122.20391669583968, -122.2038842871372, -122.2040063276474, -122.2040200739686, -122.20403113808078, -122.20404253746908, -122.20393122579496, -122.20393927242202, -122.20398218776626, -122.20403712440223, -122.20684677486878, -122.20742303177298, -122.2067073, -122.20677167301636, -122.20657855396728, -122.17548427354126, -122.17554864655762, -122.17566666375428, -122.17574176560667, -122.1758168674591, -122.17590269814758, -122.1759778, -122.17605290185242, -122.17551646004944, -122.17561301957396, -122.17535552750854, -122.17538771401672, -122.17614946137697, -122.17543473729552, -122.1761681952454, -122.17600726270445, -122.17591751852416, -122.17584955714722, -122.17600974127812, -122.17572525714723, -122.17569146903384, -122.17561776455688, -122.17609522209004, -122.17608156085204, -122.17560433068849, -122.17557698584444"
      ]
     },
     "metadata": {},
     "output_type": "display_data"
    }
   ],
   "source": [
    "summarize_dataframe_md(station_overview, 'Station Overview Summary')"
   ]
  },
  {
   "cell_type": "markdown",
   "metadata": {},
   "source": [
    "### **Station and Port Status**"
   ]
  },
  {
   "cell_type": "code",
   "execution_count": 4,
   "metadata": {},
   "outputs": [
    {
     "data": {
      "text/markdown": [
       "**Number of Stations:** 109"
      ]
     },
     "metadata": {},
     "output_type": "display_data"
    },
    {
     "data": {
      "text/markdown": [
       "**Number of Ports:** 205"
      ]
     },
     "metadata": {},
     "output_type": "display_data"
    },
    {
     "data": {
      "text/markdown": [
       "#### **Station Count by Status**"
      ]
     },
     "metadata": {},
     "output_type": "display_data"
    },
    {
     "data": {
      "text/html": [
       "<div>\n",
       "<style scoped>\n",
       "    .dataframe tbody tr th:only-of-type {\n",
       "        vertical-align: middle;\n",
       "    }\n",
       "\n",
       "    .dataframe tbody tr th {\n",
       "        vertical-align: top;\n",
       "    }\n",
       "\n",
       "    .dataframe thead th {\n",
       "        text-align: right;\n",
       "    }\n",
       "</style>\n",
       "<table border=\"1\" class=\"dataframe\">\n",
       "  <thead>\n",
       "    <tr style=\"text-align: right;\">\n",
       "      <th></th>\n",
       "      <th>count</th>\n",
       "    </tr>\n",
       "    <tr>\n",
       "      <th>Station Status</th>\n",
       "      <th></th>\n",
       "    </tr>\n",
       "  </thead>\n",
       "  <tbody>\n",
       "    <tr>\n",
       "      <th>Available</th>\n",
       "      <td>88</td>\n",
       "    </tr>\n",
       "    <tr>\n",
       "      <th>Watch List</th>\n",
       "      <td>11</td>\n",
       "    </tr>\n",
       "    <tr>\n",
       "      <th>Needs Service</th>\n",
       "      <td>7</td>\n",
       "    </tr>\n",
       "    <tr>\n",
       "      <th>Inuse</th>\n",
       "      <td>3</td>\n",
       "    </tr>\n",
       "  </tbody>\n",
       "</table>\n",
       "</div>"
      ],
      "text/plain": [
       "                count\n",
       "Station Status       \n",
       "Available          88\n",
       "Watch List         11\n",
       "Needs Service       7\n",
       "Inuse               3"
      ]
     },
     "metadata": {},
     "output_type": "display_data"
    },
    {
     "data": {
      "text/markdown": [
       "**Stations Needing Service or on Watch List:** 18 (16.51%)"
      ]
     },
     "metadata": {},
     "output_type": "display_data"
    },
    {
     "data": {
      "text/markdown": [
       "#### **Port Count by Status**"
      ]
     },
     "metadata": {},
     "output_type": "display_data"
    },
    {
     "data": {
      "text/html": [
       "<div>\n",
       "<style scoped>\n",
       "    .dataframe tbody tr th:only-of-type {\n",
       "        vertical-align: middle;\n",
       "    }\n",
       "\n",
       "    .dataframe tbody tr th {\n",
       "        vertical-align: top;\n",
       "    }\n",
       "\n",
       "    .dataframe thead th {\n",
       "        text-align: right;\n",
       "    }\n",
       "</style>\n",
       "<table border=\"1\" class=\"dataframe\">\n",
       "  <thead>\n",
       "    <tr style=\"text-align: right;\">\n",
       "      <th></th>\n",
       "      <th>count</th>\n",
       "    </tr>\n",
       "    <tr>\n",
       "      <th>value</th>\n",
       "      <th></th>\n",
       "    </tr>\n",
       "  </thead>\n",
       "  <tbody>\n",
       "    <tr>\n",
       "      <th>Available</th>\n",
       "      <td>144</td>\n",
       "    </tr>\n",
       "    <tr>\n",
       "      <th>In Use</th>\n",
       "      <td>31</td>\n",
       "    </tr>\n",
       "    <tr>\n",
       "      <th>Watch List</th>\n",
       "      <td>22</td>\n",
       "    </tr>\n",
       "    <tr>\n",
       "      <th>Needs Service</th>\n",
       "      <td>8</td>\n",
       "    </tr>\n",
       "  </tbody>\n",
       "</table>\n",
       "</div>"
      ],
      "text/plain": [
       "               count\n",
       "value               \n",
       "Available        144\n",
       "In Use            31\n",
       "Watch List        22\n",
       "Needs Service      8"
      ]
     },
     "metadata": {},
     "output_type": "display_data"
    },
    {
     "data": {
      "text/markdown": [
       "**Ports Needing Service or on Watch List:** 30 (14.63%)"
      ]
     },
     "metadata": {},
     "output_type": "display_data"
    }
   ],
   "source": [
    "num_stations = len(station_overview)\n",
    "num_ports = station_overview['No. of Ports'].sum()\n",
    "\n",
    "print_md(f'**Number of Stations:** {num_stations}')\n",
    "print_md(f'**Number of Ports:** {num_ports}')\n",
    "\n",
    "print_md('#### **Station Count by Status**')\n",
    "station_status_counts = station_overview.value_counts('Station Status')\n",
    "assert num_stations == station_status_counts.sum()\n",
    "display(station_status_counts.to_frame())\n",
    "\n",
    "num_stations_need_service_or_watch_list = station_status_counts.loc[['Watch List', 'Needs Service']].sum()\n",
    "percent_stations_need_service_or_watch_list = round(num_stations_need_service_or_watch_list / num_stations * 100, 2)\n",
    "print_md(f'**Stations Needing Service or on Watch List:** {num_stations_need_service_or_watch_list} ({percent_stations_need_service_or_watch_list}%)')\n",
    "\n",
    "print_md('#### **Port Count by Status**')\n",
    "port_status_counts = station_overview[['Port 1 Status', 'Port 2 Status']].melt()['value'].value_counts().drop('')\n",
    "assert num_ports == port_status_counts.sum()\n",
    "display(port_status_counts.to_frame())\n",
    "\n",
    "num_ports_need_service_or_watch_list = port_status_counts.loc[['Watch List', 'Needs Service']].sum()\n",
    "percent_ports_need_service_or_watch_list = round(num_ports_need_service_or_watch_list / num_ports * 100, 2)\n",
    "print_md(f'**Ports Needing Service or on Watch List:** {num_ports_need_service_or_watch_list} ({percent_ports_need_service_or_watch_list}%)')"
   ]
  },
  {
   "cell_type": "markdown",
   "metadata": {},
   "source": [
    "### **Alarms**"
   ]
  },
  {
   "cell_type": "code",
   "execution_count": 5,
   "metadata": {},
   "outputs": [
    {
     "data": {
      "text/markdown": [
       "#### **Alarms Summary**"
      ]
     },
     "metadata": {},
     "output_type": "display_data"
    },
    {
     "data": {
      "text/markdown": [
       "**Number of Rows:** 340967"
      ]
     },
     "metadata": {},
     "output_type": "display_data"
    },
    {
     "data": {
      "text/markdown": [
       "**Columns:** Display Name, MAC Address, Org Name, Alarm Severity, Alarm Name, Alarm ID, FRU Name, Model Number, Port, Reason For Clearing, Component Serial Number"
      ]
     },
     "metadata": {},
     "output_type": "display_data"
    },
    {
     "data": {
      "text/markdown": [
       "#### **Unique Column Values**"
      ]
     },
     "metadata": {},
     "output_type": "display_data"
    },
    {
     "data": {
      "text/markdown": [
       "##### **Display Name**"
      ]
     },
     "metadata": {},
     "output_type": "display_data"
    },
    {
     "data": {
      "text/markdown": [
       "STANFORD / STATION 1 TMU, STANFORD / STATION 2 TMU, STANFORD / CD STATION 6, STANFORD / CD GATEWAY #2, STANFORD / THO NGW-B5, STANFORD / THO NGW-B1, STANFORD / THO NGW-B4, STANFORD / THO NGW-B3, STANFORD / THO NGW-B2, STANFORD / THO GW-B, ROBLE / ROBLE LL1-11, ROBLE / ROBLE LL1-8, ROBLE / ROBLE LL1-12, ROBLE / ROBLE LL1-6, ROBLE / ROBLE LL1-3, ROBLE / ROBLE LL1-1, ROBLE / ROBLE LL1-DIS, ROBLE / ROBLE LL1-2, STANFORD / TH STATION 1, ROBLE / ROBLE LL2-9, ROBLE / ROBLE LL2-1, SRWC / RWC L4 3, SRWC / RWC L2 2, ROBLE / ROBLE LL2-14, STANFORD / CAM 5 LL1, SRWC / RWC L2 3, SRWC / RWC L2 4, SRWC / RWC L2 1, ROBLE / ROBLE LL2-10, ROBLE / ROBLE LL2-13, ROBLE / ROBLE LL2-2, ROBLE / ROBLE LL1-7, ROBLE / ROBLE LL2-4, ROBLE / ROBLE LL2-8, STANFORD / STATION 3 PS-5, STANFORD / ROBLE LL2-12, STANFORD / TH WALL MOUNT, ROBLE / ROBLE LL2-3, ROBLE / ROBLE LL2-5, ROBLE / ROBLE LL2-11, STANFORD / STATION 2 PS-5, ROBLE / ROBLE LL1-5, ROBLE / ROBLE LL1-10, ROBLE / ROBLE LL2-6, ROBLE / ROBLE LL2-7, STANFORD / STATION 1 PS-5, ROBLE / ROBLE LL1-9, ROBLE / ROBLE LL1-4, SRWC / RWC L1 6, SRWC / RWC L1 5, SRWC / RWC L1 3, SRWC / RWC L1 4, STANFORD / THO NGW-A3, STANFORD / THO GW-A, STANFORD / THO NGW-A5 ADA, STANFORD / THO NGW-A1, STANFORD / THO NGW-A4, STANFORD / THO NGW-A2, STANFORD / CAM 1 LL1, STANFORD / STATION 11, STANFORD / CAM 2 LL1, STANFORD / STATION 2, STANFORD / STATION 3, STANFORD / STATION 5, STANFORD / STATION 7 PS-5, STANFORD / STATION 7, SRWC / RWC L5 2, SRWC / RWC L3 4, SRWC / RWC L3 2, SRWC / RWC L3 1, SRWC / RWC L4 2, SRWC / RWC L4 1, SRWC / RWC L1 1, SRWC / RWC L1 2, SRWC / RWC L5 5, SRWC / RWC L5 1, SRWC / RWC L5 4, SRWC / RWC B1 2, SRWC / RWC B1 1, SRWC / RWC B1 4, STANFORD / STATION 6 PS-5, STANFORD / STATION 8 PS-5, STANFORD / STATION 5 PS-5, STANFORD / CD GATEWAY #3, STANFORD / CD STATION 2, STANFORD / CD STATION 3, STANFORD / CD GATEWAY #1, STANFORD / CD STATION 1, STANFORD / CAM 3 LL1, STANFORD / STATION 4 PS-5, SRWC / RWC L5 3, SRWC / RWC L4 4, SRWC / RWC B1 3, STANFORD / OAK ROAD #1, STANFORD / CD STATION 4, SRWC / RWC L3 3, STANFORD / CAM 6 LL1, STANFORD / STATION 8, STANFORD / CAM 4 LL1, STANFORD / STATION 9, STANFORD / STATION 6, STANFORD / STATION 1, STANFORD / STATION 4, STANFORD / STATION 10, SRWC / CHARGER 1, SRWC / CHARGER 4, SRWC / CHARGER 2, SRWC / CHARGER 3, STANFORD / OFF NETWORK 1, STANFORD / OFF NETWORK1, STANFORD / CHARGER 1, STANFORD / CHARGER 3, STANFORD / CHARGER 4, STANFORD / CHARGER 2, STANFORD / CHARGER 5, STANFORD / RWC L2 2, STANFORD / RWC L4 1, STANFORD / RWC L4 4, STANFORD / RWC L4 2, STANFORD / RWC L4 3, STANFORD / RWC L5 3, STANFORD / RWC L3 3, STANFORD / RWC L1 6, STANFORD / RWC L5 2, STANFORD / RWC L5 1, STANFORD / RWC L5 5, STANFORD / RWC L5 4, STANFORD / RWC L3 2, STANFORD / RWC L3 1, STANFORD / RWC L3 4, STANFORD / RWC B1 3, STANFORD / RWC B1 2, STANFORD / RWC B1 1, STANFORD / RWC B1 4, STANFORD / RWC L1 4, STANFORD / RWC L1 3, STANFORD / RWC L1 2, STANFORD / RWC L1 5, STANFORD / RWC L1 1, STANFORD / RWC L2 1, STANFORD / RWC L2 4, STANFORD / RWC L2 3, STANFORD / THOBURN 2, STANFORD / THOBURN 1"
      ]
     },
     "metadata": {},
     "output_type": "display_data"
    },
    {
     "data": {
      "text/markdown": [
       "##### **MAC Address**"
      ]
     },
     "metadata": {},
     "output_type": "display_data"
    },
    {
     "data": {
      "text/markdown": [
       "0024:B100:0003:33C3, 0024:B100:0006:BC3D, 0024:B100:0003:2ADF, 0024:B100:0004:A250, 0024:B100:0003:12F8, 0024:B100:0003:12D9, 0024:B100:0003:130F, 0024:B100:0003:12EE, 0024:B100:0003:12F1, 0024:B100:0003:2C1C, 0024:B100:0002:3F5A, 0024:B100:0002:2A7C, 0024:B100:0004:0EC1, 0024:B100:0002:2954, 0024:B100:0002:2A73, 0024:B100:0002:5158, 0024:B100:0002:299E, 0024:B100:0004:20C4, 0024:B100:0004:0667, 0024:B100:0002:295F, 0024:B100:0002:5134, 0024:B100:0002:8FD1, 0024:B100:0002:8FCA, 0024:B100:0002:5154, 0024:B100:0003:C689, 0024:B100:0002:8E27, 0024:B100:0002:8E2F, 0024:B100:0002:8E2C, 0024:B100:0002:2A71, 0024:B100:0002:294E, 0024:B100:0002:297C, 0024:B100:0002:2940, 0024:B100:0002:2A80, 0024:B100:0002:2A8E, 0024:B100:0002:1F6C, 0024:B100:0002:2A6E, 0024:B100:0002:16F3, 0024:B100:0002:2955, 0024:B100:0002:2A70, 0024:B100:0002:2A7B, 0024:B100:0004:3B91, 0024:B100:0003:D5D6, 0024:B100:0004:5CE8, 0024:B100:0002:2A6B, 0024:B100:0002:2A74, 0024:B100:0002:1EED, 0024:B100:0004:5D08, 0024:B100:0003:D26F, 0024:B100:0002:B04A, 0024:B100:0002:919B, 0024:B100:0002:AD71, 0024:B100:0002:AE14, 0024:B100:0003:130E, 0024:B100:0003:2A8C, 0024:B100:0003:1318, 0024:B100:0003:12EB, 0024:B100:0003:1312, 0024:B100:0003:130B, 0024:B100:0003:BF3B, 0024:B100:000C:083C, 0024:B100:0004:0E93, 0024:B100:0006:C0E2, 0024:B100:0006:C80C, 0024:B100:0006:BD20, 0024:B100:0002:1C6A, 0024:B100:0006:C802, 0024:B100:0003:1F95, 0024:B100:0002:8E28, 0024:B100:0002:91C3, 0024:B100:0002:918F, 0024:B100:0002:8E36, 0024:B100:0002:8E37, 0024:B100:0002:594F, 0024:B100:0002:9202, 0024:B100:0002:8DD9, 0024:B100:0002:9194, 0024:B100:0002:8E32, 0024:B100:0002:9193, 0024:B100:0002:8E4A, 0024:B100:0002:8DDC, 0024:B100:0002:15D0, 0024:B100:0002:15D4, 0024:B100:0002:15DF, 0024:B100:0004:1B12, 0024:B100:0004:A22C, 0024:B100:0003:2AB1, 0024:B100:0004:C4B2, 0024:B100:0003:2AB5, 0024:B100:0003:BF3D, 0024:B100:0002:13E5, 0024:B100:0002:A917, 0024:B100:0002:8E49, 0024:B100:0003:9836, 0024:B100:0003:824E, 0024:B100:0004:2ED8, 0024:B100:0002:8E02, 0024:B100:0003:C68A, 0024:B100:0006:BD1D, 0024:B100:0003:BF91, 0024:B100:0006:C0E1, 0024:B100:0006:BD13, 0024:B100:0006:4538, 0024:B100:0006:C80F, 0024:B100:0006:C7DC, 0024:B100:0002:4AEB, 0024:B100:0002:5752, 0024:B100:0002:5144, 0024:B100:0002:575E, 0024:B100:0002:1E24, 0024:B100:0002:1F61, 000D:6F00:04F8:B0AC, 0024:B100:0002:5150, 0024:B100:0003:BF84, 0024:B100:0003:6743, 0024:B100:0002:29C6, 0024:B100:0002:2A78, 0024:B100:0002:2A89, 0024:B100:0003:66F6, 0024:B100:0003:519A, 0024:B100:0003:2B24, 0024:B100:0002:1F71, 0024:B100:0002:29C3, 0024:B100:0002:2963, 0024:B100:0002:8F36, 0024:B100:0002:91B6, 0024:B100:0002:2022"
      ]
     },
     "metadata": {},
     "output_type": "display_data"
    },
    {
     "data": {
      "text/markdown": [
       "##### **Org Name**"
      ]
     },
     "metadata": {},
     "output_type": "display_data"
    },
    {
     "data": {
      "text/markdown": [
       "Stanford University"
      ]
     },
     "metadata": {},
     "output_type": "display_data"
    },
    {
     "data": {
      "text/markdown": [
       "##### **Alarm Severity**"
      ]
     },
     "metadata": {},
     "output_type": "display_data"
    },
    {
     "data": {
      "text/markdown": []
     },
     "metadata": {},
     "output_type": "display_data"
    },
    {
     "data": {
      "text/markdown": [
       "##### **Alarm Name**"
      ]
     },
     "metadata": {},
     "output_type": "display_data"
    },
    {
     "data": {
      "text/markdown": [
       "Tamper Detect, Circuit Sharing Current Restored, Fault Cleared, Bootup Due to POWER ON, Reachable, Unreachable, Circuit Sharing Current Reduced, Boot up, Bootup Due to SOFT RESET, Data Partition Full, Bootup Due to WATCHDOG, IP Mismatch Detected, Powered Off, Unknown RFID, Maintenance Required, Hardware Fault Station Out Of Service, Bootup Due to SWITCH, GFCI Soft Trip, FCheck Error, RFID Update Failed, Pilot Unreachable (18), Relay Stuck Close, Pilot current level exceeded, Hardware Fault, Earth Fault Station In Service, GFCI Hard Trip, Grace Sessions Exceeded, Earth Fault Station Out Of Service, Ventilation Fault, CHAdeMO control loop detected fault (39), EVSE Unreachable, Emergency Stop button pressed - No circuit breaker Trip fired (Soft E-Stop) (188), Communication timeout. (63), Communication timeout. (62), Vehicle fault (50), Charger Fault - contact Tritium (28), Station Not Activated"
      ]
     },
     "metadata": {},
     "output_type": "display_data"
    },
    {
     "data": {
      "text/markdown": [
       "##### **Alarm ID**"
      ]
     },
     "metadata": {},
     "output_type": "display_data"
    },
    {
     "data": {
      "text/markdown": [
       "23, 18, 27, 33, 29, 4, 24, 8, 2, 28, 25, 5, 30, 17, 39, 65575, 31, 65724, 65599, 65598, 65586, 65564"
      ]
     },
     "metadata": {},
     "output_type": "display_data"
    },
    {
     "data": {
      "text/markdown": [
       "##### **FRU Name**"
      ]
     },
     "metadata": {},
     "output_type": "display_data"
    },
    {
     "data": {
      "text/markdown": []
     },
     "metadata": {},
     "output_type": "display_data"
    },
    {
     "data": {
      "text/markdown": [
       "##### **Model Number**"
      ]
     },
     "metadata": {},
     "output_type": "display_data"
    },
    {
     "data": {
      "text/markdown": [
       "CT4020-HD-GW, CT4020-HD, CT4010-HD-GW, CT4020-HD2-GW-LTE, CT4010-HD, CPE200T-S-CHD-CMB"
      ]
     },
     "metadata": {},
     "output_type": "display_data"
    },
    {
     "data": {
      "text/markdown": [
       "##### **Port**"
      ]
     },
     "metadata": {},
     "output_type": "display_data"
    },
    {
     "data": {
      "text/markdown": [
       "1, 2, 1A, 1B"
      ]
     },
     "metadata": {},
     "output_type": "display_data"
    },
    {
     "data": {
      "text/markdown": [
       "##### **Reason For Clearing**"
      ]
     },
     "metadata": {},
     "output_type": "display_data"
    },
    {
     "data": {
      "text/markdown": [
       "---"
      ]
     },
     "metadata": {},
     "output_type": "display_data"
    },
    {
     "data": {
      "text/markdown": [
       "##### **Component Serial Number**"
      ]
     },
     "metadata": {},
     "output_type": "display_data"
    },
    {
     "data": {
      "text/markdown": []
     },
     "metadata": {},
     "output_type": "display_data"
    }
   ],
   "source": [
    "summarize_dataframe_md(alarms.drop('Alarm Time', axis=1), 'Alarms Summary')"
   ]
  },
  {
   "cell_type": "code",
   "execution_count": 6,
   "metadata": {},
   "outputs": [
    {
     "data": {
      "text/plain": [
       "Alarm Name\n",
       "Boot up                                                                               25187\n",
       "Bootup Due to POWER ON                                                                  714\n",
       "Bootup Due to SOFT RESET                                                               3060\n",
       "Bootup Due to SWITCH                                                                   1294\n",
       "Bootup Due to WATCHDOG                                                                11286\n",
       "CHAdeMO control loop detected fault (39)                                                 57\n",
       "Charger Fault - contact Tritium (28)                                                     17\n",
       "Circuit Sharing Current Reduced                                                       18812\n",
       "Circuit Sharing Current Restored                                                      31511\n",
       "Communication timeout. (62)                                                               2\n",
       "Communication timeout. (63)                                                               6\n",
       "Data Partition Full                                                                    1498\n",
       "EVSE Unreachable                                                                         25\n",
       "Earth Fault Station In Service                                                            2\n",
       "Earth Fault Station Out Of Service                                                        2\n",
       "Emergency Stop button pressed - No circuit breaker Trip fired (Soft E-Stop) (188)        20\n",
       "FCheck Error                                                                            352\n",
       "Fault Cleared                                                                         45828\n",
       "GFCI Hard Trip                                                                            5\n",
       "GFCI Soft Trip                                                                           85\n",
       "Grace Sessions Exceeded                                                                   1\n",
       "Hardware Fault                                                                           22\n",
       "Hardware Fault Station Out Of Service                                                    19\n",
       "IP Mismatch Detected                                                                   4609\n",
       "Maintenance Required                                                                    783\n",
       "Pilot Unreachable (18)                                                                  321\n",
       "Pilot current level exceeded                                                              3\n",
       "Powered Off                                                                             379\n",
       "RFID Update Failed                                                                       16\n",
       "Reachable                                                                            109915\n",
       "Relay Stuck Close                                                                        93\n",
       "Station Not Activated                                                                     1\n",
       "Tamper Detect                                                                         20720\n",
       "Unknown RFID                                                                           1509\n",
       "Unreachable                                                                           62808\n",
       "Vehicle fault (50)                                                                        2\n",
       "Ventilation Fault                                                                         3\n",
       "Name: count, dtype: int64"
      ]
     },
     "metadata": {},
     "output_type": "display_data"
    },
    {
     "name": "stdout",
     "output_type": "stream",
     "text": [
      "Boot up\n",
      "Bootup Due to POWER ON\n",
      "Bootup Due to SOFT RESET\n",
      "Bootup Due to SWITCH\n",
      "Bootup Due to WATCHDOG\n",
      "CHAdeMO control loop detected fault (39)\n",
      "Charger Fault - contact Tritium (28)\n",
      "Circuit Sharing Current Reduced\n",
      "Circuit Sharing Current Restored\n",
      "Communication timeout. (62)\n",
      "Communication timeout. (63)\n",
      "Data Partition Full\n",
      "EVSE Unreachable\n",
      "Earth Fault Station In Service\n",
      "Earth Fault Station Out Of Service\n",
      "Emergency Stop button pressed - No circuit breaker Trip fired (Soft E-Stop) (188)\n",
      "FCheck Error\n",
      "Fault Cleared\n",
      "GFCI Hard Trip\n",
      "GFCI Soft Trip\n",
      "Grace Sessions Exceeded\n",
      "Hardware Fault\n",
      "Hardware Fault Station Out Of Service\n",
      "IP Mismatch Detected\n",
      "Maintenance Required\n",
      "Pilot Unreachable (18)\n",
      "Pilot current level exceeded\n",
      "Powered Off\n",
      "RFID Update Failed\n",
      "Reachable\n",
      "Relay Stuck Close\n",
      "Station Not Activated\n",
      "Tamper Detect\n",
      "Unknown RFID\n",
      "Unreachable\n",
      "Vehicle fault (50)\n",
      "Ventilation Fault\n"
     ]
    },
    {
     "data": {
      "image/png": "[encoded data removed]",
      "text/plain": [
       "<Figure size 640x480 with 1 Axes>"
      ]
     },
     "metadata": {},
     "output_type": "display_data"
    }
   ],
   "source": [
    "alarm_name_vcs = alarms['Alarm Name'].value_counts()\n",
    "display(alarm_name_vcs.sort_index())\n",
    "for x in alarm_name_vcs.sort_index().index:\n",
    "    print(x)\n",
    "# alarm_name.hist(xrot=90, bins=alarm_name.nunique(), density=True)\n",
    "ax = (alarm_name_vcs / alarm_name_vcs.sum()).plot.bar(color='black')\n",
    "ax.grid()\n"
   ]
  },
  {
   "cell_type": "markdown",
   "metadata": {},
   "source": [
    "### **Downtime**"
   ]
  },
  {
   "cell_type": "markdown",
   "metadata": {},
   "source": [
    "#### **State Model**"
   ]
  },
  {
   "cell_type": "code",
   "execution_count": 7,
   "metadata": {},
   "outputs": [],
   "source": [
    "def calculate_state_from_alarms(alarms):\n",
    "    from chargepoint import ChargerModel, AlarmEnum\n",
    "\n",
    "    # Mapping from MAC addresses to models. Each MAC address corresponds to one unique charger model.\n",
    "    models: dict[str, ChargerModel] = {}\n",
    "\n",
    "    state_alarms = alarms.copy()\n",
    "    state_alarms['State'] = ''\n",
    "\n",
    "    # Iterate through all alarms chronologically and send to underlying charger state models. \n",
    "    for index, row in state_alarms.sort_values('Alarm Time').iterrows():\n",
    "        mac = row['MAC Address']\n",
    "        if mac in models:\n",
    "            model = models[mac]\n",
    "        else:\n",
    "            model = ChargerModel()\n",
    "            models[mac] = model\n",
    "        \n",
    "        alarm = AlarmEnum(row['Alarm Name'])\n",
    "        model.send(alarm)\n",
    "        state_alarms.loc[index, 'State'] = model.state.station_status.current_state.name\n",
    "\n",
    "    return state_alarms\n",
    "\n",
    "state_alarms = calculate_state_from_alarms(alarms)"
   ]
  },
  {
   "cell_type": "markdown",
   "metadata": {},
   "source": [
    "#### **State History**"
   ]
  },
  {
   "cell_type": "code",
   "execution_count": 8,
   "metadata": {},
   "outputs": [],
   "source": [
    "def build_state_history(state_alarms):\n",
    "    # Sort state alarms by MAC Address and Alarm Time\n",
    "    state_alarms = state_alarms.sort_values(['MAC Address', 'Alarm Time'])\n",
    "\n",
    "    # For duplicate alarm times (for a given charger), only keep latest alarm\n",
    "    state_alarms = state_alarms.drop_duplicates(['MAC Address', 'Alarm Time'], keep='last')\n",
    "\n",
    "    state_history = None\n",
    "\n",
    "    # Compute state history for each charger\n",
    "    # Derived from:\n",
    "    # https://www.codeforests.com/2021/03/30/group-consecutive-rows-in-pandas/\n",
    "    # https://stackoverflow.com/questions/26911851/how-to-use-pandas-to-find-consecutive-same-data-in-time-series\n",
    "    for mac, group in state_alarms.groupby('MAC Address'):\n",
    "        group['Period'] = (group.State != group.State.shift()).cumsum()\n",
    "        period_group = group.groupby('Period')\n",
    "        charger_state_history = pd.DataFrame({\n",
    "            'State': period_group.State.first(),\n",
    "            'Start' : period_group['Alarm Time'].first(), \n",
    "            'End': period_group['Alarm Time'].last(),\n",
    "            'Alarms': period_group.size()}).reset_index(drop=True)\n",
    "\n",
    "        charger_state_history['MAC Address'] = mac\n",
    "        charger_state_history['Period'] = charger_state_history.index\n",
    "\n",
    "        # Fix up end times for singleton periods\n",
    "        for index, row in charger_state_history[charger_state_history['Alarms'] == 1].iterrows():\n",
    "            try:\n",
    "                charger_state_history.loc[index, 'End'] = charger_state_history.loc[index + 1, 'Start']\n",
    "            finally:\n",
    "                continue\n",
    "        \n",
    "        # Calculate durations\n",
    "        charger_state_history['Duration'] = charger_state_history['End'] - charger_state_history['Start']\n",
    "        \n",
    "        # Order columns\n",
    "        charger_state_history = charger_state_history[['MAC Address', 'Period', 'State', 'Start', 'End', 'Duration', 'Alarms']]\n",
    "\n",
    "        # Concat\n",
    "        if state_history is None:\n",
    "            state_history = charger_state_history\n",
    "        else:\n",
    "            state_history = pd.concat([state_history, charger_state_history])\n",
    "        \n",
    "    \n",
    "    return state_history\n",
    "\n",
    "state_history = build_state_history(state_alarms)"
   ]
  },
  {
   "cell_type": "markdown",
   "metadata": {},
   "source": [
    "#### **State Durations**"
   ]
  },
  {
   "cell_type": "code",
   "execution_count": 9,
   "metadata": {},
   "outputs": [
    {
     "data": {
      "text/html": [
       "<div>\n",
       "<style scoped>\n",
       "    .dataframe tbody tr th:only-of-type {\n",
       "        vertical-align: middle;\n",
       "    }\n",
       "\n",
       "    .dataframe tbody tr th {\n",
       "        vertical-align: top;\n",
       "    }\n",
       "\n",
       "    .dataframe thead th {\n",
       "        text-align: right;\n",
       "    }\n",
       "</style>\n",
       "<table border=\"1\" class=\"dataframe\">\n",
       "  <thead>\n",
       "    <tr style=\"text-align: right;\">\n",
       "      <th>State</th>\n",
       "      <th>Available</th>\n",
       "      <th>Faulted</th>\n",
       "      <th>Unavailable</th>\n",
       "      <th>Unknown</th>\n",
       "      <th>Unreachable</th>\n",
       "      <th>Total</th>\n",
       "    </tr>\n",
       "    <tr>\n",
       "      <th>MAC Address</th>\n",
       "      <th></th>\n",
       "      <th></th>\n",
       "      <th></th>\n",
       "      <th></th>\n",
       "      <th></th>\n",
       "      <th></th>\n",
       "    </tr>\n",
       "  </thead>\n",
       "  <tbody>\n",
       "    <tr>\n",
       "      <th>000D:6F00:04F8:B0AC</th>\n",
       "      <td>129 days 22:46:20</td>\n",
       "      <td>39 days 04:34:08</td>\n",
       "      <td>0 days 00:00:00</td>\n",
       "      <td>0 days 00:00:00</td>\n",
       "      <td>71 days 23:31:54</td>\n",
       "      <td>241 days 02:52:22</td>\n",
       "    </tr>\n",
       "    <tr>\n",
       "      <th>0024:B100:0002:13E5</th>\n",
       "      <td>1204 days 19:28:18</td>\n",
       "      <td>10 days 23:50:23</td>\n",
       "      <td>0 days 06:39:49</td>\n",
       "      <td>0 days 00:00:00</td>\n",
       "      <td>116 days 16:57:32</td>\n",
       "      <td>1332 days 18:56:02</td>\n",
       "    </tr>\n",
       "    <tr>\n",
       "      <th>0024:B100:0002:15D0</th>\n",
       "      <td>1148 days 16:57:26</td>\n",
       "      <td>13 days 08:02:51</td>\n",
       "      <td>0 days 00:06:44</td>\n",
       "      <td>0 days 00:00:00</td>\n",
       "      <td>145 days 00:28:01</td>\n",
       "      <td>1307 days 01:35:02</td>\n",
       "    </tr>\n",
       "    <tr>\n",
       "      <th>0024:B100:0002:15D4</th>\n",
       "      <td>1085 days 16:17:51</td>\n",
       "      <td>18 days 17:50:22</td>\n",
       "      <td>0 days 00:31:44</td>\n",
       "      <td>0 days 00:00:00</td>\n",
       "      <td>145 days 18:38:42</td>\n",
       "      <td>1250 days 05:18:39</td>\n",
       "    </tr>\n",
       "    <tr>\n",
       "      <th>0024:B100:0002:15DF</th>\n",
       "      <td>1072 days 22:47:21</td>\n",
       "      <td>26 days 01:07:31</td>\n",
       "      <td>0 days 00:28:17</td>\n",
       "      <td>0 days 00:00:00</td>\n",
       "      <td>137 days 06:17:48</td>\n",
       "      <td>1236 days 06:40:57</td>\n",
       "    </tr>\n",
       "    <tr>\n",
       "      <th>0024:B100:0002:16F3</th>\n",
       "      <td>1814 days 17:16:01</td>\n",
       "      <td>8 days 11:58:11</td>\n",
       "      <td>7 days 18:59:01</td>\n",
       "      <td>0 days 00:00:00</td>\n",
       "      <td>6 days 23:18:24</td>\n",
       "      <td>1837 days 23:31:37</td>\n",
       "    </tr>\n",
       "    <tr>\n",
       "      <th>0024:B100:0002:1C6A</th>\n",
       "      <td>1091 days 14:05:51</td>\n",
       "      <td>13 days 08:01:17</td>\n",
       "      <td>0 days 00:30:39</td>\n",
       "      <td>0 days 00:00:00</td>\n",
       "      <td>147 days 22:31:53</td>\n",
       "      <td>1252 days 21:09:40</td>\n",
       "    </tr>\n",
       "    <tr>\n",
       "      <th>0024:B100:0002:1E24</th>\n",
       "      <td>922 days 14:57:59</td>\n",
       "      <td>44 days 01:26:38</td>\n",
       "      <td>0 days 00:08:16</td>\n",
       "      <td>0 days 00:00:00</td>\n",
       "      <td>194 days 07:45:42</td>\n",
       "      <td>1161 days 00:18:35</td>\n",
       "    </tr>\n",
       "    <tr>\n",
       "      <th>0024:B100:0002:1EED</th>\n",
       "      <td>1301 days 12:12:24</td>\n",
       "      <td>49 days 05:44:03</td>\n",
       "      <td>0 days 02:58:36</td>\n",
       "      <td>0 days 00:00:00</td>\n",
       "      <td>197 days 14:55:37</td>\n",
       "      <td>1548 days 11:50:40</td>\n",
       "    </tr>\n",
       "    <tr>\n",
       "      <th>0024:B100:0002:1F61</th>\n",
       "      <td>1184 days 21:09:22</td>\n",
       "      <td>18 days 03:11:57</td>\n",
       "      <td>0 days 00:00:04</td>\n",
       "      <td>0 days 00:00:00</td>\n",
       "      <td>14 days 19:55:23</td>\n",
       "      <td>1217 days 20:16:46</td>\n",
       "    </tr>\n",
       "    <tr>\n",
       "      <th>0024:B100:0002:1F6C</th>\n",
       "      <td>1395 days 22:33:23</td>\n",
       "      <td>53 days 19:48:19</td>\n",
       "      <td>0 days 00:00:00</td>\n",
       "      <td>0 days 00:00:00</td>\n",
       "      <td>189 days 23:21:44</td>\n",
       "      <td>1639 days 17:43:26</td>\n",
       "    </tr>\n",
       "    <tr>\n",
       "      <th>0024:B100:0002:1F71</th>\n",
       "      <td>755 days 02:35:13</td>\n",
       "      <td>7 days 13:02:40</td>\n",
       "      <td>0 days 00:00:00</td>\n",
       "      <td>0 days 00:00:00</td>\n",
       "      <td>4 days 11:50:08</td>\n",
       "      <td>767 days 03:28:01</td>\n",
       "    </tr>\n",
       "    <tr>\n",
       "      <th>0024:B100:0002:2022</th>\n",
       "      <td>457 days 20:07:06</td>\n",
       "      <td>5 days 16:40:44</td>\n",
       "      <td>0 days 00:10:40</td>\n",
       "      <td>0 days 00:00:00</td>\n",
       "      <td>2 days 21:15:15</td>\n",
       "      <td>466 days 10:13:45</td>\n",
       "    </tr>\n",
       "    <tr>\n",
       "      <th>0024:B100:0002:2940</th>\n",
       "      <td>1164 days 13:00:59</td>\n",
       "      <td>476 days 21:49:49</td>\n",
       "      <td>81 days 12:05:17</td>\n",
       "      <td>0 days 00:00:00</td>\n",
       "      <td>42 days 02:16:20</td>\n",
       "      <td>1765 days 01:12:25</td>\n",
       "    </tr>\n",
       "    <tr>\n",
       "      <th>0024:B100:0002:294E</th>\n",
       "      <td>1273 days 16:34:23</td>\n",
       "      <td>3 days 03:16:57</td>\n",
       "      <td>11 days 00:57:13</td>\n",
       "      <td>0 days 00:00:00</td>\n",
       "      <td>36 days 03:28:43</td>\n",
       "      <td>1324 days 00:17:16</td>\n",
       "    </tr>\n",
       "    <tr>\n",
       "      <th>0024:B100:0002:2954</th>\n",
       "      <td>1438 days 09:55:44</td>\n",
       "      <td>179 days 02:18:12</td>\n",
       "      <td>0 days 00:01:45</td>\n",
       "      <td>0 days 00:00:00</td>\n",
       "      <td>25 days 12:23:47</td>\n",
       "      <td>1643 days 00:39:28</td>\n",
       "    </tr>\n",
       "    <tr>\n",
       "      <th>0024:B100:0002:2955</th>\n",
       "      <td>1079 days 13:57:35</td>\n",
       "      <td>30 days 08:42:25</td>\n",
       "      <td>0 days 00:00:30</td>\n",
       "      <td>0 days 00:00:00</td>\n",
       "      <td>175 days 21:29:32</td>\n",
       "      <td>1285 days 20:10:02</td>\n",
       "    </tr>\n",
       "    <tr>\n",
       "      <th>0024:B100:0002:295F</th>\n",
       "      <td>1174 days 05:05:06</td>\n",
       "      <td>28 days 15:06:40</td>\n",
       "      <td>0 days 00:29:42</td>\n",
       "      <td>0 days 00:00:00</td>\n",
       "      <td>177 days 01:55:56</td>\n",
       "      <td>1379 days 22:37:24</td>\n",
       "    </tr>\n",
       "    <tr>\n",
       "      <th>0024:B100:0002:2963</th>\n",
       "      <td>567 days 02:28:44</td>\n",
       "      <td>0 days 00:00:00</td>\n",
       "      <td>13 days 21:52:57</td>\n",
       "      <td>0 days 00:00:00</td>\n",
       "      <td>2 days 09:53:43</td>\n",
       "      <td>583 days 10:15:24</td>\n",
       "    </tr>\n",
       "    <tr>\n",
       "      <th>0024:B100:0002:297C</th>\n",
       "      <td>894 days 20:06:48</td>\n",
       "      <td>28 days 02:32:05</td>\n",
       "      <td>0 days 00:01:43</td>\n",
       "      <td>0 days 00:00:00</td>\n",
       "      <td>181 days 18:57:57</td>\n",
       "      <td>1104 days 17:38:33</td>\n",
       "    </tr>\n",
       "    <tr>\n",
       "      <th>0024:B100:0002:299E</th>\n",
       "      <td>715 days 03:18:22</td>\n",
       "      <td>232 days 01:55:03</td>\n",
       "      <td>0 days 00:32:28</td>\n",
       "      <td>0 days 00:00:00</td>\n",
       "      <td>39 days 13:36:40</td>\n",
       "      <td>986 days 19:22:33</td>\n",
       "    </tr>\n",
       "    <tr>\n",
       "      <th>0024:B100:0002:29C3</th>\n",
       "      <td>666 days 10:08:08</td>\n",
       "      <td>0 days 00:00:02</td>\n",
       "      <td>0 days 00:00:00</td>\n",
       "      <td>0 days 00:00:00</td>\n",
       "      <td>0 days 22:09:36</td>\n",
       "      <td>667 days 08:17:46</td>\n",
       "    </tr>\n",
       "    <tr>\n",
       "      <th>0024:B100:0002:29C6</th>\n",
       "      <td>741 days 17:11:44</td>\n",
       "      <td>4 days 05:11:05</td>\n",
       "      <td>0 days 00:00:01</td>\n",
       "      <td>0 days 00:00:00</td>\n",
       "      <td>11 days 08:22:44</td>\n",
       "      <td>757 days 06:45:34</td>\n",
       "    </tr>\n",
       "    <tr>\n",
       "      <th>0024:B100:0002:2A6B</th>\n",
       "      <td>1122 days 14:42:22</td>\n",
       "      <td>27 days 15:42:31</td>\n",
       "      <td>9 days 02:20:22</td>\n",
       "      <td>0 days 00:00:00</td>\n",
       "      <td>41 days 06:39:24</td>\n",
       "      <td>1200 days 15:24:39</td>\n",
       "    </tr>\n",
       "    <tr>\n",
       "      <th>0024:B100:0002:2A6E</th>\n",
       "      <td>1198 days 18:08:48</td>\n",
       "      <td>3 days 03:16:19</td>\n",
       "      <td>0 days 00:00:00</td>\n",
       "      <td>0 days 00:00:00</td>\n",
       "      <td>35 days 05:09:03</td>\n",
       "      <td>1237 days 02:34:10</td>\n",
       "    </tr>\n",
       "    <tr>\n",
       "      <th>0024:B100:0002:2A70</th>\n",
       "      <td>721 days 20:03:08</td>\n",
       "      <td>67 days 05:21:42</td>\n",
       "      <td>44 days 01:49:32</td>\n",
       "      <td>0 days 00:00:00</td>\n",
       "      <td>51 days 01:30:55</td>\n",
       "      <td>884 days 04:45:17</td>\n",
       "    </tr>\n",
       "    <tr>\n",
       "      <th>0024:B100:0002:2A71</th>\n",
       "      <td>664 days 19:33:32</td>\n",
       "      <td>83 days 13:36:09</td>\n",
       "      <td>0 days 00:33:45</td>\n",
       "      <td>0 days 00:00:00</td>\n",
       "      <td>174 days 05:45:32</td>\n",
       "      <td>922 days 15:28:58</td>\n",
       "    </tr>\n",
       "    <tr>\n",
       "      <th>0024:B100:0002:2A73</th>\n",
       "      <td>1260 days 17:30:00</td>\n",
       "      <td>196 days 04:12:58</td>\n",
       "      <td>42 days 07:24:56</td>\n",
       "      <td>0 days 00:00:00</td>\n",
       "      <td>30 days 05:07:58</td>\n",
       "      <td>1529 days 10:15:52</td>\n",
       "    </tr>\n",
       "    <tr>\n",
       "      <th>0024:B100:0002:2A74</th>\n",
       "      <td>875 days 20:00:46</td>\n",
       "      <td>19 days 12:54:28</td>\n",
       "      <td>0 days 00:00:00</td>\n",
       "      <td>0 days 00:00:00</td>\n",
       "      <td>43 days 19:30:21</td>\n",
       "      <td>939 days 04:25:35</td>\n",
       "    </tr>\n",
       "    <tr>\n",
       "      <th>0024:B100:0002:2A78</th>\n",
       "      <td>964 days 12:12:33</td>\n",
       "      <td>8 days 18:51:09</td>\n",
       "      <td>4 days 20:31:52</td>\n",
       "      <td>0 days 00:00:00</td>\n",
       "      <td>7 days 06:45:02</td>\n",
       "      <td>985 days 10:20:36</td>\n",
       "    </tr>\n",
       "    <tr>\n",
       "      <th>0024:B100:0002:2A7B</th>\n",
       "      <td>974 days 20:36:37</td>\n",
       "      <td>45 days 14:26:14</td>\n",
       "      <td>0 days 00:31:12</td>\n",
       "      <td>0 days 00:00:00</td>\n",
       "      <td>179 days 18:58:10</td>\n",
       "      <td>1200 days 06:32:13</td>\n",
       "    </tr>\n",
       "    <tr>\n",
       "      <th>0024:B100:0002:2A7C</th>\n",
       "      <td>1521 days 10:54:26</td>\n",
       "      <td>179 days 02:01:07</td>\n",
       "      <td>0 days 00:35:02</td>\n",
       "      <td>0 days 00:00:00</td>\n",
       "      <td>24 days 08:15:27</td>\n",
       "      <td>1724 days 21:46:02</td>\n",
       "    </tr>\n",
       "    <tr>\n",
       "      <th>0024:B100:0002:2A80</th>\n",
       "      <td>1178 days 12:33:14</td>\n",
       "      <td>10 days 02:59:41</td>\n",
       "      <td>31 days 02:55:01</td>\n",
       "      <td>0 days 00:00:00</td>\n",
       "      <td>39 days 07:14:32</td>\n",
       "      <td>1259 days 01:42:28</td>\n",
       "    </tr>\n",
       "    <tr>\n",
       "      <th>0024:B100:0002:2A89</th>\n",
       "      <td>826 days 12:02:50</td>\n",
       "      <td>49 days 06:50:04</td>\n",
       "      <td>0 days 00:32:36</td>\n",
       "      <td>0 days 00:00:00</td>\n",
       "      <td>5 days 20:19:45</td>\n",
       "      <td>881 days 15:45:15</td>\n",
       "    </tr>\n",
       "    <tr>\n",
       "      <th>0024:B100:0002:2A8E</th>\n",
       "      <td>1116 days 20:28:33</td>\n",
       "      <td>47 days 03:59:35</td>\n",
       "      <td>35 days 05:27:14</td>\n",
       "      <td>0 days 00:00:00</td>\n",
       "      <td>163 days 08:41:55</td>\n",
       "      <td>1362 days 14:37:17</td>\n",
       "    </tr>\n",
       "    <tr>\n",
       "      <th>0024:B100:0002:3F5A</th>\n",
       "      <td>1514 days 18:49:39</td>\n",
       "      <td>178 days 23:30:44</td>\n",
       "      <td>0 days 00:32:44</td>\n",
       "      <td>0 days 00:00:00</td>\n",
       "      <td>30 days 21:51:15</td>\n",
       "      <td>1724 days 16:44:22</td>\n",
       "    </tr>\n",
       "    <tr>\n",
       "      <th>0024:B100:0002:4AEB</th>\n",
       "      <td>396 days 10:56:42</td>\n",
       "      <td>213 days 02:01:16</td>\n",
       "      <td>0 days 03:21:04</td>\n",
       "      <td>0 days 00:10:01</td>\n",
       "      <td>72 days 20:49:27</td>\n",
       "      <td>682 days 13:18:30</td>\n",
       "    </tr>\n",
       "    <tr>\n",
       "      <th>0024:B100:0002:5134</th>\n",
       "      <td>1042 days 00:10:15</td>\n",
       "      <td>60 days 12:29:20</td>\n",
       "      <td>0 days 00:44:13</td>\n",
       "      <td>0 days 00:00:00</td>\n",
       "      <td>188 days 13:22:34</td>\n",
       "      <td>1291 days 02:46:22</td>\n",
       "    </tr>\n",
       "    <tr>\n",
       "      <th>0024:B100:0002:5144</th>\n",
       "      <td>449 days 01:22:27</td>\n",
       "      <td>200 days 17:50:21</td>\n",
       "      <td>21 days 06:52:15</td>\n",
       "      <td>0 days 00:00:00</td>\n",
       "      <td>70 days 22:18:35</td>\n",
       "      <td>742 days 00:23:38</td>\n",
       "    </tr>\n",
       "    <tr>\n",
       "      <th>0024:B100:0002:5150</th>\n",
       "      <td>1062 days 00:40:36</td>\n",
       "      <td>21 days 17:54:26</td>\n",
       "      <td>0 days 00:11:38</td>\n",
       "      <td>0 days 00:00:00</td>\n",
       "      <td>7 days 00:16:34</td>\n",
       "      <td>1090 days 19:03:14</td>\n",
       "    </tr>\n",
       "    <tr>\n",
       "      <th>0024:B100:0002:5154</th>\n",
       "      <td>1459 days 23:54:01</td>\n",
       "      <td>20 days 22:08:50</td>\n",
       "      <td>5 days 13:34:40</td>\n",
       "      <td>0 days 00:00:00</td>\n",
       "      <td>30 days 19:08:21</td>\n",
       "      <td>1517 days 06:45:52</td>\n",
       "    </tr>\n",
       "    <tr>\n",
       "      <th>0024:B100:0002:5158</th>\n",
       "      <td>1558 days 13:22:22</td>\n",
       "      <td>223 days 08:29:48</td>\n",
       "      <td>0 days 09:51:08</td>\n",
       "      <td>0 days 00:00:00</td>\n",
       "      <td>32 days 08:05:40</td>\n",
       "      <td>1814 days 15:48:58</td>\n",
       "    </tr>\n",
       "    <tr>\n",
       "      <th>0024:B100:0002:5752</th>\n",
       "      <td>328 days 04:51:38</td>\n",
       "      <td>213 days 00:35:42</td>\n",
       "      <td>0 days 03:26:40</td>\n",
       "      <td>0 days 00:00:00</td>\n",
       "      <td>74 days 03:54:02</td>\n",
       "      <td>615 days 12:48:02</td>\n",
       "    </tr>\n",
       "    <tr>\n",
       "      <th>0024:B100:0002:575E</th>\n",
       "      <td>387 days 03:01:38</td>\n",
       "      <td>214 days 03:25:23</td>\n",
       "      <td>0 days 03:26:43</td>\n",
       "      <td>0 days 00:00:00</td>\n",
       "      <td>75 days 15:22:06</td>\n",
       "      <td>677 days 01:15:50</td>\n",
       "    </tr>\n",
       "    <tr>\n",
       "      <th>0024:B100:0002:594F</th>\n",
       "      <td>500 days 10:26:05</td>\n",
       "      <td>0 days 00:00:00</td>\n",
       "      <td>0 days 00:00:00</td>\n",
       "      <td>0 days 00:00:00</td>\n",
       "      <td>29 days 06:54:49</td>\n",
       "      <td>529 days 17:20:54</td>\n",
       "    </tr>\n",
       "    <tr>\n",
       "      <th>0024:B100:0002:8DD9</th>\n",
       "      <td>442 days 05:16:37</td>\n",
       "      <td>51 days 07:48:17</td>\n",
       "      <td>0 days 00:00:00</td>\n",
       "      <td>0 days 00:00:00</td>\n",
       "      <td>106 days 08:59:14</td>\n",
       "      <td>599 days 22:04:08</td>\n",
       "    </tr>\n",
       "    <tr>\n",
       "      <th>0024:B100:0002:8DDC</th>\n",
       "      <td>394 days 19:18:15</td>\n",
       "      <td>262 days 06:25:38</td>\n",
       "      <td>0 days 00:00:00</td>\n",
       "      <td>0 days 00:00:00</td>\n",
       "      <td>21 days 06:23:35</td>\n",
       "      <td>678 days 08:07:28</td>\n",
       "    </tr>\n",
       "    <tr>\n",
       "      <th>0024:B100:0002:8E02</th>\n",
       "      <td>875 days 04:28:18</td>\n",
       "      <td>23 days 20:01:14</td>\n",
       "      <td>0 days 06:32:06</td>\n",
       "      <td>0 days 00:00:00</td>\n",
       "      <td>1 days 11:01:56</td>\n",
       "      <td>900 days 18:03:34</td>\n",
       "    </tr>\n",
       "    <tr>\n",
       "      <th>0024:B100:0002:8E27</th>\n",
       "      <td>544 days 07:46:33</td>\n",
       "      <td>308 days 03:11:41</td>\n",
       "      <td>0 days 00:00:00</td>\n",
       "      <td>0 days 00:00:00</td>\n",
       "      <td>196 days 09:15:08</td>\n",
       "      <td>1048 days 20:13:22</td>\n",
       "    </tr>\n",
       "    <tr>\n",
       "      <th>0024:B100:0002:8E28</th>\n",
       "      <td>580 days 07:54:28</td>\n",
       "      <td>4 days 07:38:03</td>\n",
       "      <td>0 days 00:19:57</td>\n",
       "      <td>0 days 00:00:00</td>\n",
       "      <td>10 days 16:12:55</td>\n",
       "      <td>595 days 08:05:23</td>\n",
       "    </tr>\n",
       "    <tr>\n",
       "      <th>0024:B100:0002:8E2C</th>\n",
       "      <td>594 days 12:10:12</td>\n",
       "      <td>306 days 10:42:02</td>\n",
       "      <td>0 days 00:01:49</td>\n",
       "      <td>0 days 00:00:00</td>\n",
       "      <td>199 days 15:44:54</td>\n",
       "      <td>1100 days 14:38:57</td>\n",
       "    </tr>\n",
       "    <tr>\n",
       "      <th>0024:B100:0002:8E2F</th>\n",
       "      <td>458 days 08:05:29</td>\n",
       "      <td>307 days 14:39:35</td>\n",
       "      <td>0 days 00:00:00</td>\n",
       "      <td>0 days 00:00:00</td>\n",
       "      <td>198 days 12:54:37</td>\n",
       "      <td>964 days 11:39:41</td>\n",
       "    </tr>\n",
       "    <tr>\n",
       "      <th>0024:B100:0002:8E32</th>\n",
       "      <td>549 days 19:49:04</td>\n",
       "      <td>51 days 06:17:19</td>\n",
       "      <td>0 days 00:00:00</td>\n",
       "      <td>0 days 00:00:00</td>\n",
       "      <td>104 days 19:34:40</td>\n",
       "      <td>705 days 21:41:03</td>\n",
       "    </tr>\n",
       "    <tr>\n",
       "      <th>0024:B100:0002:8E36</th>\n",
       "      <td>628 days 10:23:09</td>\n",
       "      <td>4 days 02:43:12</td>\n",
       "      <td>0 days 00:00:00</td>\n",
       "      <td>0 days 00:00:00</td>\n",
       "      <td>8 days 20:36:36</td>\n",
       "      <td>641 days 09:42:57</td>\n",
       "    </tr>\n",
       "    <tr>\n",
       "      <th>0024:B100:0002:8E37</th>\n",
       "      <td>436 days 10:21:12</td>\n",
       "      <td>4 days 02:43:37</td>\n",
       "      <td>0 days 00:00:00</td>\n",
       "      <td>0 days 00:00:00</td>\n",
       "      <td>16 days 23:21:20</td>\n",
       "      <td>457 days 12:26:09</td>\n",
       "    </tr>\n",
       "    <tr>\n",
       "      <th>0024:B100:0002:8E49</th>\n",
       "      <td>524 days 12:42:48</td>\n",
       "      <td>4 days 02:43:13</td>\n",
       "      <td>0 days 00:00:00</td>\n",
       "      <td>0 days 00:00:00</td>\n",
       "      <td>8 days 21:58:24</td>\n",
       "      <td>537 days 13:24:25</td>\n",
       "    </tr>\n",
       "    <tr>\n",
       "      <th>0024:B100:0002:8E4A</th>\n",
       "      <td>424 days 09:19:38</td>\n",
       "      <td>9 days 06:40:51</td>\n",
       "      <td>254 days 23:46:39</td>\n",
       "      <td>0 days 00:00:00</td>\n",
       "      <td>19 days 05:47:34</td>\n",
       "      <td>707 days 21:34:42</td>\n",
       "    </tr>\n",
       "    <tr>\n",
       "      <th>0024:B100:0002:8F36</th>\n",
       "      <td>128 days 09:53:23</td>\n",
       "      <td>2 days 21:01:38</td>\n",
       "      <td>0 days 00:00:00</td>\n",
       "      <td>0 days 00:00:00</td>\n",
       "      <td>0 days 17:18:05</td>\n",
       "      <td>132 days 00:13:06</td>\n",
       "    </tr>\n",
       "    <tr>\n",
       "      <th>0024:B100:0002:8FCA</th>\n",
       "      <td>495 days 05:58:22</td>\n",
       "      <td>309 days 07:56:38</td>\n",
       "      <td>0 days 01:00:15</td>\n",
       "      <td>0 days 00:00:00</td>\n",
       "      <td>199 days 07:48:57</td>\n",
       "      <td>1003 days 22:44:12</td>\n",
       "    </tr>\n",
       "    <tr>\n",
       "      <th>0024:B100:0002:8FD1</th>\n",
       "      <td>824 days 17:04:32</td>\n",
       "      <td>135 days 16:30:31</td>\n",
       "      <td>0 days 06:39:07</td>\n",
       "      <td>0 days 00:00:00</td>\n",
       "      <td>0 days 20:48:27</td>\n",
       "      <td>961 days 13:02:37</td>\n",
       "    </tr>\n",
       "    <tr>\n",
       "      <th>0024:B100:0002:918F</th>\n",
       "      <td>582 days 21:48:07</td>\n",
       "      <td>4 days 08:33:10</td>\n",
       "      <td>0 days 00:19:43</td>\n",
       "      <td>0 days 00:00:00</td>\n",
       "      <td>10 days 17:27:45</td>\n",
       "      <td>598 days 00:08:45</td>\n",
       "    </tr>\n",
       "    <tr>\n",
       "      <th>0024:B100:0002:9193</th>\n",
       "      <td>335 days 07:53:24</td>\n",
       "      <td>9 days 06:38:57</td>\n",
       "      <td>254 days 23:46:34</td>\n",
       "      <td>0 days 00:00:00</td>\n",
       "      <td>19 days 06:23:21</td>\n",
       "      <td>618 days 20:42:16</td>\n",
       "    </tr>\n",
       "    <tr>\n",
       "      <th>0024:B100:0002:9194</th>\n",
       "      <td>366 days 17:01:44</td>\n",
       "      <td>51 days 06:10:57</td>\n",
       "      <td>0 days 00:00:00</td>\n",
       "      <td>0 days 00:00:00</td>\n",
       "      <td>104 days 05:37:19</td>\n",
       "      <td>522 days 04:50:00</td>\n",
       "    </tr>\n",
       "    <tr>\n",
       "      <th>0024:B100:0002:919B</th>\n",
       "      <td>488 days 16:59:42</td>\n",
       "      <td>0 days 00:00:00</td>\n",
       "      <td>0 days 00:00:00</td>\n",
       "      <td>0 days 00:00:00</td>\n",
       "      <td>13 days 16:25:47</td>\n",
       "      <td>502 days 09:25:29</td>\n",
       "    </tr>\n",
       "    <tr>\n",
       "      <th>0024:B100:0002:91B6</th>\n",
       "      <td>45 days 14:02:07</td>\n",
       "      <td>5 days 15:33:48</td>\n",
       "      <td>0 days 00:00:00</td>\n",
       "      <td>0 days 00:00:00</td>\n",
       "      <td>2 days 05:24:25</td>\n",
       "      <td>53 days 11:00:20</td>\n",
       "    </tr>\n",
       "    <tr>\n",
       "      <th>0024:B100:0002:91C3</th>\n",
       "      <td>702 days 15:27:38</td>\n",
       "      <td>4 days 08:17:44</td>\n",
       "      <td>0 days 00:00:00</td>\n",
       "      <td>0 days 00:00:00</td>\n",
       "      <td>17 days 04:20:28</td>\n",
       "      <td>724 days 04:05:50</td>\n",
       "    </tr>\n",
       "    <tr>\n",
       "      <th>0024:B100:0002:9202</th>\n",
       "      <td>600 days 05:02:32</td>\n",
       "      <td>0 days 00:00:40</td>\n",
       "      <td>0 days 00:00:00</td>\n",
       "      <td>0 days 00:00:00</td>\n",
       "      <td>46 days 02:23:05</td>\n",
       "      <td>646 days 07:26:17</td>\n",
       "    </tr>\n",
       "    <tr>\n",
       "      <th>0024:B100:0002:A917</th>\n",
       "      <td>652 days 20:53:10</td>\n",
       "      <td>191 days 20:56:28</td>\n",
       "      <td>0 days 06:21:27</td>\n",
       "      <td>0 days 00:00:00</td>\n",
       "      <td>127 days 07:55:53</td>\n",
       "      <td>972 days 08:06:58</td>\n",
       "    </tr>\n",
       "    <tr>\n",
       "      <th>0024:B100:0002:AD71</th>\n",
       "      <td>764 days 09:50:36</td>\n",
       "      <td>0 days 00:00:00</td>\n",
       "      <td>0 days 00:03:32</td>\n",
       "      <td>0 days 00:00:00</td>\n",
       "      <td>14 days 00:25:20</td>\n",
       "      <td>778 days 10:19:28</td>\n",
       "    </tr>\n",
       "    <tr>\n",
       "      <th>0024:B100:0002:AE14</th>\n",
       "      <td>444 days 09:38:14</td>\n",
       "      <td>0 days 00:00:00</td>\n",
       "      <td>0 days 00:00:00</td>\n",
       "      <td>0 days 00:00:00</td>\n",
       "      <td>16 days 10:39:16</td>\n",
       "      <td>460 days 20:17:30</td>\n",
       "    </tr>\n",
       "    <tr>\n",
       "      <th>0024:B100:0002:B04A</th>\n",
       "      <td>346 days 16:52:37</td>\n",
       "      <td>0 days 00:00:00</td>\n",
       "      <td>0 days 06:39:38</td>\n",
       "      <td>0 days 00:00:00</td>\n",
       "      <td>3 days 15:57:49</td>\n",
       "      <td>350 days 15:30:04</td>\n",
       "    </tr>\n",
       "    <tr>\n",
       "      <th>0024:B100:0003:12D9</th>\n",
       "      <td>439 days 07:49:15</td>\n",
       "      <td>11 days 10:10:23</td>\n",
       "      <td>0 days 00:06:13</td>\n",
       "      <td>0 days 00:00:00</td>\n",
       "      <td>208 days 15:52:34</td>\n",
       "      <td>659 days 09:58:25</td>\n",
       "    </tr>\n",
       "    <tr>\n",
       "      <th>0024:B100:0003:12EB</th>\n",
       "      <td>463 days 12:35:48</td>\n",
       "      <td>186 days 11:50:38</td>\n",
       "      <td>0 days 00:01:40</td>\n",
       "      <td>0 days 00:00:00</td>\n",
       "      <td>70 days 12:22:18</td>\n",
       "      <td>720 days 12:50:24</td>\n",
       "    </tr>\n",
       "    <tr>\n",
       "      <th>0024:B100:0003:12EE</th>\n",
       "      <td>329 days 10:58:03</td>\n",
       "      <td>14 days 06:56:04</td>\n",
       "      <td>0 days 00:00:00</td>\n",
       "      <td>0 days 00:00:00</td>\n",
       "      <td>202 days 16:15:34</td>\n",
       "      <td>546 days 10:09:41</td>\n",
       "    </tr>\n",
       "    <tr>\n",
       "      <th>0024:B100:0003:12F1</th>\n",
       "      <td>393 days 17:43:08</td>\n",
       "      <td>12 days 05:53:34</td>\n",
       "      <td>0 days 00:00:00</td>\n",
       "      <td>0 days 00:00:00</td>\n",
       "      <td>202 days 03:38:57</td>\n",
       "      <td>608 days 03:15:39</td>\n",
       "    </tr>\n",
       "    <tr>\n",
       "      <th>0024:B100:0003:12F8</th>\n",
       "      <td>243 days 08:42:36</td>\n",
       "      <td>18 days 02:48:48</td>\n",
       "      <td>0 days 00:08:42</td>\n",
       "      <td>0 days 00:00:00</td>\n",
       "      <td>193 days 15:54:14</td>\n",
       "      <td>455 days 03:34:20</td>\n",
       "    </tr>\n",
       "    <tr>\n",
       "      <th>0024:B100:0003:130B</th>\n",
       "      <td>463 days 00:43:54</td>\n",
       "      <td>173 days 18:25:54</td>\n",
       "      <td>0 days 00:06:34</td>\n",
       "      <td>0 days 00:00:00</td>\n",
       "      <td>77 days 21:43:18</td>\n",
       "      <td>714 days 16:59:40</td>\n",
       "    </tr>\n",
       "    <tr>\n",
       "      <th>0024:B100:0003:130E</th>\n",
       "      <td>468 days 12:28:36</td>\n",
       "      <td>174 days 04:27:38</td>\n",
       "      <td>0 days 00:04:45</td>\n",
       "      <td>0 days 00:00:00</td>\n",
       "      <td>80 days 10:58:14</td>\n",
       "      <td>723 days 03:59:13</td>\n",
       "    </tr>\n",
       "    <tr>\n",
       "      <th>0024:B100:0003:130F</th>\n",
       "      <td>275 days 01:37:31</td>\n",
       "      <td>10 days 03:13:11</td>\n",
       "      <td>0 days 00:00:00</td>\n",
       "      <td>0 days 00:00:00</td>\n",
       "      <td>198 days 12:20:31</td>\n",
       "      <td>483 days 17:11:13</td>\n",
       "    </tr>\n",
       "    <tr>\n",
       "      <th>0024:B100:0003:1312</th>\n",
       "      <td>410 days 20:49:47</td>\n",
       "      <td>185 days 19:24:49</td>\n",
       "      <td>0 days 00:11:15</td>\n",
       "      <td>0 days 00:00:00</td>\n",
       "      <td>68 days 13:31:27</td>\n",
       "      <td>665 days 05:57:18</td>\n",
       "    </tr>\n",
       "    <tr>\n",
       "      <th>0024:B100:0003:1318</th>\n",
       "      <td>302 days 01:51:30</td>\n",
       "      <td>185 days 01:46:17</td>\n",
       "      <td>0 days 00:01:33</td>\n",
       "      <td>0 days 00:00:00</td>\n",
       "      <td>71 days 12:24:48</td>\n",
       "      <td>558 days 16:04:08</td>\n",
       "    </tr>\n",
       "    <tr>\n",
       "      <th>0024:B100:0003:1F95</th>\n",
       "      <td>673 days 10:21:49</td>\n",
       "      <td>51 days 07:45:11</td>\n",
       "      <td>0 days 00:00:00</td>\n",
       "      <td>0 days 00:00:00</td>\n",
       "      <td>102 days 02:04:15</td>\n",
       "      <td>826 days 20:11:15</td>\n",
       "    </tr>\n",
       "    <tr>\n",
       "      <th>0024:B100:0003:2A8C</th>\n",
       "      <td>417 days 07:40:57</td>\n",
       "      <td>202 days 14:55:28</td>\n",
       "      <td>0 days 00:00:00</td>\n",
       "      <td>0 days 00:00:00</td>\n",
       "      <td>69 days 10:59:03</td>\n",
       "      <td>689 days 09:35:28</td>\n",
       "    </tr>\n",
       "    <tr>\n",
       "      <th>0024:B100:0003:2AB1</th>\n",
       "      <td>263 days 05:13:34</td>\n",
       "      <td>201 days 02:16:37</td>\n",
       "      <td>129 days 18:07:19</td>\n",
       "      <td>0 days 00:00:00</td>\n",
       "      <td>39 days 06:40:54</td>\n",
       "      <td>633 days 08:18:24</td>\n",
       "    </tr>\n",
       "    <tr>\n",
       "      <th>0024:B100:0003:2AB5</th>\n",
       "      <td>411 days 12:43:39</td>\n",
       "      <td>164 days 02:31:03</td>\n",
       "      <td>0 days 00:52:36</td>\n",
       "      <td>0 days 00:00:00</td>\n",
       "      <td>46 days 04:36:04</td>\n",
       "      <td>621 days 20:43:22</td>\n",
       "    </tr>\n",
       "    <tr>\n",
       "      <th>0024:B100:0003:2ADF</th>\n",
       "      <td>219 days 19:50:28</td>\n",
       "      <td>129 days 17:04:57</td>\n",
       "      <td>87 days 20:29:10</td>\n",
       "      <td>0 days 00:00:00</td>\n",
       "      <td>48 days 08:12:23</td>\n",
       "      <td>485 days 17:36:58</td>\n",
       "    </tr>\n",
       "    <tr>\n",
       "      <th>0024:B100:0003:2B24</th>\n",
       "      <td>2 days 08:27:46</td>\n",
       "      <td>53 days 10:26:34</td>\n",
       "      <td>0 days 00:00:00</td>\n",
       "      <td>0 days 00:00:00</td>\n",
       "      <td>5 days 13:08:55</td>\n",
       "      <td>61 days 08:03:15</td>\n",
       "    </tr>\n",
       "    <tr>\n",
       "      <th>0024:B100:0003:2C1C</th>\n",
       "      <td>409 days 16:28:58</td>\n",
       "      <td>12 days 02:18:29</td>\n",
       "      <td>0 days 00:04:57</td>\n",
       "      <td>0 days 00:00:00</td>\n",
       "      <td>173 days 19:05:32</td>\n",
       "      <td>595 days 13:57:56</td>\n",
       "    </tr>\n",
       "    <tr>\n",
       "      <th>0024:B100:0003:33C3</th>\n",
       "      <td>946 days 11:13:58</td>\n",
       "      <td>284 days 20:10:56</td>\n",
       "      <td>32 days 06:36:48</td>\n",
       "      <td>0 days 00:00:00</td>\n",
       "      <td>67 days 07:58:19</td>\n",
       "      <td>1330 days 22:00:01</td>\n",
       "    </tr>\n",
       "    <tr>\n",
       "      <th>0024:B100:0003:519A</th>\n",
       "      <td>1 days 12:51:48</td>\n",
       "      <td>53 days 10:06:36</td>\n",
       "      <td>0 days 00:00:00</td>\n",
       "      <td>0 days 00:00:00</td>\n",
       "      <td>7 days 08:12:10</td>\n",
       "      <td>62 days 07:10:34</td>\n",
       "    </tr>\n",
       "    <tr>\n",
       "      <th>0024:B100:0003:66F6</th>\n",
       "      <td>34 days 07:17:17</td>\n",
       "      <td>5 days 11:15:41</td>\n",
       "      <td>0 days 00:00:00</td>\n",
       "      <td>0 days 00:00:00</td>\n",
       "      <td>23 days 07:07:36</td>\n",
       "      <td>63 days 01:40:34</td>\n",
       "    </tr>\n",
       "    <tr>\n",
       "      <th>0024:B100:0003:6743</th>\n",
       "      <td>10 days 08:32:18</td>\n",
       "      <td>94 days 05:54:56</td>\n",
       "      <td>0 days 00:00:00</td>\n",
       "      <td>0 days 00:00:00</td>\n",
       "      <td>25 days 09:36:54</td>\n",
       "      <td>130 days 00:04:08</td>\n",
       "    </tr>\n",
       "    <tr>\n",
       "      <th>0024:B100:0003:824E</th>\n",
       "      <td>330 days 00:33:04</td>\n",
       "      <td>0 days 00:00:40</td>\n",
       "      <td>0 days 00:12:02</td>\n",
       "      <td>0 days 00:00:00</td>\n",
       "      <td>15 days 11:43:47</td>\n",
       "      <td>345 days 12:29:33</td>\n",
       "    </tr>\n",
       "    <tr>\n",
       "      <th>0024:B100:0003:9836</th>\n",
       "      <td>324 days 20:42:00</td>\n",
       "      <td>11 days 08:28:28</td>\n",
       "      <td>254 days 21:20:37</td>\n",
       "      <td>0 days 00:00:00</td>\n",
       "      <td>11 days 06:36:06</td>\n",
       "      <td>602 days 09:07:11</td>\n",
       "    </tr>\n",
       "    <tr>\n",
       "      <th>0024:B100:0003:BF3B</th>\n",
       "      <td>136 days 07:35:44</td>\n",
       "      <td>33 days 21:15:59</td>\n",
       "      <td>0 days 00:00:00</td>\n",
       "      <td>0 days 00:00:00</td>\n",
       "      <td>170 days 21:42:55</td>\n",
       "      <td>341 days 02:34:38</td>\n",
       "    </tr>\n",
       "    <tr>\n",
       "      <th>0024:B100:0003:BF3D</th>\n",
       "      <td>123 days 08:03:28</td>\n",
       "      <td>33 days 02:14:36</td>\n",
       "      <td>0 days 02:28:17</td>\n",
       "      <td>0 days 00:00:00</td>\n",
       "      <td>150 days 13:21:28</td>\n",
       "      <td>307 days 02:07:49</td>\n",
       "    </tr>\n",
       "    <tr>\n",
       "      <th>0024:B100:0003:BF84</th>\n",
       "      <td>50 days 03:53:49</td>\n",
       "      <td>0 days 00:00:00</td>\n",
       "      <td>0 days 00:00:00</td>\n",
       "      <td>0 days 00:00:00</td>\n",
       "      <td>0 days 00:00:00</td>\n",
       "      <td>50 days 03:53:49</td>\n",
       "    </tr>\n",
       "    <tr>\n",
       "      <th>0024:B100:0003:BF91</th>\n",
       "      <td>169 days 01:10:33</td>\n",
       "      <td>42 days 19:38:35</td>\n",
       "      <td>0 days 00:00:00</td>\n",
       "      <td>0 days 00:00:00</td>\n",
       "      <td>193 days 10:05:21</td>\n",
       "      <td>405 days 06:54:29</td>\n",
       "    </tr>\n",
       "    <tr>\n",
       "      <th>0024:B100:0003:C689</th>\n",
       "      <td>59 days 23:59:25</td>\n",
       "      <td>24 days 17:27:17</td>\n",
       "      <td>0 days 00:08:12</td>\n",
       "      <td>0 days 00:00:00</td>\n",
       "      <td>348 days 20:55:27</td>\n",
       "      <td>433 days 14:30:21</td>\n",
       "    </tr>\n",
       "    <tr>\n",
       "      <th>0024:B100:0003:C68A</th>\n",
       "      <td>122 days 09:11:35</td>\n",
       "      <td>179 days 05:13:09</td>\n",
       "      <td>0 days 00:46:49</td>\n",
       "      <td>0 days 00:00:00</td>\n",
       "      <td>86 days 10:47:07</td>\n",
       "      <td>388 days 01:58:40</td>\n",
       "    </tr>\n",
       "    <tr>\n",
       "      <th>0024:B100:0003:D26F</th>\n",
       "      <td>882 days 13:40:18</td>\n",
       "      <td>6 days 13:53:16</td>\n",
       "      <td>0 days 09:51:32</td>\n",
       "      <td>0 days 00:00:00</td>\n",
       "      <td>22 days 16:31:49</td>\n",
       "      <td>912 days 05:56:55</td>\n",
       "    </tr>\n",
       "    <tr>\n",
       "      <th>0024:B100:0003:D5D6</th>\n",
       "      <td>903 days 01:32:33</td>\n",
       "      <td>7 days 20:49:45</td>\n",
       "      <td>0 days 09:51:17</td>\n",
       "      <td>0 days 00:00:00</td>\n",
       "      <td>42 days 03:59:40</td>\n",
       "      <td>953 days 12:13:15</td>\n",
       "    </tr>\n",
       "    <tr>\n",
       "      <th>0024:B100:0004:0667</th>\n",
       "      <td>979 days 16:32:42</td>\n",
       "      <td>4 days 05:02:29</td>\n",
       "      <td>7 days 14:37:11</td>\n",
       "      <td>0 days 00:00:00</td>\n",
       "      <td>7 days 19:19:55</td>\n",
       "      <td>999 days 07:32:17</td>\n",
       "    </tr>\n",
       "    <tr>\n",
       "      <th>0024:B100:0004:0E93</th>\n",
       "      <td>106 days 09:50:32</td>\n",
       "      <td>16 days 20:32:06</td>\n",
       "      <td>0 days 00:03:44</td>\n",
       "      <td>0 days 00:00:00</td>\n",
       "      <td>88 days 15:22:24</td>\n",
       "      <td>211 days 21:48:46</td>\n",
       "    </tr>\n",
       "    <tr>\n",
       "      <th>0024:B100:0004:0EC1</th>\n",
       "      <td>493 days 20:06:36</td>\n",
       "      <td>0 days 00:00:00</td>\n",
       "      <td>0 days 10:34:46</td>\n",
       "      <td>0 days 00:00:00</td>\n",
       "      <td>11 days 23:37:08</td>\n",
       "      <td>506 days 06:18:30</td>\n",
       "    </tr>\n",
       "    <tr>\n",
       "      <th>0024:B100:0004:1B12</th>\n",
       "      <td>296 days 17:31:18</td>\n",
       "      <td>0 days 17:45:58</td>\n",
       "      <td>0 days 01:07:37</td>\n",
       "      <td>0 days 00:00:00</td>\n",
       "      <td>81 days 15:48:32</td>\n",
       "      <td>379 days 04:13:25</td>\n",
       "    </tr>\n",
       "    <tr>\n",
       "      <th>0024:B100:0004:20C4</th>\n",
       "      <td>597 days 22:19:49</td>\n",
       "      <td>9 days 08:09:13</td>\n",
       "      <td>40 days 17:08:48</td>\n",
       "      <td>0 days 00:00:00</td>\n",
       "      <td>43 days 20:13:17</td>\n",
       "      <td>691 days 19:51:07</td>\n",
       "    </tr>\n",
       "    <tr>\n",
       "      <th>0024:B100:0004:2ED8</th>\n",
       "      <td>125 days 08:18:51</td>\n",
       "      <td>0 days 17:55:17</td>\n",
       "      <td>0 days 00:00:00</td>\n",
       "      <td>0 days 00:00:00</td>\n",
       "      <td>11 days 10:23:46</td>\n",
       "      <td>137 days 12:37:54</td>\n",
       "    </tr>\n",
       "    <tr>\n",
       "      <th>0024:B100:0004:3B91</th>\n",
       "      <td>409 days 00:18:26</td>\n",
       "      <td>10 days 18:00:52</td>\n",
       "      <td>9 days 00:09:09</td>\n",
       "      <td>0 days 00:00:00</td>\n",
       "      <td>9 days 04:10:13</td>\n",
       "      <td>437 days 22:38:40</td>\n",
       "    </tr>\n",
       "    <tr>\n",
       "      <th>0024:B100:0004:5CE8</th>\n",
       "      <td>724 days 05:59:51</td>\n",
       "      <td>0 days 00:28:41</td>\n",
       "      <td>0 days 09:53:35</td>\n",
       "      <td>0 days 00:00:00</td>\n",
       "      <td>20 days 12:56:49</td>\n",
       "      <td>745 days 05:18:56</td>\n",
       "    </tr>\n",
       "    <tr>\n",
       "      <th>0024:B100:0004:5D08</th>\n",
       "      <td>709 days 08:19:48</td>\n",
       "      <td>0 days 10:26:48</td>\n",
       "      <td>0 days 10:11:21</td>\n",
       "      <td>0 days 00:00:00</td>\n",
       "      <td>18 days 15:12:58</td>\n",
       "      <td>728 days 20:10:55</td>\n",
       "    </tr>\n",
       "    <tr>\n",
       "      <th>0024:B100:0004:A22C</th>\n",
       "      <td>442 days 23:21:04</td>\n",
       "      <td>0 days 17:55:09</td>\n",
       "      <td>0 days 01:23:05</td>\n",
       "      <td>0 days 00:00:00</td>\n",
       "      <td>19 days 05:45:25</td>\n",
       "      <td>463 days 00:24:43</td>\n",
       "    </tr>\n",
       "    <tr>\n",
       "      <th>0024:B100:0004:A250</th>\n",
       "      <td>307 days 22:02:26</td>\n",
       "      <td>16 days 01:35:54</td>\n",
       "      <td>31 days 11:40:59</td>\n",
       "      <td>0 days 00:00:00</td>\n",
       "      <td>9 days 23:13:17</td>\n",
       "      <td>365 days 10:32:36</td>\n",
       "    </tr>\n",
       "    <tr>\n",
       "      <th>0024:B100:0004:C4B2</th>\n",
       "      <td>254 days 05:22:06</td>\n",
       "      <td>0 days 22:30:15</td>\n",
       "      <td>0 days 00:03:08</td>\n",
       "      <td>0 days 00:00:00</td>\n",
       "      <td>20 days 18:46:48</td>\n",
       "      <td>275 days 22:42:17</td>\n",
       "    </tr>\n",
       "    <tr>\n",
       "      <th>0024:B100:0006:4538</th>\n",
       "      <td>18 days 08:04:33</td>\n",
       "      <td>0 days 00:00:00</td>\n",
       "      <td>0 days 00:09:26</td>\n",
       "      <td>0 days 00:00:00</td>\n",
       "      <td>1 days 16:06:50</td>\n",
       "      <td>20 days 00:20:49</td>\n",
       "    </tr>\n",
       "    <tr>\n",
       "      <th>0024:B100:0006:BC3D</th>\n",
       "      <td>479 days 10:41:48</td>\n",
       "      <td>2 days 13:58:58</td>\n",
       "      <td>2 days 21:12:06</td>\n",
       "      <td>0 days 00:00:00</td>\n",
       "      <td>42 days 02:15:35</td>\n",
       "      <td>527 days 00:08:27</td>\n",
       "    </tr>\n",
       "    <tr>\n",
       "      <th>0024:B100:0006:BD13</th>\n",
       "      <td>119 days 14:37:14</td>\n",
       "      <td>0 days 00:00:00</td>\n",
       "      <td>0 days 00:51:05</td>\n",
       "      <td>0 days 00:00:00</td>\n",
       "      <td>1 days 02:40:00</td>\n",
       "      <td>120 days 18:08:19</td>\n",
       "    </tr>\n",
       "    <tr>\n",
       "      <th>0024:B100:0006:BD1D</th>\n",
       "      <td>80 days 13:48:10</td>\n",
       "      <td>0 days 00:00:00</td>\n",
       "      <td>0 days 00:51:14</td>\n",
       "      <td>0 days 00:00:00</td>\n",
       "      <td>2 days 23:13:07</td>\n",
       "      <td>83 days 13:52:31</td>\n",
       "    </tr>\n",
       "    <tr>\n",
       "      <th>0024:B100:0006:BD20</th>\n",
       "      <td>40 days 11:58:39</td>\n",
       "      <td>0 days 00:00:00</td>\n",
       "      <td>0 days 00:44:50</td>\n",
       "      <td>0 days 00:00:00</td>\n",
       "      <td>1 days 14:44:51</td>\n",
       "      <td>42 days 03:28:20</td>\n",
       "    </tr>\n",
       "    <tr>\n",
       "      <th>0024:B100:0006:C0E1</th>\n",
       "      <td>73 days 10:38:00</td>\n",
       "      <td>0 days 00:00:00</td>\n",
       "      <td>0 days 00:51:15</td>\n",
       "      <td>0 days 00:00:00</td>\n",
       "      <td>1 days 14:16:50</td>\n",
       "      <td>75 days 01:46:05</td>\n",
       "    </tr>\n",
       "    <tr>\n",
       "      <th>0024:B100:0006:C0E2</th>\n",
       "      <td>17 days 22:52:58</td>\n",
       "      <td>0 days 00:00:00</td>\n",
       "      <td>0 days 00:09:19</td>\n",
       "      <td>0 days 00:00:00</td>\n",
       "      <td>1 days 09:43:28</td>\n",
       "      <td>19 days 08:45:45</td>\n",
       "    </tr>\n",
       "    <tr>\n",
       "      <th>0024:B100:0006:C7DC</th>\n",
       "      <td>105 days 11:52:56</td>\n",
       "      <td>0 days 18:17:25</td>\n",
       "      <td>0 days 00:05:18</td>\n",
       "      <td>0 days 00:00:00</td>\n",
       "      <td>0 days 09:16:47</td>\n",
       "      <td>106 days 15:32:26</td>\n",
       "    </tr>\n",
       "    <tr>\n",
       "      <th>0024:B100:0006:C802</th>\n",
       "      <td>103 days 19:50:40</td>\n",
       "      <td>0 days 00:07:53</td>\n",
       "      <td>0 days 00:48:12</td>\n",
       "      <td>0 days 00:00:00</td>\n",
       "      <td>1 days 17:46:52</td>\n",
       "      <td>105 days 14:33:37</td>\n",
       "    </tr>\n",
       "    <tr>\n",
       "      <th>0024:B100:0006:C80C</th>\n",
       "      <td>75 days 01:46:52</td>\n",
       "      <td>0 days 00:00:00</td>\n",
       "      <td>0 days 00:51:37</td>\n",
       "      <td>0 days 00:00:00</td>\n",
       "      <td>0 days 23:04:23</td>\n",
       "      <td>76 days 01:42:52</td>\n",
       "    </tr>\n",
       "    <tr>\n",
       "      <th>0024:B100:0006:C80F</th>\n",
       "      <td>70 days 16:30:06</td>\n",
       "      <td>0 days 00:00:00</td>\n",
       "      <td>0 days 01:28:09</td>\n",
       "      <td>0 days 00:00:00</td>\n",
       "      <td>2 days 13:25:15</td>\n",
       "      <td>73 days 07:23:30</td>\n",
       "    </tr>\n",
       "    <tr>\n",
       "      <th>0024:B100:000C:083C</th>\n",
       "      <td>135 days 15:20:51</td>\n",
       "      <td>0 days 00:00:00</td>\n",
       "      <td>0 days 00:00:00</td>\n",
       "      <td>0 days 00:00:00</td>\n",
       "      <td>0 days 00:00:00</td>\n",
       "      <td>135 days 15:20:51</td>\n",
       "    </tr>\n",
       "  </tbody>\n",
       "</table>\n",
       "</div>"
      ],
      "text/plain": [
       "State                        Available           Faulted       Unavailable  \\\n",
       "MAC Address                                                                  \n",
       "000D:6F00:04F8:B0AC  129 days 22:46:20  39 days 04:34:08   0 days 00:00:00   \n",
       "0024:B100:0002:13E5 1204 days 19:28:18  10 days 23:50:23   0 days 06:39:49   \n",
       "0024:B100:0002:15D0 1148 days 16:57:26  13 days 08:02:51   0 days 00:06:44   \n",
       "0024:B100:0002:15D4 1085 days 16:17:51  18 days 17:50:22   0 days 00:31:44   \n",
       "0024:B100:0002:15DF 1072 days 22:47:21  26 days 01:07:31   0 days 00:28:17   \n",
       "0024:B100:0002:16F3 1814 days 17:16:01   8 days 11:58:11   7 days 18:59:01   \n",
       "0024:B100:0002:1C6A 1091 days 14:05:51  13 days 08:01:17   0 days 00:30:39   \n",
       "0024:B100:0002:1E24  922 days 14:57:59  44 days 01:26:38   0 days 00:08:16   \n",
       "0024:B100:0002:1EED 1301 days 12:12:24  49 days 05:44:03   0 days 02:58:36   \n",
       "0024:B100:0002:1F61 1184 days 21:09:22  18 days 03:11:57   0 days 00:00:04   \n",
       "0024:B100:0002:1F6C 1395 days 22:33:23  53 days 19:48:19   0 days 00:00:00   \n",
       "0024:B100:0002:1F71  755 days 02:35:13   7 days 13:02:40   0 days 00:00:00   \n",
       "0024:B100:0002:2022  457 days 20:07:06   5 days 16:40:44   0 days 00:10:40   \n",
       "0024:B100:0002:2940 1164 days 13:00:59 476 days 21:49:49  81 days 12:05:17   \n",
       "0024:B100:0002:294E 1273 days 16:34:23   3 days 03:16:57  11 days 00:57:13   \n",
       "0024:B100:0002:2954 1438 days 09:55:44 179 days 02:18:12   0 days 00:01:45   \n",
       "0024:B100:0002:2955 1079 days 13:57:35  30 days 08:42:25   0 days 00:00:30   \n",
       "0024:B100:0002:295F 1174 days 05:05:06  28 days 15:06:40   0 days 00:29:42   \n",
       "0024:B100:0002:2963  567 days 02:28:44   0 days 00:00:00  13 days 21:52:57   \n",
       "0024:B100:0002:297C  894 days 20:06:48  28 days 02:32:05   0 days 00:01:43   \n",
       "0024:B100:0002:299E  715 days 03:18:22 232 days 01:55:03   0 days 00:32:28   \n",
       "0024:B100:0002:29C3  666 days 10:08:08   0 days 00:00:02   0 days 00:00:00   \n",
       "0024:B100:0002:29C6  741 days 17:11:44   4 days 05:11:05   0 days 00:00:01   \n",
       "0024:B100:0002:2A6B 1122 days 14:42:22  27 days 15:42:31   9 days 02:20:22   \n",
       "0024:B100:0002:2A6E 1198 days 18:08:48   3 days 03:16:19   0 days 00:00:00   \n",
       "0024:B100:0002:2A70  721 days 20:03:08  67 days 05:21:42  44 days 01:49:32   \n",
       "0024:B100:0002:2A71  664 days 19:33:32  83 days 13:36:09   0 days 00:33:45   \n",
       "0024:B100:0002:2A73 1260 days 17:30:00 196 days 04:12:58  42 days 07:24:56   \n",
       "0024:B100:0002:2A74  875 days 20:00:46  19 days 12:54:28   0 days 00:00:00   \n",
       "0024:B100:0002:2A78  964 days 12:12:33   8 days 18:51:09   4 days 20:31:52   \n",
       "0024:B100:0002:2A7B  974 days 20:36:37  45 days 14:26:14   0 days 00:31:12   \n",
       "0024:B100:0002:2A7C 1521 days 10:54:26 179 days 02:01:07   0 days 00:35:02   \n",
       "0024:B100:0002:2A80 1178 days 12:33:14  10 days 02:59:41  31 days 02:55:01   \n",
       "0024:B100:0002:2A89  826 days 12:02:50  49 days 06:50:04   0 days 00:32:36   \n",
       "0024:B100:0002:2A8E 1116 days 20:28:33  47 days 03:59:35  35 days 05:27:14   \n",
       "0024:B100:0002:3F5A 1514 days 18:49:39 178 days 23:30:44   0 days 00:32:44   \n",
       "0024:B100:0002:4AEB  396 days 10:56:42 213 days 02:01:16   0 days 03:21:04   \n",
       "0024:B100:0002:5134 1042 days 00:10:15  60 days 12:29:20   0 days 00:44:13   \n",
       "0024:B100:0002:5144  449 days 01:22:27 200 days 17:50:21  21 days 06:52:15   \n",
       "0024:B100:0002:5150 1062 days 00:40:36  21 days 17:54:26   0 days 00:11:38   \n",
       "0024:B100:0002:5154 1459 days 23:54:01  20 days 22:08:50   5 days 13:34:40   \n",
       "0024:B100:0002:5158 1558 days 13:22:22 223 days 08:29:48   0 days 09:51:08   \n",
       "0024:B100:0002:5752  328 days 04:51:38 213 days 00:35:42   0 days 03:26:40   \n",
       "0024:B100:0002:575E  387 days 03:01:38 214 days 03:25:23   0 days 03:26:43   \n",
       "0024:B100:0002:594F  500 days 10:26:05   0 days 00:00:00   0 days 00:00:00   \n",
       "0024:B100:0002:8DD9  442 days 05:16:37  51 days 07:48:17   0 days 00:00:00   \n",
       "0024:B100:0002:8DDC  394 days 19:18:15 262 days 06:25:38   0 days 00:00:00   \n",
       "0024:B100:0002:8E02  875 days 04:28:18  23 days 20:01:14   0 days 06:32:06   \n",
       "0024:B100:0002:8E27  544 days 07:46:33 308 days 03:11:41   0 days 00:00:00   \n",
       "0024:B100:0002:8E28  580 days 07:54:28   4 days 07:38:03   0 days 00:19:57   \n",
       "0024:B100:0002:8E2C  594 days 12:10:12 306 days 10:42:02   0 days 00:01:49   \n",
       "0024:B100:0002:8E2F  458 days 08:05:29 307 days 14:39:35   0 days 00:00:00   \n",
       "0024:B100:0002:8E32  549 days 19:49:04  51 days 06:17:19   0 days 00:00:00   \n",
       "0024:B100:0002:8E36  628 days 10:23:09   4 days 02:43:12   0 days 00:00:00   \n",
       "0024:B100:0002:8E37  436 days 10:21:12   4 days 02:43:37   0 days 00:00:00   \n",
       "0024:B100:0002:8E49  524 days 12:42:48   4 days 02:43:13   0 days 00:00:00   \n",
       "0024:B100:0002:8E4A  424 days 09:19:38   9 days 06:40:51 254 days 23:46:39   \n",
       "0024:B100:0002:8F36  128 days 09:53:23   2 days 21:01:38   0 days 00:00:00   \n",
       "0024:B100:0002:8FCA  495 days 05:58:22 309 days 07:56:38   0 days 01:00:15   \n",
       "0024:B100:0002:8FD1  824 days 17:04:32 135 days 16:30:31   0 days 06:39:07   \n",
       "0024:B100:0002:918F  582 days 21:48:07   4 days 08:33:10   0 days 00:19:43   \n",
       "0024:B100:0002:9193  335 days 07:53:24   9 days 06:38:57 254 days 23:46:34   \n",
       "0024:B100:0002:9194  366 days 17:01:44  51 days 06:10:57   0 days 00:00:00   \n",
       "0024:B100:0002:919B  488 days 16:59:42   0 days 00:00:00   0 days 00:00:00   \n",
       "0024:B100:0002:91B6   45 days 14:02:07   5 days 15:33:48   0 days 00:00:00   \n",
       "0024:B100:0002:91C3  702 days 15:27:38   4 days 08:17:44   0 days 00:00:00   \n",
       "0024:B100:0002:9202  600 days 05:02:32   0 days 00:00:40   0 days 00:00:00   \n",
       "0024:B100:0002:A917  652 days 20:53:10 191 days 20:56:28   0 days 06:21:27   \n",
       "0024:B100:0002:AD71  764 days 09:50:36   0 days 00:00:00   0 days 00:03:32   \n",
       "0024:B100:0002:AE14  444 days 09:38:14   0 days 00:00:00   0 days 00:00:00   \n",
       "0024:B100:0002:B04A  346 days 16:52:37   0 days 00:00:00   0 days 06:39:38   \n",
       "0024:B100:0003:12D9  439 days 07:49:15  11 days 10:10:23   0 days 00:06:13   \n",
       "0024:B100:0003:12EB  463 days 12:35:48 186 days 11:50:38   0 days 00:01:40   \n",
       "0024:B100:0003:12EE  329 days 10:58:03  14 days 06:56:04   0 days 00:00:00   \n",
       "0024:B100:0003:12F1  393 days 17:43:08  12 days 05:53:34   0 days 00:00:00   \n",
       "0024:B100:0003:12F8  243 days 08:42:36  18 days 02:48:48   0 days 00:08:42   \n",
       "0024:B100:0003:130B  463 days 00:43:54 173 days 18:25:54   0 days 00:06:34   \n",
       "0024:B100:0003:130E  468 days 12:28:36 174 days 04:27:38   0 days 00:04:45   \n",
       "0024:B100:0003:130F  275 days 01:37:31  10 days 03:13:11   0 days 00:00:00   \n",
       "0024:B100:0003:1312  410 days 20:49:47 185 days 19:24:49   0 days 00:11:15   \n",
       "0024:B100:0003:1318  302 days 01:51:30 185 days 01:46:17   0 days 00:01:33   \n",
       "0024:B100:0003:1F95  673 days 10:21:49  51 days 07:45:11   0 days 00:00:00   \n",
       "0024:B100:0003:2A8C  417 days 07:40:57 202 days 14:55:28   0 days 00:00:00   \n",
       "0024:B100:0003:2AB1  263 days 05:13:34 201 days 02:16:37 129 days 18:07:19   \n",
       "0024:B100:0003:2AB5  411 days 12:43:39 164 days 02:31:03   0 days 00:52:36   \n",
       "0024:B100:0003:2ADF  219 days 19:50:28 129 days 17:04:57  87 days 20:29:10   \n",
       "0024:B100:0003:2B24    2 days 08:27:46  53 days 10:26:34   0 days 00:00:00   \n",
       "0024:B100:0003:2C1C  409 days 16:28:58  12 days 02:18:29   0 days 00:04:57   \n",
       "0024:B100:0003:33C3  946 days 11:13:58 284 days 20:10:56  32 days 06:36:48   \n",
       "0024:B100:0003:519A    1 days 12:51:48  53 days 10:06:36   0 days 00:00:00   \n",
       "0024:B100:0003:66F6   34 days 07:17:17   5 days 11:15:41   0 days 00:00:00   \n",
       "0024:B100:0003:6743   10 days 08:32:18  94 days 05:54:56   0 days 00:00:00   \n",
       "0024:B100:0003:824E  330 days 00:33:04   0 days 00:00:40   0 days 00:12:02   \n",
       "0024:B100:0003:9836  324 days 20:42:00  11 days 08:28:28 254 days 21:20:37   \n",
       "0024:B100:0003:BF3B  136 days 07:35:44  33 days 21:15:59   0 days 00:00:00   \n",
       "0024:B100:0003:BF3D  123 days 08:03:28  33 days 02:14:36   0 days 02:28:17   \n",
       "0024:B100:0003:BF84   50 days 03:53:49   0 days 00:00:00   0 days 00:00:00   \n",
       "0024:B100:0003:BF91  169 days 01:10:33  42 days 19:38:35   0 days 00:00:00   \n",
       "0024:B100:0003:C689   59 days 23:59:25  24 days 17:27:17   0 days 00:08:12   \n",
       "0024:B100:0003:C68A  122 days 09:11:35 179 days 05:13:09   0 days 00:46:49   \n",
       "0024:B100:0003:D26F  882 days 13:40:18   6 days 13:53:16   0 days 09:51:32   \n",
       "0024:B100:0003:D5D6  903 days 01:32:33   7 days 20:49:45   0 days 09:51:17   \n",
       "0024:B100:0004:0667  979 days 16:32:42   4 days 05:02:29   7 days 14:37:11   \n",
       "0024:B100:0004:0E93  106 days 09:50:32  16 days 20:32:06   0 days 00:03:44   \n",
       "0024:B100:0004:0EC1  493 days 20:06:36   0 days 00:00:00   0 days 10:34:46   \n",
       "0024:B100:0004:1B12  296 days 17:31:18   0 days 17:45:58   0 days 01:07:37   \n",
       "0024:B100:0004:20C4  597 days 22:19:49   9 days 08:09:13  40 days 17:08:48   \n",
       "0024:B100:0004:2ED8  125 days 08:18:51   0 days 17:55:17   0 days 00:00:00   \n",
       "0024:B100:0004:3B91  409 days 00:18:26  10 days 18:00:52   9 days 00:09:09   \n",
       "0024:B100:0004:5CE8  724 days 05:59:51   0 days 00:28:41   0 days 09:53:35   \n",
       "0024:B100:0004:5D08  709 days 08:19:48   0 days 10:26:48   0 days 10:11:21   \n",
       "0024:B100:0004:A22C  442 days 23:21:04   0 days 17:55:09   0 days 01:23:05   \n",
       "0024:B100:0004:A250  307 days 22:02:26  16 days 01:35:54  31 days 11:40:59   \n",
       "0024:B100:0004:C4B2  254 days 05:22:06   0 days 22:30:15   0 days 00:03:08   \n",
       "0024:B100:0006:4538   18 days 08:04:33   0 days 00:00:00   0 days 00:09:26   \n",
       "0024:B100:0006:BC3D  479 days 10:41:48   2 days 13:58:58   2 days 21:12:06   \n",
       "0024:B100:0006:BD13  119 days 14:37:14   0 days 00:00:00   0 days 00:51:05   \n",
       "0024:B100:0006:BD1D   80 days 13:48:10   0 days 00:00:00   0 days 00:51:14   \n",
       "0024:B100:0006:BD20   40 days 11:58:39   0 days 00:00:00   0 days 00:44:50   \n",
       "0024:B100:0006:C0E1   73 days 10:38:00   0 days 00:00:00   0 days 00:51:15   \n",
       "0024:B100:0006:C0E2   17 days 22:52:58   0 days 00:00:00   0 days 00:09:19   \n",
       "0024:B100:0006:C7DC  105 days 11:52:56   0 days 18:17:25   0 days 00:05:18   \n",
       "0024:B100:0006:C802  103 days 19:50:40   0 days 00:07:53   0 days 00:48:12   \n",
       "0024:B100:0006:C80C   75 days 01:46:52   0 days 00:00:00   0 days 00:51:37   \n",
       "0024:B100:0006:C80F   70 days 16:30:06   0 days 00:00:00   0 days 01:28:09   \n",
       "0024:B100:000C:083C  135 days 15:20:51   0 days 00:00:00   0 days 00:00:00   \n",
       "\n",
       "State                       Unknown       Unreachable              Total  \n",
       "MAC Address                                                               \n",
       "000D:6F00:04F8:B0AC 0 days 00:00:00  71 days 23:31:54  241 days 02:52:22  \n",
       "0024:B100:0002:13E5 0 days 00:00:00 116 days 16:57:32 1332 days 18:56:02  \n",
       "0024:B100:0002:15D0 0 days 00:00:00 145 days 00:28:01 1307 days 01:35:02  \n",
       "0024:B100:0002:15D4 0 days 00:00:00 145 days 18:38:42 1250 days 05:18:39  \n",
       "0024:B100:0002:15DF 0 days 00:00:00 137 days 06:17:48 1236 days 06:40:57  \n",
       "0024:B100:0002:16F3 0 days 00:00:00   6 days 23:18:24 1837 days 23:31:37  \n",
       "0024:B100:0002:1C6A 0 days 00:00:00 147 days 22:31:53 1252 days 21:09:40  \n",
       "0024:B100:0002:1E24 0 days 00:00:00 194 days 07:45:42 1161 days 00:18:35  \n",
       "0024:B100:0002:1EED 0 days 00:00:00 197 days 14:55:37 1548 days 11:50:40  \n",
       "0024:B100:0002:1F61 0 days 00:00:00  14 days 19:55:23 1217 days 20:16:46  \n",
       "0024:B100:0002:1F6C 0 days 00:00:00 189 days 23:21:44 1639 days 17:43:26  \n",
       "0024:B100:0002:1F71 0 days 00:00:00   4 days 11:50:08  767 days 03:28:01  \n",
       "0024:B100:0002:2022 0 days 00:00:00   2 days 21:15:15  466 days 10:13:45  \n",
       "0024:B100:0002:2940 0 days 00:00:00  42 days 02:16:20 1765 days 01:12:25  \n",
       "0024:B100:0002:294E 0 days 00:00:00  36 days 03:28:43 1324 days 00:17:16  \n",
       "0024:B100:0002:2954 0 days 00:00:00  25 days 12:23:47 1643 days 00:39:28  \n",
       "0024:B100:0002:2955 0 days 00:00:00 175 days 21:29:32 1285 days 20:10:02  \n",
       "0024:B100:0002:295F 0 days 00:00:00 177 days 01:55:56 1379 days 22:37:24  \n",
       "0024:B100:0002:2963 0 days 00:00:00   2 days 09:53:43  583 days 10:15:24  \n",
       "0024:B100:0002:297C 0 days 00:00:00 181 days 18:57:57 1104 days 17:38:33  \n",
       "0024:B100:0002:299E 0 days 00:00:00  39 days 13:36:40  986 days 19:22:33  \n",
       "0024:B100:0002:29C3 0 days 00:00:00   0 days 22:09:36  667 days 08:17:46  \n",
       "0024:B100:0002:29C6 0 days 00:00:00  11 days 08:22:44  757 days 06:45:34  \n",
       "0024:B100:0002:2A6B 0 days 00:00:00  41 days 06:39:24 1200 days 15:24:39  \n",
       "0024:B100:0002:2A6E 0 days 00:00:00  35 days 05:09:03 1237 days 02:34:10  \n",
       "0024:B100:0002:2A70 0 days 00:00:00  51 days 01:30:55  884 days 04:45:17  \n",
       "0024:B100:0002:2A71 0 days 00:00:00 174 days 05:45:32  922 days 15:28:58  \n",
       "0024:B100:0002:2A73 0 days 00:00:00  30 days 05:07:58 1529 days 10:15:52  \n",
       "0024:B100:0002:2A74 0 days 00:00:00  43 days 19:30:21  939 days 04:25:35  \n",
       "0024:B100:0002:2A78 0 days 00:00:00   7 days 06:45:02  985 days 10:20:36  \n",
       "0024:B100:0002:2A7B 0 days 00:00:00 179 days 18:58:10 1200 days 06:32:13  \n",
       "0024:B100:0002:2A7C 0 days 00:00:00  24 days 08:15:27 1724 days 21:46:02  \n",
       "0024:B100:0002:2A80 0 days 00:00:00  39 days 07:14:32 1259 days 01:42:28  \n",
       "0024:B100:0002:2A89 0 days 00:00:00   5 days 20:19:45  881 days 15:45:15  \n",
       "0024:B100:0002:2A8E 0 days 00:00:00 163 days 08:41:55 1362 days 14:37:17  \n",
       "0024:B100:0002:3F5A 0 days 00:00:00  30 days 21:51:15 1724 days 16:44:22  \n",
       "0024:B100:0002:4AEB 0 days 00:10:01  72 days 20:49:27  682 days 13:18:30  \n",
       "0024:B100:0002:5134 0 days 00:00:00 188 days 13:22:34 1291 days 02:46:22  \n",
       "0024:B100:0002:5144 0 days 00:00:00  70 days 22:18:35  742 days 00:23:38  \n",
       "0024:B100:0002:5150 0 days 00:00:00   7 days 00:16:34 1090 days 19:03:14  \n",
       "0024:B100:0002:5154 0 days 00:00:00  30 days 19:08:21 1517 days 06:45:52  \n",
       "0024:B100:0002:5158 0 days 00:00:00  32 days 08:05:40 1814 days 15:48:58  \n",
       "0024:B100:0002:5752 0 days 00:00:00  74 days 03:54:02  615 days 12:48:02  \n",
       "0024:B100:0002:575E 0 days 00:00:00  75 days 15:22:06  677 days 01:15:50  \n",
       "0024:B100:0002:594F 0 days 00:00:00  29 days 06:54:49  529 days 17:20:54  \n",
       "0024:B100:0002:8DD9 0 days 00:00:00 106 days 08:59:14  599 days 22:04:08  \n",
       "0024:B100:0002:8DDC 0 days 00:00:00  21 days 06:23:35  678 days 08:07:28  \n",
       "0024:B100:0002:8E02 0 days 00:00:00   1 days 11:01:56  900 days 18:03:34  \n",
       "0024:B100:0002:8E27 0 days 00:00:00 196 days 09:15:08 1048 days 20:13:22  \n",
       "0024:B100:0002:8E28 0 days 00:00:00  10 days 16:12:55  595 days 08:05:23  \n",
       "0024:B100:0002:8E2C 0 days 00:00:00 199 days 15:44:54 1100 days 14:38:57  \n",
       "0024:B100:0002:8E2F 0 days 00:00:00 198 days 12:54:37  964 days 11:39:41  \n",
       "0024:B100:0002:8E32 0 days 00:00:00 104 days 19:34:40  705 days 21:41:03  \n",
       "0024:B100:0002:8E36 0 days 00:00:00   8 days 20:36:36  641 days 09:42:57  \n",
       "0024:B100:0002:8E37 0 days 00:00:00  16 days 23:21:20  457 days 12:26:09  \n",
       "0024:B100:0002:8E49 0 days 00:00:00   8 days 21:58:24  537 days 13:24:25  \n",
       "0024:B100:0002:8E4A 0 days 00:00:00  19 days 05:47:34  707 days 21:34:42  \n",
       "0024:B100:0002:8F36 0 days 00:00:00   0 days 17:18:05  132 days 00:13:06  \n",
       "0024:B100:0002:8FCA 0 days 00:00:00 199 days 07:48:57 1003 days 22:44:12  \n",
       "0024:B100:0002:8FD1 0 days 00:00:00   0 days 20:48:27  961 days 13:02:37  \n",
       "0024:B100:0002:918F 0 days 00:00:00  10 days 17:27:45  598 days 00:08:45  \n",
       "0024:B100:0002:9193 0 days 00:00:00  19 days 06:23:21  618 days 20:42:16  \n",
       "0024:B100:0002:9194 0 days 00:00:00 104 days 05:37:19  522 days 04:50:00  \n",
       "0024:B100:0002:919B 0 days 00:00:00  13 days 16:25:47  502 days 09:25:29  \n",
       "0024:B100:0002:91B6 0 days 00:00:00   2 days 05:24:25   53 days 11:00:20  \n",
       "0024:B100:0002:91C3 0 days 00:00:00  17 days 04:20:28  724 days 04:05:50  \n",
       "0024:B100:0002:9202 0 days 00:00:00  46 days 02:23:05  646 days 07:26:17  \n",
       "0024:B100:0002:A917 0 days 00:00:00 127 days 07:55:53  972 days 08:06:58  \n",
       "0024:B100:0002:AD71 0 days 00:00:00  14 days 00:25:20  778 days 10:19:28  \n",
       "0024:B100:0002:AE14 0 days 00:00:00  16 days 10:39:16  460 days 20:17:30  \n",
       "0024:B100:0002:B04A 0 days 00:00:00   3 days 15:57:49  350 days 15:30:04  \n",
       "0024:B100:0003:12D9 0 days 00:00:00 208 days 15:52:34  659 days 09:58:25  \n",
       "0024:B100:0003:12EB 0 days 00:00:00  70 days 12:22:18  720 days 12:50:24  \n",
       "0024:B100:0003:12EE 0 days 00:00:00 202 days 16:15:34  546 days 10:09:41  \n",
       "0024:B100:0003:12F1 0 days 00:00:00 202 days 03:38:57  608 days 03:15:39  \n",
       "0024:B100:0003:12F8 0 days 00:00:00 193 days 15:54:14  455 days 03:34:20  \n",
       "0024:B100:0003:130B 0 days 00:00:00  77 days 21:43:18  714 days 16:59:40  \n",
       "0024:B100:0003:130E 0 days 00:00:00  80 days 10:58:14  723 days 03:59:13  \n",
       "0024:B100:0003:130F 0 days 00:00:00 198 days 12:20:31  483 days 17:11:13  \n",
       "0024:B100:0003:1312 0 days 00:00:00  68 days 13:31:27  665 days 05:57:18  \n",
       "0024:B100:0003:1318 0 days 00:00:00  71 days 12:24:48  558 days 16:04:08  \n",
       "0024:B100:0003:1F95 0 days 00:00:00 102 days 02:04:15  826 days 20:11:15  \n",
       "0024:B100:0003:2A8C 0 days 00:00:00  69 days 10:59:03  689 days 09:35:28  \n",
       "0024:B100:0003:2AB1 0 days 00:00:00  39 days 06:40:54  633 days 08:18:24  \n",
       "0024:B100:0003:2AB5 0 days 00:00:00  46 days 04:36:04  621 days 20:43:22  \n",
       "0024:B100:0003:2ADF 0 days 00:00:00  48 days 08:12:23  485 days 17:36:58  \n",
       "0024:B100:0003:2B24 0 days 00:00:00   5 days 13:08:55   61 days 08:03:15  \n",
       "0024:B100:0003:2C1C 0 days 00:00:00 173 days 19:05:32  595 days 13:57:56  \n",
       "0024:B100:0003:33C3 0 days 00:00:00  67 days 07:58:19 1330 days 22:00:01  \n",
       "0024:B100:0003:519A 0 days 00:00:00   7 days 08:12:10   62 days 07:10:34  \n",
       "0024:B100:0003:66F6 0 days 00:00:00  23 days 07:07:36   63 days 01:40:34  \n",
       "0024:B100:0003:6743 0 days 00:00:00  25 days 09:36:54  130 days 00:04:08  \n",
       "0024:B100:0003:824E 0 days 00:00:00  15 days 11:43:47  345 days 12:29:33  \n",
       "0024:B100:0003:9836 0 days 00:00:00  11 days 06:36:06  602 days 09:07:11  \n",
       "0024:B100:0003:BF3B 0 days 00:00:00 170 days 21:42:55  341 days 02:34:38  \n",
       "0024:B100:0003:BF3D 0 days 00:00:00 150 days 13:21:28  307 days 02:07:49  \n",
       "0024:B100:0003:BF84 0 days 00:00:00   0 days 00:00:00   50 days 03:53:49  \n",
       "0024:B100:0003:BF91 0 days 00:00:00 193 days 10:05:21  405 days 06:54:29  \n",
       "0024:B100:0003:C689 0 days 00:00:00 348 days 20:55:27  433 days 14:30:21  \n",
       "0024:B100:0003:C68A 0 days 00:00:00  86 days 10:47:07  388 days 01:58:40  \n",
       "0024:B100:0003:D26F 0 days 00:00:00  22 days 16:31:49  912 days 05:56:55  \n",
       "0024:B100:0003:D5D6 0 days 00:00:00  42 days 03:59:40  953 days 12:13:15  \n",
       "0024:B100:0004:0667 0 days 00:00:00   7 days 19:19:55  999 days 07:32:17  \n",
       "0024:B100:0004:0E93 0 days 00:00:00  88 days 15:22:24  211 days 21:48:46  \n",
       "0024:B100:0004:0EC1 0 days 00:00:00  11 days 23:37:08  506 days 06:18:30  \n",
       "0024:B100:0004:1B12 0 days 00:00:00  81 days 15:48:32  379 days 04:13:25  \n",
       "0024:B100:0004:20C4 0 days 00:00:00  43 days 20:13:17  691 days 19:51:07  \n",
       "0024:B100:0004:2ED8 0 days 00:00:00  11 days 10:23:46  137 days 12:37:54  \n",
       "0024:B100:0004:3B91 0 days 00:00:00   9 days 04:10:13  437 days 22:38:40  \n",
       "0024:B100:0004:5CE8 0 days 00:00:00  20 days 12:56:49  745 days 05:18:56  \n",
       "0024:B100:0004:5D08 0 days 00:00:00  18 days 15:12:58  728 days 20:10:55  \n",
       "0024:B100:0004:A22C 0 days 00:00:00  19 days 05:45:25  463 days 00:24:43  \n",
       "0024:B100:0004:A250 0 days 00:00:00   9 days 23:13:17  365 days 10:32:36  \n",
       "0024:B100:0004:C4B2 0 days 00:00:00  20 days 18:46:48  275 days 22:42:17  \n",
       "0024:B100:0006:4538 0 days 00:00:00   1 days 16:06:50   20 days 00:20:49  \n",
       "0024:B100:0006:BC3D 0 days 00:00:00  42 days 02:15:35  527 days 00:08:27  \n",
       "0024:B100:0006:BD13 0 days 00:00:00   1 days 02:40:00  120 days 18:08:19  \n",
       "0024:B100:0006:BD1D 0 days 00:00:00   2 days 23:13:07   83 days 13:52:31  \n",
       "0024:B100:0006:BD20 0 days 00:00:00   1 days 14:44:51   42 days 03:28:20  \n",
       "0024:B100:0006:C0E1 0 days 00:00:00   1 days 14:16:50   75 days 01:46:05  \n",
       "0024:B100:0006:C0E2 0 days 00:00:00   1 days 09:43:28   19 days 08:45:45  \n",
       "0024:B100:0006:C7DC 0 days 00:00:00   0 days 09:16:47  106 days 15:32:26  \n",
       "0024:B100:0006:C802 0 days 00:00:00   1 days 17:46:52  105 days 14:33:37  \n",
       "0024:B100:0006:C80C 0 days 00:00:00   0 days 23:04:23   76 days 01:42:52  \n",
       "0024:B100:0006:C80F 0 days 00:00:00   2 days 13:25:15   73 days 07:23:30  \n",
       "0024:B100:000C:083C 0 days 00:00:00   0 days 00:00:00  135 days 15:20:51  "
      ]
     },
     "execution_count": 9,
     "metadata": {},
     "output_type": "execute_result"
    }
   ],
   "source": [
    "pd.set_option('display.max_rows', None)\n",
    "state_durations = state_history.pivot_table(index='MAC Address', columns='State', values='Duration', aggfunc='sum', fill_value=pd.Timedelta(seconds=0))\n",
    "state_durations[\"Total\"] = state_durations.sum(axis=1)\n",
    "state_durations"
   ]
  },
  {
   "cell_type": "code",
   "execution_count": 10,
   "metadata": {},
   "outputs": [
    {
     "data": {
      "text/html": [
       "<div>\n",
       "<style scoped>\n",
       "    .dataframe tbody tr th:only-of-type {\n",
       "        vertical-align: middle;\n",
       "    }\n",
       "\n",
       "    .dataframe tbody tr th {\n",
       "        vertical-align: top;\n",
       "    }\n",
       "\n",
       "    .dataframe thead th {\n",
       "        text-align: right;\n",
       "    }\n",
       "</style>\n",
       "<table border=\"1\" class=\"dataframe\">\n",
       "  <thead>\n",
       "    <tr style=\"text-align: right;\">\n",
       "      <th>State</th>\n",
       "      <th>Available</th>\n",
       "      <th>Faulted</th>\n",
       "      <th>Unavailable</th>\n",
       "      <th>Unknown</th>\n",
       "      <th>Unreachable</th>\n",
       "      <th>Total</th>\n",
       "    </tr>\n",
       "    <tr>\n",
       "      <th>MAC Address</th>\n",
       "      <th></th>\n",
       "      <th></th>\n",
       "      <th></th>\n",
       "      <th></th>\n",
       "      <th></th>\n",
       "      <th></th>\n",
       "    </tr>\n",
       "  </thead>\n",
       "  <tbody>\n",
       "    <tr>\n",
       "      <th>000D:6F00:04F8:B0AC</th>\n",
       "      <td>53.893914</td>\n",
       "      <td>16.253492</td>\n",
       "      <td>0.000000</td>\n",
       "      <td>0.000000</td>\n",
       "      <td>29.852595</td>\n",
       "      <td>100.0</td>\n",
       "    </tr>\n",
       "    <tr>\n",
       "      <th>0024:B100:0002:13E5</th>\n",
       "      <td>90.397760</td>\n",
       "      <td>0.824836</td>\n",
       "      <td>0.020832</td>\n",
       "      <td>0.000000</td>\n",
       "      <td>8.756572</td>\n",
       "      <td>100.0</td>\n",
       "    </tr>\n",
       "    <tr>\n",
       "      <th>0024:B100:0002:15D0</th>\n",
       "      <td>87.884357</td>\n",
       "      <td>1.020248</td>\n",
       "      <td>0.000358</td>\n",
       "      <td>0.000000</td>\n",
       "      <td>11.095037</td>\n",
       "      <td>100.0</td>\n",
       "    </tr>\n",
       "    <tr>\n",
       "      <th>0024:B100:0002:15D4</th>\n",
       "      <td>86.838952</td>\n",
       "      <td>1.499199</td>\n",
       "      <td>0.001763</td>\n",
       "      <td>0.000000</td>\n",
       "      <td>11.660086</td>\n",
       "      <td>100.0</td>\n",
       "    </tr>\n",
       "    <tr>\n",
       "      <th>0024:B100:0002:15DF</th>\n",
       "      <td>86.788665</td>\n",
       "      <td>2.106879</td>\n",
       "      <td>0.001589</td>\n",
       "      <td>0.000000</td>\n",
       "      <td>11.102868</td>\n",
       "      <td>100.0</td>\n",
       "    </tr>\n",
       "    <tr>\n",
       "      <th>0024:B100:0002:16F3</th>\n",
       "      <td>98.734435</td>\n",
       "      <td>0.462396</td>\n",
       "      <td>0.423888</td>\n",
       "      <td>0.000000</td>\n",
       "      <td>0.379281</td>\n",
       "      <td>100.0</td>\n",
       "    </tr>\n",
       "    <tr>\n",
       "      <th>0024:B100:0002:1C6A</th>\n",
       "      <td>87.126134</td>\n",
       "      <td>1.064284</td>\n",
       "      <td>0.001699</td>\n",
       "      <td>0.000000</td>\n",
       "      <td>11.807883</td>\n",
       "      <td>100.0</td>\n",
       "    </tr>\n",
       "    <tr>\n",
       "      <th>0024:B100:0002:1E24</th>\n",
       "      <td>79.467127</td>\n",
       "      <td>3.794976</td>\n",
       "      <td>0.000494</td>\n",
       "      <td>0.000000</td>\n",
       "      <td>16.737402</td>\n",
       "      <td>100.0</td>\n",
       "    </tr>\n",
       "    <tr>\n",
       "      <th>0024:B100:0002:1EED</th>\n",
       "      <td>84.049988</td>\n",
       "      <td>3.179795</td>\n",
       "      <td>0.008010</td>\n",
       "      <td>0.000000</td>\n",
       "      <td>12.762208</td>\n",
       "      <td>100.0</td>\n",
       "    </tr>\n",
       "    <tr>\n",
       "      <th>0024:B100:0002:1F61</th>\n",
       "      <td>97.293295</td>\n",
       "      <td>1.488966</td>\n",
       "      <td>0.000004</td>\n",
       "      <td>0.000000</td>\n",
       "      <td>1.217735</td>\n",
       "      <td>100.0</td>\n",
       "    </tr>\n",
       "    <tr>\n",
       "      <th>0024:B100:0002:1F6C</th>\n",
       "      <td>85.131858</td>\n",
       "      <td>3.282549</td>\n",
       "      <td>0.000000</td>\n",
       "      <td>0.000000</td>\n",
       "      <td>11.585593</td>\n",
       "      <td>100.0</td>\n",
       "    </tr>\n",
       "    <tr>\n",
       "      <th>0024:B100:0002:1F71</th>\n",
       "      <td>98.430978</td>\n",
       "      <td>0.983324</td>\n",
       "      <td>0.000000</td>\n",
       "      <td>0.000000</td>\n",
       "      <td>0.585698</td>\n",
       "      <td>100.0</td>\n",
       "    </tr>\n",
       "    <tr>\n",
       "      <th>0024:B100:0002:2022</th>\n",
       "      <td>98.158776</td>\n",
       "      <td>1.220976</td>\n",
       "      <td>0.001588</td>\n",
       "      <td>0.000000</td>\n",
       "      <td>0.618660</td>\n",
       "      <td>100.0</td>\n",
       "    </tr>\n",
       "    <tr>\n",
       "      <th>0024:B100:0002:2940</th>\n",
       "      <td>65.977857</td>\n",
       "      <td>27.019604</td>\n",
       "      <td>4.617640</td>\n",
       "      <td>0.000000</td>\n",
       "      <td>2.384900</td>\n",
       "      <td>100.0</td>\n",
       "    </tr>\n",
       "    <tr>\n",
       "      <th>0024:B100:0002:294E</th>\n",
       "      <td>96.199321</td>\n",
       "      <td>0.236914</td>\n",
       "      <td>0.833809</td>\n",
       "      <td>0.000000</td>\n",
       "      <td>2.729956</td>\n",
       "      <td>100.0</td>\n",
       "    </tr>\n",
       "    <tr>\n",
       "      <th>0024:B100:0002:2954</th>\n",
       "      <td>87.546543</td>\n",
       "      <td>10.900364</td>\n",
       "      <td>0.000074</td>\n",
       "      <td>0.000000</td>\n",
       "      <td>1.553018</td>\n",
       "      <td>100.0</td>\n",
       "    </tr>\n",
       "    <tr>\n",
       "      <th>0024:B100:0002:2955</th>\n",
       "      <td>83.959233</td>\n",
       "      <td>2.361319</td>\n",
       "      <td>0.000027</td>\n",
       "      <td>0.000000</td>\n",
       "      <td>13.679421</td>\n",
       "      <td>100.0</td>\n",
       "    </tr>\n",
       "    <tr>\n",
       "      <th>0024:B100:0002:295F</th>\n",
       "      <td>85.091354</td>\n",
       "      <td>2.074697</td>\n",
       "      <td>0.001495</td>\n",
       "      <td>0.000000</td>\n",
       "      <td>12.832454</td>\n",
       "      <td>100.0</td>\n",
       "    </tr>\n",
       "    <tr>\n",
       "      <th>0024:B100:0002:2963</th>\n",
       "      <td>97.202038</td>\n",
       "      <td>0.000000</td>\n",
       "      <td>2.384491</td>\n",
       "      <td>0.000000</td>\n",
       "      <td>0.413471</td>\n",
       "      <td>100.0</td>\n",
       "    </tr>\n",
       "    <tr>\n",
       "      <th>0024:B100:0002:297C</th>\n",
       "      <td>81.000237</td>\n",
       "      <td>2.544104</td>\n",
       "      <td>0.000108</td>\n",
       "      <td>0.000000</td>\n",
       "      <td>16.455551</td>\n",
       "      <td>100.0</td>\n",
       "    </tr>\n",
       "    <tr>\n",
       "      <th>0024:B100:0002:299E</th>\n",
       "      <td>72.469846</td>\n",
       "      <td>23.518258</td>\n",
       "      <td>0.002285</td>\n",
       "      <td>0.000000</td>\n",
       "      <td>4.009610</td>\n",
       "      <td>100.0</td>\n",
       "    </tr>\n",
       "    <tr>\n",
       "      <th>0024:B100:0002:29C3</th>\n",
       "      <td>99.861637</td>\n",
       "      <td>0.000003</td>\n",
       "      <td>0.000000</td>\n",
       "      <td>0.000000</td>\n",
       "      <td>0.138359</td>\n",
       "      <td>100.0</td>\n",
       "    </tr>\n",
       "    <tr>\n",
       "      <th>0024:B100:0002:29C6</th>\n",
       "      <td>97.944601</td>\n",
       "      <td>0.556732</td>\n",
       "      <td>0.000002</td>\n",
       "      <td>0.000000</td>\n",
       "      <td>1.498666</td>\n",
       "      <td>100.0</td>\n",
       "    </tr>\n",
       "    <tr>\n",
       "      <th>0024:B100:0002:2A6B</th>\n",
       "      <td>93.501031</td>\n",
       "      <td>2.303311</td>\n",
       "      <td>0.757718</td>\n",
       "      <td>0.000000</td>\n",
       "      <td>3.437940</td>\n",
       "      <td>100.0</td>\n",
       "    </tr>\n",
       "    <tr>\n",
       "      <th>0024:B100:0002:2A6E</th>\n",
       "      <td>96.899949</td>\n",
       "      <td>0.253521</td>\n",
       "      <td>0.000000</td>\n",
       "      <td>0.000000</td>\n",
       "      <td>2.846530</td>\n",
       "      <td>100.0</td>\n",
       "    </tr>\n",
       "    <tr>\n",
       "      <th>0024:B100:0002:2A70</th>\n",
       "      <td>81.637305</td>\n",
       "      <td>7.602753</td>\n",
       "      <td>4.984863</td>\n",
       "      <td>0.000000</td>\n",
       "      <td>5.775079</td>\n",
       "      <td>100.0</td>\n",
       "    </tr>\n",
       "    <tr>\n",
       "      <th>0024:B100:0002:2A71</th>\n",
       "      <td>72.055327</td>\n",
       "      <td>9.057304</td>\n",
       "      <td>0.002540</td>\n",
       "      <td>0.000000</td>\n",
       "      <td>18.884829</td>\n",
       "      <td>100.0</td>\n",
       "    </tr>\n",
       "    <tr>\n",
       "      <th>0024:B100:0002:2A73</th>\n",
       "      <td>82.431434</td>\n",
       "      <td>12.826737</td>\n",
       "      <td>2.766328</td>\n",
       "      <td>0.000000</td>\n",
       "      <td>1.975501</td>\n",
       "      <td>100.0</td>\n",
       "    </tr>\n",
       "    <tr>\n",
       "      <th>0024:B100:0002:2A74</th>\n",
       "      <td>93.254726</td>\n",
       "      <td>2.080297</td>\n",
       "      <td>0.000000</td>\n",
       "      <td>0.000000</td>\n",
       "      <td>4.664978</td>\n",
       "      <td>100.0</td>\n",
       "    </tr>\n",
       "    <tr>\n",
       "      <th>0024:B100:0002:2A78</th>\n",
       "      <td>97.876842</td>\n",
       "      <td>0.891541</td>\n",
       "      <td>0.492725</td>\n",
       "      <td>0.000000</td>\n",
       "      <td>0.738892</td>\n",
       "      <td>100.0</td>\n",
       "    </tr>\n",
       "    <tr>\n",
       "      <th>0024:B100:0002:2A7B</th>\n",
       "      <td>81.219795</td>\n",
       "      <td>3.799267</td>\n",
       "      <td>0.001805</td>\n",
       "      <td>0.000000</td>\n",
       "      <td>14.979133</td>\n",
       "      <td>100.0</td>\n",
       "    </tr>\n",
       "    <tr>\n",
       "      <th>0024:B100:0002:2A7C</th>\n",
       "      <td>88.205016</td>\n",
       "      <td>10.382247</td>\n",
       "      <td>0.001410</td>\n",
       "      <td>0.000000</td>\n",
       "      <td>1.411326</td>\n",
       "      <td>100.0</td>\n",
       "    </tr>\n",
       "    <tr>\n",
       "      <th>0024:B100:0002:2A80</th>\n",
       "      <td>93.602579</td>\n",
       "      <td>0.804147</td>\n",
       "      <td>2.471786</td>\n",
       "      <td>0.000000</td>\n",
       "      <td>3.121488</td>\n",
       "      <td>100.0</td>\n",
       "    </tr>\n",
       "    <tr>\n",
       "      <th>0024:B100:0002:2A89</th>\n",
       "      <td>93.744223</td>\n",
       "      <td>5.590020</td>\n",
       "      <td>0.002568</td>\n",
       "      <td>0.000000</td>\n",
       "      <td>0.663189</td>\n",
       "      <td>100.0</td>\n",
       "    </tr>\n",
       "    <tr>\n",
       "      <th>0024:B100:0002:2A8E</th>\n",
       "      <td>81.964303</td>\n",
       "      <td>3.461475</td>\n",
       "      <td>2.585279</td>\n",
       "      <td>0.000000</td>\n",
       "      <td>11.988943</td>\n",
       "      <td>100.0</td>\n",
       "    </tr>\n",
       "    <tr>\n",
       "      <th>0024:B100:0002:3F5A</th>\n",
       "      <td>87.828996</td>\n",
       "      <td>10.377453</td>\n",
       "      <td>0.001318</td>\n",
       "      <td>0.000000</td>\n",
       "      <td>1.792233</td>\n",
       "      <td>100.0</td>\n",
       "    </tr>\n",
       "    <tr>\n",
       "      <th>0024:B100:0002:4AEB</th>\n",
       "      <td>58.084158</td>\n",
       "      <td>31.218637</td>\n",
       "      <td>0.020457</td>\n",
       "      <td>0.001019</td>\n",
       "      <td>10.675730</td>\n",
       "      <td>100.0</td>\n",
       "    </tr>\n",
       "    <tr>\n",
       "      <th>0024:B100:0002:5134</th>\n",
       "      <td>80.705955</td>\n",
       "      <td>4.687448</td>\n",
       "      <td>0.002378</td>\n",
       "      <td>0.000000</td>\n",
       "      <td>14.604219</td>\n",
       "      <td>100.0</td>\n",
       "    </tr>\n",
       "    <tr>\n",
       "      <th>0024:B100:0002:5144</th>\n",
       "      <td>60.518507</td>\n",
       "      <td>27.053755</td>\n",
       "      <td>2.868708</td>\n",
       "      <td>0.000000</td>\n",
       "      <td>9.559030</td>\n",
       "      <td>100.0</td>\n",
       "    </tr>\n",
       "    <tr>\n",
       "      <th>0024:B100:0002:5150</th>\n",
       "      <td>97.362864</td>\n",
       "      <td>1.993606</td>\n",
       "      <td>0.000741</td>\n",
       "      <td>0.000000</td>\n",
       "      <td>0.642789</td>\n",
       "      <td>100.0</td>\n",
       "    </tr>\n",
       "    <tr>\n",
       "      <th>0024:B100:0002:5154</th>\n",
       "      <td>96.224432</td>\n",
       "      <td>1.378966</td>\n",
       "      <td>0.366823</td>\n",
       "      <td>0.000000</td>\n",
       "      <td>2.029779</td>\n",
       "      <td>100.0</td>\n",
       "    </tr>\n",
       "    <tr>\n",
       "      <th>0024:B100:0002:5158</th>\n",
       "      <td>85.887056</td>\n",
       "      <td>12.308319</td>\n",
       "      <td>0.022622</td>\n",
       "      <td>0.000000</td>\n",
       "      <td>1.782002</td>\n",
       "      <td>100.0</td>\n",
       "    </tr>\n",
       "    <tr>\n",
       "      <th>0024:B100:0002:5752</th>\n",
       "      <td>53.320022</td>\n",
       "      <td>34.608164</td>\n",
       "      <td>0.023316</td>\n",
       "      <td>0.000000</td>\n",
       "      <td>12.048498</td>\n",
       "      <td>100.0</td>\n",
       "    </tr>\n",
       "    <tr>\n",
       "      <th>0024:B100:0002:575E</th>\n",
       "      <td>57.178142</td>\n",
       "      <td>31.628652</td>\n",
       "      <td>0.021203</td>\n",
       "      <td>0.000000</td>\n",
       "      <td>11.172004</td>\n",
       "      <td>100.0</td>\n",
       "    </tr>\n",
       "    <tr>\n",
       "      <th>0024:B100:0002:594F</th>\n",
       "      <td>94.471058</td>\n",
       "      <td>0.000000</td>\n",
       "      <td>0.000000</td>\n",
       "      <td>0.000000</td>\n",
       "      <td>5.528942</td>\n",
       "      <td>100.0</td>\n",
       "    </tr>\n",
       "    <tr>\n",
       "      <th>0024:B100:0002:8DD9</th>\n",
       "      <td>73.713197</td>\n",
       "      <td>8.555347</td>\n",
       "      <td>0.000000</td>\n",
       "      <td>0.000000</td>\n",
       "      <td>17.731456</td>\n",
       "      <td>100.0</td>\n",
       "    </tr>\n",
       "    <tr>\n",
       "      <th>0024:B100:0002:8DDC</th>\n",
       "      <td>58.201669</td>\n",
       "      <td>38.663262</td>\n",
       "      <td>0.000000</td>\n",
       "      <td>0.000000</td>\n",
       "      <td>3.135069</td>\n",
       "      <td>100.0</td>\n",
       "    </tr>\n",
       "    <tr>\n",
       "      <th>0024:B100:0002:8E02</th>\n",
       "      <td>97.161689</td>\n",
       "      <td>2.646031</td>\n",
       "      <td>0.030229</td>\n",
       "      <td>0.000000</td>\n",
       "      <td>0.162051</td>\n",
       "      <td>100.0</td>\n",
       "    </tr>\n",
       "    <tr>\n",
       "      <th>0024:B100:0002:8E27</th>\n",
       "      <td>51.897585</td>\n",
       "      <td>29.378394</td>\n",
       "      <td>0.000000</td>\n",
       "      <td>0.000000</td>\n",
       "      <td>18.724021</td>\n",
       "      <td>100.0</td>\n",
       "    </tr>\n",
       "    <tr>\n",
       "      <th>0024:B100:0002:8E28</th>\n",
       "      <td>97.479146</td>\n",
       "      <td>0.725319</td>\n",
       "      <td>0.002327</td>\n",
       "      <td>0.000000</td>\n",
       "      <td>1.793209</td>\n",
       "      <td>100.0</td>\n",
       "    </tr>\n",
       "    <tr>\n",
       "      <th>0024:B100:0002:8E2C</th>\n",
       "      <td>54.016125</td>\n",
       "      <td>27.843264</td>\n",
       "      <td>0.000115</td>\n",
       "      <td>0.000000</td>\n",
       "      <td>18.140496</td>\n",
       "      <td>100.0</td>\n",
       "    </tr>\n",
       "    <tr>\n",
       "      <th>0024:B100:0002:8E2F</th>\n",
       "      <td>47.521394</td>\n",
       "      <td>31.893761</td>\n",
       "      <td>0.000000</td>\n",
       "      <td>0.000000</td>\n",
       "      <td>20.584845</td>\n",
       "      <td>100.0</td>\n",
       "    </tr>\n",
       "    <tr>\n",
       "      <th>0024:B100:0002:8E32</th>\n",
       "      <td>77.889646</td>\n",
       "      <td>7.261903</td>\n",
       "      <td>0.000000</td>\n",
       "      <td>0.000000</td>\n",
       "      <td>14.848452</td>\n",
       "      <td>100.0</td>\n",
       "    </tr>\n",
       "    <tr>\n",
       "      <th>0024:B100:0002:8E36</th>\n",
       "      <td>97.977551</td>\n",
       "      <td>0.641301</td>\n",
       "      <td>0.000000</td>\n",
       "      <td>0.000000</td>\n",
       "      <td>1.381148</td>\n",
       "      <td>100.0</td>\n",
       "    </tr>\n",
       "    <tr>\n",
       "      <th>0024:B100:0002:8E37</th>\n",
       "      <td>95.391053</td>\n",
       "      <td>0.899117</td>\n",
       "      <td>0.000000</td>\n",
       "      <td>0.000000</td>\n",
       "      <td>3.709830</td>\n",
       "      <td>100.0</td>\n",
       "    </tr>\n",
       "    <tr>\n",
       "      <th>0024:B100:0002:8E49</th>\n",
       "      <td>97.576283</td>\n",
       "      <td>0.765190</td>\n",
       "      <td>0.000000</td>\n",
       "      <td>0.000000</td>\n",
       "      <td>1.658527</td>\n",
       "      <td>100.0</td>\n",
       "    </tr>\n",
       "    <tr>\n",
       "      <th>0024:B100:0002:8E4A</th>\n",
       "      <td>59.950442</td>\n",
       "      <td>1.310691</td>\n",
       "      <td>36.020773</td>\n",
       "      <td>0.000000</td>\n",
       "      <td>2.718094</td>\n",
       "      <td>100.0</td>\n",
       "    </tr>\n",
       "    <tr>\n",
       "      <th>0024:B100:0002:8F36</th>\n",
       "      <td>97.275169</td>\n",
       "      <td>2.178739</td>\n",
       "      <td>0.000000</td>\n",
       "      <td>0.000000</td>\n",
       "      <td>0.546092</td>\n",
       "      <td>100.0</td>\n",
       "    </tr>\n",
       "    <tr>\n",
       "      <th>0024:B100:0002:8FCA</th>\n",
       "      <td>49.330163</td>\n",
       "      <td>30.811476</td>\n",
       "      <td>0.004168</td>\n",
       "      <td>0.000000</td>\n",
       "      <td>19.854194</td>\n",
       "      <td>100.0</td>\n",
       "    </tr>\n",
       "    <tr>\n",
       "      <th>0024:B100:0002:8FD1</th>\n",
       "      <td>85.769546</td>\n",
       "      <td>14.111464</td>\n",
       "      <td>0.028825</td>\n",
       "      <td>0.000000</td>\n",
       "      <td>0.090165</td>\n",
       "      <td>100.0</td>\n",
       "    </tr>\n",
       "    <tr>\n",
       "      <th>0024:B100:0002:918F</th>\n",
       "      <td>97.475333</td>\n",
       "      <td>0.728482</td>\n",
       "      <td>0.002290</td>\n",
       "      <td>0.000000</td>\n",
       "      <td>1.793896</td>\n",
       "      <td>100.0</td>\n",
       "    </tr>\n",
       "    <tr>\n",
       "      <th>0024:B100:0002:9193</th>\n",
       "      <td>54.184677</td>\n",
       "      <td>1.499048</td>\n",
       "      <td>41.203110</td>\n",
       "      <td>0.000000</td>\n",
       "      <td>3.113165</td>\n",
       "      <td>100.0</td>\n",
       "    </tr>\n",
       "    <tr>\n",
       "      <th>0024:B100:0002:9194</th>\n",
       "      <td>70.223777</td>\n",
       "      <td>9.815677</td>\n",
       "      <td>0.000000</td>\n",
       "      <td>0.000000</td>\n",
       "      <td>19.960546</td>\n",
       "      <td>100.0</td>\n",
       "    </tr>\n",
       "    <tr>\n",
       "      <th>0024:B100:0002:919B</th>\n",
       "      <td>97.276120</td>\n",
       "      <td>0.000000</td>\n",
       "      <td>0.000000</td>\n",
       "      <td>0.000000</td>\n",
       "      <td>2.723880</td>\n",
       "      <td>100.0</td>\n",
       "    </tr>\n",
       "    <tr>\n",
       "      <th>0024:B100:0002:91B6</th>\n",
       "      <td>85.271281</td>\n",
       "      <td>10.566075</td>\n",
       "      <td>0.000000</td>\n",
       "      <td>0.000000</td>\n",
       "      <td>4.162643</td>\n",
       "      <td>100.0</td>\n",
       "    </tr>\n",
       "    <tr>\n",
       "      <th>0024:B100:0002:91C3</th>\n",
       "      <td>97.027424</td>\n",
       "      <td>0.600086</td>\n",
       "      <td>0.000000</td>\n",
       "      <td>0.000000</td>\n",
       "      <td>2.372490</td>\n",
       "      <td>100.0</td>\n",
       "    </tr>\n",
       "    <tr>\n",
       "      <th>0024:B100:0002:9202</th>\n",
       "      <td>92.867226</td>\n",
       "      <td>0.000072</td>\n",
       "      <td>0.000000</td>\n",
       "      <td>0.000000</td>\n",
       "      <td>7.132702</td>\n",
       "      <td>100.0</td>\n",
       "    </tr>\n",
       "    <tr>\n",
       "      <th>0024:B100:0002:A917</th>\n",
       "      <td>67.144361</td>\n",
       "      <td>19.733108</td>\n",
       "      <td>0.027243</td>\n",
       "      <td>0.000000</td>\n",
       "      <td>13.095287</td>\n",
       "      <td>100.0</td>\n",
       "    </tr>\n",
       "    <tr>\n",
       "      <th>0024:B100:0002:AD71</th>\n",
       "      <td>98.198933</td>\n",
       "      <td>0.000000</td>\n",
       "      <td>0.000315</td>\n",
       "      <td>0.000000</td>\n",
       "      <td>1.800751</td>\n",
       "      <td>100.0</td>\n",
       "    </tr>\n",
       "    <tr>\n",
       "      <th>0024:B100:0002:AE14</th>\n",
       "      <td>96.431790</td>\n",
       "      <td>0.000000</td>\n",
       "      <td>0.000000</td>\n",
       "      <td>0.000000</td>\n",
       "      <td>3.568210</td>\n",
       "      <td>100.0</td>\n",
       "    </tr>\n",
       "    <tr>\n",
       "      <th>0024:B100:0002:B04A</th>\n",
       "      <td>98.875597</td>\n",
       "      <td>0.000000</td>\n",
       "      <td>0.079146</td>\n",
       "      <td>0.000000</td>\n",
       "      <td>1.045257</td>\n",
       "      <td>100.0</td>\n",
       "    </tr>\n",
       "    <tr>\n",
       "      <th>0024:B100:0003:12D9</th>\n",
       "      <td>66.623521</td>\n",
       "      <td>1.732425</td>\n",
       "      <td>0.000655</td>\n",
       "      <td>0.000000</td>\n",
       "      <td>31.643400</td>\n",
       "      <td>100.0</td>\n",
       "    </tr>\n",
       "    <tr>\n",
       "      <th>0024:B100:0003:12EB</th>\n",
       "      <td>64.330652</td>\n",
       "      <td>25.882642</td>\n",
       "      <td>0.000161</td>\n",
       "      <td>0.000000</td>\n",
       "      <td>9.786546</td>\n",
       "      <td>100.0</td>\n",
       "    </tr>\n",
       "    <tr>\n",
       "      <th>0024:B100:0003:12EE</th>\n",
       "      <td>60.293352</td>\n",
       "      <td>2.614993</td>\n",
       "      <td>0.000000</td>\n",
       "      <td>0.000000</td>\n",
       "      <td>37.091655</td>\n",
       "      <td>100.0</td>\n",
       "    </tr>\n",
       "    <tr>\n",
       "      <th>0024:B100:0003:12F1</th>\n",
       "      <td>64.745118</td>\n",
       "      <td>2.013618</td>\n",
       "      <td>0.000000</td>\n",
       "      <td>0.000000</td>\n",
       "      <td>33.241264</td>\n",
       "      <td>100.0</td>\n",
       "    </tr>\n",
       "    <tr>\n",
       "      <th>0024:B100:0003:12F8</th>\n",
       "      <td>53.468864</td>\n",
       "      <td>3.980505</td>\n",
       "      <td>0.001327</td>\n",
       "      <td>0.000000</td>\n",
       "      <td>42.549303</td>\n",
       "      <td>100.0</td>\n",
       "    </tr>\n",
       "    <tr>\n",
       "      <th>0024:B100:0003:130B</th>\n",
       "      <td>64.785957</td>\n",
       "      <td>24.313141</td>\n",
       "      <td>0.000638</td>\n",
       "      <td>0.000000</td>\n",
       "      <td>10.900264</td>\n",
       "      <td>100.0</td>\n",
       "    </tr>\n",
       "    <tr>\n",
       "      <th>0024:B100:0003:130E</th>\n",
       "      <td>64.787308</td>\n",
       "      <td>24.086562</td>\n",
       "      <td>0.000456</td>\n",
       "      <td>0.000000</td>\n",
       "      <td>11.125674</td>\n",
       "      <td>100.0</td>\n",
       "    </tr>\n",
       "    <tr>\n",
       "      <th>0024:B100:0003:130F</th>\n",
       "      <td>56.865526</td>\n",
       "      <td>2.095062</td>\n",
       "      <td>0.000000</td>\n",
       "      <td>0.000000</td>\n",
       "      <td>41.039411</td>\n",
       "      <td>100.0</td>\n",
       "    </tr>\n",
       "    <tr>\n",
       "      <th>0024:B100:0003:1312</th>\n",
       "      <td>61.761603</td>\n",
       "      <td>27.930767</td>\n",
       "      <td>0.001174</td>\n",
       "      <td>0.000000</td>\n",
       "      <td>10.306456</td>\n",
       "      <td>100.0</td>\n",
       "    </tr>\n",
       "    <tr>\n",
       "      <th>0024:B100:0003:1318</th>\n",
       "      <td>54.070861</td>\n",
       "      <td>33.127600</td>\n",
       "      <td>0.000193</td>\n",
       "      <td>0.000000</td>\n",
       "      <td>12.801346</td>\n",
       "      <td>100.0</td>\n",
       "    </tr>\n",
       "    <tr>\n",
       "      <th>0024:B100:0003:1F95</th>\n",
       "      <td>81.446336</td>\n",
       "      <td>6.207123</td>\n",
       "      <td>0.000000</td>\n",
       "      <td>0.000000</td>\n",
       "      <td>12.346541</td>\n",
       "      <td>100.0</td>\n",
       "    </tr>\n",
       "    <tr>\n",
       "      <th>0024:B100:0003:2A8C</th>\n",
       "      <td>60.533845</td>\n",
       "      <td>29.391059</td>\n",
       "      <td>0.000000</td>\n",
       "      <td>0.000000</td>\n",
       "      <td>10.075096</td>\n",
       "      <td>100.0</td>\n",
       "    </tr>\n",
       "    <tr>\n",
       "      <th>0024:B100:0003:2AB1</th>\n",
       "      <td>41.559860</td>\n",
       "      <td>31.751181</td>\n",
       "      <td>20.487231</td>\n",
       "      <td>0.000000</td>\n",
       "      <td>6.201728</td>\n",
       "      <td>100.0</td>\n",
       "    </tr>\n",
       "    <tr>\n",
       "      <th>0024:B100:0003:2AB5</th>\n",
       "      <td>66.176958</td>\n",
       "      <td>26.389217</td>\n",
       "      <td>0.005874</td>\n",
       "      <td>0.000000</td>\n",
       "      <td>7.427951</td>\n",
       "      <td>100.0</td>\n",
       "    </tr>\n",
       "    <tr>\n",
       "      <th>0024:B100:0003:2ADF</th>\n",
       "      <td>45.256604</td>\n",
       "      <td>26.704280</td>\n",
       "      <td>18.086769</td>\n",
       "      <td>0.000000</td>\n",
       "      <td>9.952347</td>\n",
       "      <td>100.0</td>\n",
       "    </tr>\n",
       "    <tr>\n",
       "      <th>0024:B100:0003:2B24</th>\n",
       "      <td>3.835645</td>\n",
       "      <td>87.119266</td>\n",
       "      <td>0.000000</td>\n",
       "      <td>0.000000</td>\n",
       "      <td>9.045089</td>\n",
       "      <td>100.0</td>\n",
       "    </tr>\n",
       "    <tr>\n",
       "      <th>0024:B100:0003:2C1C</th>\n",
       "      <td>68.787648</td>\n",
       "      <td>2.030983</td>\n",
       "      <td>0.000577</td>\n",
       "      <td>0.000000</td>\n",
       "      <td>29.180791</td>\n",
       "      <td>100.0</td>\n",
       "    </tr>\n",
       "    <tr>\n",
       "      <th>0024:B100:0003:33C3</th>\n",
       "      <td>71.113996</td>\n",
       "      <td>21.401860</td>\n",
       "      <td>2.425062</td>\n",
       "      <td>0.000000</td>\n",
       "      <td>5.059082</td>\n",
       "      <td>100.0</td>\n",
       "    </tr>\n",
       "    <tr>\n",
       "      <th>0024:B100:0003:519A</th>\n",
       "      <td>2.465484</td>\n",
       "      <td>85.749765</td>\n",
       "      <td>0.000000</td>\n",
       "      <td>0.000000</td>\n",
       "      <td>11.784751</td>\n",
       "      <td>100.0</td>\n",
       "    </tr>\n",
       "    <tr>\n",
       "      <th>0024:B100:0003:66F6</th>\n",
       "      <td>54.389975</td>\n",
       "      <td>8.671696</td>\n",
       "      <td>0.000000</td>\n",
       "      <td>0.000000</td>\n",
       "      <td>36.938329</td>\n",
       "      <td>100.0</td>\n",
       "    </tr>\n",
       "    <tr>\n",
       "      <th>0024:B100:0003:6743</th>\n",
       "      <td>7.965796</td>\n",
       "      <td>72.495693</td>\n",
       "      <td>0.000000</td>\n",
       "      <td>0.000000</td>\n",
       "      <td>19.538511</td>\n",
       "      <td>100.0</td>\n",
       "    </tr>\n",
       "    <tr>\n",
       "      <th>0024:B100:0003:824E</th>\n",
       "      <td>95.514721</td>\n",
       "      <td>0.000134</td>\n",
       "      <td>0.002419</td>\n",
       "      <td>0.000000</td>\n",
       "      <td>4.482726</td>\n",
       "      <td>100.0</td>\n",
       "    </tr>\n",
       "    <tr>\n",
       "      <th>0024:B100:0003:9836</th>\n",
       "      <td>53.929829</td>\n",
       "      <td>1.884708</td>\n",
       "      <td>42.313709</td>\n",
       "      <td>0.000000</td>\n",
       "      <td>1.871754</td>\n",
       "      <td>100.0</td>\n",
       "    </tr>\n",
       "    <tr>\n",
       "      <th>0024:B100:0003:BF3B</th>\n",
       "      <td>39.962923</td>\n",
       "      <td>9.934144</td>\n",
       "      <td>0.000000</td>\n",
       "      <td>0.000000</td>\n",
       "      <td>50.102933</td>\n",
       "      <td>100.0</td>\n",
       "    </tr>\n",
       "    <tr>\n",
       "      <th>0024:B100:0003:BF3D</th>\n",
       "      <td>40.162896</td>\n",
       "      <td>10.776517</td>\n",
       "      <td>0.033532</td>\n",
       "      <td>0.000000</td>\n",
       "      <td>49.027054</td>\n",
       "      <td>100.0</td>\n",
       "    </tr>\n",
       "    <tr>\n",
       "      <th>0024:B100:0003:BF84</th>\n",
       "      <td>100.000000</td>\n",
       "      <td>0.000000</td>\n",
       "      <td>0.000000</td>\n",
       "      <td>0.000000</td>\n",
       "      <td>0.000000</td>\n",
       "      <td>100.0</td>\n",
       "    </tr>\n",
       "    <tr>\n",
       "      <th>0024:B100:0003:BF91</th>\n",
       "      <td>41.710848</td>\n",
       "      <td>10.564951</td>\n",
       "      <td>0.000000</td>\n",
       "      <td>0.000000</td>\n",
       "      <td>47.724201</td>\n",
       "      <td>100.0</td>\n",
       "    </tr>\n",
       "    <tr>\n",
       "      <th>0024:B100:0003:C689</th>\n",
       "      <td>13.837404</td>\n",
       "      <td>5.702728</td>\n",
       "      <td>0.001313</td>\n",
       "      <td>0.000000</td>\n",
       "      <td>80.458554</td>\n",
       "      <td>100.0</td>\n",
       "    </tr>\n",
       "    <tr>\n",
       "      <th>0024:B100:0003:C68A</th>\n",
       "      <td>31.535324</td>\n",
       "      <td>46.180260</td>\n",
       "      <td>0.008377</td>\n",
       "      <td>0.000000</td>\n",
       "      <td>22.276039</td>\n",
       "      <td>100.0</td>\n",
       "    </tr>\n",
       "    <tr>\n",
       "      <th>0024:B100:0003:D26F</th>\n",
       "      <td>96.746695</td>\n",
       "      <td>0.721148</td>\n",
       "      <td>0.045030</td>\n",
       "      <td>0.000000</td>\n",
       "      <td>2.487127</td>\n",
       "      <td>100.0</td>\n",
       "    </tr>\n",
       "    <tr>\n",
       "      <th>0024:B100:0003:D5D6</th>\n",
       "      <td>94.709550</td>\n",
       "      <td>0.825150</td>\n",
       "      <td>0.043063</td>\n",
       "      <td>0.000000</td>\n",
       "      <td>4.422237</td>\n",
       "      <td>100.0</td>\n",
       "    </tr>\n",
       "    <tr>\n",
       "      <th>0024:B100:0004:0667</th>\n",
       "      <td>98.036182</td>\n",
       "      <td>0.421295</td>\n",
       "      <td>0.761438</td>\n",
       "      <td>0.000000</td>\n",
       "      <td>0.781086</td>\n",
       "      <td>100.0</td>\n",
       "    </tr>\n",
       "    <tr>\n",
       "      <th>0024:B100:0004:0E93</th>\n",
       "      <td>50.215026</td>\n",
       "      <td>7.954186</td>\n",
       "      <td>0.001223</td>\n",
       "      <td>0.000000</td>\n",
       "      <td>41.829564</td>\n",
       "      <td>100.0</td>\n",
       "    </tr>\n",
       "    <tr>\n",
       "      <th>0024:B100:0004:0EC1</th>\n",
       "      <td>97.545755</td>\n",
       "      <td>0.000000</td>\n",
       "      <td>0.087071</td>\n",
       "      <td>0.000000</td>\n",
       "      <td>2.367174</td>\n",
       "      <td>100.0</td>\n",
       "    </tr>\n",
       "    <tr>\n",
       "      <th>0024:B100:0004:1B12</th>\n",
       "      <td>78.256557</td>\n",
       "      <td>0.195227</td>\n",
       "      <td>0.012384</td>\n",
       "      <td>0.000000</td>\n",
       "      <td>21.535832</td>\n",
       "      <td>100.0</td>\n",
       "    </tr>\n",
       "    <tr>\n",
       "      <th>0024:B100:0004:20C4</th>\n",
       "      <td>86.427718</td>\n",
       "      <td>1.350010</td>\n",
       "      <td>5.885060</td>\n",
       "      <td>0.000000</td>\n",
       "      <td>6.337213</td>\n",
       "      <td>100.0</td>\n",
       "    </tr>\n",
       "    <tr>\n",
       "      <th>0024:B100:0004:2ED8</th>\n",
       "      <td>91.143589</td>\n",
       "      <td>0.542968</td>\n",
       "      <td>0.000000</td>\n",
       "      <td>0.000000</td>\n",
       "      <td>8.313442</td>\n",
       "      <td>100.0</td>\n",
       "    </tr>\n",
       "    <tr>\n",
       "      <th>0024:B100:0004:3B91</th>\n",
       "      <td>93.393961</td>\n",
       "      <td>2.454792</td>\n",
       "      <td>2.056510</td>\n",
       "      <td>0.000000</td>\n",
       "      <td>2.094736</td>\n",
       "      <td>100.0</td>\n",
       "    </tr>\n",
       "    <tr>\n",
       "      <th>0024:B100:0004:5CE8</th>\n",
       "      <td>97.185859</td>\n",
       "      <td>0.002673</td>\n",
       "      <td>0.055314</td>\n",
       "      <td>0.000000</td>\n",
       "      <td>2.756155</td>\n",
       "      <td>100.0</td>\n",
       "    </tr>\n",
       "    <tr>\n",
       "      <th>0024:B100:0004:5D08</th>\n",
       "      <td>97.325365</td>\n",
       "      <td>0.059722</td>\n",
       "      <td>0.058250</td>\n",
       "      <td>0.000000</td>\n",
       "      <td>2.556663</td>\n",
       "      <td>100.0</td>\n",
       "    </tr>\n",
       "    <tr>\n",
       "      <th>0024:B100:0004:A22C</th>\n",
       "      <td>95.670959</td>\n",
       "      <td>0.161254</td>\n",
       "      <td>0.012461</td>\n",
       "      <td>0.000000</td>\n",
       "      <td>4.155326</td>\n",
       "      <td>100.0</td>\n",
       "    </tr>\n",
       "    <tr>\n",
       "      <th>0024:B100:0004:A250</th>\n",
       "      <td>84.259780</td>\n",
       "      <td>4.396516</td>\n",
       "      <td>8.616149</td>\n",
       "      <td>0.000000</td>\n",
       "      <td>2.727555</td>\n",
       "      <td>100.0</td>\n",
       "    </tr>\n",
       "    <tr>\n",
       "      <th>0024:B100:0004:C4B2</th>\n",
       "      <td>92.128044</td>\n",
       "      <td>0.339803</td>\n",
       "      <td>0.000789</td>\n",
       "      <td>0.000000</td>\n",
       "      <td>7.531364</td>\n",
       "      <td>100.0</td>\n",
       "    </tr>\n",
       "    <tr>\n",
       "      <th>0024:B100:0006:4538</th>\n",
       "      <td>91.616245</td>\n",
       "      <td>0.000000</td>\n",
       "      <td>0.032731</td>\n",
       "      <td>0.000000</td>\n",
       "      <td>8.351024</td>\n",
       "      <td>100.0</td>\n",
       "    </tr>\n",
       "    <tr>\n",
       "      <th>0024:B100:0006:BC3D</th>\n",
       "      <td>90.975400</td>\n",
       "      <td>0.490054</td>\n",
       "      <td>0.547129</td>\n",
       "      <td>0.000000</td>\n",
       "      <td>7.987417</td>\n",
       "      <td>100.0</td>\n",
       "    </tr>\n",
       "    <tr>\n",
       "      <th>0024:B100:0006:BD13</th>\n",
       "      <td>99.050492</td>\n",
       "      <td>0.000000</td>\n",
       "      <td>0.029377</td>\n",
       "      <td>0.000000</td>\n",
       "      <td>0.920131</td>\n",
       "      <td>100.0</td>\n",
       "    </tr>\n",
       "    <tr>\n",
       "      <th>0024:B100:0006:BD1D</th>\n",
       "      <td>96.406930</td>\n",
       "      <td>0.000000</td>\n",
       "      <td>0.042569</td>\n",
       "      <td>0.000000</td>\n",
       "      <td>3.550500</td>\n",
       "      <td>100.0</td>\n",
       "    </tr>\n",
       "    <tr>\n",
       "      <th>0024:B100:0006:BD20</th>\n",
       "      <td>96.095323</td>\n",
       "      <td>0.000000</td>\n",
       "      <td>0.073875</td>\n",
       "      <td>0.000000</td>\n",
       "      <td>3.830802</td>\n",
       "      <td>100.0</td>\n",
       "    </tr>\n",
       "    <tr>\n",
       "      <th>0024:B100:0006:C0E1</th>\n",
       "      <td>97.827982</td>\n",
       "      <td>0.000000</td>\n",
       "      <td>0.047407</td>\n",
       "      <td>0.000000</td>\n",
       "      <td>2.124611</td>\n",
       "      <td>100.0</td>\n",
       "    </tr>\n",
       "    <tr>\n",
       "      <th>0024:B100:0006:C0E2</th>\n",
       "      <td>92.710315</td>\n",
       "      <td>0.000000</td>\n",
       "      <td>0.033410</td>\n",
       "      <td>0.000000</td>\n",
       "      <td>7.256275</td>\n",
       "      <td>100.0</td>\n",
       "    </tr>\n",
       "    <tr>\n",
       "      <th>0024:B100:0006:C7DC</th>\n",
       "      <td>98.919402</td>\n",
       "      <td>0.714592</td>\n",
       "      <td>0.003451</td>\n",
       "      <td>0.000000</td>\n",
       "      <td>0.362554</td>\n",
       "      <td>100.0</td>\n",
       "    </tr>\n",
       "    <tr>\n",
       "      <th>0024:B100:0006:C802</th>\n",
       "      <td>98.314665</td>\n",
       "      <td>0.005184</td>\n",
       "      <td>0.031695</td>\n",
       "      <td>0.000000</td>\n",
       "      <td>1.648456</td>\n",
       "      <td>100.0</td>\n",
       "    </tr>\n",
       "    <tr>\n",
       "      <th>0024:B100:0006:C80C</th>\n",
       "      <td>98.689098</td>\n",
       "      <td>0.000000</td>\n",
       "      <td>0.047120</td>\n",
       "      <td>0.000000</td>\n",
       "      <td>1.263782</td>\n",
       "      <td>100.0</td>\n",
       "    </tr>\n",
       "    <tr>\n",
       "      <th>0024:B100:0006:C80F</th>\n",
       "      <td>96.425469</td>\n",
       "      <td>0.000000</td>\n",
       "      <td>0.083504</td>\n",
       "      <td>0.000000</td>\n",
       "      <td>3.491027</td>\n",
       "      <td>100.0</td>\n",
       "    </tr>\n",
       "    <tr>\n",
       "      <th>0024:B100:000C:083C</th>\n",
       "      <td>100.000000</td>\n",
       "      <td>0.000000</td>\n",
       "      <td>0.000000</td>\n",
       "      <td>0.000000</td>\n",
       "      <td>0.000000</td>\n",
       "      <td>100.0</td>\n",
       "    </tr>\n",
       "  </tbody>\n",
       "</table>\n",
       "</div>"
      ],
      "text/plain": [
       "State                 Available    Faulted  Unavailable   Unknown  \\\n",
       "MAC Address                                                         \n",
       "000D:6F00:04F8:B0AC   53.893914  16.253492     0.000000  0.000000   \n",
       "0024:B100:0002:13E5   90.397760   0.824836     0.020832  0.000000   \n",
       "0024:B100:0002:15D0   87.884357   1.020248     0.000358  0.000000   \n",
       "0024:B100:0002:15D4   86.838952   1.499199     0.001763  0.000000   \n",
       "0024:B100:0002:15DF   86.788665   2.106879     0.001589  0.000000   \n",
       "0024:B100:0002:16F3   98.734435   0.462396     0.423888  0.000000   \n",
       "0024:B100:0002:1C6A   87.126134   1.064284     0.001699  0.000000   \n",
       "0024:B100:0002:1E24   79.467127   3.794976     0.000494  0.000000   \n",
       "0024:B100:0002:1EED   84.049988   3.179795     0.008010  0.000000   \n",
       "0024:B100:0002:1F61   97.293295   1.488966     0.000004  0.000000   \n",
       "0024:B100:0002:1F6C   85.131858   3.282549     0.000000  0.000000   \n",
       "0024:B100:0002:1F71   98.430978   0.983324     0.000000  0.000000   \n",
       "0024:B100:0002:2022   98.158776   1.220976     0.001588  0.000000   \n",
       "0024:B100:0002:2940   65.977857  27.019604     4.617640  0.000000   \n",
       "0024:B100:0002:294E   96.199321   0.236914     0.833809  0.000000   \n",
       "0024:B100:0002:2954   87.546543  10.900364     0.000074  0.000000   \n",
       "0024:B100:0002:2955   83.959233   2.361319     0.000027  0.000000   \n",
       "0024:B100:0002:295F   85.091354   2.074697     0.001495  0.000000   \n",
       "0024:B100:0002:2963   97.202038   0.000000     2.384491  0.000000   \n",
       "0024:B100:0002:297C   81.000237   2.544104     0.000108  0.000000   \n",
       "0024:B100:0002:299E   72.469846  23.518258     0.002285  0.000000   \n",
       "0024:B100:0002:29C3   99.861637   0.000003     0.000000  0.000000   \n",
       "0024:B100:0002:29C6   97.944601   0.556732     0.000002  0.000000   \n",
       "0024:B100:0002:2A6B   93.501031   2.303311     0.757718  0.000000   \n",
       "0024:B100:0002:2A6E   96.899949   0.253521     0.000000  0.000000   \n",
       "0024:B100:0002:2A70   81.637305   7.602753     4.984863  0.000000   \n",
       "0024:B100:0002:2A71   72.055327   9.057304     0.002540  0.000000   \n",
       "0024:B100:0002:2A73   82.431434  12.826737     2.766328  0.000000   \n",
       "0024:B100:0002:2A74   93.254726   2.080297     0.000000  0.000000   \n",
       "0024:B100:0002:2A78   97.876842   0.891541     0.492725  0.000000   \n",
       "0024:B100:0002:2A7B   81.219795   3.799267     0.001805  0.000000   \n",
       "0024:B100:0002:2A7C   88.205016  10.382247     0.001410  0.000000   \n",
       "0024:B100:0002:2A80   93.602579   0.804147     2.471786  0.000000   \n",
       "0024:B100:0002:2A89   93.744223   5.590020     0.002568  0.000000   \n",
       "0024:B100:0002:2A8E   81.964303   3.461475     2.585279  0.000000   \n",
       "0024:B100:0002:3F5A   87.828996  10.377453     0.001318  0.000000   \n",
       "0024:B100:0002:4AEB   58.084158  31.218637     0.020457  0.001019   \n",
       "0024:B100:0002:5134   80.705955   4.687448     0.002378  0.000000   \n",
       "0024:B100:0002:5144   60.518507  27.053755     2.868708  0.000000   \n",
       "0024:B100:0002:5150   97.362864   1.993606     0.000741  0.000000   \n",
       "0024:B100:0002:5154   96.224432   1.378966     0.366823  0.000000   \n",
       "0024:B100:0002:5158   85.887056  12.308319     0.022622  0.000000   \n",
       "0024:B100:0002:5752   53.320022  34.608164     0.023316  0.000000   \n",
       "0024:B100:0002:575E   57.178142  31.628652     0.021203  0.000000   \n",
       "0024:B100:0002:594F   94.471058   0.000000     0.000000  0.000000   \n",
       "0024:B100:0002:8DD9   73.713197   8.555347     0.000000  0.000000   \n",
       "0024:B100:0002:8DDC   58.201669  38.663262     0.000000  0.000000   \n",
       "0024:B100:0002:8E02   97.161689   2.646031     0.030229  0.000000   \n",
       "0024:B100:0002:8E27   51.897585  29.378394     0.000000  0.000000   \n",
       "0024:B100:0002:8E28   97.479146   0.725319     0.002327  0.000000   \n",
       "0024:B100:0002:8E2C   54.016125  27.843264     0.000115  0.000000   \n",
       "0024:B100:0002:8E2F   47.521394  31.893761     0.000000  0.000000   \n",
       "0024:B100:0002:8E32   77.889646   7.261903     0.000000  0.000000   \n",
       "0024:B100:0002:8E36   97.977551   0.641301     0.000000  0.000000   \n",
       "0024:B100:0002:8E37   95.391053   0.899117     0.000000  0.000000   \n",
       "0024:B100:0002:8E49   97.576283   0.765190     0.000000  0.000000   \n",
       "0024:B100:0002:8E4A   59.950442   1.310691    36.020773  0.000000   \n",
       "0024:B100:0002:8F36   97.275169   2.178739     0.000000  0.000000   \n",
       "0024:B100:0002:8FCA   49.330163  30.811476     0.004168  0.000000   \n",
       "0024:B100:0002:8FD1   85.769546  14.111464     0.028825  0.000000   \n",
       "0024:B100:0002:918F   97.475333   0.728482     0.002290  0.000000   \n",
       "0024:B100:0002:9193   54.184677   1.499048    41.203110  0.000000   \n",
       "0024:B100:0002:9194   70.223777   9.815677     0.000000  0.000000   \n",
       "0024:B100:0002:919B   97.276120   0.000000     0.000000  0.000000   \n",
       "0024:B100:0002:91B6   85.271281  10.566075     0.000000  0.000000   \n",
       "0024:B100:0002:91C3   97.027424   0.600086     0.000000  0.000000   \n",
       "0024:B100:0002:9202   92.867226   0.000072     0.000000  0.000000   \n",
       "0024:B100:0002:A917   67.144361  19.733108     0.027243  0.000000   \n",
       "0024:B100:0002:AD71   98.198933   0.000000     0.000315  0.000000   \n",
       "0024:B100:0002:AE14   96.431790   0.000000     0.000000  0.000000   \n",
       "0024:B100:0002:B04A   98.875597   0.000000     0.079146  0.000000   \n",
       "0024:B100:0003:12D9   66.623521   1.732425     0.000655  0.000000   \n",
       "0024:B100:0003:12EB   64.330652  25.882642     0.000161  0.000000   \n",
       "0024:B100:0003:12EE   60.293352   2.614993     0.000000  0.000000   \n",
       "0024:B100:0003:12F1   64.745118   2.013618     0.000000  0.000000   \n",
       "0024:B100:0003:12F8   53.468864   3.980505     0.001327  0.000000   \n",
       "0024:B100:0003:130B   64.785957  24.313141     0.000638  0.000000   \n",
       "0024:B100:0003:130E   64.787308  24.086562     0.000456  0.000000   \n",
       "0024:B100:0003:130F   56.865526   2.095062     0.000000  0.000000   \n",
       "0024:B100:0003:1312   61.761603  27.930767     0.001174  0.000000   \n",
       "0024:B100:0003:1318   54.070861  33.127600     0.000193  0.000000   \n",
       "0024:B100:0003:1F95   81.446336   6.207123     0.000000  0.000000   \n",
       "0024:B100:0003:2A8C   60.533845  29.391059     0.000000  0.000000   \n",
       "0024:B100:0003:2AB1   41.559860  31.751181    20.487231  0.000000   \n",
       "0024:B100:0003:2AB5   66.176958  26.389217     0.005874  0.000000   \n",
       "0024:B100:0003:2ADF   45.256604  26.704280    18.086769  0.000000   \n",
       "0024:B100:0003:2B24    3.835645  87.119266     0.000000  0.000000   \n",
       "0024:B100:0003:2C1C   68.787648   2.030983     0.000577  0.000000   \n",
       "0024:B100:0003:33C3   71.113996  21.401860     2.425062  0.000000   \n",
       "0024:B100:0003:519A    2.465484  85.749765     0.000000  0.000000   \n",
       "0024:B100:0003:66F6   54.389975   8.671696     0.000000  0.000000   \n",
       "0024:B100:0003:6743    7.965796  72.495693     0.000000  0.000000   \n",
       "0024:B100:0003:824E   95.514721   0.000134     0.002419  0.000000   \n",
       "0024:B100:0003:9836   53.929829   1.884708    42.313709  0.000000   \n",
       "0024:B100:0003:BF3B   39.962923   9.934144     0.000000  0.000000   \n",
       "0024:B100:0003:BF3D   40.162896  10.776517     0.033532  0.000000   \n",
       "0024:B100:0003:BF84  100.000000   0.000000     0.000000  0.000000   \n",
       "0024:B100:0003:BF91   41.710848  10.564951     0.000000  0.000000   \n",
       "0024:B100:0003:C689   13.837404   5.702728     0.001313  0.000000   \n",
       "0024:B100:0003:C68A   31.535324  46.180260     0.008377  0.000000   \n",
       "0024:B100:0003:D26F   96.746695   0.721148     0.045030  0.000000   \n",
       "0024:B100:0003:D5D6   94.709550   0.825150     0.043063  0.000000   \n",
       "0024:B100:0004:0667   98.036182   0.421295     0.761438  0.000000   \n",
       "0024:B100:0004:0E93   50.215026   7.954186     0.001223  0.000000   \n",
       "0024:B100:0004:0EC1   97.545755   0.000000     0.087071  0.000000   \n",
       "0024:B100:0004:1B12   78.256557   0.195227     0.012384  0.000000   \n",
       "0024:B100:0004:20C4   86.427718   1.350010     5.885060  0.000000   \n",
       "0024:B100:0004:2ED8   91.143589   0.542968     0.000000  0.000000   \n",
       "0024:B100:0004:3B91   93.393961   2.454792     2.056510  0.000000   \n",
       "0024:B100:0004:5CE8   97.185859   0.002673     0.055314  0.000000   \n",
       "0024:B100:0004:5D08   97.325365   0.059722     0.058250  0.000000   \n",
       "0024:B100:0004:A22C   95.670959   0.161254     0.012461  0.000000   \n",
       "0024:B100:0004:A250   84.259780   4.396516     8.616149  0.000000   \n",
       "0024:B100:0004:C4B2   92.128044   0.339803     0.000789  0.000000   \n",
       "0024:B100:0006:4538   91.616245   0.000000     0.032731  0.000000   \n",
       "0024:B100:0006:BC3D   90.975400   0.490054     0.547129  0.000000   \n",
       "0024:B100:0006:BD13   99.050492   0.000000     0.029377  0.000000   \n",
       "0024:B100:0006:BD1D   96.406930   0.000000     0.042569  0.000000   \n",
       "0024:B100:0006:BD20   96.095323   0.000000     0.073875  0.000000   \n",
       "0024:B100:0006:C0E1   97.827982   0.000000     0.047407  0.000000   \n",
       "0024:B100:0006:C0E2   92.710315   0.000000     0.033410  0.000000   \n",
       "0024:B100:0006:C7DC   98.919402   0.714592     0.003451  0.000000   \n",
       "0024:B100:0006:C802   98.314665   0.005184     0.031695  0.000000   \n",
       "0024:B100:0006:C80C   98.689098   0.000000     0.047120  0.000000   \n",
       "0024:B100:0006:C80F   96.425469   0.000000     0.083504  0.000000   \n",
       "0024:B100:000C:083C  100.000000   0.000000     0.000000  0.000000   \n",
       "\n",
       "State                Unreachable  Total  \n",
       "MAC Address                              \n",
       "000D:6F00:04F8:B0AC    29.852595  100.0  \n",
       "0024:B100:0002:13E5     8.756572  100.0  \n",
       "0024:B100:0002:15D0    11.095037  100.0  \n",
       "0024:B100:0002:15D4    11.660086  100.0  \n",
       "0024:B100:0002:15DF    11.102868  100.0  \n",
       "0024:B100:0002:16F3     0.379281  100.0  \n",
       "0024:B100:0002:1C6A    11.807883  100.0  \n",
       "0024:B100:0002:1E24    16.737402  100.0  \n",
       "0024:B100:0002:1EED    12.762208  100.0  \n",
       "0024:B100:0002:1F61     1.217735  100.0  \n",
       "0024:B100:0002:1F6C    11.585593  100.0  \n",
       "0024:B100:0002:1F71     0.585698  100.0  \n",
       "0024:B100:0002:2022     0.618660  100.0  \n",
       "0024:B100:0002:2940     2.384900  100.0  \n",
       "0024:B100:0002:294E     2.729956  100.0  \n",
       "0024:B100:0002:2954     1.553018  100.0  \n",
       "0024:B100:0002:2955    13.679421  100.0  \n",
       "0024:B100:0002:295F    12.832454  100.0  \n",
       "0024:B100:0002:2963     0.413471  100.0  \n",
       "0024:B100:0002:297C    16.455551  100.0  \n",
       "0024:B100:0002:299E     4.009610  100.0  \n",
       "0024:B100:0002:29C3     0.138359  100.0  \n",
       "0024:B100:0002:29C6     1.498666  100.0  \n",
       "0024:B100:0002:2A6B     3.437940  100.0  \n",
       "0024:B100:0002:2A6E     2.846530  100.0  \n",
       "0024:B100:0002:2A70     5.775079  100.0  \n",
       "0024:B100:0002:2A71    18.884829  100.0  \n",
       "0024:B100:0002:2A73     1.975501  100.0  \n",
       "0024:B100:0002:2A74     4.664978  100.0  \n",
       "0024:B100:0002:2A78     0.738892  100.0  \n",
       "0024:B100:0002:2A7B    14.979133  100.0  \n",
       "0024:B100:0002:2A7C     1.411326  100.0  \n",
       "0024:B100:0002:2A80     3.121488  100.0  \n",
       "0024:B100:0002:2A89     0.663189  100.0  \n",
       "0024:B100:0002:2A8E    11.988943  100.0  \n",
       "0024:B100:0002:3F5A     1.792233  100.0  \n",
       "0024:B100:0002:4AEB    10.675730  100.0  \n",
       "0024:B100:0002:5134    14.604219  100.0  \n",
       "0024:B100:0002:5144     9.559030  100.0  \n",
       "0024:B100:0002:5150     0.642789  100.0  \n",
       "0024:B100:0002:5154     2.029779  100.0  \n",
       "0024:B100:0002:5158     1.782002  100.0  \n",
       "0024:B100:0002:5752    12.048498  100.0  \n",
       "0024:B100:0002:575E    11.172004  100.0  \n",
       "0024:B100:0002:594F     5.528942  100.0  \n",
       "0024:B100:0002:8DD9    17.731456  100.0  \n",
       "0024:B100:0002:8DDC     3.135069  100.0  \n",
       "0024:B100:0002:8E02     0.162051  100.0  \n",
       "0024:B100:0002:8E27    18.724021  100.0  \n",
       "0024:B100:0002:8E28     1.793209  100.0  \n",
       "0024:B100:0002:8E2C    18.140496  100.0  \n",
       "0024:B100:0002:8E2F    20.584845  100.0  \n",
       "0024:B100:0002:8E32    14.848452  100.0  \n",
       "0024:B100:0002:8E36     1.381148  100.0  \n",
       "0024:B100:0002:8E37     3.709830  100.0  \n",
       "0024:B100:0002:8E49     1.658527  100.0  \n",
       "0024:B100:0002:8E4A     2.718094  100.0  \n",
       "0024:B100:0002:8F36     0.546092  100.0  \n",
       "0024:B100:0002:8FCA    19.854194  100.0  \n",
       "0024:B100:0002:8FD1     0.090165  100.0  \n",
       "0024:B100:0002:918F     1.793896  100.0  \n",
       "0024:B100:0002:9193     3.113165  100.0  \n",
       "0024:B100:0002:9194    19.960546  100.0  \n",
       "0024:B100:0002:919B     2.723880  100.0  \n",
       "0024:B100:0002:91B6     4.162643  100.0  \n",
       "0024:B100:0002:91C3     2.372490  100.0  \n",
       "0024:B100:0002:9202     7.132702  100.0  \n",
       "0024:B100:0002:A917    13.095287  100.0  \n",
       "0024:B100:0002:AD71     1.800751  100.0  \n",
       "0024:B100:0002:AE14     3.568210  100.0  \n",
       "0024:B100:0002:B04A     1.045257  100.0  \n",
       "0024:B100:0003:12D9    31.643400  100.0  \n",
       "0024:B100:0003:12EB     9.786546  100.0  \n",
       "0024:B100:0003:12EE    37.091655  100.0  \n",
       "0024:B100:0003:12F1    33.241264  100.0  \n",
       "0024:B100:0003:12F8    42.549303  100.0  \n",
       "0024:B100:0003:130B    10.900264  100.0  \n",
       "0024:B100:0003:130E    11.125674  100.0  \n",
       "0024:B100:0003:130F    41.039411  100.0  \n",
       "0024:B100:0003:1312    10.306456  100.0  \n",
       "0024:B100:0003:1318    12.801346  100.0  \n",
       "0024:B100:0003:1F95    12.346541  100.0  \n",
       "0024:B100:0003:2A8C    10.075096  100.0  \n",
       "0024:B100:0003:2AB1     6.201728  100.0  \n",
       "0024:B100:0003:2AB5     7.427951  100.0  \n",
       "0024:B100:0003:2ADF     9.952347  100.0  \n",
       "0024:B100:0003:2B24     9.045089  100.0  \n",
       "0024:B100:0003:2C1C    29.180791  100.0  \n",
       "0024:B100:0003:33C3     5.059082  100.0  \n",
       "0024:B100:0003:519A    11.784751  100.0  \n",
       "0024:B100:0003:66F6    36.938329  100.0  \n",
       "0024:B100:0003:6743    19.538511  100.0  \n",
       "0024:B100:0003:824E     4.482726  100.0  \n",
       "0024:B100:0003:9836     1.871754  100.0  \n",
       "0024:B100:0003:BF3B    50.102933  100.0  \n",
       "0024:B100:0003:BF3D    49.027054  100.0  \n",
       "0024:B100:0003:BF84     0.000000  100.0  \n",
       "0024:B100:0003:BF91    47.724201  100.0  \n",
       "0024:B100:0003:C689    80.458554  100.0  \n",
       "0024:B100:0003:C68A    22.276039  100.0  \n",
       "0024:B100:0003:D26F     2.487127  100.0  \n",
       "0024:B100:0003:D5D6     4.422237  100.0  \n",
       "0024:B100:0004:0667     0.781086  100.0  \n",
       "0024:B100:0004:0E93    41.829564  100.0  \n",
       "0024:B100:0004:0EC1     2.367174  100.0  \n",
       "0024:B100:0004:1B12    21.535832  100.0  \n",
       "0024:B100:0004:20C4     6.337213  100.0  \n",
       "0024:B100:0004:2ED8     8.313442  100.0  \n",
       "0024:B100:0004:3B91     2.094736  100.0  \n",
       "0024:B100:0004:5CE8     2.756155  100.0  \n",
       "0024:B100:0004:5D08     2.556663  100.0  \n",
       "0024:B100:0004:A22C     4.155326  100.0  \n",
       "0024:B100:0004:A250     2.727555  100.0  \n",
       "0024:B100:0004:C4B2     7.531364  100.0  \n",
       "0024:B100:0006:4538     8.351024  100.0  \n",
       "0024:B100:0006:BC3D     7.987417  100.0  \n",
       "0024:B100:0006:BD13     0.920131  100.0  \n",
       "0024:B100:0006:BD1D     3.550500  100.0  \n",
       "0024:B100:0006:BD20     3.830802  100.0  \n",
       "0024:B100:0006:C0E1     2.124611  100.0  \n",
       "0024:B100:0006:C0E2     7.256275  100.0  \n",
       "0024:B100:0006:C7DC     0.362554  100.0  \n",
       "0024:B100:0006:C802     1.648456  100.0  \n",
       "0024:B100:0006:C80C     1.263782  100.0  \n",
       "0024:B100:0006:C80F     3.491027  100.0  \n",
       "0024:B100:000C:083C     0.000000  100.0  "
      ]
     },
     "execution_count": 10,
     "metadata": {},
     "output_type": "execute_result"
    }
   ],
   "source": [
    "state_percentages = state_durations.divide(state_durations['Total'], axis=0) * 100\n",
    "state_percentages"
   ]
  },
  {
   "cell_type": "code",
   "execution_count": 18,
   "metadata": {},
   "outputs": [
    {
     "data": {
      "text/markdown": [
       "##### **Mean and Std. Dev.**"
      ]
     },
     "metadata": {},
     "output_type": "display_data"
    },
    {
     "data": {
      "text/html": [
       "<div>\n",
       "<style scoped>\n",
       "    .dataframe tbody tr th:only-of-type {\n",
       "        vertical-align: middle;\n",
       "    }\n",
       "\n",
       "    .dataframe tbody tr th {\n",
       "        vertical-align: top;\n",
       "    }\n",
       "\n",
       "    .dataframe thead th {\n",
       "        text-align: right;\n",
       "    }\n",
       "</style>\n",
       "<table border=\"1\" class=\"dataframe\">\n",
       "  <thead>\n",
       "    <tr style=\"text-align: right;\">\n",
       "      <th></th>\n",
       "      <th>Mean</th>\n",
       "      <th>Std. Dev.</th>\n",
       "    </tr>\n",
       "    <tr>\n",
       "      <th>State</th>\n",
       "      <th></th>\n",
       "      <th></th>\n",
       "    </tr>\n",
       "  </thead>\n",
       "  <tbody>\n",
       "    <tr>\n",
       "      <th>Available</th>\n",
       "      <td>78.313849</td>\n",
       "      <td>22.182883</td>\n",
       "    </tr>\n",
       "    <tr>\n",
       "      <th>Faulted</th>\n",
       "      <td>9.624578</td>\n",
       "      <td>15.791514</td>\n",
       "    </tr>\n",
       "    <tr>\n",
       "      <th>Unavailable</th>\n",
       "      <td>1.627538</td>\n",
       "      <td>6.573289</td>\n",
       "    </tr>\n",
       "    <tr>\n",
       "      <th>Unknown</th>\n",
       "      <td>0.000008</td>\n",
       "      <td>0.000091</td>\n",
       "    </tr>\n",
       "    <tr>\n",
       "      <th>Unreachable</th>\n",
       "      <td>10.434027</td>\n",
       "      <td>12.979562</td>\n",
       "    </tr>\n",
       "    <tr>\n",
       "      <th>Total</th>\n",
       "      <td>100.000000</td>\n",
       "      <td>0.000000</td>\n",
       "    </tr>\n",
       "  </tbody>\n",
       "</table>\n",
       "</div>"
      ],
      "text/plain": [
       "                   Mean  Std. Dev.\n",
       "State                             \n",
       "Available     78.313849  22.182883\n",
       "Faulted        9.624578  15.791514\n",
       "Unavailable    1.627538   6.573289\n",
       "Unknown        0.000008   0.000091\n",
       "Unreachable   10.434027  12.979562\n",
       "Total        100.000000   0.000000"
      ]
     },
     "metadata": {},
     "output_type": "display_data"
    }
   ],
   "source": [
    "print_md('##### **Mean and Std. Dev.**')\n",
    "display(pd.concat([state_percentages.mean(), state_percentages.std()], axis=1, keys=['Mean', 'Std. Dev.']))"
   ]
  }
 ],
 "metadata": {
  "kernelspec": {
   "display_name": "Python 3",
   "language": "python",
   "name": "python3"
  },
  "language_info": {
   "codemirror_mode": {
    "name": "ipython",
    "version": 3
   },
   "file_extension": ".py",
   "mimetype": "text/x-python",
   "name": "python",
   "nbconvert_exporter": "python",
   "pygments_lexer": "ipython3",
   "version": "3.10.12"
  },
  "orig_nbformat": 4
 },
 "nbformat": 4,
 "nbformat_minor": 2
}
