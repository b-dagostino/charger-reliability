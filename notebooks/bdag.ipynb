{
 "cells": [
  {
   "cell_type": "markdown",
   "metadata": {},
   "source": [
    "# **Stanford Transportation - ChargePoint EV Chargers - Sep-2023**"
   ]
  },
  {
   "cell_type": "markdown",
   "metadata": {},
   "source": [
    "## **Initialization**"
   ]
  },
  {
   "cell_type": "markdown",
   "metadata": {},
   "source": [
    "### **Code Setup**"
   ]
  },
  {
   "cell_type": "code",
   "execution_count": 1,
   "metadata": {},
   "outputs": [],
   "source": [
    "from datetime import datetime, timedelta\n",
    "import sys\n",
    "from typing import Optional\n",
    "from zoneinfo import ZoneInfo\n",
    "\n",
    "from IPython.display import display\n",
    "from matplotlib import pyplot as plt\n",
    "import networkx as nx\n",
    "import pandas as pd\n",
    "\n",
    "# Add repo's python directory to PYTHONPATH so we can import our utilities\n",
    "sys.path.append('../python/')\n",
    "\n",
    "from s3l_utils.dataset import Dataset\n",
    "from s3l_utils.notebook import print_md\n",
    "from s3l_utils.functional import grouper\n",
    "\n",
    "# Output formatting\n",
    "pd.set_option('display.max_columns', None)\n",
    "pd.set_option('display.max_rows', 100)\n",
    "\n",
    "# Timezone abbreviation to zoneinfo\n",
    "tz_abbrev_to_zoneinfo = {\n",
    "    'PDT': ZoneInfo('US/Pacific'),\n",
    "    'PST': ZoneInfo('US/Pacific'),\n",
    "}\n",
    "\n",
    "# Convert alarm times to proper datetimes... why is this so hard???\n",
    "def alarm_time_to_datetime(alarm_time):\n",
    "    if isinstance(alarm_time, datetime):\n",
    "        return alarm_time\n",
    "\n",
    "    components = alarm_time.split()\n",
    "    naive_time = datetime.strptime(' '.join(components[:-1]), '%Y-%m-%d %H:%M:%S')\n",
    "    aware_time = naive_time.astimezone(tz_abbrev_to_zoneinfo[components[-1][1:-1]])\n",
    "    return aware_time\n",
    "\n",
    "# Summarize table\n",
    "def summarize_dataframe_md(df: pd.DataFrame, header: str = ''):\n",
    "    if header:\n",
    "        print_md(f'#### **{header}**')\n",
    "    \n",
    "    print_md(f'**Number of Rows:** {len(df)}')\n",
    "    print_md(f'**Columns:** {\", \".join(df.columns)}')\n",
    "\n",
    "    print_md('#### **Unique Column Values**')\n",
    "    for column in df.columns:\n",
    "        unique_column_values = ', '.join(filter(None, map(str, list(df[column].unique()))))\n",
    "        print_md(f'##### **{column.strip()}**')\n",
    "        print_md(unique_column_values)\n",
    "\n",
    "# Pandas options\n",
    "# pd.set_option('display.max_rows', None)"
   ]
  },
  {
   "cell_type": "markdown",
   "metadata": {},
   "source": [
    "### **Load and Prepare Dataset**"
   ]
  },
  {
   "cell_type": "code",
   "execution_count": 2,
   "metadata": {},
   "outputs": [],
   "source": [
    "# Load dataset and tables\n",
    "dataset = Dataset('../data/manifest.yml')\n",
    "station_overview = dataset.stations.overview\n",
    "alarms = dataset.reports.alarms\n",
    "station_inventory = dataset.organizations.inventory.stations\n",
    "\n",
    "# Canonicalize alarm times to US/Pacific datetimes\n",
    "if not pd.api.types.is_datetime64_any_dtype(alarms['Alarm Time']):\n",
    "    # alarms['Alarm Time'] = pd.to_datetime(alarms['Alarm Time'].map(lambda x: ' '.join(x.split()[:-1]))).dt.tz_localize('US/Pacific', ambiguous='NaT')\n",
    "    dst_map = alarms['Alarm Time'].str.contains('PST')\n",
    "    alarms['Alarm Time'] = pd.to_datetime(alarms['Alarm Time'].map(lambda x: ' '.join(x.split()[:-1]))).dt.tz_localize('US/Pacific', dst_map)"
   ]
  },
  {
   "cell_type": "markdown",
   "metadata": {},
   "source": [
    "## **Analysis**"
   ]
  },
  {
   "cell_type": "markdown",
   "metadata": {},
   "source": [
    "### **Station Overview**"
   ]
  },
  {
   "cell_type": "code",
   "execution_count": 3,
   "metadata": {},
   "outputs": [
    {
     "data": {
      "text/markdown": [
       "#### **Station Overview Summary**"
      ]
     },
     "metadata": {},
     "output_type": "display_data"
    },
    {
     "data": {
      "text/markdown": [
       "**Number of Rows:** 109"
      ]
     },
     "metadata": {},
     "output_type": "display_data"
    },
    {
     "data": {
      "text/markdown": [
       "**Columns:** Model Number, Station Name, Org Name, MAC Address, System S/N, Address 1, Address 2, Floor Label, City, State, Zip/Postal Code, County, Country , Activation Status, Network Status, Station Status, Port 1 Status, Port 2 Status, No. of Ports, Pricing Policy Name, Reservations, Station Message, Enabled, Station Activation Type, Usable By, Visibility (Access Policy Name), EVSE ID, Radio Group Name, Software Version, Customer Category, Customer Subcategory, Circuit Sharing, Currency Name, Power Select / AC Breaker Rating, Scheduled Charging Policy Name, Warranty, Station Activation Date, Warranty Expiration Date, Warranty Service, Plug Type, Device Access Restriction, Waitlist Policy Name, Asset Tag ID, Meter ID, Service Delivery Point ID, Point of Service ID, Account ID, Circuit ID, Panel ID, Customer Name, Customer ID, Site ID, Site mode, Site Validation Status, Paired, Latitude, Longitude"
      ]
     },
     "metadata": {},
     "output_type": "display_data"
    },
    {
     "data": {
      "text/markdown": [
       "#### **Unique Column Values**"
      ]
     },
     "metadata": {},
     "output_type": "display_data"
    },
    {
     "data": {
      "text/markdown": [
       "##### **Model Number**"
      ]
     },
     "metadata": {},
     "output_type": "display_data"
    },
    {
     "data": {
      "text/markdown": [
       "CT4020-HD, CT4020-HD-GW, CT4020-HD2-GW-LTE, CT4010-HD-GW, CT4010-HD, CPE200T-S-CHD-CMB"
      ]
     },
     "metadata": {},
     "output_type": "display_data"
    },
    {
     "data": {
      "text/markdown": [
       "##### **Station Name**"
      ]
     },
     "metadata": {},
     "output_type": "display_data"
    },
    {
     "data": {
      "text/markdown": [
       "STANFORD / THO NGW-B5, STANFORD / THO NGW-B4, STANFORD / THO NGW-B3, STANFORD / THO NGW-B2, STANFORD / THO NGW-B1, STANFORD / THO NGW-A5 ADA, STANFORD / THO NGW-A4, STANFORD / THO NGW-A3, STANFORD / THO NGW-A2, STANFORD / THO NGW-A1, STANFORD / THO GW-B, STANFORD / THO GW-A, STANFORD / TH WALL MOUNT, STANFORD / TH STATION 1, STANFORD / STATION 9, STANFORD / STATION 8 PS-5, STANFORD / STATION 8, STANFORD / STATION 7 PS-5, STANFORD / STATION 7, STANFORD / STATION 6 PS-5, STANFORD / STATION 6, STANFORD / STATION 5 PS-5, STANFORD / STATION 5, STANFORD / STATION 4 PS-5, STANFORD / STATION 4, STANFORD / STATION 3 PS-5, STANFORD / STATION 3, STANFORD / STATION 2 TMU, STANFORD / STATION 2 PS-5, STANFORD / STATION 2, STANFORD / STATION 11, STANFORD / STATION 10, STANFORD / STATION 1 TMU, STANFORD / STATION 1 PS-5, STANFORD / STATION 1, STANFORD / ROBLE LL2-12, STANFORD / OAK ROAD #1, STANFORD / CD STATION 6, STANFORD / CD STATION 4, STANFORD / CD STATION 3, STANFORD / CD STATION 2, STANFORD / CD STATION 1, STANFORD / CD GATEWAY #3, STANFORD / CD GATEWAY #2, STANFORD / CD GATEWAY #1, STANFORD / CAM 6 LL1, STANFORD / CAM 5 LL1, STANFORD / CAM 4 LL1, STANFORD / CAM 3 LL1, STANFORD / CAM 2 LL1, STANFORD / CAM 1 LL1, SRWC / RWC L5 5, SRWC / RWC L5 4, SRWC / RWC L5 3, SRWC / RWC L5 2, SRWC / RWC L5 1, SRWC / RWC L4 4, SRWC / RWC L4 3, SRWC / RWC L4 2, SRWC / RWC L4 1, SRWC / RWC L3 4, SRWC / RWC L3 3, SRWC / RWC L3 2, SRWC / RWC L3 1, SRWC / RWC L2 4, SRWC / RWC L2 3, SRWC / RWC L2 2, SRWC / RWC L2 1, SRWC / RWC L1 6, SRWC / RWC L1 5, SRWC / RWC L1 4, SRWC / RWC L1 3, SRWC / RWC L1 2, SRWC / RWC L1 1, SRWC / RWC B1 4, SRWC / RWC B1 3, SRWC / RWC B1 2, SRWC / RWC B1 1, SRWC / CHARGER 5, SRWC / CHARGER 4, SRWC / CHARGER 3, SRWC / CHARGER 2, SRWC / CHARGER 1, ROBLE / ROBLE LL2-9, ROBLE / ROBLE LL2-8, ROBLE / ROBLE LL2-7, ROBLE / ROBLE LL2-6, ROBLE / ROBLE LL2-5, ROBLE / ROBLE LL2-4, ROBLE / ROBLE LL2-3, ROBLE / ROBLE LL2-2, ROBLE / ROBLE LL2-14, ROBLE / ROBLE LL2-13, ROBLE / ROBLE LL2-11, ROBLE / ROBLE LL2-10, ROBLE / ROBLE LL2-1, ROBLE / ROBLE LL1-DIS, ROBLE / ROBLE LL1-9, ROBLE / ROBLE LL1-8, ROBLE / ROBLE LL1-7, ROBLE / ROBLE LL1-6, ROBLE / ROBLE LL1-5, ROBLE / ROBLE LL1-4, ROBLE / ROBLE LL1-3, ROBLE / ROBLE LL1-2, ROBLE / ROBLE LL1-12, ROBLE / ROBLE LL1-11, ROBLE / ROBLE LL1-10, ROBLE / ROBLE LL1-1"
      ]
     },
     "metadata": {},
     "output_type": "display_data"
    },
    {
     "data": {
      "text/markdown": [
       "##### **Org Name**"
      ]
     },
     "metadata": {},
     "output_type": "display_data"
    },
    {
     "data": {
      "text/markdown": [
       "Stanford University"
      ]
     },
     "metadata": {},
     "output_type": "display_data"
    },
    {
     "data": {
      "text/markdown": [
       "##### **MAC Address**"
      ]
     },
     "metadata": {},
     "output_type": "display_data"
    },
    {
     "data": {
      "text/markdown": [
       "0024:B100:0003:12F8, 0024:B100:0003:130F, 0024:B100:0003:12EE, 0024:B100:0003:12F1, 0024:B100:0003:12D9, 0024:B100:0003:1318, 0024:B100:0003:1312, 0024:B100:0003:130E, 0024:B100:0003:130B, 0024:B100:0003:12EB, 0024:B100:0003:2C1C, 0024:B100:0003:2A8C, 0024:B100:0002:16F3, 0024:B100:0004:0667, 0024:B100:0006:C0E1, 0024:B100:0002:15D4, 0024:B100:0006:BD1D, 0024:B100:0002:1C6A, 0024:B100:0006:C802, 0024:B100:0002:15D0, 0024:B100:0006:BD13, 0024:B100:0002:15DF, 0024:B100:0006:BD20, 0024:B100:0002:13E5, 0024:B100:0006:C80F, 0024:B100:0002:1F6C, 0024:B100:0006:C80C, 0024:B100:0006:BC3D, 0024:B100:0004:3B91, 0024:B100:0006:C0E2, 0024:B100:000C:083C, 0024:B100:0006:C7DC, 0024:B100:0003:33C3, 0024:B100:0002:1EED, 0024:B100:0006:4538, 0024:B100:0002:2A6E, 0024:B100:0003:824E, 0024:B100:0003:2ADF, 0024:B100:0004:2ED8, 0024:B100:0003:2AB1, 0024:B100:0004:A22C, 0024:B100:0003:2AB5, 0024:B100:0004:1B12, 0024:B100:0004:A250, 0024:B100:0004:C4B2, 0024:B100:0003:C68A, 0024:B100:0003:C689, 0024:B100:0003:BF91, 0024:B100:0003:BF3D, 0024:B100:0004:0E93, 0024:B100:0003:BF3B, 0024:B100:0002:8DD9, 0024:B100:0002:8E32, 0024:B100:0002:A917, 0024:B100:0003:1F95, 0024:B100:0002:9194, 0024:B100:0002:8E49, 0024:B100:0002:8FD1, 0024:B100:0002:8E36, 0024:B100:0002:8E37, 0024:B100:0002:8E28, 0024:B100:0002:8E02, 0024:B100:0002:91C3, 0024:B100:0002:918F, 0024:B100:0002:8E2F, 0024:B100:0002:8E27, 0024:B100:0002:8FCA, 0024:B100:0002:8E2C, 0024:B100:0002:B04A, 0024:B100:0002:919B, 0024:B100:0002:AE14, 0024:B100:0002:AD71, 0024:B100:0002:9202, 0024:B100:0002:594F, 0024:B100:0002:8DDC, 0024:B100:0003:9836, 0024:B100:0002:9193, 0024:B100:0002:8E4A, 000D:6F00:04F8:B0AC, 0024:B100:0002:5752, 0024:B100:0002:575E, 0024:B100:0002:5144, 0024:B100:0002:4AEB, 0024:B100:0002:295F, 0024:B100:0002:2A8E, 0024:B100:0002:2A74, 0024:B100:0002:2A6B, 0024:B100:0002:2A70, 0024:B100:0002:2A80, 0024:B100:0002:2955, 0024:B100:0002:297C, 0024:B100:0002:5154, 0024:B100:0002:294E, 0024:B100:0002:2A7B, 0024:B100:0002:2A71, 0024:B100:0002:5134, 0024:B100:0002:299E, 0024:B100:0004:5D08, 0024:B100:0002:2A7C, 0024:B100:0002:2940, 0024:B100:0002:2954, 0024:B100:0003:D5D6, 0024:B100:0003:D26F, 0024:B100:0002:2A73, 0024:B100:0004:20C4, 0024:B100:0004:0EC1, 0024:B100:0002:3F5A, 0024:B100:0004:5CE8, 0024:B100:0002:5158"
      ]
     },
     "metadata": {},
     "output_type": "display_data"
    },
    {
     "data": {
      "text/markdown": [
       "##### **System S/N**"
      ]
     },
     "metadata": {},
     "output_type": "display_data"
    },
    {
     "data": {
      "text/markdown": [
       "184141024581, 184141024600, 184141024577, 184141024593, 184141024567, 184141024610, 184141024603, 184141024588, 184141024608, 184141024573, 184841030920, 184741030870, 143641006567, 201741012775, 220241003311, 143441006254, 220141000705, 145041008118, 220241003288, 143441006255, 220141000697, 143441006275, 220141000714, 143041005775, 220241003284, 150341000232, 220241003312, 220141000444, 200541004831, 220241003310, 231641072278, 220241003273, 153741004116, 150241000120, 213841045402, 152741003067, 193041017182, 184741030714, 192741015842, 184741030692, 210241001954, 184741030683, 192641015360, 210241001974, 211141011323, 195241034416, 195241034419, 195041032475, 195041032407, 170141000309, 195041032410, 173441009978, 173441009986, 175241017410, 184541028755, 173641010743, 173441009989, 173541010301, 173441009990, 173441010008, 173441009974, 173541010298, 173641010752, 173641010749, 173441009983, 173441009973, 173541010306, 173441009984, 180241000629, 173641010742, 175241017163, 175141017015, 173641010746, 164041005488, 173441009933, 164741006937, 173641010737, 173441009991, 37569, 163841004932, 163841004941, 162741003523, 153441003891, 152541002783, 152741003076, 152741003072, 152741003068, 152741003081, 152741003082, 152541002779, 152541002807, 162841003554, 152541002762, 152741003077, 152741003079, 162741003546, 152641002898, 183441017415, 152741003088, 152541002775, 152541002778, 200441003033, 200341002120, 152741003075, 185141033955, 172641007698, 155141008435, 164941007425, 162841003560"
      ]
     },
     "metadata": {},
     "output_type": "display_data"
    },
    {
     "data": {
      "text/markdown": [
       "##### **Address 1**"
      ]
     },
     "metadata": {},
     "output_type": "display_data"
    },
    {
     "data": {
      "text/markdown": [
       "740 Serra St, 295 Galvez St, 400 El Camino Real, 340 Oak Rd, 495 El Camino Real, 360 Oak Rd, 526-566 Lagunita Dr, 526-566 Stanford UniversityLagunita Dr, 375 Santa Teresa St, 484 Oak Rd, 742 Campus Drive, 453 Quarry Rd, 425 Broadway, 2850 Bay Rd, 2858 Bay Rd, 585 Broadway, 900-998 Douglas Ave, 373 Santa Teresa St, 287 Santa Teresa St, 671-725 Panama St"
      ]
     },
     "metadata": {},
     "output_type": "display_data"
    },
    {
     "data": {
      "text/markdown": [
       "##### **Address 2**"
      ]
     },
     "metadata": {},
     "output_type": "display_data"
    },
    {
     "data": {
      "text/markdown": [
       "Manzanita Garage"
      ]
     },
     "metadata": {},
     "output_type": "display_data"
    },
    {
     "data": {
      "text/markdown": [
       "##### **Floor Label**"
      ]
     },
     "metadata": {},
     "output_type": "display_data"
    },
    {
     "data": {
      "text/markdown": [
       "1, L5, L4, L3, L2, L1, B1"
      ]
     },
     "metadata": {},
     "output_type": "display_data"
    },
    {
     "data": {
      "text/markdown": [
       "##### **City**"
      ]
     },
     "metadata": {},
     "output_type": "display_data"
    },
    {
     "data": {
      "text/markdown": [
       "Stanford, Menlo Park, Palo Alto, Redwood City"
      ]
     },
     "metadata": {},
     "output_type": "display_data"
    },
    {
     "data": {
      "text/markdown": [
       "##### **State**"
      ]
     },
     "metadata": {},
     "output_type": "display_data"
    },
    {
     "data": {
      "text/markdown": [
       "California"
      ]
     },
     "metadata": {},
     "output_type": "display_data"
    },
    {
     "data": {
      "text/markdown": [
       "##### **Zip/Postal Code**"
      ]
     },
     "metadata": {},
     "output_type": "display_data"
    },
    {
     "data": {
      "text/markdown": [
       "94305, 94025, 94304, 94063"
      ]
     },
     "metadata": {},
     "output_type": "display_data"
    },
    {
     "data": {
      "text/markdown": [
       "##### **County**"
      ]
     },
     "metadata": {},
     "output_type": "display_data"
    },
    {
     "data": {
      "text/markdown": [
       "Santa Clara County, San Mateo County"
      ]
     },
     "metadata": {},
     "output_type": "display_data"
    },
    {
     "data": {
      "text/markdown": [
       "##### **Country**"
      ]
     },
     "metadata": {},
     "output_type": "display_data"
    },
    {
     "data": {
      "text/markdown": [
       "United States"
      ]
     },
     "metadata": {},
     "output_type": "display_data"
    },
    {
     "data": {
      "text/markdown": [
       "##### **Activation Status**"
      ]
     },
     "metadata": {},
     "output_type": "display_data"
    },
    {
     "data": {
      "text/markdown": [
       "Activated"
      ]
     },
     "metadata": {},
     "output_type": "display_data"
    },
    {
     "data": {
      "text/markdown": [
       "##### **Network Status**"
      ]
     },
     "metadata": {},
     "output_type": "display_data"
    },
    {
     "data": {
      "text/markdown": [
       "Unreachable, Reachable"
      ]
     },
     "metadata": {},
     "output_type": "display_data"
    },
    {
     "data": {
      "text/markdown": [
       "##### **Station Status**"
      ]
     },
     "metadata": {},
     "output_type": "display_data"
    },
    {
     "data": {
      "text/markdown": [
       "Watch List, Available, Needs Service, Inuse"
      ]
     },
     "metadata": {},
     "output_type": "display_data"
    },
    {
     "data": {
      "text/markdown": [
       "##### **Port 1 Status**"
      ]
     },
     "metadata": {},
     "output_type": "display_data"
    },
    {
     "data": {
      "text/markdown": [
       "Watch List, Available, In Use, Needs Service"
      ]
     },
     "metadata": {},
     "output_type": "display_data"
    },
    {
     "data": {
      "text/markdown": [
       "##### **Port 2 Status**"
      ]
     },
     "metadata": {},
     "output_type": "display_data"
    },
    {
     "data": {
      "text/markdown": [
       "Watch List, Available, In Use, Needs Service"
      ]
     },
     "metadata": {},
     "output_type": "display_data"
    },
    {
     "data": {
      "text/markdown": [
       "##### **No. of Ports**"
      ]
     },
     "metadata": {},
     "output_type": "display_data"
    },
    {
     "data": {
      "text/markdown": [
       "2, 1"
      ]
     },
     "metadata": {},
     "output_type": "display_data"
    },
    {
     "data": {
      "text/markdown": [
       "##### **Pricing Policy Name**"
      ]
     },
     "metadata": {},
     "output_type": "display_data"
    },
    {
     "data": {
      "text/markdown": [
       "$1 per hr enforcement hours, $2 per hr enforcement hours $1 per hr otherwise (e, Stanford University Mirrored"
      ]
     },
     "metadata": {},
     "output_type": "display_data"
    },
    {
     "data": {
      "text/markdown": [
       "##### **Reservations**"
      ]
     },
     "metadata": {},
     "output_type": "display_data"
    },
    {
     "data": {
      "text/markdown": [
       "Disabled"
      ]
     },
     "metadata": {},
     "output_type": "display_data"
    },
    {
     "data": {
      "text/markdown": [
       "##### **Station Message**"
      ]
     },
     "metadata": {},
     "output_type": "display_data"
    },
    {
     "data": {
      "text/markdown": [
       "Plugged In Required"
      ]
     },
     "metadata": {},
     "output_type": "display_data"
    },
    {
     "data": {
      "text/markdown": [
       "##### **Enabled**"
      ]
     },
     "metadata": {},
     "output_type": "display_data"
    },
    {
     "data": {
      "text/markdown": [
       "Yes"
      ]
     },
     "metadata": {},
     "output_type": "display_data"
    },
    {
     "data": {
      "text/markdown": [
       "##### **Station Activation Type**"
      ]
     },
     "metadata": {},
     "output_type": "display_data"
    },
    {
     "data": {
      "text/markdown": [
       "Public"
      ]
     },
     "metadata": {},
     "output_type": "display_data"
    },
    {
     "data": {
      "text/markdown": [
       "##### **Usable By**"
      ]
     },
     "metadata": {},
     "output_type": "display_data"
    },
    {
     "data": {
      "text/markdown": [
       "All Drivers, Stanford University Mirrored"
      ]
     },
     "metadata": {},
     "output_type": "display_data"
    },
    {
     "data": {
      "text/markdown": [
       "##### **Visibility (Access Policy Name)**"
      ]
     },
     "metadata": {},
     "output_type": "display_data"
    },
    {
     "data": {
      "text/markdown": [
       "No Drivers, All Drivers, Stanford University Mirrored"
      ]
     },
     "metadata": {},
     "output_type": "display_data"
    },
    {
     "data": {
      "text/markdown": [
       "##### **EVSE ID**"
      ]
     },
     "metadata": {},
     "output_type": "display_data"
    },
    {
     "data": {
      "text/markdown": [
       "1942901, 1942891, 1942871, 1942831, 1942771, 1943001, 1942971, 1942961, 1942951, 1942911, 715031, 715051, 119361, 118801, 13124741, 110213, 13124781, 117141, 13124701, 110125, 13124811, 110209, 13124771, 107663, 13124731, 118797, 13124761, 118781, 119315, 13124721, 13125171, 13125341, 119355, 118785, 13124711, 126643, 2002541, 5499441, 5499291, 5499251, 5499161, 5498991, 5390121, 5441611, 5456051, 5485451, 5474401, 5474381, 5475761, 5480591, 5474391, 239571, 239611, 428361, 738381, 254601, 239441, 247101, 239411, 239671, 239621, 246721, 254841, 254621, 239541, 239631, 246861, 239531, 446341, 254801, 422291, 419271, 254681, 254641, 239661, 246781, 254711, 239511, 158679, 168373, 168401, 162597, 2100951, 125893, 126669, 126653, 126645, 126683, 126679, 125887, 125961, 162667, 125833, 126661, 126673, 162657, 126187, 126651, 126695, 125855, 125881, 126277, 125885, 126663, 126169, 162655, 148717, 126693, 162797"
      ]
     },
     "metadata": {},
     "output_type": "display_data"
    },
    {
     "data": {
      "text/markdown": [
       "##### **Radio Group Name**"
      ]
     },
     "metadata": {},
     "output_type": "display_data"
    },
    {
     "data": {
      "text/markdown": [
       "RG-GW1, RG-GW2, Track House, RG_00040667, GW 9, PS5 - SW Wall, GW 8, GW 7, GW 6, GW 5, GW 4, PS-5 NW Wall, GW 3, RG_0006BC3D, GW 2, GW 11, GW 10, TMU, GW 1, LL2 Group 1, Oak Road RG 01, Campus Dr RG2, RG_00042ED8, Campus Dr RG1, RG_0004A22C, Campus Dr RG3, Quarry Rd RG 6, Quarry Rd RG 5, Quarry Rd RG 4, Quarry Rd RG 3, Quarry Rd RG 2, Quarry Rd RG 1, RWC L5, RWC L4, RWC L3, RWC L2, RWC L1, RWC B1, Broadway GW2, Broadway GW1, Roble LL2 Group 2, Roble LL1 Group 2, RG_00045D08, Roble LL1 Group 1, RG_0003D5D6, RG_0003D26F, RG_000420C4, RG_00045CE8"
      ]
     },
     "metadata": {},
     "output_type": "display_data"
    },
    {
     "data": {
      "text/markdown": [
       "##### **Software Version**"
      ]
     },
     "metadata": {},
     "output_type": "display_data"
    },
    {
     "data": {
      "text/markdown": [
       "4.6.0.46, 4.20.0+2023.02.10.63-alpha, 4.6.0.39, 4.5.0.40, 3.7.9.19-6777192/v1.5.80000000000, 4.6.0.33, 4.6.0.35"
      ]
     },
     "metadata": {},
     "output_type": "display_data"
    },
    {
     "data": {
      "text/markdown": [
       "##### **Customer Category**"
      ]
     },
     "metadata": {},
     "output_type": "display_data"
    },
    {
     "data": {
      "text/markdown": [
       "Education, Workplace"
      ]
     },
     "metadata": {},
     "output_type": "display_data"
    },
    {
     "data": {
      "text/markdown": [
       "##### **Customer Subcategory**"
      ]
     },
     "metadata": {},
     "output_type": "display_data"
    },
    {
     "data": {
      "text/markdown": [
       "University / College, General"
      ]
     },
     "metadata": {},
     "output_type": "display_data"
    },
    {
     "data": {
      "text/markdown": [
       "##### **Circuit Sharing**"
      ]
     },
     "metadata": {},
     "output_type": "display_data"
    },
    {
     "data": {
      "text/markdown": [
       "Disabled, Enabled"
      ]
     },
     "metadata": {},
     "output_type": "display_data"
    },
    {
     "data": {
      "text/markdown": [
       "##### **Currency Name**"
      ]
     },
     "metadata": {},
     "output_type": "display_data"
    },
    {
     "data": {
      "text/markdown": [
       "U.S. Dollars (USD)"
      ]
     },
     "metadata": {},
     "output_type": "display_data"
    },
    {
     "data": {
      "text/markdown": [
       "##### **Power Select / AC Breaker Rating**"
      ]
     },
     "metadata": {},
     "output_type": "display_data"
    },
    {
     "data": {
      "text/markdown": [
       "40A, 30A"
      ]
     },
     "metadata": {},
     "output_type": "display_data"
    },
    {
     "data": {
      "text/markdown": [
       "##### **Scheduled Charging Policy Name**"
      ]
     },
     "metadata": {},
     "output_type": "display_data"
    },
    {
     "data": {
      "text/markdown": []
     },
     "metadata": {},
     "output_type": "display_data"
    },
    {
     "data": {
      "text/markdown": [
       "##### **Warranty**"
      ]
     },
     "metadata": {},
     "output_type": "display_data"
    },
    {
     "data": {
      "text/markdown": [
       "ChargePoint Assure, Standard Warranty"
      ]
     },
     "metadata": {},
     "output_type": "display_data"
    },
    {
     "data": {
      "text/markdown": [
       "##### **Station Activation Date**"
      ]
     },
     "metadata": {},
     "output_type": "display_data"
    },
    {
     "data": {
      "text/markdown": [
       "2020-09-17 15:38:10, 2020-09-17 15:35:51, 2020-09-17 15:29:31, 2020-09-17 15:36:26, 2020-09-17 15:38:46, 2020-09-17 15:40:18, 2020-09-17 15:39:25, 2020-09-17 15:42:11, 2020-09-17 15:44:39, 2020-09-17 15:40:00, 2020-08-19 23:02:32, 2020-08-19 23:10:20, 2015-03-19 08:32:56, 2015-03-20 12:37:34, 2023-01-19 08:43:35, 2016-06-08 14:14:10, 2023-01-19 08:41:24, 2016-06-08 14:56:20, 2023-02-02 10:49:00, 2016-06-08 14:54:04, 2023-01-19 08:37:34, 2016-06-08 14:45:44, 2023-01-19 08:33:44, 2016-06-08 14:11:06, 2023-01-19 08:31:07, 2015-03-18 15:43:43, 2023-01-19 08:26:50, 2015-03-30 07:36:25, 2015-03-18 15:12:52, 2023-01-19 08:20:56, 2023-05-11 14:04:13, 2023-03-06 12:38:27, 2015-03-19 15:24:31, 2015-03-18 15:22:59, 2023-01-19 08:10:23, 2017-02-01 11:44:03, 2020-05-28 05:26:59, 2020-12-22 17:53:21, 2020-11-25 17:06:57, 2020-11-25 17:07:07, 2020-11-25 16:50:44, 2020-11-25 16:52:25, 2021-05-11 09:01:41, 2020-12-19 23:28:41, 2020-11-25 14:57:07, 2021-03-22 10:30:10, 2021-03-16 14:00:45, 2021-03-16 13:53:28, 2021-03-22 11:53:21, 2021-10-12 12:55:13, 2021-03-16 12:59:29, 2019-03-15 06:51:13, 2019-03-15 06:55:18, 2019-03-15 05:56:15, 2019-03-15 06:53:15, 2019-03-15 06:49:16, 2019-03-15 06:35:19, 2019-03-15 05:44:19, 2019-03-15 06:39:16, 2019-03-15 06:37:20, 2019-03-15 06:45:14, 2019-03-15 05:38:11, 2019-03-15 06:47:15, 2019-03-15 06:43:15, 2019-03-15 06:39:14, 2019-03-15 06:35:18, 2019-03-15 05:36:14, 2019-03-15 06:37:13, 2019-03-15 05:34:14, 2019-03-15 06:43:16, 2019-03-15 06:49:14, 2019-03-15 06:39:15, 2019-03-15 06:47:14, 2019-03-15 06:45:15, 2019-03-15 05:54:18, 2019-03-15 05:22:14, 2019-03-15 05:52:14, 2019-03-15 05:56:13, 2020-11-11 06:56:36, 2017-03-23 17:38:00, 2017-03-23 17:37:23, 2017-03-23 16:35:37, 2020-02-11 13:52:31, 2017-01-31 15:24:07, 2017-01-31 14:43:12, 2017-01-31 15:24:08, 2017-01-31 15:20:58, 2017-02-01 03:56:40, 2017-01-31 15:27:12, 2017-01-27 17:27:15, 2017-01-27 18:33:32, 2017-01-27 13:18:14, 2017-01-27 13:30:53, 2017-01-31 16:36:41, 2017-02-01 02:20:56, 2017-01-27 16:59:07, 2017-01-27 15:02:08, 2017-01-26 17:26:13, 2017-01-26 17:35:38, 2017-01-26 17:45:11, 2017-01-26 17:32:28, 2017-01-26 18:10:23, 2017-01-26 17:48:17, 2017-01-26 17:29:23, 2017-01-26 17:51:26, 2017-01-26 14:33:33, 2017-01-26 15:27:05, 2017-01-31 15:17:50, 2017-01-26 16:39:08"
      ]
     },
     "metadata": {},
     "output_type": "display_data"
    },
    {
     "data": {
      "text/markdown": [
       "##### **Warranty Expiration Date**"
      ]
     },
     "metadata": {},
     "output_type": "display_data"
    },
    {
     "data": {
      "text/markdown": [
       "2023-12-31, 2027-09-11, 2021-05-28, 2026-03-22, 2026-03-16, 2026-10-12, 2020-03-15, 2021-11-11, 2018-03-23, 2021-02-11"
      ]
     },
     "metadata": {},
     "output_type": "display_data"
    },
    {
     "data": {
      "text/markdown": [
       "##### **Warranty Service**"
      ]
     },
     "metadata": {},
     "output_type": "display_data"
    },
    {
     "data": {
      "text/markdown": [
       "Parts & Labor, Parts Only"
      ]
     },
     "metadata": {},
     "output_type": "display_data"
    },
    {
     "data": {
      "text/markdown": [
       "##### **Plug Type**"
      ]
     },
     "metadata": {},
     "output_type": "display_data"
    },
    {
     "data": {
      "text/markdown": [
       "J1772, CHAdeMO, Combo"
      ]
     },
     "metadata": {},
     "output_type": "display_data"
    },
    {
     "data": {
      "text/markdown": [
       "##### **Device Access Restriction**"
      ]
     },
     "metadata": {},
     "output_type": "display_data"
    },
    {
     "data": {
      "text/markdown": [
       "NONE"
      ]
     },
     "metadata": {},
     "output_type": "display_data"
    },
    {
     "data": {
      "text/markdown": [
       "##### **Waitlist Policy Name**"
      ]
     },
     "metadata": {},
     "output_type": "display_data"
    },
    {
     "data": {
      "text/markdown": []
     },
     "metadata": {},
     "output_type": "display_data"
    },
    {
     "data": {
      "text/markdown": [
       "##### **Asset Tag ID**"
      ]
     },
     "metadata": {},
     "output_type": "display_data"
    },
    {
     "data": {
      "text/markdown": [
       "152541002783, 152741003076, 152741003072, 152741003068, 152741003081, 152741003082, 152541002779, 152541002807, 162841003554, 152541002762, 152741003077, 152741003079, 162741003546, 152641002898, 152741003088, 152541002775, 152541002778, 152641002895, 152541002782, 152741003075, 155141008435, 162841003560"
      ]
     },
     "metadata": {},
     "output_type": "display_data"
    },
    {
     "data": {
      "text/markdown": [
       "##### **Meter ID**"
      ]
     },
     "metadata": {},
     "output_type": "display_data"
    },
    {
     "data": {
      "text/markdown": [
       "SN152741003067"
      ]
     },
     "metadata": {},
     "output_type": "display_data"
    },
    {
     "data": {
      "text/markdown": [
       "##### **Service Delivery Point ID**"
      ]
     },
     "metadata": {},
     "output_type": "display_data"
    },
    {
     "data": {
      "text/markdown": []
     },
     "metadata": {},
     "output_type": "display_data"
    },
    {
     "data": {
      "text/markdown": [
       "##### **Point of Service ID**"
      ]
     },
     "metadata": {},
     "output_type": "display_data"
    },
    {
     "data": {
      "text/markdown": []
     },
     "metadata": {},
     "output_type": "display_data"
    },
    {
     "data": {
      "text/markdown": [
       "##### **Account ID**"
      ]
     },
     "metadata": {},
     "output_type": "display_data"
    },
    {
     "data": {
      "text/markdown": []
     },
     "metadata": {},
     "output_type": "display_data"
    },
    {
     "data": {
      "text/markdown": [
       "##### **Circuit ID**"
      ]
     },
     "metadata": {},
     "output_type": "display_data"
    },
    {
     "data": {
      "text/markdown": []
     },
     "metadata": {},
     "output_type": "display_data"
    },
    {
     "data": {
      "text/markdown": [
       "##### **Panel ID**"
      ]
     },
     "metadata": {},
     "output_type": "display_data"
    },
    {
     "data": {
      "text/markdown": []
     },
     "metadata": {},
     "output_type": "display_data"
    },
    {
     "data": {
      "text/markdown": [
       "##### **Customer Name**"
      ]
     },
     "metadata": {},
     "output_type": "display_data"
    },
    {
     "data": {
      "text/markdown": [
       "Stanford Parking & Transportation Services, ABM Electrical & Lighting Solutions, LLC (SoCal), Oak Park Unified School District, The Board of Trustees of The Leland Stanford Junior University, Stanford University"
      ]
     },
     "metadata": {},
     "output_type": "display_data"
    },
    {
     "data": {
      "text/markdown": [
       "##### **Customer ID**"
      ]
     },
     "metadata": {},
     "output_type": "display_data"
    },
    {
     "data": {
      "text/markdown": [
       "0014000000wFNW2, 0014000000aMh42, 0014000000gHPcz, 0014000000kfOC5"
      ]
     },
     "metadata": {},
     "output_type": "display_data"
    },
    {
     "data": {
      "text/markdown": [
       "##### **Site ID**"
      ]
     },
     "metadata": {},
     "output_type": "display_data"
    },
    {
     "data": {
      "text/markdown": []
     },
     "metadata": {},
     "output_type": "display_data"
    },
    {
     "data": {
      "text/markdown": [
       "##### **Site mode**"
      ]
     },
     "metadata": {},
     "output_type": "display_data"
    },
    {
     "data": {
      "text/markdown": []
     },
     "metadata": {},
     "output_type": "display_data"
    },
    {
     "data": {
      "text/markdown": [
       "##### **Site Validation Status**"
      ]
     },
     "metadata": {},
     "output_type": "display_data"
    },
    {
     "data": {
      "text/markdown": [
       "Validated, Not Validated"
      ]
     },
     "metadata": {},
     "output_type": "display_data"
    },
    {
     "data": {
      "text/markdown": [
       "##### **Paired**"
      ]
     },
     "metadata": {},
     "output_type": "display_data"
    },
    {
     "data": {
      "text/markdown": [
       "No"
      ]
     },
     "metadata": {},
     "output_type": "display_data"
    },
    {
     "data": {
      "text/markdown": [
       "##### **Latitude**"
      ]
     },
     "metadata": {},
     "output_type": "display_data"
    },
    {
     "data": {
      "text/markdown": [
       "37.426793659810016, 37.42680510868808, 37.42783416929919, 37.426802179905486, 37.4268107, 37.426785139713566, 37.4278075443645, 37.4278757041782, 37.43220734102387, 37.432241418935455, 37.45041, 37.43171044847697, 37.450394, 37.43175282649997, 37.45039733830973, 37.431757357410085, 37.45037, 37.43174023441741, 37.43175217797956, 37.4503876418016, 37.43187166339748, 37.450404144282025, 37.4235392953854, 37.43193981951077, 37.450413, 37.450653, 37.450396159211294, 37.42353031813845, 37.43199093655503, 37.42621544618659, 37.42925895023151, 37.42546342823224, 37.42563276795673, 37.42566152372096, 37.42562249843807, 37.42558910177513, 37.42552093987972, 37.425431477297856, 37.425595491949615, 37.43758993277954, 37.43994537522589, 37.437244799999995, 37.44008806162375, 37.440014588811074, 37.43996028277272, 37.483830085831535, 37.48380241662368, 37.48377900420903, 37.483708766921104, 37.483685354477096, 37.48385881922885, 37.4837598485916, 37.48374069296927, 37.483682161870526, 37.48382928768144, 37.4836513, 37.4837279225516, 37.483678969263806, 37.48382582903098, 37.483760912792704, 37.48375239918352, 37.48371408793006, 37.48384553997287, 37.48387691062148, 37.483716216333534, 37.483693069942404, 37.483680565567184, 37.48365555681048, 37.48380454502468, 37.483723665745266, 37.48365412633115, 37.48465735481143, 37.4846431782048, 37.4849383, 37.48494042836861, 37.484929786524965, 37.426269408993285, 37.426286449302594, 37.42632052990961, 37.426363130646514, 37.42638869107704, 37.42643129177518, 37.426439811911905, 37.426329050058925, 37.42631200975929, 37.42620976788015, 37.42622680820304, 37.426448332047634, 37.42632368474175, 37.42649998495956, 37.426465904434274, 37.426435544044864, 37.4264255395908, 37.42678556649676, 37.42639846349808, 37.426411897405714, 37.42634876198768, 37.426527734861885, 37.42647208247871, 37.426317033400885, 37.426334040085905"
      ]
     },
     "metadata": {},
     "output_type": "display_data"
    },
    {
     "data": {
      "text/markdown": [
       "##### **Longitude**"
      ]
     },
     "metadata": {},
     "output_type": "display_data"
    },
    {
     "data": {
      "text/markdown": [
       "-122.1592395153442, -122.15920263497024, -122.15657205847889, -122.15917514232784, -122.1591858711639, -122.1591322269836, -122.15916441349178, -122.15919659999996, -122.15915368465572, -122.15660022167354, -122.15649293331296, -122.16329689629517, -122.1632325232788, -122.177246, -122.1828376358759, -122.17716, -122.18284779288138, -122.17725536441804, -122.18285127986668, -122.17628, -122.18283775917509, -122.17633, -122.18286498364182, -122.17729425644876, -122.1826917650818, -122.17726810491084, -122.17110856613158, -122.18259520555728, -122.17723, -122.17668, -122.17727013988112, -122.17105130926204, -122.18247718836062, -122.17725, -122.17528922540896, -122.1844759464882, -122.15975492268448, -122.159489383992, -122.15954705148584, -122.15954674077344, -122.15958057909852, -122.15980588465575, -122.15982197790986, -122.15962885886078, -122.1714015910874, -122.17132815833588, -122.1716781, -122.1711511325409, -122.17118331904908, -122.17122623439332, -122.20392049695892, -122.20392586137694, -122.20395000125808, -122.20398486997529, -122.20401705648344, -122.20390306260032, -122.20396877672118, -122.20397682334824, -122.2040090098564, -122.20393357272786, -122.2037542, -122.2039915754978, -122.2040251031105, -122.2039164736454, -122.20396475340766, -122.20398755218427, -122.20399425770682, -122.20391669583968, -122.2038842871372, -122.2040063276474, -122.2040200739686, -122.20403113808078, -122.20404253746908, -122.20393122579496, -122.20393927242202, -122.20398218776626, -122.20403712440223, -122.20684677486878, -122.20742303177298, -122.2067073, -122.20677167301636, -122.20657855396728, -122.17548427354126, -122.17554864655762, -122.17566666375428, -122.17574176560667, -122.1758168674591, -122.17590269814758, -122.1759778, -122.17605290185242, -122.17551646004944, -122.17561301957396, -122.17535552750854, -122.17538771401672, -122.17614946137697, -122.17543473729552, -122.1761681952454, -122.17600726270445, -122.17591751852416, -122.17584955714722, -122.17600974127812, -122.17572525714723, -122.17569146903384, -122.17561776455688, -122.17609522209004, -122.17608156085204, -122.17560433068849, -122.17557698584444"
      ]
     },
     "metadata": {},
     "output_type": "display_data"
    }
   ],
   "source": [
    "summarize_dataframe_md(station_overview, 'Station Overview Summary')"
   ]
  },
  {
   "cell_type": "markdown",
   "metadata": {},
   "source": [
    "### **Station and Port Status**"
   ]
  },
  {
   "cell_type": "code",
   "execution_count": 4,
   "metadata": {},
   "outputs": [
    {
     "data": {
      "text/markdown": [
       "**Number of Stations:** 109"
      ]
     },
     "metadata": {},
     "output_type": "display_data"
    },
    {
     "data": {
      "text/markdown": [
       "**Number of Ports:** 205"
      ]
     },
     "metadata": {},
     "output_type": "display_data"
    },
    {
     "data": {
      "text/markdown": [
       "#### **Station Count by Status**"
      ]
     },
     "metadata": {},
     "output_type": "display_data"
    },
    {
     "data": {
      "text/html": [
       "<div>\n",
       "<style scoped>\n",
       "    .dataframe tbody tr th:only-of-type {\n",
       "        vertical-align: middle;\n",
       "    }\n",
       "\n",
       "    .dataframe tbody tr th {\n",
       "        vertical-align: top;\n",
       "    }\n",
       "\n",
       "    .dataframe thead th {\n",
       "        text-align: right;\n",
       "    }\n",
       "</style>\n",
       "<table border=\"1\" class=\"dataframe\">\n",
       "  <thead>\n",
       "    <tr style=\"text-align: right;\">\n",
       "      <th></th>\n",
       "      <th>count</th>\n",
       "    </tr>\n",
       "    <tr>\n",
       "      <th>Station Status</th>\n",
       "      <th></th>\n",
       "    </tr>\n",
       "  </thead>\n",
       "  <tbody>\n",
       "    <tr>\n",
       "      <th>Available</th>\n",
       "      <td>88</td>\n",
       "    </tr>\n",
       "    <tr>\n",
       "      <th>Watch List</th>\n",
       "      <td>11</td>\n",
       "    </tr>\n",
       "    <tr>\n",
       "      <th>Needs Service</th>\n",
       "      <td>7</td>\n",
       "    </tr>\n",
       "    <tr>\n",
       "      <th>Inuse</th>\n",
       "      <td>3</td>\n",
       "    </tr>\n",
       "  </tbody>\n",
       "</table>\n",
       "</div>"
      ],
      "text/plain": [
       "                count\n",
       "Station Status       \n",
       "Available          88\n",
       "Watch List         11\n",
       "Needs Service       7\n",
       "Inuse               3"
      ]
     },
     "metadata": {},
     "output_type": "display_data"
    },
    {
     "data": {
      "text/markdown": [
       "**Stations Needing Service or on Watch List:** 18 (16.51%)"
      ]
     },
     "metadata": {},
     "output_type": "display_data"
    },
    {
     "data": {
      "text/markdown": [
       "#### **Port Count by Status**"
      ]
     },
     "metadata": {},
     "output_type": "display_data"
    },
    {
     "data": {
      "text/html": [
       "<div>\n",
       "<style scoped>\n",
       "    .dataframe tbody tr th:only-of-type {\n",
       "        vertical-align: middle;\n",
       "    }\n",
       "\n",
       "    .dataframe tbody tr th {\n",
       "        vertical-align: top;\n",
       "    }\n",
       "\n",
       "    .dataframe thead th {\n",
       "        text-align: right;\n",
       "    }\n",
       "</style>\n",
       "<table border=\"1\" class=\"dataframe\">\n",
       "  <thead>\n",
       "    <tr style=\"text-align: right;\">\n",
       "      <th></th>\n",
       "      <th>count</th>\n",
       "    </tr>\n",
       "    <tr>\n",
       "      <th>value</th>\n",
       "      <th></th>\n",
       "    </tr>\n",
       "  </thead>\n",
       "  <tbody>\n",
       "    <tr>\n",
       "      <th>Available</th>\n",
       "      <td>144</td>\n",
       "    </tr>\n",
       "    <tr>\n",
       "      <th>In Use</th>\n",
       "      <td>31</td>\n",
       "    </tr>\n",
       "    <tr>\n",
       "      <th>Watch List</th>\n",
       "      <td>22</td>\n",
       "    </tr>\n",
       "    <tr>\n",
       "      <th>Needs Service</th>\n",
       "      <td>8</td>\n",
       "    </tr>\n",
       "  </tbody>\n",
       "</table>\n",
       "</div>"
      ],
      "text/plain": [
       "               count\n",
       "value               \n",
       "Available        144\n",
       "In Use            31\n",
       "Watch List        22\n",
       "Needs Service      8"
      ]
     },
     "metadata": {},
     "output_type": "display_data"
    },
    {
     "data": {
      "text/markdown": [
       "**Ports Needing Service or on Watch List:** 30 (14.63%)"
      ]
     },
     "metadata": {},
     "output_type": "display_data"
    }
   ],
   "source": [
    "num_stations = len(station_overview)\n",
    "num_ports = station_overview['No. of Ports'].sum()\n",
    "\n",
    "print_md(f'**Number of Stations:** {num_stations}')\n",
    "print_md(f'**Number of Ports:** {num_ports}')\n",
    "\n",
    "print_md('#### **Station Count by Status**')\n",
    "station_status_counts = station_overview.value_counts('Station Status')\n",
    "assert num_stations == station_status_counts.sum()\n",
    "display(station_status_counts.to_frame())\n",
    "\n",
    "num_stations_need_service_or_watch_list = station_status_counts.loc[['Watch List', 'Needs Service']].sum()\n",
    "percent_stations_need_service_or_watch_list = round(num_stations_need_service_or_watch_list / num_stations * 100, 2)\n",
    "print_md(f'**Stations Needing Service or on Watch List:** {num_stations_need_service_or_watch_list} ({percent_stations_need_service_or_watch_list}%)')\n",
    "\n",
    "print_md('#### **Port Count by Status**')\n",
    "port_status_counts = station_overview[['Port 1 Status', 'Port 2 Status']].melt()['value'].value_counts().drop('')\n",
    "assert num_ports == port_status_counts.sum()\n",
    "display(port_status_counts.to_frame())\n",
    "\n",
    "num_ports_need_service_or_watch_list = port_status_counts.loc[['Watch List', 'Needs Service']].sum()\n",
    "percent_ports_need_service_or_watch_list = round(num_ports_need_service_or_watch_list / num_ports * 100, 2)\n",
    "print_md(f'**Ports Needing Service or on Watch List:** {num_ports_need_service_or_watch_list} ({percent_ports_need_service_or_watch_list}%)')"
   ]
  },
  {
   "cell_type": "markdown",
   "metadata": {},
   "source": [
    "### **Alarms**"
   ]
  },
  {
   "cell_type": "code",
   "execution_count": 5,
   "metadata": {},
   "outputs": [
    {
     "data": {
      "text/markdown": [
       "#### **Alarms Summary**"
      ]
     },
     "metadata": {},
     "output_type": "display_data"
    },
    {
     "data": {
      "text/markdown": [
       "**Number of Rows:** 340967"
      ]
     },
     "metadata": {},
     "output_type": "display_data"
    },
    {
     "data": {
      "text/markdown": [
       "**Columns:** Display Name, MAC Address, Org Name, Alarm Severity, Alarm Name, Alarm ID, FRU Name, Model Number, Port, Reason For Clearing, Component Serial Number"
      ]
     },
     "metadata": {},
     "output_type": "display_data"
    },
    {
     "data": {
      "text/markdown": [
       "#### **Unique Column Values**"
      ]
     },
     "metadata": {},
     "output_type": "display_data"
    },
    {
     "data": {
      "text/markdown": [
       "##### **Display Name**"
      ]
     },
     "metadata": {},
     "output_type": "display_data"
    },
    {
     "data": {
      "text/markdown": [
       "STANFORD / STATION 1 TMU, STANFORD / STATION 2 TMU, STANFORD / CD STATION 6, STANFORD / CD GATEWAY #2, STANFORD / THO NGW-B5, STANFORD / THO NGW-B1, STANFORD / THO NGW-B4, STANFORD / THO NGW-B3, STANFORD / THO NGW-B2, STANFORD / THO GW-B, ROBLE / ROBLE LL1-11, ROBLE / ROBLE LL1-8, ROBLE / ROBLE LL1-12, ROBLE / ROBLE LL1-6, ROBLE / ROBLE LL1-3, ROBLE / ROBLE LL1-1, ROBLE / ROBLE LL1-DIS, ROBLE / ROBLE LL1-2, STANFORD / TH STATION 1, ROBLE / ROBLE LL2-9, ROBLE / ROBLE LL2-1, SRWC / RWC L4 3, SRWC / RWC L2 2, ROBLE / ROBLE LL2-14, STANFORD / CAM 5 LL1, SRWC / RWC L2 3, SRWC / RWC L2 4, SRWC / RWC L2 1, ROBLE / ROBLE LL2-10, ROBLE / ROBLE LL2-13, ROBLE / ROBLE LL2-2, ROBLE / ROBLE LL1-7, ROBLE / ROBLE LL2-4, ROBLE / ROBLE LL2-8, STANFORD / STATION 3 PS-5, STANFORD / ROBLE LL2-12, STANFORD / TH WALL MOUNT, ROBLE / ROBLE LL2-3, ROBLE / ROBLE LL2-5, ROBLE / ROBLE LL2-11, STANFORD / STATION 2 PS-5, ROBLE / ROBLE LL1-5, ROBLE / ROBLE LL1-10, ROBLE / ROBLE LL2-6, ROBLE / ROBLE LL2-7, STANFORD / STATION 1 PS-5, ROBLE / ROBLE LL1-9, ROBLE / ROBLE LL1-4, SRWC / RWC L1 6, SRWC / RWC L1 5, SRWC / RWC L1 3, SRWC / RWC L1 4, STANFORD / THO NGW-A3, STANFORD / THO GW-A, STANFORD / THO NGW-A5 ADA, STANFORD / THO NGW-A1, STANFORD / THO NGW-A4, STANFORD / THO NGW-A2, STANFORD / CAM 1 LL1, STANFORD / STATION 11, STANFORD / CAM 2 LL1, STANFORD / STATION 2, STANFORD / STATION 3, STANFORD / STATION 5, STANFORD / STATION 7 PS-5, STANFORD / STATION 7, SRWC / RWC L5 2, SRWC / RWC L3 4, SRWC / RWC L3 2, SRWC / RWC L3 1, SRWC / RWC L4 2, SRWC / RWC L4 1, SRWC / RWC L1 1, SRWC / RWC L1 2, SRWC / RWC L5 5, SRWC / RWC L5 1, SRWC / RWC L5 4, SRWC / RWC B1 2, SRWC / RWC B1 1, SRWC / RWC B1 4, STANFORD / STATION 6 PS-5, STANFORD / STATION 8 PS-5, STANFORD / STATION 5 PS-5, STANFORD / CD GATEWAY #3, STANFORD / CD STATION 2, STANFORD / CD STATION 3, STANFORD / CD GATEWAY #1, STANFORD / CD STATION 1, STANFORD / CAM 3 LL1, STANFORD / STATION 4 PS-5, SRWC / RWC L5 3, SRWC / RWC L4 4, SRWC / RWC B1 3, STANFORD / OAK ROAD #1, STANFORD / CD STATION 4, SRWC / RWC L3 3, STANFORD / CAM 6 LL1, STANFORD / STATION 8, STANFORD / CAM 4 LL1, STANFORD / STATION 9, STANFORD / STATION 6, STANFORD / STATION 1, STANFORD / STATION 4, STANFORD / STATION 10, SRWC / CHARGER 1, SRWC / CHARGER 4, SRWC / CHARGER 2, SRWC / CHARGER 3, STANFORD / OFF NETWORK 1, STANFORD / OFF NETWORK1, STANFORD / CHARGER 1, STANFORD / CHARGER 3, STANFORD / CHARGER 4, STANFORD / CHARGER 2, STANFORD / CHARGER 5, STANFORD / RWC L2 2, STANFORD / RWC L4 1, STANFORD / RWC L4 4, STANFORD / RWC L4 2, STANFORD / RWC L4 3, STANFORD / RWC L5 3, STANFORD / RWC L3 3, STANFORD / RWC L1 6, STANFORD / RWC L5 2, STANFORD / RWC L5 1, STANFORD / RWC L5 5, STANFORD / RWC L5 4, STANFORD / RWC L3 2, STANFORD / RWC L3 1, STANFORD / RWC L3 4, STANFORD / RWC B1 3, STANFORD / RWC B1 2, STANFORD / RWC B1 1, STANFORD / RWC B1 4, STANFORD / RWC L1 4, STANFORD / RWC L1 3, STANFORD / RWC L1 2, STANFORD / RWC L1 5, STANFORD / RWC L1 1, STANFORD / RWC L2 1, STANFORD / RWC L2 4, STANFORD / RWC L2 3, STANFORD / THOBURN 2, STANFORD / THOBURN 1"
      ]
     },
     "metadata": {},
     "output_type": "display_data"
    },
    {
     "data": {
      "text/markdown": [
       "##### **MAC Address**"
      ]
     },
     "metadata": {},
     "output_type": "display_data"
    },
    {
     "data": {
      "text/markdown": [
       "0024:B100:0003:33C3, 0024:B100:0006:BC3D, 0024:B100:0003:2ADF, 0024:B100:0004:A250, 0024:B100:0003:12F8, 0024:B100:0003:12D9, 0024:B100:0003:130F, 0024:B100:0003:12EE, 0024:B100:0003:12F1, 0024:B100:0003:2C1C, 0024:B100:0002:3F5A, 0024:B100:0002:2A7C, 0024:B100:0004:0EC1, 0024:B100:0002:2954, 0024:B100:0002:2A73, 0024:B100:0002:5158, 0024:B100:0002:299E, 0024:B100:0004:20C4, 0024:B100:0004:0667, 0024:B100:0002:295F, 0024:B100:0002:5134, 0024:B100:0002:8FD1, 0024:B100:0002:8FCA, 0024:B100:0002:5154, 0024:B100:0003:C689, 0024:B100:0002:8E27, 0024:B100:0002:8E2F, 0024:B100:0002:8E2C, 0024:B100:0002:2A71, 0024:B100:0002:294E, 0024:B100:0002:297C, 0024:B100:0002:2940, 0024:B100:0002:2A80, 0024:B100:0002:2A8E, 0024:B100:0002:1F6C, 0024:B100:0002:2A6E, 0024:B100:0002:16F3, 0024:B100:0002:2955, 0024:B100:0002:2A70, 0024:B100:0002:2A7B, 0024:B100:0004:3B91, 0024:B100:0003:D5D6, 0024:B100:0004:5CE8, 0024:B100:0002:2A6B, 0024:B100:0002:2A74, 0024:B100:0002:1EED, 0024:B100:0004:5D08, 0024:B100:0003:D26F, 0024:B100:0002:B04A, 0024:B100:0002:919B, 0024:B100:0002:AD71, 0024:B100:0002:AE14, 0024:B100:0003:130E, 0024:B100:0003:2A8C, 0024:B100:0003:1318, 0024:B100:0003:12EB, 0024:B100:0003:1312, 0024:B100:0003:130B, 0024:B100:0003:BF3B, 0024:B100:000C:083C, 0024:B100:0004:0E93, 0024:B100:0006:C0E2, 0024:B100:0006:C80C, 0024:B100:0006:BD20, 0024:B100:0002:1C6A, 0024:B100:0006:C802, 0024:B100:0003:1F95, 0024:B100:0002:8E28, 0024:B100:0002:91C3, 0024:B100:0002:918F, 0024:B100:0002:8E36, 0024:B100:0002:8E37, 0024:B100:0002:594F, 0024:B100:0002:9202, 0024:B100:0002:8DD9, 0024:B100:0002:9194, 0024:B100:0002:8E32, 0024:B100:0002:9193, 0024:B100:0002:8E4A, 0024:B100:0002:8DDC, 0024:B100:0002:15D0, 0024:B100:0002:15D4, 0024:B100:0002:15DF, 0024:B100:0004:1B12, 0024:B100:0004:A22C, 0024:B100:0003:2AB1, 0024:B100:0004:C4B2, 0024:B100:0003:2AB5, 0024:B100:0003:BF3D, 0024:B100:0002:13E5, 0024:B100:0002:A917, 0024:B100:0002:8E49, 0024:B100:0003:9836, 0024:B100:0003:824E, 0024:B100:0004:2ED8, 0024:B100:0002:8E02, 0024:B100:0003:C68A, 0024:B100:0006:BD1D, 0024:B100:0003:BF91, 0024:B100:0006:C0E1, 0024:B100:0006:BD13, 0024:B100:0006:4538, 0024:B100:0006:C80F, 0024:B100:0006:C7DC, 0024:B100:0002:4AEB, 0024:B100:0002:5752, 0024:B100:0002:5144, 0024:B100:0002:575E, 0024:B100:0002:1E24, 0024:B100:0002:1F61, 000D:6F00:04F8:B0AC, 0024:B100:0002:5150, 0024:B100:0003:BF84, 0024:B100:0003:6743, 0024:B100:0002:29C6, 0024:B100:0002:2A78, 0024:B100:0002:2A89, 0024:B100:0003:66F6, 0024:B100:0003:519A, 0024:B100:0003:2B24, 0024:B100:0002:1F71, 0024:B100:0002:29C3, 0024:B100:0002:2963, 0024:B100:0002:8F36, 0024:B100:0002:91B6, 0024:B100:0002:2022"
      ]
     },
     "metadata": {},
     "output_type": "display_data"
    },
    {
     "data": {
      "text/markdown": [
       "##### **Org Name**"
      ]
     },
     "metadata": {},
     "output_type": "display_data"
    },
    {
     "data": {
      "text/markdown": [
       "Stanford University"
      ]
     },
     "metadata": {},
     "output_type": "display_data"
    },
    {
     "data": {
      "text/markdown": [
       "##### **Alarm Severity**"
      ]
     },
     "metadata": {},
     "output_type": "display_data"
    },
    {
     "data": {
      "text/markdown": []
     },
     "metadata": {},
     "output_type": "display_data"
    },
    {
     "data": {
      "text/markdown": [
       "##### **Alarm Name**"
      ]
     },
     "metadata": {},
     "output_type": "display_data"
    },
    {
     "data": {
      "text/markdown": [
       "Tamper Detect, Circuit Sharing Current Restored, Fault Cleared, Bootup Due to POWER ON, Reachable, Unreachable, Circuit Sharing Current Reduced, Boot up, Bootup Due to SOFT RESET, Data Partition Full, Bootup Due to WATCHDOG, IP Mismatch Detected, Powered Off, Unknown RFID, Maintenance Required, Hardware Fault Station Out Of Service, Bootup Due to SWITCH, GFCI Soft Trip, FCheck Error, RFID Update Failed, Pilot Unreachable (18), Relay Stuck Close, Pilot current level exceeded, Hardware Fault, Earth Fault Station In Service, GFCI Hard Trip, Grace Sessions Exceeded, Earth Fault Station Out Of Service, Ventilation Fault, CHAdeMO control loop detected fault (39), EVSE Unreachable, Emergency Stop button pressed - No circuit breaker Trip fired (Soft E-Stop) (188), Communication timeout. (63), Communication timeout. (62), Vehicle fault (50), Charger Fault - contact Tritium (28), Station Not Activated"
      ]
     },
     "metadata": {},
     "output_type": "display_data"
    },
    {
     "data": {
      "text/markdown": [
       "##### **Alarm ID**"
      ]
     },
     "metadata": {},
     "output_type": "display_data"
    },
    {
     "data": {
      "text/markdown": [
       "23, 18, 27, 33, 29, 4, 24, 8, 2, 28, 25, 5, 30, 17, 39, 65575, 31, 65724, 65599, 65598, 65586, 65564"
      ]
     },
     "metadata": {},
     "output_type": "display_data"
    },
    {
     "data": {
      "text/markdown": [
       "##### **FRU Name**"
      ]
     },
     "metadata": {},
     "output_type": "display_data"
    },
    {
     "data": {
      "text/markdown": []
     },
     "metadata": {},
     "output_type": "display_data"
    },
    {
     "data": {
      "text/markdown": [
       "##### **Model Number**"
      ]
     },
     "metadata": {},
     "output_type": "display_data"
    },
    {
     "data": {
      "text/markdown": [
       "CT4020-HD-GW, CT4020-HD, CT4010-HD-GW, CT4020-HD2-GW-LTE, CT4010-HD, CPE200T-S-CHD-CMB"
      ]
     },
     "metadata": {},
     "output_type": "display_data"
    },
    {
     "data": {
      "text/markdown": [
       "##### **Port**"
      ]
     },
     "metadata": {},
     "output_type": "display_data"
    },
    {
     "data": {
      "text/markdown": [
       "1, 2, 1A, 1B"
      ]
     },
     "metadata": {},
     "output_type": "display_data"
    },
    {
     "data": {
      "text/markdown": [
       "##### **Reason For Clearing**"
      ]
     },
     "metadata": {},
     "output_type": "display_data"
    },
    {
     "data": {
      "text/markdown": [
       "---"
      ]
     },
     "metadata": {},
     "output_type": "display_data"
    },
    {
     "data": {
      "text/markdown": [
       "##### **Component Serial Number**"
      ]
     },
     "metadata": {},
     "output_type": "display_data"
    },
    {
     "data": {
      "text/markdown": []
     },
     "metadata": {},
     "output_type": "display_data"
    }
   ],
   "source": [
    "summarize_dataframe_md(alarms.drop('Alarm Time', axis=1), 'Alarms Summary')"
   ]
  },
  {
   "cell_type": "code",
   "execution_count": 6,
   "metadata": {},
   "outputs": [
    {
     "data": {
      "text/plain": [
       "Alarm Name\n",
       "Boot up                                                                               25187\n",
       "Bootup Due to POWER ON                                                                  714\n",
       "Bootup Due to SOFT RESET                                                               3060\n",
       "Bootup Due to SWITCH                                                                   1294\n",
       "Bootup Due to WATCHDOG                                                                11286\n",
       "CHAdeMO control loop detected fault (39)                                                 57\n",
       "Charger Fault - contact Tritium (28)                                                     17\n",
       "Circuit Sharing Current Reduced                                                       18812\n",
       "Circuit Sharing Current Restored                                                      31511\n",
       "Communication timeout. (62)                                                               2\n",
       "Communication timeout. (63)                                                               6\n",
       "Data Partition Full                                                                    1498\n",
       "EVSE Unreachable                                                                         25\n",
       "Earth Fault Station In Service                                                            2\n",
       "Earth Fault Station Out Of Service                                                        2\n",
       "Emergency Stop button pressed - No circuit breaker Trip fired (Soft E-Stop) (188)        20\n",
       "FCheck Error                                                                            352\n",
       "Fault Cleared                                                                         45828\n",
       "GFCI Hard Trip                                                                            5\n",
       "GFCI Soft Trip                                                                           85\n",
       "Grace Sessions Exceeded                                                                   1\n",
       "Hardware Fault                                                                           22\n",
       "Hardware Fault Station Out Of Service                                                    19\n",
       "IP Mismatch Detected                                                                   4609\n",
       "Maintenance Required                                                                    783\n",
       "Pilot Unreachable (18)                                                                  321\n",
       "Pilot current level exceeded                                                              3\n",
       "Powered Off                                                                             379\n",
       "RFID Update Failed                                                                       16\n",
       "Reachable                                                                            109915\n",
       "Relay Stuck Close                                                                        93\n",
       "Station Not Activated                                                                     1\n",
       "Tamper Detect                                                                         20720\n",
       "Unknown RFID                                                                           1509\n",
       "Unreachable                                                                           62808\n",
       "Vehicle fault (50)                                                                        2\n",
       "Ventilation Fault                                                                         3\n",
       "Name: count, dtype: int64"
      ]
     },
     "metadata": {},
     "output_type": "display_data"
    },
    {
     "name": "stdout",
     "output_type": "stream",
     "text": [
      "Boot up\n",
      "Bootup Due to POWER ON\n",
      "Bootup Due to SOFT RESET\n",
      "Bootup Due to SWITCH\n",
      "Bootup Due to WATCHDOG\n",
      "CHAdeMO control loop detected fault (39)\n",
      "Charger Fault - contact Tritium (28)\n",
      "Circuit Sharing Current Reduced\n",
      "Circuit Sharing Current Restored\n",
      "Communication timeout. (62)\n",
      "Communication timeout. (63)\n",
      "Data Partition Full\n",
      "EVSE Unreachable\n",
      "Earth Fault Station In Service\n",
      "Earth Fault Station Out Of Service\n",
      "Emergency Stop button pressed - No circuit breaker Trip fired (Soft E-Stop) (188)\n",
      "FCheck Error\n",
      "Fault Cleared\n",
      "GFCI Hard Trip\n",
      "GFCI Soft Trip\n",
      "Grace Sessions Exceeded\n",
      "Hardware Fault\n",
      "Hardware Fault Station Out Of Service\n",
      "IP Mismatch Detected\n",
      "Maintenance Required\n",
      "Pilot Unreachable (18)\n",
      "Pilot current level exceeded\n",
      "Powered Off\n",
      "RFID Update Failed\n",
      "Reachable\n",
      "Relay Stuck Close\n",
      "Station Not Activated\n",
      "Tamper Detect\n",
      "Unknown RFID\n",
      "Unreachable\n",
      "Vehicle fault (50)\n",
      "Ventilation Fault\n"
     ]
    },
    {
     "data": {
      "image/png": "[encoded data removed]",
      "text/plain": [
       "<Figure size 640x480 with 1 Axes>"
      ]
     },
     "metadata": {},
     "output_type": "display_data"
    }
   ],
   "source": [
    "alarm_name_vcs = alarms['Alarm Name'].value_counts()\n",
    "display(alarm_name_vcs.sort_index())\n",
    "for x in alarm_name_vcs.sort_index().index:\n",
    "    print(x)\n",
    "# alarm_name.hist(xrot=90, bins=alarm_name.nunique(), density=True)\n",
    "ax = (alarm_name_vcs / alarm_name_vcs.sum()).plot.bar(color='black')\n",
    "ax.grid()\n"
   ]
  },
  {
   "cell_type": "markdown",
   "metadata": {},
   "source": [
    "### **Uptime**"
   ]
  },
  {
   "cell_type": "markdown",
   "metadata": {},
   "source": [
    "#### **State Model**"
   ]
  },
  {
   "cell_type": "code",
   "execution_count": 7,
   "metadata": {},
   "outputs": [],
   "source": [
    "def calculate_state_from_alarms(alarms):\n",
    "    from chargepoint import ChargerModel, AlarmEnum\n",
    "\n",
    "    # Mapping from MAC addresses to models. Each MAC address corresponds to one unique charger model.\n",
    "    models: dict[str, ChargerModel] = {}\n",
    "\n",
    "    state_alarms = alarms.copy()\n",
    "    state_alarms['State'] = ''\n",
    "\n",
    "    # Iterate through all alarms chronologically and send to underlying charger state models. \n",
    "    for index, row in state_alarms.sort_values('Alarm Time').iterrows():\n",
    "        mac = row['MAC Address']\n",
    "        if mac in models:\n",
    "            model = models[mac]\n",
    "        else:\n",
    "            model = ChargerModel(return_to_last_known_state=True)\n",
    "            models[mac] = model\n",
    "        \n",
    "        alarm = AlarmEnum(row['Alarm Name'])\n",
    "        model.send(alarm)\n",
    "        state_alarms.loc[index, 'State'] = model.state.station_status.current_state.name\n",
    "\n",
    "    return state_alarms\n",
    "\n",
    "state_alarms = calculate_state_from_alarms(alarms)"
   ]
  },
  {
   "cell_type": "code",
   "execution_count": 8,
   "metadata": {},
   "outputs": [
    {
     "data": {
      "text/html": [
       "<div>\n",
       "<style scoped>\n",
       "    .dataframe tbody tr th:only-of-type {\n",
       "        vertical-align: middle;\n",
       "    }\n",
       "\n",
       "    .dataframe tbody tr th {\n",
       "        vertical-align: top;\n",
       "    }\n",
       "\n",
       "    .dataframe thead th {\n",
       "        text-align: right;\n",
       "    }\n",
       "</style>\n",
       "<table border=\"1\" class=\"dataframe\">\n",
       "  <thead>\n",
       "    <tr style=\"text-align: right;\">\n",
       "      <th></th>\n",
       "      <th>Display Name</th>\n",
       "      <th>MAC Address</th>\n",
       "      <th>Org Name</th>\n",
       "      <th>Alarm Severity</th>\n",
       "      <th>Alarm Name</th>\n",
       "      <th>Alarm ID</th>\n",
       "      <th>FRU Name</th>\n",
       "      <th>Alarm Time</th>\n",
       "      <th>Model Number</th>\n",
       "      <th>Port</th>\n",
       "      <th>Reason For Clearing</th>\n",
       "      <th>Component Serial Number</th>\n",
       "      <th>State</th>\n",
       "    </tr>\n",
       "  </thead>\n",
       "  <tbody>\n",
       "    <tr>\n",
       "      <th>0</th>\n",
       "      <td>STANFORD / STATION 1 TMU</td>\n",
       "      <td>0024:B100:0003:33C3</td>\n",
       "      <td>Stanford University</td>\n",
       "      <td></td>\n",
       "      <td>Tamper Detect</td>\n",
       "      <td>23</td>\n",
       "      <td></td>\n",
       "      <td>2023-09-26 20:37:15-07:00</td>\n",
       "      <td>CT4020-HD-GW</td>\n",
       "      <td></td>\n",
       "      <td>---</td>\n",
       "      <td></td>\n",
       "      <td>Faulted</td>\n",
       "    </tr>\n",
       "    <tr>\n",
       "      <th>1</th>\n",
       "      <td>STANFORD / STATION 1 TMU</td>\n",
       "      <td>0024:B100:0003:33C3</td>\n",
       "      <td>Stanford University</td>\n",
       "      <td></td>\n",
       "      <td>Tamper Detect</td>\n",
       "      <td>23</td>\n",
       "      <td></td>\n",
       "      <td>2023-09-26 20:16:50-07:00</td>\n",
       "      <td>CT4020-HD-GW</td>\n",
       "      <td></td>\n",
       "      <td>---</td>\n",
       "      <td></td>\n",
       "      <td>Faulted</td>\n",
       "    </tr>\n",
       "    <tr>\n",
       "      <th>2</th>\n",
       "      <td>STANFORD / STATION 1 TMU</td>\n",
       "      <td>0024:B100:0003:33C3</td>\n",
       "      <td>Stanford University</td>\n",
       "      <td></td>\n",
       "      <td>Tamper Detect</td>\n",
       "      <td>23</td>\n",
       "      <td></td>\n",
       "      <td>2023-09-26 19:56:30-07:00</td>\n",
       "      <td>CT4020-HD-GW</td>\n",
       "      <td></td>\n",
       "      <td>---</td>\n",
       "      <td></td>\n",
       "      <td>Faulted</td>\n",
       "    </tr>\n",
       "    <tr>\n",
       "      <th>3</th>\n",
       "      <td>STANFORD / STATION 2 TMU</td>\n",
       "      <td>0024:B100:0006:BC3D</td>\n",
       "      <td>Stanford University</td>\n",
       "      <td></td>\n",
       "      <td>Circuit Sharing Current Restored</td>\n",
       "      <td></td>\n",
       "      <td></td>\n",
       "      <td>2023-09-26 19:55:25-07:00</td>\n",
       "      <td>CT4020-HD-GW</td>\n",
       "      <td>1</td>\n",
       "      <td>---</td>\n",
       "      <td></td>\n",
       "      <td>Available</td>\n",
       "    </tr>\n",
       "    <tr>\n",
       "      <th>4</th>\n",
       "      <td>STANFORD / CD STATION 6</td>\n",
       "      <td>0024:B100:0003:2ADF</td>\n",
       "      <td>Stanford University</td>\n",
       "      <td></td>\n",
       "      <td>Fault Cleared</td>\n",
       "      <td>18</td>\n",
       "      <td></td>\n",
       "      <td>2023-09-26 19:44:51-07:00</td>\n",
       "      <td>CT4020-HD</td>\n",
       "      <td>2</td>\n",
       "      <td>---</td>\n",
       "      <td></td>\n",
       "      <td>Available</td>\n",
       "    </tr>\n",
       "    <tr>\n",
       "      <th>...</th>\n",
       "      <td>...</td>\n",
       "      <td>...</td>\n",
       "      <td>...</td>\n",
       "      <td>...</td>\n",
       "      <td>...</td>\n",
       "      <td>...</td>\n",
       "      <td>...</td>\n",
       "      <td>...</td>\n",
       "      <td>...</td>\n",
       "      <td>...</td>\n",
       "      <td>...</td>\n",
       "      <td>...</td>\n",
       "      <td>...</td>\n",
       "    </tr>\n",
       "    <tr>\n",
       "      <th>340962</th>\n",
       "      <td>ROBLE / ROBLE LL1-11</td>\n",
       "      <td>0024:B100:0002:3F5A</td>\n",
       "      <td>Stanford University</td>\n",
       "      <td></td>\n",
       "      <td>Circuit Sharing Current Reduced</td>\n",
       "      <td></td>\n",
       "      <td></td>\n",
       "      <td>2018-03-30 09:39:03-07:00</td>\n",
       "      <td>CT4020-HD</td>\n",
       "      <td>1</td>\n",
       "      <td>---</td>\n",
       "      <td></td>\n",
       "      <td>Available</td>\n",
       "    </tr>\n",
       "    <tr>\n",
       "      <th>340963</th>\n",
       "      <td>ROBLE / ROBLE LL1-12</td>\n",
       "      <td>0024:B100:0002:5150</td>\n",
       "      <td>Stanford University</td>\n",
       "      <td></td>\n",
       "      <td>Circuit Sharing Current Reduced</td>\n",
       "      <td></td>\n",
       "      <td></td>\n",
       "      <td>2018-03-30 08:34:49-07:00</td>\n",
       "      <td>CT4020-HD-GW</td>\n",
       "      <td>2</td>\n",
       "      <td>---</td>\n",
       "      <td></td>\n",
       "      <td>Available</td>\n",
       "    </tr>\n",
       "    <tr>\n",
       "      <th>340964</th>\n",
       "      <td>STANFORD / STATION 2 TMU</td>\n",
       "      <td>0024:B100:0002:1F61</td>\n",
       "      <td>Stanford University</td>\n",
       "      <td></td>\n",
       "      <td>Circuit Sharing Current Reduced</td>\n",
       "      <td></td>\n",
       "      <td></td>\n",
       "      <td>2018-03-30 08:31:46-07:00</td>\n",
       "      <td>CT4020-HD</td>\n",
       "      <td>2</td>\n",
       "      <td>---</td>\n",
       "      <td></td>\n",
       "      <td>Available</td>\n",
       "    </tr>\n",
       "    <tr>\n",
       "      <th>340965</th>\n",
       "      <td>STANFORD / TH STATION 1</td>\n",
       "      <td>0024:B100:0002:1F71</td>\n",
       "      <td>Stanford University</td>\n",
       "      <td></td>\n",
       "      <td>Circuit Sharing Current Reduced</td>\n",
       "      <td></td>\n",
       "      <td></td>\n",
       "      <td>2018-03-30 07:40:55-07:00</td>\n",
       "      <td>CT4020-HD</td>\n",
       "      <td>1</td>\n",
       "      <td>---</td>\n",
       "      <td></td>\n",
       "      <td>Available</td>\n",
       "    </tr>\n",
       "    <tr>\n",
       "      <th>340966</th>\n",
       "      <td>STANFORD / STATION 2 PS-5</td>\n",
       "      <td>0024:B100:0002:1E24</td>\n",
       "      <td>Stanford University</td>\n",
       "      <td></td>\n",
       "      <td>Circuit Sharing Current Reduced</td>\n",
       "      <td></td>\n",
       "      <td></td>\n",
       "      <td>2018-03-30 02:07:27-07:00</td>\n",
       "      <td>CT4020-HD-GW</td>\n",
       "      <td>2</td>\n",
       "      <td>---</td>\n",
       "      <td></td>\n",
       "      <td>Available</td>\n",
       "    </tr>\n",
       "  </tbody>\n",
       "</table>\n",
       "<p>340967 rows × 13 columns</p>\n",
       "</div>"
      ],
      "text/plain": [
       "                     Display Name          MAC Address             Org Name  \\\n",
       "0        STANFORD / STATION 1 TMU  0024:B100:0003:33C3  Stanford University   \n",
       "1        STANFORD / STATION 1 TMU  0024:B100:0003:33C3  Stanford University   \n",
       "2        STANFORD / STATION 1 TMU  0024:B100:0003:33C3  Stanford University   \n",
       "3        STANFORD / STATION 2 TMU  0024:B100:0006:BC3D  Stanford University   \n",
       "4         STANFORD / CD STATION 6  0024:B100:0003:2ADF  Stanford University   \n",
       "...                           ...                  ...                  ...   \n",
       "340962       ROBLE / ROBLE LL1-11  0024:B100:0002:3F5A  Stanford University   \n",
       "340963       ROBLE / ROBLE LL1-12  0024:B100:0002:5150  Stanford University   \n",
       "340964   STANFORD / STATION 2 TMU  0024:B100:0002:1F61  Stanford University   \n",
       "340965    STANFORD / TH STATION 1  0024:B100:0002:1F71  Stanford University   \n",
       "340966  STANFORD / STATION 2 PS-5  0024:B100:0002:1E24  Stanford University   \n",
       "\n",
       "       Alarm Severity                        Alarm Name Alarm ID FRU Name  \\\n",
       "0                                         Tamper Detect       23            \n",
       "1                                         Tamper Detect       23            \n",
       "2                                         Tamper Detect       23            \n",
       "3                      Circuit Sharing Current Restored                     \n",
       "4                                         Fault Cleared       18            \n",
       "...               ...                               ...      ...      ...   \n",
       "340962                  Circuit Sharing Current Reduced                     \n",
       "340963                  Circuit Sharing Current Reduced                     \n",
       "340964                  Circuit Sharing Current Reduced                     \n",
       "340965                  Circuit Sharing Current Reduced                     \n",
       "340966                  Circuit Sharing Current Reduced                     \n",
       "\n",
       "                      Alarm Time  Model Number Port Reason For Clearing  \\\n",
       "0      2023-09-26 20:37:15-07:00  CT4020-HD-GW                      ---   \n",
       "1      2023-09-26 20:16:50-07:00  CT4020-HD-GW                      ---   \n",
       "2      2023-09-26 19:56:30-07:00  CT4020-HD-GW                      ---   \n",
       "3      2023-09-26 19:55:25-07:00  CT4020-HD-GW    1                 ---   \n",
       "4      2023-09-26 19:44:51-07:00     CT4020-HD    2                 ---   \n",
       "...                          ...           ...  ...                 ...   \n",
       "340962 2018-03-30 09:39:03-07:00     CT4020-HD    1                 ---   \n",
       "340963 2018-03-30 08:34:49-07:00  CT4020-HD-GW    2                 ---   \n",
       "340964 2018-03-30 08:31:46-07:00     CT4020-HD    2                 ---   \n",
       "340965 2018-03-30 07:40:55-07:00     CT4020-HD    1                 ---   \n",
       "340966 2018-03-30 02:07:27-07:00  CT4020-HD-GW    2                 ---   \n",
       "\n",
       "       Component Serial Number      State  \n",
       "0                                 Faulted  \n",
       "1                                 Faulted  \n",
       "2                                 Faulted  \n",
       "3                               Available  \n",
       "4                               Available  \n",
       "...                        ...        ...  \n",
       "340962                          Available  \n",
       "340963                          Available  \n",
       "340964                          Available  \n",
       "340965                          Available  \n",
       "340966                          Available  \n",
       "\n",
       "[340967 rows x 13 columns]"
      ]
     },
     "execution_count": 8,
     "metadata": {},
     "output_type": "execute_result"
    }
   ],
   "source": [
    "state_alarms"
   ]
  },
  {
   "cell_type": "markdown",
   "metadata": {},
   "source": [
    "#### **State History**"
   ]
  },
  {
   "cell_type": "code",
   "execution_count": 9,
   "metadata": {},
   "outputs": [],
   "source": [
    "def build_state_history(state_alarms):\n",
    "    # Sort state alarms by MAC Address and Alarm Time\n",
    "    state_alarms = state_alarms.sort_values(['MAC Address', 'Alarm Time'])\n",
    "\n",
    "    # For duplicate alarm times (for a given charger), only keep latest alarm\n",
    "    state_alarms = state_alarms.drop_duplicates(['MAC Address', 'Alarm Time'], keep='last')\n",
    "\n",
    "    state_history = None\n",
    "\n",
    "    # Compute state history for each charger\n",
    "    # Derived from:\n",
    "    # https://www.codeforests.com/2021/03/30/group-consecutive-rows-in-pandas/\n",
    "    # https://stackoverflow.com/questions/26911851/how-to-use-pandas-to-find-consecutive-same-data-in-time-series\n",
    "    for mac, group in state_alarms.groupby('MAC Address'):\n",
    "        group['Period'] = (group.State != group.State.shift()).cumsum()\n",
    "        period_group = group.groupby('Period')\n",
    "        charger_state_history = pd.DataFrame({\n",
    "            'State': period_group.State.first(),\n",
    "            'Start' : period_group['Alarm Time'].first(), \n",
    "            'End': period_group['Alarm Time'].last(),\n",
    "            'Alarms': period_group.size()}).reset_index(drop=True)\n",
    "\n",
    "        charger_state_history['MAC Address'] = mac\n",
    "        charger_state_history['Period'] = charger_state_history.index\n",
    "\n",
    "        # Fix up end times\n",
    "        for index, row in charger_state_history.iterrows():\n",
    "            try:\n",
    "                charger_state_history.loc[index, 'End'] = charger_state_history.loc[index + 1, 'Start']\n",
    "            finally:\n",
    "                continue\n",
    "        \n",
    "        # Calculate durations\n",
    "        charger_state_history['Duration'] = charger_state_history['End'] - charger_state_history['Start']\n",
    "        \n",
    "        # Order columns\n",
    "        charger_state_history = charger_state_history[['MAC Address', 'Period', 'State', 'Start', 'End', 'Duration', 'Alarms']]\n",
    "\n",
    "        # Concat\n",
    "        if state_history is None:\n",
    "            state_history = charger_state_history\n",
    "        else:\n",
    "            state_history = pd.concat([state_history, charger_state_history])\n",
    "        \n",
    "    \n",
    "    return state_history\n",
    "\n",
    "state_history = build_state_history(state_alarms)"
   ]
  },
  {
   "cell_type": "code",
   "execution_count": 10,
   "metadata": {},
   "outputs": [
    {
     "data": {
      "text/html": [
       "<div>\n",
       "<style scoped>\n",
       "    .dataframe tbody tr th:only-of-type {\n",
       "        vertical-align: middle;\n",
       "    }\n",
       "\n",
       "    .dataframe tbody tr th {\n",
       "        vertical-align: top;\n",
       "    }\n",
       "\n",
       "    .dataframe thead th {\n",
       "        text-align: right;\n",
       "    }\n",
       "</style>\n",
       "<table border=\"1\" class=\"dataframe\">\n",
       "  <thead>\n",
       "    <tr style=\"text-align: right;\">\n",
       "      <th></th>\n",
       "      <th>MAC Address</th>\n",
       "      <th>Period</th>\n",
       "      <th>State</th>\n",
       "      <th>Start</th>\n",
       "      <th>End</th>\n",
       "      <th>Duration</th>\n",
       "      <th>Alarms</th>\n",
       "    </tr>\n",
       "  </thead>\n",
       "  <tbody>\n",
       "    <tr>\n",
       "      <th>0</th>\n",
       "      <td>000D:6F00:04F8:B0AC</td>\n",
       "      <td>0</td>\n",
       "      <td>Available</td>\n",
       "      <td>2020-11-19 17:45:41-08:00</td>\n",
       "      <td>2020-11-19 17:45:44-08:00</td>\n",
       "      <td>0 days 00:00:03</td>\n",
       "      <td>1</td>\n",
       "    </tr>\n",
       "    <tr>\n",
       "      <th>1</th>\n",
       "      <td>000D:6F00:04F8:B0AC</td>\n",
       "      <td>1</td>\n",
       "      <td>Faulted</td>\n",
       "      <td>2020-11-19 17:45:44-08:00</td>\n",
       "      <td>2020-11-19 17:48:59-08:00</td>\n",
       "      <td>0 days 00:03:15</td>\n",
       "      <td>1</td>\n",
       "    </tr>\n",
       "    <tr>\n",
       "      <th>2</th>\n",
       "      <td>000D:6F00:04F8:B0AC</td>\n",
       "      <td>2</td>\n",
       "      <td>Available</td>\n",
       "      <td>2020-11-19 17:48:59-08:00</td>\n",
       "      <td>2020-11-19 17:49:04-08:00</td>\n",
       "      <td>0 days 00:00:05</td>\n",
       "      <td>3</td>\n",
       "    </tr>\n",
       "    <tr>\n",
       "      <th>3</th>\n",
       "      <td>000D:6F00:04F8:B0AC</td>\n",
       "      <td>3</td>\n",
       "      <td>Unreachable</td>\n",
       "      <td>2020-11-19 17:49:04-08:00</td>\n",
       "      <td>2020-11-19 17:49:05-08:00</td>\n",
       "      <td>0 days 00:00:01</td>\n",
       "      <td>1</td>\n",
       "    </tr>\n",
       "    <tr>\n",
       "      <th>4</th>\n",
       "      <td>000D:6F00:04F8:B0AC</td>\n",
       "      <td>4</td>\n",
       "      <td>Available</td>\n",
       "      <td>2020-11-19 17:49:05-08:00</td>\n",
       "      <td>2020-11-19 17:49:09-08:00</td>\n",
       "      <td>0 days 00:00:04</td>\n",
       "      <td>1</td>\n",
       "    </tr>\n",
       "    <tr>\n",
       "      <th>...</th>\n",
       "      <td>...</td>\n",
       "      <td>...</td>\n",
       "      <td>...</td>\n",
       "      <td>...</td>\n",
       "      <td>...</td>\n",
       "      <td>...</td>\n",
       "      <td>...</td>\n",
       "    </tr>\n",
       "    <tr>\n",
       "      <th>15</th>\n",
       "      <td>0024:B100:0006:C80F</td>\n",
       "      <td>15</td>\n",
       "      <td>Unreachable</td>\n",
       "      <td>2023-08-12 15:30:54-07:00</td>\n",
       "      <td>2023-08-12 15:39:05-07:00</td>\n",
       "      <td>0 days 00:08:11</td>\n",
       "      <td>1</td>\n",
       "    </tr>\n",
       "    <tr>\n",
       "      <th>16</th>\n",
       "      <td>0024:B100:0006:C80F</td>\n",
       "      <td>16</td>\n",
       "      <td>Available</td>\n",
       "      <td>2023-08-12 15:39:05-07:00</td>\n",
       "      <td>2023-08-27 07:30:15-07:00</td>\n",
       "      <td>14 days 15:51:10</td>\n",
       "      <td>3</td>\n",
       "    </tr>\n",
       "    <tr>\n",
       "      <th>17</th>\n",
       "      <td>0024:B100:0006:C80F</td>\n",
       "      <td>17</td>\n",
       "      <td>Unreachable</td>\n",
       "      <td>2023-08-27 07:30:15-07:00</td>\n",
       "      <td>2023-08-27 08:48:36-07:00</td>\n",
       "      <td>0 days 01:18:21</td>\n",
       "      <td>1</td>\n",
       "    </tr>\n",
       "    <tr>\n",
       "      <th>18</th>\n",
       "      <td>0024:B100:0006:C80F</td>\n",
       "      <td>18</td>\n",
       "      <td>Available</td>\n",
       "      <td>2023-08-27 08:48:36-07:00</td>\n",
       "      <td>2023-08-27 08:58:39-07:00</td>\n",
       "      <td>0 days 00:10:03</td>\n",
       "      <td>2</td>\n",
       "    </tr>\n",
       "    <tr>\n",
       "      <th>0</th>\n",
       "      <td>0024:B100:000C:083C</td>\n",
       "      <td>0</td>\n",
       "      <td>Available</td>\n",
       "      <td>2023-05-11 14:04:15-07:00</td>\n",
       "      <td>2023-09-24 05:25:06-07:00</td>\n",
       "      <td>135 days 15:20:51</td>\n",
       "      <td>81</td>\n",
       "    </tr>\n",
       "  </tbody>\n",
       "</table>\n",
       "<p>124799 rows × 7 columns</p>\n",
       "</div>"
      ],
      "text/plain": [
       "            MAC Address  Period        State                     Start  \\\n",
       "0   000D:6F00:04F8:B0AC       0    Available 2020-11-19 17:45:41-08:00   \n",
       "1   000D:6F00:04F8:B0AC       1      Faulted 2020-11-19 17:45:44-08:00   \n",
       "2   000D:6F00:04F8:B0AC       2    Available 2020-11-19 17:48:59-08:00   \n",
       "3   000D:6F00:04F8:B0AC       3  Unreachable 2020-11-19 17:49:04-08:00   \n",
       "4   000D:6F00:04F8:B0AC       4    Available 2020-11-19 17:49:05-08:00   \n",
       "..                  ...     ...          ...                       ...   \n",
       "15  0024:B100:0006:C80F      15  Unreachable 2023-08-12 15:30:54-07:00   \n",
       "16  0024:B100:0006:C80F      16    Available 2023-08-12 15:39:05-07:00   \n",
       "17  0024:B100:0006:C80F      17  Unreachable 2023-08-27 07:30:15-07:00   \n",
       "18  0024:B100:0006:C80F      18    Available 2023-08-27 08:48:36-07:00   \n",
       "0   0024:B100:000C:083C       0    Available 2023-05-11 14:04:15-07:00   \n",
       "\n",
       "                         End          Duration  Alarms  \n",
       "0  2020-11-19 17:45:44-08:00   0 days 00:00:03       1  \n",
       "1  2020-11-19 17:48:59-08:00   0 days 00:03:15       1  \n",
       "2  2020-11-19 17:49:04-08:00   0 days 00:00:05       3  \n",
       "3  2020-11-19 17:49:05-08:00   0 days 00:00:01       1  \n",
       "4  2020-11-19 17:49:09-08:00   0 days 00:00:04       1  \n",
       "..                       ...               ...     ...  \n",
       "15 2023-08-12 15:39:05-07:00   0 days 00:08:11       1  \n",
       "16 2023-08-27 07:30:15-07:00  14 days 15:51:10       3  \n",
       "17 2023-08-27 08:48:36-07:00   0 days 01:18:21       1  \n",
       "18 2023-08-27 08:58:39-07:00   0 days 00:10:03       2  \n",
       "0  2023-09-24 05:25:06-07:00 135 days 15:20:51      81  \n",
       "\n",
       "[124799 rows x 7 columns]"
      ]
     },
     "execution_count": 10,
     "metadata": {},
     "output_type": "execute_result"
    }
   ],
   "source": [
    "pd.set_option('display.max_rows', 100)\n",
    "state_history"
   ]
  },
  {
   "cell_type": "markdown",
   "metadata": {},
   "source": [
    "#### **State Durations**"
   ]
  },
  {
   "cell_type": "code",
   "execution_count": 11,
   "metadata": {},
   "outputs": [
    {
     "data": {
      "text/html": [
       "<div>\n",
       "<style scoped>\n",
       "    .dataframe tbody tr th:only-of-type {\n",
       "        vertical-align: middle;\n",
       "    }\n",
       "\n",
       "    .dataframe tbody tr th {\n",
       "        vertical-align: top;\n",
       "    }\n",
       "\n",
       "    .dataframe thead th {\n",
       "        text-align: right;\n",
       "    }\n",
       "</style>\n",
       "<table border=\"1\" class=\"dataframe\">\n",
       "  <thead>\n",
       "    <tr style=\"text-align: right;\">\n",
       "      <th>State</th>\n",
       "      <th>Available</th>\n",
       "      <th>Faulted</th>\n",
       "      <th>Unavailable</th>\n",
       "      <th>Unknown</th>\n",
       "      <th>Unreachable</th>\n",
       "      <th>Total</th>\n",
       "    </tr>\n",
       "    <tr>\n",
       "      <th>MAC Address</th>\n",
       "      <th></th>\n",
       "      <th></th>\n",
       "      <th></th>\n",
       "      <th></th>\n",
       "      <th></th>\n",
       "      <th></th>\n",
       "    </tr>\n",
       "  </thead>\n",
       "  <tbody>\n",
       "    <tr>\n",
       "      <th>000D:6F00:04F8:B0AC</th>\n",
       "      <td>113 days 06:53:03</td>\n",
       "      <td>124 days 05:54:30</td>\n",
       "      <td>0 days 00:00:00</td>\n",
       "      <td>0 days 00:00:00</td>\n",
       "      <td>71 days 23:31:54</td>\n",
       "      <td>309 days 12:19:27</td>\n",
       "    </tr>\n",
       "    <tr>\n",
       "      <th>0024:B100:0002:13E5</th>\n",
       "      <td>1853 days 12:28:24</td>\n",
       "      <td>11 days 00:05:33</td>\n",
       "      <td>0 days 06:44:49</td>\n",
       "      <td>0 days 00:00:00</td>\n",
       "      <td>118 days 02:23:36</td>\n",
       "      <td>1982 days 21:42:22</td>\n",
       "    </tr>\n",
       "    <tr>\n",
       "      <th>0024:B100:0002:15D0</th>\n",
       "      <td>1688 days 13:27:36</td>\n",
       "      <td>155 days 01:11:45</td>\n",
       "      <td>0 days 00:11:17</td>\n",
       "      <td>0 days 00:00:00</td>\n",
       "      <td>146 days 03:59:24</td>\n",
       "      <td>1989 days 18:50:02</td>\n",
       "    </tr>\n",
       "    <tr>\n",
       "      <th>0024:B100:0002:15D4</th>\n",
       "      <td>1745 days 21:58:31</td>\n",
       "      <td>95 days 05:24:42</td>\n",
       "      <td>0 days 00:35:38</td>\n",
       "      <td>0 days 00:00:00</td>\n",
       "      <td>146 days 16:11:35</td>\n",
       "      <td>1987 days 20:10:26</td>\n",
       "    </tr>\n",
       "    <tr>\n",
       "      <th>0024:B100:0002:15DF</th>\n",
       "      <td>1749 days 23:32:33</td>\n",
       "      <td>99 days 12:32:57</td>\n",
       "      <td>0 days 00:31:33</td>\n",
       "      <td>0 days 00:00:00</td>\n",
       "      <td>139 days 14:05:51</td>\n",
       "      <td>1989 days 02:42:54</td>\n",
       "    </tr>\n",
       "    <tr>\n",
       "      <th>0024:B100:0002:16F3</th>\n",
       "      <td>1982 days 23:46:03</td>\n",
       "      <td>8 days 12:00:09</td>\n",
       "      <td>7 days 19:02:35</td>\n",
       "      <td>0 days 00:00:00</td>\n",
       "      <td>6 days 23:27:26</td>\n",
       "      <td>2006 days 06:16:13</td>\n",
       "    </tr>\n",
       "    <tr>\n",
       "      <th>0024:B100:0002:1C6A</th>\n",
       "      <td>1754 days 18:09:50</td>\n",
       "      <td>85 days 08:26:49</td>\n",
       "      <td>0 days 00:31:19</td>\n",
       "      <td>0 days 00:00:00</td>\n",
       "      <td>149 days 00:27:05</td>\n",
       "      <td>1989 days 03:35:03</td>\n",
       "    </tr>\n",
       "    <tr>\n",
       "      <th>0024:B100:0002:1E24</th>\n",
       "      <td>1226 days 07:00:54</td>\n",
       "      <td>59 days 01:35:28</td>\n",
       "      <td>0 days 00:08:37</td>\n",
       "      <td>0 days 00:00:00</td>\n",
       "      <td>194 days 08:12:42</td>\n",
       "      <td>1479 days 16:57:41</td>\n",
       "    </tr>\n",
       "    <tr>\n",
       "      <th>0024:B100:0002:1EED</th>\n",
       "      <td>1728 days 20:23:54</td>\n",
       "      <td>73 days 02:30:09</td>\n",
       "      <td>0 days 02:59:39</td>\n",
       "      <td>0 days 00:00:00</td>\n",
       "      <td>197 days 23:24:22</td>\n",
       "      <td>2000 days 01:18:04</td>\n",
       "    </tr>\n",
       "    <tr>\n",
       "      <th>0024:B100:0002:1F61</th>\n",
       "      <td>1391 days 23:37:02</td>\n",
       "      <td>32 days 19:02:05</td>\n",
       "      <td>0 days 00:39:27</td>\n",
       "      <td>0 days 00:00:00</td>\n",
       "      <td>15 days 10:56:27</td>\n",
       "      <td>1440 days 06:15:01</td>\n",
       "    </tr>\n",
       "    <tr>\n",
       "      <th>0024:B100:0002:1F6C</th>\n",
       "      <td>1723 days 11:04:52</td>\n",
       "      <td>89 days 15:52:46</td>\n",
       "      <td>0 days 00:00:00</td>\n",
       "      <td>0 days 00:00:00</td>\n",
       "      <td>190 days 03:36:29</td>\n",
       "      <td>2003 days 06:34:07</td>\n",
       "    </tr>\n",
       "    <tr>\n",
       "      <th>0024:B100:0002:1F71</th>\n",
       "      <td>875 days 02:31:52</td>\n",
       "      <td>49 days 11:13:12</td>\n",
       "      <td>0 days 00:00:00</td>\n",
       "      <td>0 days 00:00:00</td>\n",
       "      <td>4 days 11:59:16</td>\n",
       "      <td>929 days 01:44:20</td>\n",
       "    </tr>\n",
       "    <tr>\n",
       "      <th>0024:B100:0002:2022</th>\n",
       "      <td>518 days 21:49:07</td>\n",
       "      <td>11 days 21:46:46</td>\n",
       "      <td>0 days 01:18:05</td>\n",
       "      <td>0 days 00:00:00</td>\n",
       "      <td>2 days 21:15:26</td>\n",
       "      <td>533 days 18:09:24</td>\n",
       "    </tr>\n",
       "    <tr>\n",
       "      <th>0024:B100:0002:2940</th>\n",
       "      <td>1400 days 10:20:36</td>\n",
       "      <td>478 days 03:52:53</td>\n",
       "      <td>81 days 19:47:46</td>\n",
       "      <td>0 days 00:00:00</td>\n",
       "      <td>42 days 21:01:55</td>\n",
       "      <td>2003 days 07:03:10</td>\n",
       "    </tr>\n",
       "    <tr>\n",
       "      <th>0024:B100:0002:294E</th>\n",
       "      <td>1951 days 15:27:30</td>\n",
       "      <td>3 days 03:17:30</td>\n",
       "      <td>11 days 00:58:36</td>\n",
       "      <td>0 days 00:00:00</td>\n",
       "      <td>36 days 05:39:07</td>\n",
       "      <td>2002 days 01:22:43</td>\n",
       "    </tr>\n",
       "    <tr>\n",
       "      <th>0024:B100:0002:2954</th>\n",
       "      <td>1799 days 04:06:42</td>\n",
       "      <td>181 days 07:29:16</td>\n",
       "      <td>0 days 00:01:45</td>\n",
       "      <td>0 days 00:00:00</td>\n",
       "      <td>25 days 13:50:18</td>\n",
       "      <td>2006 days 01:28:01</td>\n",
       "    </tr>\n",
       "    <tr>\n",
       "      <th>0024:B100:0002:2955</th>\n",
       "      <td>1775 days 12:31:16</td>\n",
       "      <td>49 days 03:17:12</td>\n",
       "      <td>0 days 00:06:03</td>\n",
       "      <td>0 days 00:00:00</td>\n",
       "      <td>178 days 10:37:59</td>\n",
       "      <td>2003 days 02:32:30</td>\n",
       "    </tr>\n",
       "    <tr>\n",
       "      <th>0024:B100:0002:295F</th>\n",
       "      <td>1747 days 20:54:57</td>\n",
       "      <td>66 days 01:35:16</td>\n",
       "      <td>0 days 00:29:42</td>\n",
       "      <td>0 days 00:00:00</td>\n",
       "      <td>179 days 00:56:31</td>\n",
       "      <td>1992 days 23:56:26</td>\n",
       "    </tr>\n",
       "    <tr>\n",
       "      <th>0024:B100:0002:2963</th>\n",
       "      <td>685 days 13:07:18</td>\n",
       "      <td>0 days 00:00:00</td>\n",
       "      <td>13 days 21:52:58</td>\n",
       "      <td>0 days 00:00:00</td>\n",
       "      <td>2 days 09:53:55</td>\n",
       "      <td>701 days 20:54:11</td>\n",
       "    </tr>\n",
       "    <tr>\n",
       "      <th>0024:B100:0002:297C</th>\n",
       "      <td>1748 days 20:06:34</td>\n",
       "      <td>60 days 09:53:37</td>\n",
       "      <td>0 days 00:01:43</td>\n",
       "      <td>0 days 00:00:00</td>\n",
       "      <td>183 days 03:04:03</td>\n",
       "      <td>1992 days 09:05:57</td>\n",
       "    </tr>\n",
       "    <tr>\n",
       "      <th>0024:B100:0002:299E</th>\n",
       "      <td>1705 days 19:51:17</td>\n",
       "      <td>246 days 04:57:25</td>\n",
       "      <td>0 days 00:32:29</td>\n",
       "      <td>0 days 00:00:00</td>\n",
       "      <td>40 days 08:59:39</td>\n",
       "      <td>1992 days 10:20:50</td>\n",
       "    </tr>\n",
       "    <tr>\n",
       "      <th>0024:B100:0002:29C3</th>\n",
       "      <td>706 days 14:10:34</td>\n",
       "      <td>0 days 05:14:33</td>\n",
       "      <td>0 days 00:00:00</td>\n",
       "      <td>0 days 00:00:00</td>\n",
       "      <td>0 days 22:09:40</td>\n",
       "      <td>707 days 17:34:47</td>\n",
       "    </tr>\n",
       "    <tr>\n",
       "      <th>0024:B100:0002:29C6</th>\n",
       "      <td>1113 days 23:51:35</td>\n",
       "      <td>4 days 14:33:25</td>\n",
       "      <td>0 days 00:00:01</td>\n",
       "      <td>0 days 00:00:00</td>\n",
       "      <td>11 days 08:27:51</td>\n",
       "      <td>1129 days 22:52:52</td>\n",
       "    </tr>\n",
       "    <tr>\n",
       "      <th>0024:B100:0002:2A6B</th>\n",
       "      <td>1916 days 18:22:45</td>\n",
       "      <td>27 days 15:43:05</td>\n",
       "      <td>9 days 02:20:22</td>\n",
       "      <td>0 days 00:00:00</td>\n",
       "      <td>41 days 12:32:43</td>\n",
       "      <td>1995 days 00:58:55</td>\n",
       "    </tr>\n",
       "    <tr>\n",
       "      <th>0024:B100:0002:2A6E</th>\n",
       "      <td>1963 days 14:56:51</td>\n",
       "      <td>3 days 03:17:21</td>\n",
       "      <td>0 days 00:00:00</td>\n",
       "      <td>0 days 00:00:00</td>\n",
       "      <td>35 days 07:34:27</td>\n",
       "      <td>2002 days 01:48:39</td>\n",
       "    </tr>\n",
       "    <tr>\n",
       "      <th>0024:B100:0002:2A70</th>\n",
       "      <td>1832 days 01:25:43</td>\n",
       "      <td>74 days 07:29:00</td>\n",
       "      <td>44 days 02:23:19</td>\n",
       "      <td>0 days 00:00:00</td>\n",
       "      <td>51 days 13:11:05</td>\n",
       "      <td>2002 days 00:29:07</td>\n",
       "    </tr>\n",
       "    <tr>\n",
       "      <th>0024:B100:0002:2A71</th>\n",
       "      <td>1705 days 17:45:27</td>\n",
       "      <td>115 days 13:15:23</td>\n",
       "      <td>0 days 01:06:11</td>\n",
       "      <td>0 days 00:00:00</td>\n",
       "      <td>176 days 22:47:17</td>\n",
       "      <td>1998 days 06:54:18</td>\n",
       "    </tr>\n",
       "    <tr>\n",
       "      <th>0024:B100:0002:2A73</th>\n",
       "      <td>1732 days 17:45:23</td>\n",
       "      <td>196 days 15:30:13</td>\n",
       "      <td>42 days 07:24:57</td>\n",
       "      <td>0 days 00:00:00</td>\n",
       "      <td>30 days 10:50:35</td>\n",
       "      <td>2002 days 03:31:08</td>\n",
       "    </tr>\n",
       "    <tr>\n",
       "      <th>0024:B100:0002:2A74</th>\n",
       "      <td>1942 days 01:25:33</td>\n",
       "      <td>19 days 16:27:27</td>\n",
       "      <td>0 days 00:00:00</td>\n",
       "      <td>0 days 00:00:00</td>\n",
       "      <td>43 days 20:52:03</td>\n",
       "      <td>2005 days 14:45:03</td>\n",
       "    </tr>\n",
       "    <tr>\n",
       "      <th>0024:B100:0002:2A78</th>\n",
       "      <td>1104 days 00:55:51</td>\n",
       "      <td>8 days 18:51:10</td>\n",
       "      <td>4 days 20:41:36</td>\n",
       "      <td>0 days 00:00:00</td>\n",
       "      <td>7 days 06:49:34</td>\n",
       "      <td>1124 days 23:18:11</td>\n",
       "    </tr>\n",
       "    <tr>\n",
       "      <th>0024:B100:0002:2A7B</th>\n",
       "      <td>1745 days 14:10:41</td>\n",
       "      <td>72 days 09:20:40</td>\n",
       "      <td>0 days 00:31:24</td>\n",
       "      <td>0 days 00:00:00</td>\n",
       "      <td>182 days 22:51:02</td>\n",
       "      <td>2000 days 22:53:47</td>\n",
       "    </tr>\n",
       "    <tr>\n",
       "      <th>0024:B100:0002:2A7C</th>\n",
       "      <td>1798 days 07:35:59</td>\n",
       "      <td>180 days 06:24:48</td>\n",
       "      <td>0 days 00:35:03</td>\n",
       "      <td>0 days 00:00:00</td>\n",
       "      <td>24 days 14:11:12</td>\n",
       "      <td>2003 days 04:47:02</td>\n",
       "    </tr>\n",
       "    <tr>\n",
       "      <th>0024:B100:0002:2A80</th>\n",
       "      <td>1893 days 22:23:22</td>\n",
       "      <td>29 days 17:40:19</td>\n",
       "      <td>31 days 04:34:41</td>\n",
       "      <td>0 days 00:00:00</td>\n",
       "      <td>39 days 09:47:12</td>\n",
       "      <td>1994 days 06:25:34</td>\n",
       "    </tr>\n",
       "    <tr>\n",
       "      <th>0024:B100:0002:2A89</th>\n",
       "      <td>1074 days 18:16:49</td>\n",
       "      <td>49 days 06:50:38</td>\n",
       "      <td>0 days 00:32:37</td>\n",
       "      <td>0 days 00:00:00</td>\n",
       "      <td>5 days 20:23:03</td>\n",
       "      <td>1129 days 22:03:07</td>\n",
       "    </tr>\n",
       "    <tr>\n",
       "      <th>0024:B100:0002:2A8E</th>\n",
       "      <td>1683 days 23:47:12</td>\n",
       "      <td>108 days 00:13:46</td>\n",
       "      <td>35 days 06:03:08</td>\n",
       "      <td>0 days 00:00:00</td>\n",
       "      <td>165 days 02:34:37</td>\n",
       "      <td>1992 days 08:38:43</td>\n",
       "    </tr>\n",
       "    <tr>\n",
       "      <th>0024:B100:0002:3F5A</th>\n",
       "      <td>1775 days 06:28:27</td>\n",
       "      <td>199 days 06:30:22</td>\n",
       "      <td>0 days 01:03:27</td>\n",
       "      <td>0 days 00:00:00</td>\n",
       "      <td>31 days 18:33:13</td>\n",
       "      <td>2006 days 08:35:29</td>\n",
       "    </tr>\n",
       "    <tr>\n",
       "      <th>0024:B100:0002:4AEB</th>\n",
       "      <td>761 days 16:19:46</td>\n",
       "      <td>216 days 01:16:27</td>\n",
       "      <td>0 days 03:21:05</td>\n",
       "      <td>0 days 00:10:09</td>\n",
       "      <td>73 days 19:13:23</td>\n",
       "      <td>1051 days 16:20:50</td>\n",
       "    </tr>\n",
       "    <tr>\n",
       "      <th>0024:B100:0002:5134</th>\n",
       "      <td>1738 days 13:46:51</td>\n",
       "      <td>71 days 18:54:51</td>\n",
       "      <td>0 days 00:47:08</td>\n",
       "      <td>0 days 00:00:00</td>\n",
       "      <td>191 days 20:42:15</td>\n",
       "      <td>2002 days 06:11:05</td>\n",
       "    </tr>\n",
       "    <tr>\n",
       "      <th>0024:B100:0002:5144</th>\n",
       "      <td>820 days 17:06:39</td>\n",
       "      <td>200 days 18:43:21</td>\n",
       "      <td>21 days 07:30:07</td>\n",
       "      <td>0 days 00:00:00</td>\n",
       "      <td>70 days 22:53:27</td>\n",
       "      <td>1113 days 18:13:34</td>\n",
       "    </tr>\n",
       "    <tr>\n",
       "      <th>0024:B100:0002:5150</th>\n",
       "      <td>1194 days 12:10:08</td>\n",
       "      <td>21 days 17:55:12</td>\n",
       "      <td>0 days 01:02:34</td>\n",
       "      <td>0 days 00:00:00</td>\n",
       "      <td>7 days 01:02:50</td>\n",
       "      <td>1223 days 08:10:44</td>\n",
       "    </tr>\n",
       "    <tr>\n",
       "      <th>0024:B100:0002:5154</th>\n",
       "      <td>1915 days 23:33:44</td>\n",
       "      <td>43 days 16:32:46</td>\n",
       "      <td>5 days 13:38:13</td>\n",
       "      <td>0 days 00:00:00</td>\n",
       "      <td>31 days 01:04:13</td>\n",
       "      <td>1996 days 06:48:56</td>\n",
       "    </tr>\n",
       "    <tr>\n",
       "      <th>0024:B100:0002:5158</th>\n",
       "      <td>1749 days 00:53:10</td>\n",
       "      <td>223 days 08:32:00</td>\n",
       "      <td>0 days 09:51:58</td>\n",
       "      <td>0 days 00:00:00</td>\n",
       "      <td>32 days 16:10:48</td>\n",
       "      <td>2005 days 11:27:56</td>\n",
       "    </tr>\n",
       "    <tr>\n",
       "      <th>0024:B100:0002:5752</th>\n",
       "      <td>760 days 23:36:03</td>\n",
       "      <td>216 days 08:30:58</td>\n",
       "      <td>0 days 03:30:58</td>\n",
       "      <td>0 days 00:00:00</td>\n",
       "      <td>74 days 04:44:32</td>\n",
       "      <td>1051 days 16:22:31</td>\n",
       "    </tr>\n",
       "    <tr>\n",
       "      <th>0024:B100:0002:575E</th>\n",
       "      <td>807 days 03:54:46</td>\n",
       "      <td>230 days 18:31:37</td>\n",
       "      <td>0 days 03:30:59</td>\n",
       "      <td>0 days 00:00:00</td>\n",
       "      <td>75 days 16:14:55</td>\n",
       "      <td>1113 days 18:12:17</td>\n",
       "    </tr>\n",
       "    <tr>\n",
       "      <th>0024:B100:0002:594F</th>\n",
       "      <td>1423 days 16:04:57</td>\n",
       "      <td>0 days 00:00:00</td>\n",
       "      <td>0 days 00:00:00</td>\n",
       "      <td>0 days 00:00:00</td>\n",
       "      <td>29 days 08:27:55</td>\n",
       "      <td>1453 days 00:32:52</td>\n",
       "    </tr>\n",
       "    <tr>\n",
       "      <th>0024:B100:0002:8DD9</th>\n",
       "      <td>1423 days 22:57:38</td>\n",
       "      <td>101 days 16:10:20</td>\n",
       "      <td>0 days 00:00:00</td>\n",
       "      <td>0 days 00:00:00</td>\n",
       "      <td>106 days 09:08:02</td>\n",
       "      <td>1632 days 00:16:00</td>\n",
       "    </tr>\n",
       "    <tr>\n",
       "      <th>0024:B100:0002:8DDC</th>\n",
       "      <td>1348 days 10:17:27</td>\n",
       "      <td>262 days 06:29:13</td>\n",
       "      <td>0 days 00:00:00</td>\n",
       "      <td>0 days 00:00:00</td>\n",
       "      <td>21 days 06:30:55</td>\n",
       "      <td>1631 days 23:17:35</td>\n",
       "    </tr>\n",
       "    <tr>\n",
       "      <th>0024:B100:0002:8E02</th>\n",
       "      <td>1591 days 16:26:10</td>\n",
       "      <td>32 days 01:17:58</td>\n",
       "      <td>0 days 06:36:10</td>\n",
       "      <td>0 days 00:00:00</td>\n",
       "      <td>1 days 11:07:20</td>\n",
       "      <td>1625 days 11:27:38</td>\n",
       "    </tr>\n",
       "    <tr>\n",
       "      <th>0024:B100:0002:8E27</th>\n",
       "      <td>1039 days 06:28:29</td>\n",
       "      <td>395 days 09:33:54</td>\n",
       "      <td>0 days 00:00:00</td>\n",
       "      <td>0 days 00:00:00</td>\n",
       "      <td>204 days 17:08:46</td>\n",
       "      <td>1639 days 09:11:09</td>\n",
       "    </tr>\n",
       "    <tr>\n",
       "      <th>0024:B100:0002:8E28</th>\n",
       "      <td>1616 days 23:40:18</td>\n",
       "      <td>4 days 07:41:39</td>\n",
       "      <td>0 days 00:20:45</td>\n",
       "      <td>0 days 00:00:00</td>\n",
       "      <td>10 days 16:18:01</td>\n",
       "      <td>1632 days 00:00:43</td>\n",
       "    </tr>\n",
       "    <tr>\n",
       "      <th>0024:B100:0002:8E2C</th>\n",
       "      <td>1036 days 18:02:30</td>\n",
       "      <td>397 days 19:17:17</td>\n",
       "      <td>0 days 00:01:51</td>\n",
       "      <td>0 days 00:00:00</td>\n",
       "      <td>204 days 19:49:23</td>\n",
       "      <td>1639 days 09:11:01</td>\n",
       "    </tr>\n",
       "    <tr>\n",
       "      <th>0024:B100:0002:8E2F</th>\n",
       "      <td>1033 days 07:30:22</td>\n",
       "      <td>401 days 11:16:50</td>\n",
       "      <td>0 days 00:00:00</td>\n",
       "      <td>0 days 00:00:00</td>\n",
       "      <td>207 days 03:54:09</td>\n",
       "      <td>1641 days 22:41:21</td>\n",
       "    </tr>\n",
       "    <tr>\n",
       "      <th>0024:B100:0002:8E32</th>\n",
       "      <td>1441 days 14:55:24</td>\n",
       "      <td>85 days 14:02:57</td>\n",
       "      <td>0 days 00:00:00</td>\n",
       "      <td>0 days 00:00:00</td>\n",
       "      <td>104 days 19:43:29</td>\n",
       "      <td>1632 days 00:41:50</td>\n",
       "    </tr>\n",
       "    <tr>\n",
       "      <th>0024:B100:0002:8E36</th>\n",
       "      <td>1619 days 00:16:04</td>\n",
       "      <td>4 days 02:43:13</td>\n",
       "      <td>0 days 00:00:00</td>\n",
       "      <td>0 days 00:00:00</td>\n",
       "      <td>8 days 20:56:26</td>\n",
       "      <td>1631 days 23:55:43</td>\n",
       "    </tr>\n",
       "    <tr>\n",
       "      <th>0024:B100:0002:8E37</th>\n",
       "      <td>1610 days 20:59:02</td>\n",
       "      <td>4 days 02:43:38</td>\n",
       "      <td>0 days 00:00:00</td>\n",
       "      <td>0 days 00:00:00</td>\n",
       "      <td>16 days 23:37:45</td>\n",
       "      <td>1631 days 23:20:25</td>\n",
       "    </tr>\n",
       "    <tr>\n",
       "      <th>0024:B100:0002:8E49</th>\n",
       "      <td>1612 days 09:49:23</td>\n",
       "      <td>4 days 02:43:14</td>\n",
       "      <td>0 days 00:00:00</td>\n",
       "      <td>0 days 00:00:00</td>\n",
       "      <td>8 days 22:18:16</td>\n",
       "      <td>1625 days 10:50:53</td>\n",
       "    </tr>\n",
       "    <tr>\n",
       "      <th>0024:B100:0002:8E4A</th>\n",
       "      <td>1310 days 08:54:47</td>\n",
       "      <td>47 days 09:09:37</td>\n",
       "      <td>254 days 23:49:28</td>\n",
       "      <td>0 days 00:00:00</td>\n",
       "      <td>19 days 05:59:10</td>\n",
       "      <td>1631 days 23:53:02</td>\n",
       "    </tr>\n",
       "    <tr>\n",
       "      <th>0024:B100:0002:8F36</th>\n",
       "      <td>317 days 16:46:06</td>\n",
       "      <td>2 days 21:01:58</td>\n",
       "      <td>0 days 00:00:00</td>\n",
       "      <td>0 days 00:00:00</td>\n",
       "      <td>0 days 17:18:05</td>\n",
       "      <td>321 days 07:06:09</td>\n",
       "    </tr>\n",
       "    <tr>\n",
       "      <th>0024:B100:0002:8FCA</th>\n",
       "      <td>1109 days 18:35:25</td>\n",
       "      <td>328 days 23:05:24</td>\n",
       "      <td>0 days 01:00:48</td>\n",
       "      <td>0 days 00:00:00</td>\n",
       "      <td>199 days 17:21:28</td>\n",
       "      <td>1638 days 12:03:05</td>\n",
       "    </tr>\n",
       "    <tr>\n",
       "      <th>0024:B100:0002:8FD1</th>\n",
       "      <td>1501 days 15:05:25</td>\n",
       "      <td>135 days 17:07:56</td>\n",
       "      <td>0 days 06:41:39</td>\n",
       "      <td>0 days 00:00:00</td>\n",
       "      <td>0 days 21:06:16</td>\n",
       "      <td>1638 days 12:01:16</td>\n",
       "    </tr>\n",
       "    <tr>\n",
       "      <th>0024:B100:0002:918F</th>\n",
       "      <td>1609 days 01:11:08</td>\n",
       "      <td>12 days 04:12:49</td>\n",
       "      <td>0 days 00:20:45</td>\n",
       "      <td>0 days 00:00:00</td>\n",
       "      <td>10 days 17:39:05</td>\n",
       "      <td>1631 days 23:23:47</td>\n",
       "    </tr>\n",
       "    <tr>\n",
       "      <th>0024:B100:0002:9193</th>\n",
       "      <td>1348 days 11:26:42</td>\n",
       "      <td>9 days 06:38:59</td>\n",
       "      <td>254 days 23:53:54</td>\n",
       "      <td>0 days 00:00:00</td>\n",
       "      <td>19 days 06:28:38</td>\n",
       "      <td>1632 days 00:28:13</td>\n",
       "    </tr>\n",
       "    <tr>\n",
       "      <th>0024:B100:0002:9194</th>\n",
       "      <td>1443 days 00:15:50</td>\n",
       "      <td>84 days 19:08:24</td>\n",
       "      <td>0 days 00:00:00</td>\n",
       "      <td>0 days 00:00:00</td>\n",
       "      <td>104 days 05:43:25</td>\n",
       "      <td>1632 days 01:07:39</td>\n",
       "    </tr>\n",
       "    <tr>\n",
       "      <th>0024:B100:0002:919B</th>\n",
       "      <td>1630 days 16:55:06</td>\n",
       "      <td>0 days 00:00:00</td>\n",
       "      <td>0 days 00:00:00</td>\n",
       "      <td>0 days 00:00:00</td>\n",
       "      <td>13 days 17:49:48</td>\n",
       "      <td>1644 days 10:44:54</td>\n",
       "    </tr>\n",
       "    <tr>\n",
       "      <th>0024:B100:0002:91B6</th>\n",
       "      <td>170 days 08:18:52</td>\n",
       "      <td>5 days 15:33:48</td>\n",
       "      <td>0 days 00:00:00</td>\n",
       "      <td>0 days 00:00:00</td>\n",
       "      <td>2 days 05:24:25</td>\n",
       "      <td>178 days 05:17:05</td>\n",
       "    </tr>\n",
       "    <tr>\n",
       "      <th>0024:B100:0002:91C3</th>\n",
       "      <td>1610 days 11:36:45</td>\n",
       "      <td>4 days 08:18:32</td>\n",
       "      <td>0 days 00:00:00</td>\n",
       "      <td>0 days 00:00:00</td>\n",
       "      <td>17 days 04:40:45</td>\n",
       "      <td>1632 days 00:36:02</td>\n",
       "    </tr>\n",
       "    <tr>\n",
       "      <th>0024:B100:0002:9202</th>\n",
       "      <td>1583 days 20:31:20</td>\n",
       "      <td>2 days 00:31:53</td>\n",
       "      <td>0 days 00:00:00</td>\n",
       "      <td>0 days 00:00:00</td>\n",
       "      <td>46 days 03:39:51</td>\n",
       "      <td>1632 days 00:43:04</td>\n",
       "    </tr>\n",
       "    <tr>\n",
       "      <th>0024:B100:0002:A917</th>\n",
       "      <td>1290 days 21:07:25</td>\n",
       "      <td>200 days 09:34:18</td>\n",
       "      <td>0 days 06:27:16</td>\n",
       "      <td>0 days 00:00:00</td>\n",
       "      <td>127 days 09:36:26</td>\n",
       "      <td>1618 days 22:45:25</td>\n",
       "    </tr>\n",
       "    <tr>\n",
       "      <th>0024:B100:0002:AD71</th>\n",
       "      <td>1623 days 02:38:49</td>\n",
       "      <td>0 days 00:00:00</td>\n",
       "      <td>0 days 00:05:18</td>\n",
       "      <td>0 days 00:00:00</td>\n",
       "      <td>14 days 06:28:33</td>\n",
       "      <td>1637 days 09:12:40</td>\n",
       "    </tr>\n",
       "    <tr>\n",
       "      <th>0024:B100:0002:AE14</th>\n",
       "      <td>1624 days 19:21:51</td>\n",
       "      <td>0 days 00:00:00</td>\n",
       "      <td>0 days 00:00:00</td>\n",
       "      <td>0 days 00:00:00</td>\n",
       "      <td>16 days 14:20:54</td>\n",
       "      <td>1641 days 09:42:45</td>\n",
       "    </tr>\n",
       "    <tr>\n",
       "      <th>0024:B100:0002:B04A</th>\n",
       "      <td>1633 days 02:52:16</td>\n",
       "      <td>0 days 00:00:00</td>\n",
       "      <td>0 days 06:45:43</td>\n",
       "      <td>0 days 00:00:00</td>\n",
       "      <td>3 days 16:33:28</td>\n",
       "      <td>1637 days 02:11:27</td>\n",
       "    </tr>\n",
       "    <tr>\n",
       "      <th>0024:B100:0003:12D9</th>\n",
       "      <td>842 days 17:12:29</td>\n",
       "      <td>43 days 20:27:36</td>\n",
       "      <td>0 days 00:10:21</td>\n",
       "      <td>0 days 00:00:00</td>\n",
       "      <td>217 days 13:31:18</td>\n",
       "      <td>1104 days 03:21:44</td>\n",
       "    </tr>\n",
       "    <tr>\n",
       "      <th>0024:B100:0003:12EB</th>\n",
       "      <td>780 days 16:59:19</td>\n",
       "      <td>244 days 14:46:34</td>\n",
       "      <td>0 days 00:01:55</td>\n",
       "      <td>0 days 00:00:00</td>\n",
       "      <td>77 days 12:56:34</td>\n",
       "      <td>1102 days 20:44:22</td>\n",
       "    </tr>\n",
       "    <tr>\n",
       "      <th>0024:B100:0003:12EE</th>\n",
       "      <td>851 days 09:34:39</td>\n",
       "      <td>42 days 16:12:55</td>\n",
       "      <td>0 days 00:00:00</td>\n",
       "      <td>0 days 00:00:00</td>\n",
       "      <td>210 days 01:43:25</td>\n",
       "      <td>1104 days 03:30:59</td>\n",
       "    </tr>\n",
       "    <tr>\n",
       "      <th>0024:B100:0003:12F1</th>\n",
       "      <td>777 days 21:37:38</td>\n",
       "      <td>113 days 19:32:34</td>\n",
       "      <td>0 days 00:00:00</td>\n",
       "      <td>0 days 00:00:00</td>\n",
       "      <td>212 days 10:13:52</td>\n",
       "      <td>1104 days 03:24:04</td>\n",
       "    </tr>\n",
       "    <tr>\n",
       "      <th>0024:B100:0003:12F8</th>\n",
       "      <td>840 days 07:51:59</td>\n",
       "      <td>63 days 08:50:32</td>\n",
       "      <td>0 days 00:13:02</td>\n",
       "      <td>0 days 00:00:00</td>\n",
       "      <td>200 days 10:26:47</td>\n",
       "      <td>1104 days 03:22:20</td>\n",
       "    </tr>\n",
       "    <tr>\n",
       "      <th>0024:B100:0003:130B</th>\n",
       "      <td>784 days 18:06:54</td>\n",
       "      <td>235 days 16:43:56</td>\n",
       "      <td>0 days 00:10:14</td>\n",
       "      <td>0 days 00:00:00</td>\n",
       "      <td>82 days 04:48:12</td>\n",
       "      <td>1102 days 15:49:16</td>\n",
       "    </tr>\n",
       "    <tr>\n",
       "      <th>0024:B100:0003:130E</th>\n",
       "      <td>796 days 21:24:25</td>\n",
       "      <td>220 days 20:32:09</td>\n",
       "      <td>0 days 00:04:45</td>\n",
       "      <td>0 days 00:00:00</td>\n",
       "      <td>85 days 02:40:51</td>\n",
       "      <td>1102 days 20:42:10</td>\n",
       "    </tr>\n",
       "    <tr>\n",
       "      <th>0024:B100:0003:130F</th>\n",
       "      <td>779 days 23:33:07</td>\n",
       "      <td>117 days 10:31:13</td>\n",
       "      <td>0 days 00:00:00</td>\n",
       "      <td>0 days 00:00:00</td>\n",
       "      <td>206 days 17:20:17</td>\n",
       "      <td>1104 days 03:24:37</td>\n",
       "    </tr>\n",
       "    <tr>\n",
       "      <th>0024:B100:0003:1312</th>\n",
       "      <td>789 days 18:53:30</td>\n",
       "      <td>235 days 13:13:02</td>\n",
       "      <td>0 days 00:11:16</td>\n",
       "      <td>0 days 00:00:00</td>\n",
       "      <td>77 days 12:27:09</td>\n",
       "      <td>1102 days 20:44:57</td>\n",
       "    </tr>\n",
       "    <tr>\n",
       "      <th>0024:B100:0003:1318</th>\n",
       "      <td>789 days 09:37:35</td>\n",
       "      <td>241 days 20:19:28</td>\n",
       "      <td>0 days 00:01:34</td>\n",
       "      <td>0 days 00:00:00</td>\n",
       "      <td>71 days 14:45:28</td>\n",
       "      <td>1102 days 20:44:05</td>\n",
       "    </tr>\n",
       "    <tr>\n",
       "      <th>0024:B100:0003:1F95</th>\n",
       "      <td>1430 days 08:03:45</td>\n",
       "      <td>91 days 19:29:52</td>\n",
       "      <td>0 days 00:00:00</td>\n",
       "      <td>0 days 00:00:00</td>\n",
       "      <td>102 days 03:27:35</td>\n",
       "      <td>1624 days 07:01:12</td>\n",
       "    </tr>\n",
       "    <tr>\n",
       "      <th>0024:B100:0003:2A8C</th>\n",
       "      <td>825 days 08:57:33</td>\n",
       "      <td>231 days 02:45:15</td>\n",
       "      <td>0 days 00:00:00</td>\n",
       "      <td>0 days 00:00:00</td>\n",
       "      <td>75 days 01:31:14</td>\n",
       "      <td>1131 days 13:14:02</td>\n",
       "    </tr>\n",
       "    <tr>\n",
       "      <th>0024:B100:0003:2AB1</th>\n",
       "      <td>625 days 01:56:24</td>\n",
       "      <td>232 days 17:16:47</td>\n",
       "      <td>129 days 19:34:15</td>\n",
       "      <td>0 days 00:00:00</td>\n",
       "      <td>39 days 19:24:43</td>\n",
       "      <td>1027 days 10:12:09</td>\n",
       "    </tr>\n",
       "    <tr>\n",
       "      <th>0024:B100:0003:2AB5</th>\n",
       "      <td>785 days 05:34:16</td>\n",
       "      <td>195 days 18:16:19</td>\n",
       "      <td>0 days 00:52:36</td>\n",
       "      <td>0 days 00:00:00</td>\n",
       "      <td>46 days 09:33:40</td>\n",
       "      <td>1027 days 10:16:51</td>\n",
       "    </tr>\n",
       "    <tr>\n",
       "      <th>0024:B100:0003:2ADF</th>\n",
       "      <td>735 days 22:18:32</td>\n",
       "      <td>135 days 19:41:44</td>\n",
       "      <td>87 days 20:31:31</td>\n",
       "      <td>0 days 00:00:00</td>\n",
       "      <td>48 days 10:19:34</td>\n",
       "      <td>1008 days 00:51:21</td>\n",
       "    </tr>\n",
       "    <tr>\n",
       "      <th>0024:B100:0003:2B24</th>\n",
       "      <td>6 days 08:44:58</td>\n",
       "      <td>57 days 20:10:30</td>\n",
       "      <td>0 days 00:00:00</td>\n",
       "      <td>0 days 00:00:00</td>\n",
       "      <td>5 days 13:08:55</td>\n",
       "      <td>69 days 18:04:23</td>\n",
       "    </tr>\n",
       "    <tr>\n",
       "      <th>0024:B100:0003:2C1C</th>\n",
       "      <td>943 days 23:12:12</td>\n",
       "      <td>12 days 02:24:51</td>\n",
       "      <td>0 days 00:04:58</td>\n",
       "      <td>0 days 00:00:00</td>\n",
       "      <td>176 days 18:15:53</td>\n",
       "      <td>1132 days 19:57:54</td>\n",
       "    </tr>\n",
       "    <tr>\n",
       "      <th>0024:B100:0003:33C3</th>\n",
       "      <td>1062 days 01:44:17</td>\n",
       "      <td>288 days 22:53:52</td>\n",
       "      <td>51 days 05:54:33</td>\n",
       "      <td>0 days 00:00:00</td>\n",
       "      <td>67 days 23:11:48</td>\n",
       "      <td>1470 days 05:44:30</td>\n",
       "    </tr>\n",
       "    <tr>\n",
       "      <th>0024:B100:0003:519A</th>\n",
       "      <td>4 days 13:45:29</td>\n",
       "      <td>57 days 19:50:32</td>\n",
       "      <td>0 days 00:00:00</td>\n",
       "      <td>0 days 00:00:00</td>\n",
       "      <td>7 days 08:12:10</td>\n",
       "      <td>69 days 17:48:11</td>\n",
       "    </tr>\n",
       "    <tr>\n",
       "      <th>0024:B100:0003:66F6</th>\n",
       "      <td>41 days 02:24:21</td>\n",
       "      <td>5 days 11:15:55</td>\n",
       "      <td>0 days 00:00:00</td>\n",
       "      <td>0 days 00:00:00</td>\n",
       "      <td>23 days 07:07:36</td>\n",
       "      <td>69 days 20:47:52</td>\n",
       "    </tr>\n",
       "    <tr>\n",
       "      <th>0024:B100:0003:6743</th>\n",
       "      <td>23 days 01:57:44</td>\n",
       "      <td>95 days 23:41:43</td>\n",
       "      <td>0 days 00:00:00</td>\n",
       "      <td>0 days 00:00:00</td>\n",
       "      <td>25 days 09:36:54</td>\n",
       "      <td>144 days 11:16:21</td>\n",
       "    </tr>\n",
       "    <tr>\n",
       "      <th>0024:B100:0003:824E</th>\n",
       "      <td>774 days 06:30:23</td>\n",
       "      <td>0 days 00:00:40</td>\n",
       "      <td>0 days 00:16:24</td>\n",
       "      <td>0 days 00:00:00</td>\n",
       "      <td>15 days 12:08:25</td>\n",
       "      <td>789 days 18:55:52</td>\n",
       "    </tr>\n",
       "    <tr>\n",
       "      <th>0024:B100:0003:9836</th>\n",
       "      <td>1036 days 04:26:10</td>\n",
       "      <td>13 days 16:08:42</td>\n",
       "      <td>254 days 21:21:21</td>\n",
       "      <td>0 days 00:00:00</td>\n",
       "      <td>11 days 06:42:07</td>\n",
       "      <td>1316 days 00:38:20</td>\n",
       "    </tr>\n",
       "    <tr>\n",
       "      <th>0024:B100:0003:BF3B</th>\n",
       "      <td>715 days 10:48:37</td>\n",
       "      <td>33 days 21:24:39</td>\n",
       "      <td>0 days 00:00:00</td>\n",
       "      <td>0 days 00:00:00</td>\n",
       "      <td>173 days 04:15:48</td>\n",
       "      <td>922 days 12:29:04</td>\n",
       "    </tr>\n",
       "    <tr>\n",
       "      <th>0024:B100:0003:BF3D</th>\n",
       "      <td>724 days 23:08:59</td>\n",
       "      <td>33 days 06:14:24</td>\n",
       "      <td>0 days 02:29:05</td>\n",
       "      <td>0 days 00:00:00</td>\n",
       "      <td>151 days 12:06:43</td>\n",
       "      <td>909 days 19:59:11</td>\n",
       "    </tr>\n",
       "    <tr>\n",
       "      <th>0024:B100:0003:BF84</th>\n",
       "      <td>50 days 03:53:49</td>\n",
       "      <td>0 days 00:00:00</td>\n",
       "      <td>0 days 00:00:00</td>\n",
       "      <td>0 days 00:00:00</td>\n",
       "      <td>0 days 00:00:00</td>\n",
       "      <td>50 days 03:53:49</td>\n",
       "    </tr>\n",
       "    <tr>\n",
       "      <th>0024:B100:0003:BF91</th>\n",
       "      <td>668 days 07:59:40</td>\n",
       "      <td>43 days 20:29:15</td>\n",
       "      <td>0 days 00:00:00</td>\n",
       "      <td>0 days 00:00:00</td>\n",
       "      <td>194 days 04:06:36</td>\n",
       "      <td>906 days 08:35:31</td>\n",
       "    </tr>\n",
       "    <tr>\n",
       "      <th>0024:B100:0003:C689</th>\n",
       "      <td>549 days 17:28:22</td>\n",
       "      <td>24 days 18:47:45</td>\n",
       "      <td>0 days 00:09:29</td>\n",
       "      <td>0 days 00:00:00</td>\n",
       "      <td>349 days 14:41:26</td>\n",
       "      <td>924 days 03:07:02</td>\n",
       "    </tr>\n",
       "    <tr>\n",
       "      <th>0024:B100:0003:C68A</th>\n",
       "      <td>635 days 21:06:13</td>\n",
       "      <td>181 days 21:47:35</td>\n",
       "      <td>0 days 00:48:05</td>\n",
       "      <td>0 days 00:00:00</td>\n",
       "      <td>86 days 10:47:07</td>\n",
       "      <td>904 days 06:29:00</td>\n",
       "    </tr>\n",
       "    <tr>\n",
       "      <th>0024:B100:0003:D26F</th>\n",
       "      <td>1248 days 15:43:12</td>\n",
       "      <td>7 days 04:57:44</td>\n",
       "      <td>16 days 05:17:25</td>\n",
       "      <td>0 days 00:00:00</td>\n",
       "      <td>22 days 17:57:59</td>\n",
       "      <td>1294 days 19:56:20</td>\n",
       "    </tr>\n",
       "    <tr>\n",
       "      <th>0024:B100:0003:D5D6</th>\n",
       "      <td>1244 days 08:09:10</td>\n",
       "      <td>8 days 05:20:43</td>\n",
       "      <td>0 days 09:52:16</td>\n",
       "      <td>0 days 00:00:00</td>\n",
       "      <td>42 days 05:14:28</td>\n",
       "      <td>1295 days 04:36:37</td>\n",
       "    </tr>\n",
       "    <tr>\n",
       "      <th>0024:B100:0004:0667</th>\n",
       "      <td>1057 days 16:25:54</td>\n",
       "      <td>4 days 05:03:00</td>\n",
       "      <td>7 days 14:40:17</td>\n",
       "      <td>0 days 00:00:00</td>\n",
       "      <td>7 days 19:41:32</td>\n",
       "      <td>1077 days 07:50:43</td>\n",
       "    </tr>\n",
       "    <tr>\n",
       "      <th>0024:B100:0004:0E93</th>\n",
       "      <td>603 days 23:18:09</td>\n",
       "      <td>16 days 20:33:54</td>\n",
       "      <td>0 days 00:03:45</td>\n",
       "      <td>0 days 00:00:00</td>\n",
       "      <td>89 days 07:26:47</td>\n",
       "      <td>710 days 03:22:35</td>\n",
       "    </tr>\n",
       "    <tr>\n",
       "      <th>0024:B100:0004:0EC1</th>\n",
       "      <td>595 days 21:17:25</td>\n",
       "      <td>0 days 00:00:00</td>\n",
       "      <td>0 days 10:35:15</td>\n",
       "      <td>0 days 00:00:00</td>\n",
       "      <td>11 days 23:38:23</td>\n",
       "      <td>608 days 07:31:03</td>\n",
       "    </tr>\n",
       "    <tr>\n",
       "      <th>0024:B100:0004:1B12</th>\n",
       "      <td>778 days 13:25:28</td>\n",
       "      <td>0 days 17:46:29</td>\n",
       "      <td>0 days 01:09:32</td>\n",
       "      <td>0 days 00:00:00</td>\n",
       "      <td>82 days 07:52:42</td>\n",
       "      <td>861 days 16:14:11</td>\n",
       "    </tr>\n",
       "    <tr>\n",
       "      <th>0024:B100:0004:20C4</th>\n",
       "      <td>782 days 04:24:05</td>\n",
       "      <td>9 days 08:14:24</td>\n",
       "      <td>40 days 17:13:27</td>\n",
       "      <td>0 days 00:00:00</td>\n",
       "      <td>44 days 00:37:19</td>\n",
       "      <td>876 days 06:29:15</td>\n",
       "    </tr>\n",
       "    <tr>\n",
       "      <th>0024:B100:0004:2ED8</th>\n",
       "      <td>833 days 19:52:22</td>\n",
       "      <td>0 days 17:55:18</td>\n",
       "      <td>0 days 00:00:00</td>\n",
       "      <td>0 days 00:00:00</td>\n",
       "      <td>11 days 12:06:02</td>\n",
       "      <td>846 days 01:53:42</td>\n",
       "    </tr>\n",
       "    <tr>\n",
       "      <th>0024:B100:0004:3B91</th>\n",
       "      <td>497 days 04:24:09</td>\n",
       "      <td>10 days 18:02:08</td>\n",
       "      <td>9 days 00:10:48</td>\n",
       "      <td>0 days 00:00:00</td>\n",
       "      <td>9 days 04:29:38</td>\n",
       "      <td>526 days 03:06:43</td>\n",
       "    </tr>\n",
       "    <tr>\n",
       "      <th>0024:B100:0004:5CE8</th>\n",
       "      <td>855 days 03:39:05</td>\n",
       "      <td>0 days 00:28:55</td>\n",
       "      <td>0 days 09:55:37</td>\n",
       "      <td>0 days 00:00:00</td>\n",
       "      <td>20 days 15:16:17</td>\n",
       "      <td>876 days 05:19:54</td>\n",
       "    </tr>\n",
       "    <tr>\n",
       "      <th>0024:B100:0004:5D08</th>\n",
       "      <td>856 days 11:06:59</td>\n",
       "      <td>0 days 10:26:55</td>\n",
       "      <td>0 days 10:11:43</td>\n",
       "      <td>0 days 00:00:00</td>\n",
       "      <td>18 days 15:35:57</td>\n",
       "      <td>875 days 23:21:34</td>\n",
       "    </tr>\n",
       "    <tr>\n",
       "      <th>0024:B100:0004:A22C</th>\n",
       "      <td>831 days 15:12:20</td>\n",
       "      <td>0 days 17:55:12</td>\n",
       "      <td>0 days 01:24:00</td>\n",
       "      <td>0 days 00:00:00</td>\n",
       "      <td>19 days 10:08:11</td>\n",
       "      <td>851 days 20:39:43</td>\n",
       "    </tr>\n",
       "    <tr>\n",
       "      <th>0024:B100:0004:A250</th>\n",
       "      <td>780 days 12:47:39</td>\n",
       "      <td>16 days 01:36:44</td>\n",
       "      <td>52 days 13:29:49</td>\n",
       "      <td>0 days 00:00:00</td>\n",
       "      <td>10 days 00:59:12</td>\n",
       "      <td>859 days 04:53:24</td>\n",
       "    </tr>\n",
       "    <tr>\n",
       "      <th>0024:B100:0004:C4B2</th>\n",
       "      <td>836 days 03:41:33</td>\n",
       "      <td>1 days 14:54:06</td>\n",
       "      <td>0 days 00:03:37</td>\n",
       "      <td>0 days 00:00:00</td>\n",
       "      <td>20 days 21:45:32</td>\n",
       "      <td>858 days 16:24:48</td>\n",
       "    </tr>\n",
       "    <tr>\n",
       "      <th>0024:B100:0006:4538</th>\n",
       "      <td>222 days 13:52:36</td>\n",
       "      <td>0 days 00:00:00</td>\n",
       "      <td>0 days 00:10:08</td>\n",
       "      <td>0 days 00:00:00</td>\n",
       "      <td>1 days 16:06:50</td>\n",
       "      <td>224 days 06:09:34</td>\n",
       "    </tr>\n",
       "    <tr>\n",
       "      <th>0024:B100:0006:BC3D</th>\n",
       "      <td>518 days 14:25:25</td>\n",
       "      <td>2 days 14:01:39</td>\n",
       "      <td>2 days 21:12:38</td>\n",
       "      <td>0 days 00:00:00</td>\n",
       "      <td>42 days 02:48:40</td>\n",
       "      <td>566 days 04:28:22</td>\n",
       "    </tr>\n",
       "    <tr>\n",
       "      <th>0024:B100:0006:BD13</th>\n",
       "      <td>224 days 06:16:51</td>\n",
       "      <td>0 days 00:00:00</td>\n",
       "      <td>0 days 00:53:04</td>\n",
       "      <td>0 days 00:00:00</td>\n",
       "      <td>1 days 02:40:00</td>\n",
       "      <td>225 days 09:49:55</td>\n",
       "    </tr>\n",
       "    <tr>\n",
       "      <th>0024:B100:0006:BD1D</th>\n",
       "      <td>233 days 07:04:34</td>\n",
       "      <td>0 days 00:00:00</td>\n",
       "      <td>0 days 00:52:59</td>\n",
       "      <td>0 days 00:00:00</td>\n",
       "      <td>2 days 23:13:07</td>\n",
       "      <td>236 days 07:10:40</td>\n",
       "    </tr>\n",
       "    <tr>\n",
       "      <th>0024:B100:0006:BD20</th>\n",
       "      <td>244 days 08:36:07</td>\n",
       "      <td>0 days 00:00:00</td>\n",
       "      <td>0 days 00:45:10</td>\n",
       "      <td>0 days 00:00:00</td>\n",
       "      <td>1 days 14:44:51</td>\n",
       "      <td>246 days 00:06:08</td>\n",
       "    </tr>\n",
       "    <tr>\n",
       "      <th>0024:B100:0006:C0E1</th>\n",
       "      <td>229 days 09:11:09</td>\n",
       "      <td>0 days 00:00:00</td>\n",
       "      <td>0 days 00:52:57</td>\n",
       "      <td>0 days 00:00:00</td>\n",
       "      <td>1 days 14:16:50</td>\n",
       "      <td>231 days 00:20:56</td>\n",
       "    </tr>\n",
       "    <tr>\n",
       "      <th>0024:B100:0006:C0E2</th>\n",
       "      <td>244 days 16:40:17</td>\n",
       "      <td>0 days 00:00:00</td>\n",
       "      <td>0 days 00:10:07</td>\n",
       "      <td>0 days 00:00:00</td>\n",
       "      <td>1 days 09:43:28</td>\n",
       "      <td>246 days 02:33:52</td>\n",
       "    </tr>\n",
       "    <tr>\n",
       "      <th>0024:B100:0006:C7DC</th>\n",
       "      <td>161 days 12:32:42</td>\n",
       "      <td>4 days 16:50:41</td>\n",
       "      <td>0 days 00:06:34</td>\n",
       "      <td>0 days 00:00:00</td>\n",
       "      <td>0 days 09:16:47</td>\n",
       "      <td>166 days 14:46:44</td>\n",
       "    </tr>\n",
       "    <tr>\n",
       "      <th>0024:B100:0006:C802</th>\n",
       "      <td>228 days 00:32:59</td>\n",
       "      <td>0 days 00:07:53</td>\n",
       "      <td>0 days 00:49:11</td>\n",
       "      <td>0 days 00:00:00</td>\n",
       "      <td>1 days 17:46:52</td>\n",
       "      <td>229 days 19:16:55</td>\n",
       "    </tr>\n",
       "    <tr>\n",
       "      <th>0024:B100:0006:C80C</th>\n",
       "      <td>245 days 00:44:26</td>\n",
       "      <td>0 days 00:00:00</td>\n",
       "      <td>0 days 00:53:05</td>\n",
       "      <td>0 days 00:00:00</td>\n",
       "      <td>0 days 23:04:23</td>\n",
       "      <td>246 days 00:41:54</td>\n",
       "    </tr>\n",
       "    <tr>\n",
       "      <th>0024:B100:0006:C80F</th>\n",
       "      <td>217 days 08:32:17</td>\n",
       "      <td>0 days 00:00:00</td>\n",
       "      <td>0 days 01:29:36</td>\n",
       "      <td>0 days 00:00:00</td>\n",
       "      <td>2 days 13:25:15</td>\n",
       "      <td>219 days 23:27:08</td>\n",
       "    </tr>\n",
       "    <tr>\n",
       "      <th>0024:B100:000C:083C</th>\n",
       "      <td>135 days 15:20:51</td>\n",
       "      <td>0 days 00:00:00</td>\n",
       "      <td>0 days 00:00:00</td>\n",
       "      <td>0 days 00:00:00</td>\n",
       "      <td>0 days 00:00:00</td>\n",
       "      <td>135 days 15:20:51</td>\n",
       "    </tr>\n",
       "  </tbody>\n",
       "</table>\n",
       "</div>"
      ],
      "text/plain": [
       "State                        Available           Faulted       Unavailable  \\\n",
       "MAC Address                                                                  \n",
       "000D:6F00:04F8:B0AC  113 days 06:53:03 124 days 05:54:30   0 days 00:00:00   \n",
       "0024:B100:0002:13E5 1853 days 12:28:24  11 days 00:05:33   0 days 06:44:49   \n",
       "0024:B100:0002:15D0 1688 days 13:27:36 155 days 01:11:45   0 days 00:11:17   \n",
       "0024:B100:0002:15D4 1745 days 21:58:31  95 days 05:24:42   0 days 00:35:38   \n",
       "0024:B100:0002:15DF 1749 days 23:32:33  99 days 12:32:57   0 days 00:31:33   \n",
       "0024:B100:0002:16F3 1982 days 23:46:03   8 days 12:00:09   7 days 19:02:35   \n",
       "0024:B100:0002:1C6A 1754 days 18:09:50  85 days 08:26:49   0 days 00:31:19   \n",
       "0024:B100:0002:1E24 1226 days 07:00:54  59 days 01:35:28   0 days 00:08:37   \n",
       "0024:B100:0002:1EED 1728 days 20:23:54  73 days 02:30:09   0 days 02:59:39   \n",
       "0024:B100:0002:1F61 1391 days 23:37:02  32 days 19:02:05   0 days 00:39:27   \n",
       "0024:B100:0002:1F6C 1723 days 11:04:52  89 days 15:52:46   0 days 00:00:00   \n",
       "0024:B100:0002:1F71  875 days 02:31:52  49 days 11:13:12   0 days 00:00:00   \n",
       "0024:B100:0002:2022  518 days 21:49:07  11 days 21:46:46   0 days 01:18:05   \n",
       "0024:B100:0002:2940 1400 days 10:20:36 478 days 03:52:53  81 days 19:47:46   \n",
       "0024:B100:0002:294E 1951 days 15:27:30   3 days 03:17:30  11 days 00:58:36   \n",
       "0024:B100:0002:2954 1799 days 04:06:42 181 days 07:29:16   0 days 00:01:45   \n",
       "0024:B100:0002:2955 1775 days 12:31:16  49 days 03:17:12   0 days 00:06:03   \n",
       "0024:B100:0002:295F 1747 days 20:54:57  66 days 01:35:16   0 days 00:29:42   \n",
       "0024:B100:0002:2963  685 days 13:07:18   0 days 00:00:00  13 days 21:52:58   \n",
       "0024:B100:0002:297C 1748 days 20:06:34  60 days 09:53:37   0 days 00:01:43   \n",
       "0024:B100:0002:299E 1705 days 19:51:17 246 days 04:57:25   0 days 00:32:29   \n",
       "0024:B100:0002:29C3  706 days 14:10:34   0 days 05:14:33   0 days 00:00:00   \n",
       "0024:B100:0002:29C6 1113 days 23:51:35   4 days 14:33:25   0 days 00:00:01   \n",
       "0024:B100:0002:2A6B 1916 days 18:22:45  27 days 15:43:05   9 days 02:20:22   \n",
       "0024:B100:0002:2A6E 1963 days 14:56:51   3 days 03:17:21   0 days 00:00:00   \n",
       "0024:B100:0002:2A70 1832 days 01:25:43  74 days 07:29:00  44 days 02:23:19   \n",
       "0024:B100:0002:2A71 1705 days 17:45:27 115 days 13:15:23   0 days 01:06:11   \n",
       "0024:B100:0002:2A73 1732 days 17:45:23 196 days 15:30:13  42 days 07:24:57   \n",
       "0024:B100:0002:2A74 1942 days 01:25:33  19 days 16:27:27   0 days 00:00:00   \n",
       "0024:B100:0002:2A78 1104 days 00:55:51   8 days 18:51:10   4 days 20:41:36   \n",
       "0024:B100:0002:2A7B 1745 days 14:10:41  72 days 09:20:40   0 days 00:31:24   \n",
       "0024:B100:0002:2A7C 1798 days 07:35:59 180 days 06:24:48   0 days 00:35:03   \n",
       "0024:B100:0002:2A80 1893 days 22:23:22  29 days 17:40:19  31 days 04:34:41   \n",
       "0024:B100:0002:2A89 1074 days 18:16:49  49 days 06:50:38   0 days 00:32:37   \n",
       "0024:B100:0002:2A8E 1683 days 23:47:12 108 days 00:13:46  35 days 06:03:08   \n",
       "0024:B100:0002:3F5A 1775 days 06:28:27 199 days 06:30:22   0 days 01:03:27   \n",
       "0024:B100:0002:4AEB  761 days 16:19:46 216 days 01:16:27   0 days 03:21:05   \n",
       "0024:B100:0002:5134 1738 days 13:46:51  71 days 18:54:51   0 days 00:47:08   \n",
       "0024:B100:0002:5144  820 days 17:06:39 200 days 18:43:21  21 days 07:30:07   \n",
       "0024:B100:0002:5150 1194 days 12:10:08  21 days 17:55:12   0 days 01:02:34   \n",
       "0024:B100:0002:5154 1915 days 23:33:44  43 days 16:32:46   5 days 13:38:13   \n",
       "0024:B100:0002:5158 1749 days 00:53:10 223 days 08:32:00   0 days 09:51:58   \n",
       "0024:B100:0002:5752  760 days 23:36:03 216 days 08:30:58   0 days 03:30:58   \n",
       "0024:B100:0002:575E  807 days 03:54:46 230 days 18:31:37   0 days 03:30:59   \n",
       "0024:B100:0002:594F 1423 days 16:04:57   0 days 00:00:00   0 days 00:00:00   \n",
       "0024:B100:0002:8DD9 1423 days 22:57:38 101 days 16:10:20   0 days 00:00:00   \n",
       "0024:B100:0002:8DDC 1348 days 10:17:27 262 days 06:29:13   0 days 00:00:00   \n",
       "0024:B100:0002:8E02 1591 days 16:26:10  32 days 01:17:58   0 days 06:36:10   \n",
       "0024:B100:0002:8E27 1039 days 06:28:29 395 days 09:33:54   0 days 00:00:00   \n",
       "0024:B100:0002:8E28 1616 days 23:40:18   4 days 07:41:39   0 days 00:20:45   \n",
       "0024:B100:0002:8E2C 1036 days 18:02:30 397 days 19:17:17   0 days 00:01:51   \n",
       "0024:B100:0002:8E2F 1033 days 07:30:22 401 days 11:16:50   0 days 00:00:00   \n",
       "0024:B100:0002:8E32 1441 days 14:55:24  85 days 14:02:57   0 days 00:00:00   \n",
       "0024:B100:0002:8E36 1619 days 00:16:04   4 days 02:43:13   0 days 00:00:00   \n",
       "0024:B100:0002:8E37 1610 days 20:59:02   4 days 02:43:38   0 days 00:00:00   \n",
       "0024:B100:0002:8E49 1612 days 09:49:23   4 days 02:43:14   0 days 00:00:00   \n",
       "0024:B100:0002:8E4A 1310 days 08:54:47  47 days 09:09:37 254 days 23:49:28   \n",
       "0024:B100:0002:8F36  317 days 16:46:06   2 days 21:01:58   0 days 00:00:00   \n",
       "0024:B100:0002:8FCA 1109 days 18:35:25 328 days 23:05:24   0 days 01:00:48   \n",
       "0024:B100:0002:8FD1 1501 days 15:05:25 135 days 17:07:56   0 days 06:41:39   \n",
       "0024:B100:0002:918F 1609 days 01:11:08  12 days 04:12:49   0 days 00:20:45   \n",
       "0024:B100:0002:9193 1348 days 11:26:42   9 days 06:38:59 254 days 23:53:54   \n",
       "0024:B100:0002:9194 1443 days 00:15:50  84 days 19:08:24   0 days 00:00:00   \n",
       "0024:B100:0002:919B 1630 days 16:55:06   0 days 00:00:00   0 days 00:00:00   \n",
       "0024:B100:0002:91B6  170 days 08:18:52   5 days 15:33:48   0 days 00:00:00   \n",
       "0024:B100:0002:91C3 1610 days 11:36:45   4 days 08:18:32   0 days 00:00:00   \n",
       "0024:B100:0002:9202 1583 days 20:31:20   2 days 00:31:53   0 days 00:00:00   \n",
       "0024:B100:0002:A917 1290 days 21:07:25 200 days 09:34:18   0 days 06:27:16   \n",
       "0024:B100:0002:AD71 1623 days 02:38:49   0 days 00:00:00   0 days 00:05:18   \n",
       "0024:B100:0002:AE14 1624 days 19:21:51   0 days 00:00:00   0 days 00:00:00   \n",
       "0024:B100:0002:B04A 1633 days 02:52:16   0 days 00:00:00   0 days 06:45:43   \n",
       "0024:B100:0003:12D9  842 days 17:12:29  43 days 20:27:36   0 days 00:10:21   \n",
       "0024:B100:0003:12EB  780 days 16:59:19 244 days 14:46:34   0 days 00:01:55   \n",
       "0024:B100:0003:12EE  851 days 09:34:39  42 days 16:12:55   0 days 00:00:00   \n",
       "0024:B100:0003:12F1  777 days 21:37:38 113 days 19:32:34   0 days 00:00:00   \n",
       "0024:B100:0003:12F8  840 days 07:51:59  63 days 08:50:32   0 days 00:13:02   \n",
       "0024:B100:0003:130B  784 days 18:06:54 235 days 16:43:56   0 days 00:10:14   \n",
       "0024:B100:0003:130E  796 days 21:24:25 220 days 20:32:09   0 days 00:04:45   \n",
       "0024:B100:0003:130F  779 days 23:33:07 117 days 10:31:13   0 days 00:00:00   \n",
       "0024:B100:0003:1312  789 days 18:53:30 235 days 13:13:02   0 days 00:11:16   \n",
       "0024:B100:0003:1318  789 days 09:37:35 241 days 20:19:28   0 days 00:01:34   \n",
       "0024:B100:0003:1F95 1430 days 08:03:45  91 days 19:29:52   0 days 00:00:00   \n",
       "0024:B100:0003:2A8C  825 days 08:57:33 231 days 02:45:15   0 days 00:00:00   \n",
       "0024:B100:0003:2AB1  625 days 01:56:24 232 days 17:16:47 129 days 19:34:15   \n",
       "0024:B100:0003:2AB5  785 days 05:34:16 195 days 18:16:19   0 days 00:52:36   \n",
       "0024:B100:0003:2ADF  735 days 22:18:32 135 days 19:41:44  87 days 20:31:31   \n",
       "0024:B100:0003:2B24    6 days 08:44:58  57 days 20:10:30   0 days 00:00:00   \n",
       "0024:B100:0003:2C1C  943 days 23:12:12  12 days 02:24:51   0 days 00:04:58   \n",
       "0024:B100:0003:33C3 1062 days 01:44:17 288 days 22:53:52  51 days 05:54:33   \n",
       "0024:B100:0003:519A    4 days 13:45:29  57 days 19:50:32   0 days 00:00:00   \n",
       "0024:B100:0003:66F6   41 days 02:24:21   5 days 11:15:55   0 days 00:00:00   \n",
       "0024:B100:0003:6743   23 days 01:57:44  95 days 23:41:43   0 days 00:00:00   \n",
       "0024:B100:0003:824E  774 days 06:30:23   0 days 00:00:40   0 days 00:16:24   \n",
       "0024:B100:0003:9836 1036 days 04:26:10  13 days 16:08:42 254 days 21:21:21   \n",
       "0024:B100:0003:BF3B  715 days 10:48:37  33 days 21:24:39   0 days 00:00:00   \n",
       "0024:B100:0003:BF3D  724 days 23:08:59  33 days 06:14:24   0 days 02:29:05   \n",
       "0024:B100:0003:BF84   50 days 03:53:49   0 days 00:00:00   0 days 00:00:00   \n",
       "0024:B100:0003:BF91  668 days 07:59:40  43 days 20:29:15   0 days 00:00:00   \n",
       "0024:B100:0003:C689  549 days 17:28:22  24 days 18:47:45   0 days 00:09:29   \n",
       "0024:B100:0003:C68A  635 days 21:06:13 181 days 21:47:35   0 days 00:48:05   \n",
       "0024:B100:0003:D26F 1248 days 15:43:12   7 days 04:57:44  16 days 05:17:25   \n",
       "0024:B100:0003:D5D6 1244 days 08:09:10   8 days 05:20:43   0 days 09:52:16   \n",
       "0024:B100:0004:0667 1057 days 16:25:54   4 days 05:03:00   7 days 14:40:17   \n",
       "0024:B100:0004:0E93  603 days 23:18:09  16 days 20:33:54   0 days 00:03:45   \n",
       "0024:B100:0004:0EC1  595 days 21:17:25   0 days 00:00:00   0 days 10:35:15   \n",
       "0024:B100:0004:1B12  778 days 13:25:28   0 days 17:46:29   0 days 01:09:32   \n",
       "0024:B100:0004:20C4  782 days 04:24:05   9 days 08:14:24  40 days 17:13:27   \n",
       "0024:B100:0004:2ED8  833 days 19:52:22   0 days 17:55:18   0 days 00:00:00   \n",
       "0024:B100:0004:3B91  497 days 04:24:09  10 days 18:02:08   9 days 00:10:48   \n",
       "0024:B100:0004:5CE8  855 days 03:39:05   0 days 00:28:55   0 days 09:55:37   \n",
       "0024:B100:0004:5D08  856 days 11:06:59   0 days 10:26:55   0 days 10:11:43   \n",
       "0024:B100:0004:A22C  831 days 15:12:20   0 days 17:55:12   0 days 01:24:00   \n",
       "0024:B100:0004:A250  780 days 12:47:39  16 days 01:36:44  52 days 13:29:49   \n",
       "0024:B100:0004:C4B2  836 days 03:41:33   1 days 14:54:06   0 days 00:03:37   \n",
       "0024:B100:0006:4538  222 days 13:52:36   0 days 00:00:00   0 days 00:10:08   \n",
       "0024:B100:0006:BC3D  518 days 14:25:25   2 days 14:01:39   2 days 21:12:38   \n",
       "0024:B100:0006:BD13  224 days 06:16:51   0 days 00:00:00   0 days 00:53:04   \n",
       "0024:B100:0006:BD1D  233 days 07:04:34   0 days 00:00:00   0 days 00:52:59   \n",
       "0024:B100:0006:BD20  244 days 08:36:07   0 days 00:00:00   0 days 00:45:10   \n",
       "0024:B100:0006:C0E1  229 days 09:11:09   0 days 00:00:00   0 days 00:52:57   \n",
       "0024:B100:0006:C0E2  244 days 16:40:17   0 days 00:00:00   0 days 00:10:07   \n",
       "0024:B100:0006:C7DC  161 days 12:32:42   4 days 16:50:41   0 days 00:06:34   \n",
       "0024:B100:0006:C802  228 days 00:32:59   0 days 00:07:53   0 days 00:49:11   \n",
       "0024:B100:0006:C80C  245 days 00:44:26   0 days 00:00:00   0 days 00:53:05   \n",
       "0024:B100:0006:C80F  217 days 08:32:17   0 days 00:00:00   0 days 01:29:36   \n",
       "0024:B100:000C:083C  135 days 15:20:51   0 days 00:00:00   0 days 00:00:00   \n",
       "\n",
       "State                       Unknown       Unreachable              Total  \n",
       "MAC Address                                                               \n",
       "000D:6F00:04F8:B0AC 0 days 00:00:00  71 days 23:31:54  309 days 12:19:27  \n",
       "0024:B100:0002:13E5 0 days 00:00:00 118 days 02:23:36 1982 days 21:42:22  \n",
       "0024:B100:0002:15D0 0 days 00:00:00 146 days 03:59:24 1989 days 18:50:02  \n",
       "0024:B100:0002:15D4 0 days 00:00:00 146 days 16:11:35 1987 days 20:10:26  \n",
       "0024:B100:0002:15DF 0 days 00:00:00 139 days 14:05:51 1989 days 02:42:54  \n",
       "0024:B100:0002:16F3 0 days 00:00:00   6 days 23:27:26 2006 days 06:16:13  \n",
       "0024:B100:0002:1C6A 0 days 00:00:00 149 days 00:27:05 1989 days 03:35:03  \n",
       "0024:B100:0002:1E24 0 days 00:00:00 194 days 08:12:42 1479 days 16:57:41  \n",
       "0024:B100:0002:1EED 0 days 00:00:00 197 days 23:24:22 2000 days 01:18:04  \n",
       "0024:B100:0002:1F61 0 days 00:00:00  15 days 10:56:27 1440 days 06:15:01  \n",
       "0024:B100:0002:1F6C 0 days 00:00:00 190 days 03:36:29 2003 days 06:34:07  \n",
       "0024:B100:0002:1F71 0 days 00:00:00   4 days 11:59:16  929 days 01:44:20  \n",
       "0024:B100:0002:2022 0 days 00:00:00   2 days 21:15:26  533 days 18:09:24  \n",
       "0024:B100:0002:2940 0 days 00:00:00  42 days 21:01:55 2003 days 07:03:10  \n",
       "0024:B100:0002:294E 0 days 00:00:00  36 days 05:39:07 2002 days 01:22:43  \n",
       "0024:B100:0002:2954 0 days 00:00:00  25 days 13:50:18 2006 days 01:28:01  \n",
       "0024:B100:0002:2955 0 days 00:00:00 178 days 10:37:59 2003 days 02:32:30  \n",
       "0024:B100:0002:295F 0 days 00:00:00 179 days 00:56:31 1992 days 23:56:26  \n",
       "0024:B100:0002:2963 0 days 00:00:00   2 days 09:53:55  701 days 20:54:11  \n",
       "0024:B100:0002:297C 0 days 00:00:00 183 days 03:04:03 1992 days 09:05:57  \n",
       "0024:B100:0002:299E 0 days 00:00:00  40 days 08:59:39 1992 days 10:20:50  \n",
       "0024:B100:0002:29C3 0 days 00:00:00   0 days 22:09:40  707 days 17:34:47  \n",
       "0024:B100:0002:29C6 0 days 00:00:00  11 days 08:27:51 1129 days 22:52:52  \n",
       "0024:B100:0002:2A6B 0 days 00:00:00  41 days 12:32:43 1995 days 00:58:55  \n",
       "0024:B100:0002:2A6E 0 days 00:00:00  35 days 07:34:27 2002 days 01:48:39  \n",
       "0024:B100:0002:2A70 0 days 00:00:00  51 days 13:11:05 2002 days 00:29:07  \n",
       "0024:B100:0002:2A71 0 days 00:00:00 176 days 22:47:17 1998 days 06:54:18  \n",
       "0024:B100:0002:2A73 0 days 00:00:00  30 days 10:50:35 2002 days 03:31:08  \n",
       "0024:B100:0002:2A74 0 days 00:00:00  43 days 20:52:03 2005 days 14:45:03  \n",
       "0024:B100:0002:2A78 0 days 00:00:00   7 days 06:49:34 1124 days 23:18:11  \n",
       "0024:B100:0002:2A7B 0 days 00:00:00 182 days 22:51:02 2000 days 22:53:47  \n",
       "0024:B100:0002:2A7C 0 days 00:00:00  24 days 14:11:12 2003 days 04:47:02  \n",
       "0024:B100:0002:2A80 0 days 00:00:00  39 days 09:47:12 1994 days 06:25:34  \n",
       "0024:B100:0002:2A89 0 days 00:00:00   5 days 20:23:03 1129 days 22:03:07  \n",
       "0024:B100:0002:2A8E 0 days 00:00:00 165 days 02:34:37 1992 days 08:38:43  \n",
       "0024:B100:0002:3F5A 0 days 00:00:00  31 days 18:33:13 2006 days 08:35:29  \n",
       "0024:B100:0002:4AEB 0 days 00:10:09  73 days 19:13:23 1051 days 16:20:50  \n",
       "0024:B100:0002:5134 0 days 00:00:00 191 days 20:42:15 2002 days 06:11:05  \n",
       "0024:B100:0002:5144 0 days 00:00:00  70 days 22:53:27 1113 days 18:13:34  \n",
       "0024:B100:0002:5150 0 days 00:00:00   7 days 01:02:50 1223 days 08:10:44  \n",
       "0024:B100:0002:5154 0 days 00:00:00  31 days 01:04:13 1996 days 06:48:56  \n",
       "0024:B100:0002:5158 0 days 00:00:00  32 days 16:10:48 2005 days 11:27:56  \n",
       "0024:B100:0002:5752 0 days 00:00:00  74 days 04:44:32 1051 days 16:22:31  \n",
       "0024:B100:0002:575E 0 days 00:00:00  75 days 16:14:55 1113 days 18:12:17  \n",
       "0024:B100:0002:594F 0 days 00:00:00  29 days 08:27:55 1453 days 00:32:52  \n",
       "0024:B100:0002:8DD9 0 days 00:00:00 106 days 09:08:02 1632 days 00:16:00  \n",
       "0024:B100:0002:8DDC 0 days 00:00:00  21 days 06:30:55 1631 days 23:17:35  \n",
       "0024:B100:0002:8E02 0 days 00:00:00   1 days 11:07:20 1625 days 11:27:38  \n",
       "0024:B100:0002:8E27 0 days 00:00:00 204 days 17:08:46 1639 days 09:11:09  \n",
       "0024:B100:0002:8E28 0 days 00:00:00  10 days 16:18:01 1632 days 00:00:43  \n",
       "0024:B100:0002:8E2C 0 days 00:00:00 204 days 19:49:23 1639 days 09:11:01  \n",
       "0024:B100:0002:8E2F 0 days 00:00:00 207 days 03:54:09 1641 days 22:41:21  \n",
       "0024:B100:0002:8E32 0 days 00:00:00 104 days 19:43:29 1632 days 00:41:50  \n",
       "0024:B100:0002:8E36 0 days 00:00:00   8 days 20:56:26 1631 days 23:55:43  \n",
       "0024:B100:0002:8E37 0 days 00:00:00  16 days 23:37:45 1631 days 23:20:25  \n",
       "0024:B100:0002:8E49 0 days 00:00:00   8 days 22:18:16 1625 days 10:50:53  \n",
       "0024:B100:0002:8E4A 0 days 00:00:00  19 days 05:59:10 1631 days 23:53:02  \n",
       "0024:B100:0002:8F36 0 days 00:00:00   0 days 17:18:05  321 days 07:06:09  \n",
       "0024:B100:0002:8FCA 0 days 00:00:00 199 days 17:21:28 1638 days 12:03:05  \n",
       "0024:B100:0002:8FD1 0 days 00:00:00   0 days 21:06:16 1638 days 12:01:16  \n",
       "0024:B100:0002:918F 0 days 00:00:00  10 days 17:39:05 1631 days 23:23:47  \n",
       "0024:B100:0002:9193 0 days 00:00:00  19 days 06:28:38 1632 days 00:28:13  \n",
       "0024:B100:0002:9194 0 days 00:00:00 104 days 05:43:25 1632 days 01:07:39  \n",
       "0024:B100:0002:919B 0 days 00:00:00  13 days 17:49:48 1644 days 10:44:54  \n",
       "0024:B100:0002:91B6 0 days 00:00:00   2 days 05:24:25  178 days 05:17:05  \n",
       "0024:B100:0002:91C3 0 days 00:00:00  17 days 04:40:45 1632 days 00:36:02  \n",
       "0024:B100:0002:9202 0 days 00:00:00  46 days 03:39:51 1632 days 00:43:04  \n",
       "0024:B100:0002:A917 0 days 00:00:00 127 days 09:36:26 1618 days 22:45:25  \n",
       "0024:B100:0002:AD71 0 days 00:00:00  14 days 06:28:33 1637 days 09:12:40  \n",
       "0024:B100:0002:AE14 0 days 00:00:00  16 days 14:20:54 1641 days 09:42:45  \n",
       "0024:B100:0002:B04A 0 days 00:00:00   3 days 16:33:28 1637 days 02:11:27  \n",
       "0024:B100:0003:12D9 0 days 00:00:00 217 days 13:31:18 1104 days 03:21:44  \n",
       "0024:B100:0003:12EB 0 days 00:00:00  77 days 12:56:34 1102 days 20:44:22  \n",
       "0024:B100:0003:12EE 0 days 00:00:00 210 days 01:43:25 1104 days 03:30:59  \n",
       "0024:B100:0003:12F1 0 days 00:00:00 212 days 10:13:52 1104 days 03:24:04  \n",
       "0024:B100:0003:12F8 0 days 00:00:00 200 days 10:26:47 1104 days 03:22:20  \n",
       "0024:B100:0003:130B 0 days 00:00:00  82 days 04:48:12 1102 days 15:49:16  \n",
       "0024:B100:0003:130E 0 days 00:00:00  85 days 02:40:51 1102 days 20:42:10  \n",
       "0024:B100:0003:130F 0 days 00:00:00 206 days 17:20:17 1104 days 03:24:37  \n",
       "0024:B100:0003:1312 0 days 00:00:00  77 days 12:27:09 1102 days 20:44:57  \n",
       "0024:B100:0003:1318 0 days 00:00:00  71 days 14:45:28 1102 days 20:44:05  \n",
       "0024:B100:0003:1F95 0 days 00:00:00 102 days 03:27:35 1624 days 07:01:12  \n",
       "0024:B100:0003:2A8C 0 days 00:00:00  75 days 01:31:14 1131 days 13:14:02  \n",
       "0024:B100:0003:2AB1 0 days 00:00:00  39 days 19:24:43 1027 days 10:12:09  \n",
       "0024:B100:0003:2AB5 0 days 00:00:00  46 days 09:33:40 1027 days 10:16:51  \n",
       "0024:B100:0003:2ADF 0 days 00:00:00  48 days 10:19:34 1008 days 00:51:21  \n",
       "0024:B100:0003:2B24 0 days 00:00:00   5 days 13:08:55   69 days 18:04:23  \n",
       "0024:B100:0003:2C1C 0 days 00:00:00 176 days 18:15:53 1132 days 19:57:54  \n",
       "0024:B100:0003:33C3 0 days 00:00:00  67 days 23:11:48 1470 days 05:44:30  \n",
       "0024:B100:0003:519A 0 days 00:00:00   7 days 08:12:10   69 days 17:48:11  \n",
       "0024:B100:0003:66F6 0 days 00:00:00  23 days 07:07:36   69 days 20:47:52  \n",
       "0024:B100:0003:6743 0 days 00:00:00  25 days 09:36:54  144 days 11:16:21  \n",
       "0024:B100:0003:824E 0 days 00:00:00  15 days 12:08:25  789 days 18:55:52  \n",
       "0024:B100:0003:9836 0 days 00:00:00  11 days 06:42:07 1316 days 00:38:20  \n",
       "0024:B100:0003:BF3B 0 days 00:00:00 173 days 04:15:48  922 days 12:29:04  \n",
       "0024:B100:0003:BF3D 0 days 00:00:00 151 days 12:06:43  909 days 19:59:11  \n",
       "0024:B100:0003:BF84 0 days 00:00:00   0 days 00:00:00   50 days 03:53:49  \n",
       "0024:B100:0003:BF91 0 days 00:00:00 194 days 04:06:36  906 days 08:35:31  \n",
       "0024:B100:0003:C689 0 days 00:00:00 349 days 14:41:26  924 days 03:07:02  \n",
       "0024:B100:0003:C68A 0 days 00:00:00  86 days 10:47:07  904 days 06:29:00  \n",
       "0024:B100:0003:D26F 0 days 00:00:00  22 days 17:57:59 1294 days 19:56:20  \n",
       "0024:B100:0003:D5D6 0 days 00:00:00  42 days 05:14:28 1295 days 04:36:37  \n",
       "0024:B100:0004:0667 0 days 00:00:00   7 days 19:41:32 1077 days 07:50:43  \n",
       "0024:B100:0004:0E93 0 days 00:00:00  89 days 07:26:47  710 days 03:22:35  \n",
       "0024:B100:0004:0EC1 0 days 00:00:00  11 days 23:38:23  608 days 07:31:03  \n",
       "0024:B100:0004:1B12 0 days 00:00:00  82 days 07:52:42  861 days 16:14:11  \n",
       "0024:B100:0004:20C4 0 days 00:00:00  44 days 00:37:19  876 days 06:29:15  \n",
       "0024:B100:0004:2ED8 0 days 00:00:00  11 days 12:06:02  846 days 01:53:42  \n",
       "0024:B100:0004:3B91 0 days 00:00:00   9 days 04:29:38  526 days 03:06:43  \n",
       "0024:B100:0004:5CE8 0 days 00:00:00  20 days 15:16:17  876 days 05:19:54  \n",
       "0024:B100:0004:5D08 0 days 00:00:00  18 days 15:35:57  875 days 23:21:34  \n",
       "0024:B100:0004:A22C 0 days 00:00:00  19 days 10:08:11  851 days 20:39:43  \n",
       "0024:B100:0004:A250 0 days 00:00:00  10 days 00:59:12  859 days 04:53:24  \n",
       "0024:B100:0004:C4B2 0 days 00:00:00  20 days 21:45:32  858 days 16:24:48  \n",
       "0024:B100:0006:4538 0 days 00:00:00   1 days 16:06:50  224 days 06:09:34  \n",
       "0024:B100:0006:BC3D 0 days 00:00:00  42 days 02:48:40  566 days 04:28:22  \n",
       "0024:B100:0006:BD13 0 days 00:00:00   1 days 02:40:00  225 days 09:49:55  \n",
       "0024:B100:0006:BD1D 0 days 00:00:00   2 days 23:13:07  236 days 07:10:40  \n",
       "0024:B100:0006:BD20 0 days 00:00:00   1 days 14:44:51  246 days 00:06:08  \n",
       "0024:B100:0006:C0E1 0 days 00:00:00   1 days 14:16:50  231 days 00:20:56  \n",
       "0024:B100:0006:C0E2 0 days 00:00:00   1 days 09:43:28  246 days 02:33:52  \n",
       "0024:B100:0006:C7DC 0 days 00:00:00   0 days 09:16:47  166 days 14:46:44  \n",
       "0024:B100:0006:C802 0 days 00:00:00   1 days 17:46:52  229 days 19:16:55  \n",
       "0024:B100:0006:C80C 0 days 00:00:00   0 days 23:04:23  246 days 00:41:54  \n",
       "0024:B100:0006:C80F 0 days 00:00:00   2 days 13:25:15  219 days 23:27:08  \n",
       "0024:B100:000C:083C 0 days 00:00:00   0 days 00:00:00  135 days 15:20:51  "
      ]
     },
     "execution_count": 11,
     "metadata": {},
     "output_type": "execute_result"
    }
   ],
   "source": [
    "pd.set_option('display.max_rows', None)\n",
    "state_durations = state_history.pivot_table(index='MAC Address', columns='State', values='Duration', aggfunc='sum', fill_value=pd.Timedelta(seconds=0))\n",
    "state_durations[\"Total\"] = state_durations.sum(axis=1)\n",
    "state_durations"
   ]
  },
  {
   "cell_type": "code",
   "execution_count": 12,
   "metadata": {},
   "outputs": [
    {
     "data": {
      "text/html": [
       "<div>\n",
       "<style scoped>\n",
       "    .dataframe tbody tr th:only-of-type {\n",
       "        vertical-align: middle;\n",
       "    }\n",
       "\n",
       "    .dataframe tbody tr th {\n",
       "        vertical-align: top;\n",
       "    }\n",
       "\n",
       "    .dataframe thead th {\n",
       "        text-align: right;\n",
       "    }\n",
       "</style>\n",
       "<table border=\"1\" class=\"dataframe\">\n",
       "  <thead>\n",
       "    <tr style=\"text-align: right;\">\n",
       "      <th>State</th>\n",
       "      <th>Available</th>\n",
       "      <th>Faulted</th>\n",
       "      <th>Unavailable</th>\n",
       "      <th>Unknown</th>\n",
       "      <th>Unreachable</th>\n",
       "      <th>Total</th>\n",
       "    </tr>\n",
       "    <tr>\n",
       "      <th>MAC Address</th>\n",
       "      <th></th>\n",
       "      <th></th>\n",
       "      <th></th>\n",
       "      <th></th>\n",
       "      <th></th>\n",
       "      <th></th>\n",
       "    </tr>\n",
       "  </thead>\n",
       "  <tbody>\n",
       "    <tr>\n",
       "      <th>000D:6F00:04F8:B0AC</th>\n",
       "      <td>36.601582</td>\n",
       "      <td>40.142410</td>\n",
       "      <td>0.000000</td>\n",
       "      <td>0.00000</td>\n",
       "      <td>23.256008</td>\n",
       "      <td>100.0</td>\n",
       "    </tr>\n",
       "    <tr>\n",
       "      <th>0024:B100:0002:13E5</th>\n",
       "      <td>93.474991</td>\n",
       "      <td>0.554936</td>\n",
       "      <td>0.014177</td>\n",
       "      <td>0.00000</td>\n",
       "      <td>5.955896</td>\n",
       "      <td>100.0</td>\n",
       "    </tr>\n",
       "    <tr>\n",
       "      <th>0024:B100:0002:15D0</th>\n",
       "      <td>84.861482</td>\n",
       "      <td>7.792291</td>\n",
       "      <td>0.000394</td>\n",
       "      <td>0.00000</td>\n",
       "      <td>7.345832</td>\n",
       "      <td>100.0</td>\n",
       "    </tr>\n",
       "    <tr>\n",
       "      <th>0024:B100:0002:15D4</th>\n",
       "      <td>87.829761</td>\n",
       "      <td>4.790399</td>\n",
       "      <td>0.001245</td>\n",
       "      <td>0.00000</td>\n",
       "      <td>7.378595</td>\n",
       "      <td>100.0</td>\n",
       "    </tr>\n",
       "    <tr>\n",
       "      <th>0024:B100:0002:15DF</th>\n",
       "      <td>87.977949</td>\n",
       "      <td>5.003380</td>\n",
       "      <td>0.001101</td>\n",
       "      <td>0.00000</td>\n",
       "      <td>7.017569</td>\n",
       "      <td>100.0</td>\n",
       "    </tr>\n",
       "    <tr>\n",
       "      <th>0024:B100:0002:16F3</th>\n",
       "      <td>98.840084</td>\n",
       "      <td>0.423679</td>\n",
       "      <td>0.388457</td>\n",
       "      <td>0.00000</td>\n",
       "      <td>0.347780</td>\n",
       "      <td>100.0</td>\n",
       "    </tr>\n",
       "    <tr>\n",
       "      <th>0024:B100:0002:1C6A</th>\n",
       "      <td>88.216445</td>\n",
       "      <td>4.290877</td>\n",
       "      <td>0.001093</td>\n",
       "      <td>0.00000</td>\n",
       "      <td>7.491585</td>\n",
       "      <td>100.0</td>\n",
       "    </tr>\n",
       "    <tr>\n",
       "      <th>0024:B100:0002:1E24</th>\n",
       "      <td>82.874010</td>\n",
       "      <td>3.991757</td>\n",
       "      <td>0.000404</td>\n",
       "      <td>0.00000</td>\n",
       "      <td>13.133829</td>\n",
       "      <td>100.0</td>\n",
       "    </tr>\n",
       "    <tr>\n",
       "      <th>0024:B100:0002:1EED</th>\n",
       "      <td>86.440153</td>\n",
       "      <td>3.655114</td>\n",
       "      <td>0.006238</td>\n",
       "      <td>0.00000</td>\n",
       "      <td>9.898494</td>\n",
       "      <td>100.0</td>\n",
       "    </tr>\n",
       "    <tr>\n",
       "      <th>0024:B100:0002:1F61</th>\n",
       "      <td>96.648080</td>\n",
       "      <td>2.276888</td>\n",
       "      <td>0.001902</td>\n",
       "      <td>0.00000</td>\n",
       "      <td>1.073130</td>\n",
       "      <td>100.0</td>\n",
       "    </tr>\n",
       "    <tr>\n",
       "      <th>0024:B100:0002:1F6C</th>\n",
       "      <td>86.032264</td>\n",
       "      <td>4.475756</td>\n",
       "      <td>0.000000</td>\n",
       "      <td>0.00000</td>\n",
       "      <td>9.491980</td>\n",
       "      <td>100.0</td>\n",
       "    </tr>\n",
       "    <tr>\n",
       "      <th>0024:B100:0002:1F71</th>\n",
       "      <td>94.191304</td>\n",
       "      <td>5.324396</td>\n",
       "      <td>0.000000</td>\n",
       "      <td>0.00000</td>\n",
       "      <td>0.484299</td>\n",
       "      <td>100.0</td>\n",
       "    </tr>\n",
       "    <tr>\n",
       "      <th>0024:B100:0002:2022</th>\n",
       "      <td>97.218316</td>\n",
       "      <td>2.230882</td>\n",
       "      <td>0.010159</td>\n",
       "      <td>0.00000</td>\n",
       "      <td>0.540643</td>\n",
       "      <td>100.0</td>\n",
       "    </tr>\n",
       "    <tr>\n",
       "      <th>0024:B100:0002:2940</th>\n",
       "      <td>69.906417</td>\n",
       "      <td>23.868776</td>\n",
       "      <td>4.084515</td>\n",
       "      <td>0.00000</td>\n",
       "      <td>2.140292</td>\n",
       "      <td>100.0</td>\n",
       "    </tr>\n",
       "    <tr>\n",
       "      <th>0024:B100:0002:294E</th>\n",
       "      <td>97.481923</td>\n",
       "      <td>0.156696</td>\n",
       "      <td>0.551467</td>\n",
       "      <td>0.00000</td>\n",
       "      <td>1.809913</td>\n",
       "      <td>100.0</td>\n",
       "    </tr>\n",
       "    <tr>\n",
       "      <th>0024:B100:0002:2954</th>\n",
       "      <td>89.686765</td>\n",
       "      <td>9.038209</td>\n",
       "      <td>0.000061</td>\n",
       "      <td>0.00000</td>\n",
       "      <td>1.274966</td>\n",
       "      <td>100.0</td>\n",
       "    </tr>\n",
       "    <tr>\n",
       "      <th>0024:B100:0002:2955</th>\n",
       "      <td>88.638434</td>\n",
       "      <td>2.453038</td>\n",
       "      <td>0.000210</td>\n",
       "      <td>0.00000</td>\n",
       "      <td>8.908318</td>\n",
       "      <td>100.0</td>\n",
       "    </tr>\n",
       "    <tr>\n",
       "      <th>0024:B100:0002:295F</th>\n",
       "      <td>87.700635</td>\n",
       "      <td>3.314914</td>\n",
       "      <td>0.001035</td>\n",
       "      <td>0.00000</td>\n",
       "      <td>8.983415</td>\n",
       "      <td>100.0</td>\n",
       "    </tr>\n",
       "    <tr>\n",
       "      <th>0024:B100:0002:2963</th>\n",
       "      <td>97.674184</td>\n",
       "      <td>0.000000</td>\n",
       "      <td>1.982100</td>\n",
       "      <td>0.00000</td>\n",
       "      <td>0.343716</td>\n",
       "      <td>100.0</td>\n",
       "    </tr>\n",
       "    <tr>\n",
       "      <th>0024:B100:0002:297C</th>\n",
       "      <td>87.776361</td>\n",
       "      <td>3.032166</td>\n",
       "      <td>0.000060</td>\n",
       "      <td>0.00000</td>\n",
       "      <td>9.191414</td>\n",
       "      <td>100.0</td>\n",
       "    </tr>\n",
       "    <tr>\n",
       "      <th>0024:B100:0002:299E</th>\n",
       "      <td>85.615370</td>\n",
       "      <td>12.357092</td>\n",
       "      <td>0.001132</td>\n",
       "      <td>0.00000</td>\n",
       "      <td>2.026407</td>\n",
       "      <td>100.0</td>\n",
       "    </tr>\n",
       "    <tr>\n",
       "      <th>0024:B100:0002:29C3</th>\n",
       "      <td>99.838665</td>\n",
       "      <td>0.030864</td>\n",
       "      <td>0.000000</td>\n",
       "      <td>0.00000</td>\n",
       "      <td>0.130470</td>\n",
       "      <td>100.0</td>\n",
       "    </tr>\n",
       "    <tr>\n",
       "      <th>0024:B100:0002:29C6</th>\n",
       "      <td>98.587621</td>\n",
       "      <td>0.407675</td>\n",
       "      <td>0.000001</td>\n",
       "      <td>0.00000</td>\n",
       "      <td>1.004703</td>\n",
       "      <td>100.0</td>\n",
       "    </tr>\n",
       "    <tr>\n",
       "      <th>0024:B100:0002:2A6B</th>\n",
       "      <td>96.076516</td>\n",
       "      <td>1.386183</td>\n",
       "      <td>0.456005</td>\n",
       "      <td>0.00000</td>\n",
       "      <td>2.081297</td>\n",
       "      <td>100.0</td>\n",
       "    </tr>\n",
       "    <tr>\n",
       "      <th>0024:B100:0002:2A6E</th>\n",
       "      <td>98.079361</td>\n",
       "      <td>0.156690</td>\n",
       "      <td>0.000000</td>\n",
       "      <td>0.00000</td>\n",
       "      <td>1.763949</td>\n",
       "      <td>100.0</td>\n",
       "    </tr>\n",
       "    <tr>\n",
       "      <th>0024:B100:0002:2A70</th>\n",
       "      <td>91.510541</td>\n",
       "      <td>3.711841</td>\n",
       "      <td>2.202751</td>\n",
       "      <td>0.00000</td>\n",
       "      <td>2.574867</td>\n",
       "      <td>100.0</td>\n",
       "    </tr>\n",
       "    <tr>\n",
       "      <th>0024:B100:0002:2A71</th>\n",
       "      <td>85.360075</td>\n",
       "      <td>5.782568</td>\n",
       "      <td>0.002300</td>\n",
       "      <td>0.00000</td>\n",
       "      <td>8.855056</td>\n",
       "      <td>100.0</td>\n",
       "    </tr>\n",
       "    <tr>\n",
       "      <th>0024:B100:0002:2A73</th>\n",
       "      <td>86.544104</td>\n",
       "      <td>9.821757</td>\n",
       "      <td>2.113182</td>\n",
       "      <td>0.00000</td>\n",
       "      <td>1.520957</td>\n",
       "      <td>100.0</td>\n",
       "    </tr>\n",
       "    <tr>\n",
       "      <th>0024:B100:0002:2A74</th>\n",
       "      <td>96.831136</td>\n",
       "      <td>0.981531</td>\n",
       "      <td>0.000000</td>\n",
       "      <td>0.00000</td>\n",
       "      <td>2.187333</td>\n",
       "      <td>100.0</td>\n",
       "    </tr>\n",
       "    <tr>\n",
       "      <th>0024:B100:0002:2A78</th>\n",
       "      <td>98.139314</td>\n",
       "      <td>0.780956</td>\n",
       "      <td>0.432209</td>\n",
       "      <td>0.00000</td>\n",
       "      <td>0.647521</td>\n",
       "      <td>100.0</td>\n",
       "    </tr>\n",
       "    <tr>\n",
       "      <th>0024:B100:0002:2A7B</th>\n",
       "      <td>87.237924</td>\n",
       "      <td>3.617742</td>\n",
       "      <td>0.001090</td>\n",
       "      <td>0.00000</td>\n",
       "      <td>9.143244</td>\n",
       "      <td>100.0</td>\n",
       "    </tr>\n",
       "    <tr>\n",
       "      <th>0024:B100:0002:2A7C</th>\n",
       "      <td>89.772227</td>\n",
       "      <td>8.998966</td>\n",
       "      <td>0.001215</td>\n",
       "      <td>0.00000</td>\n",
       "      <td>1.227592</td>\n",
       "      <td>100.0</td>\n",
       "    </tr>\n",
       "    <tr>\n",
       "      <th>0024:B100:0002:2A80</th>\n",
       "      <td>94.968837</td>\n",
       "      <td>1.491090</td>\n",
       "      <td>1.564020</td>\n",
       "      <td>0.00000</td>\n",
       "      <td>1.976052</td>\n",
       "      <td>100.0</td>\n",
       "    </tr>\n",
       "    <tr>\n",
       "      <th>0024:B100:0002:2A89</th>\n",
       "      <td>95.118485</td>\n",
       "      <td>4.361832</td>\n",
       "      <td>0.002005</td>\n",
       "      <td>0.00000</td>\n",
       "      <td>0.517678</td>\n",
       "      <td>100.0</td>\n",
       "    </tr>\n",
       "    <tr>\n",
       "      <th>0024:B100:0002:2A8E</th>\n",
       "      <td>84.522422</td>\n",
       "      <td>5.421186</td>\n",
       "      <td>1.769368</td>\n",
       "      <td>0.00000</td>\n",
       "      <td>8.287024</td>\n",
       "      <td>100.0</td>\n",
       "    </tr>\n",
       "    <tr>\n",
       "      <th>0024:B100:0002:3F5A</th>\n",
       "      <td>88.482204</td>\n",
       "      <td>9.931981</td>\n",
       "      <td>0.002196</td>\n",
       "      <td>0.00000</td>\n",
       "      <td>1.583619</td>\n",
       "      <td>100.0</td>\n",
       "    </tr>\n",
       "    <tr>\n",
       "      <th>0024:B100:0002:4AEB</th>\n",
       "      <td>72.425032</td>\n",
       "      <td>20.543593</td>\n",
       "      <td>0.013278</td>\n",
       "      <td>0.00067</td>\n",
       "      <td>7.017427</td>\n",
       "      <td>100.0</td>\n",
       "    </tr>\n",
       "    <tr>\n",
       "      <th>0024:B100:0002:5134</th>\n",
       "      <td>86.830691</td>\n",
       "      <td>3.585357</td>\n",
       "      <td>0.001635</td>\n",
       "      <td>0.00000</td>\n",
       "      <td>9.582317</td>\n",
       "      <td>100.0</td>\n",
       "    </tr>\n",
       "    <tr>\n",
       "      <th>0024:B100:0002:5144</th>\n",
       "      <td>73.688531</td>\n",
       "      <td>18.027242</td>\n",
       "      <td>1.913571</td>\n",
       "      <td>0.00000</td>\n",
       "      <td>6.370656</td>\n",
       "      <td>100.0</td>\n",
       "    </tr>\n",
       "    <tr>\n",
       "      <th>0024:B100:0002:5150</th>\n",
       "      <td>97.643032</td>\n",
       "      <td>1.777646</td>\n",
       "      <td>0.003552</td>\n",
       "      <td>0.00000</td>\n",
       "      <td>0.575770</td>\n",
       "      <td>100.0</td>\n",
       "    </tr>\n",
       "    <tr>\n",
       "      <th>0024:B100:0002:5154</th>\n",
       "      <td>95.977415</td>\n",
       "      <td>2.188537</td>\n",
       "      <td>0.278929</td>\n",
       "      <td>0.00000</td>\n",
       "      <td>1.555119</td>\n",
       "      <td>100.0</td>\n",
       "    </tr>\n",
       "    <tr>\n",
       "      <th>0024:B100:0002:5158</th>\n",
       "      <td>87.212981</td>\n",
       "      <td>11.137274</td>\n",
       "      <td>0.020498</td>\n",
       "      <td>0.00000</td>\n",
       "      <td>1.629246</td>\n",
       "      <td>100.0</td>\n",
       "    </tr>\n",
       "    <tr>\n",
       "      <th>0024:B100:0002:5752</th>\n",
       "      <td>72.358674</td>\n",
       "      <td>20.572262</td>\n",
       "      <td>0.013931</td>\n",
       "      <td>0.00000</td>\n",
       "      <td>7.055134</td>\n",
       "      <td>100.0</td>\n",
       "    </tr>\n",
       "    <tr>\n",
       "      <th>0024:B100:0002:575E</th>\n",
       "      <td>72.471996</td>\n",
       "      <td>20.720107</td>\n",
       "      <td>0.013155</td>\n",
       "      <td>0.00000</td>\n",
       "      <td>6.794743</td>\n",
       "      <td>100.0</td>\n",
       "    </tr>\n",
       "    <tr>\n",
       "      <th>0024:B100:0002:594F</th>\n",
       "      <td>97.979886</td>\n",
       "      <td>0.000000</td>\n",
       "      <td>0.000000</td>\n",
       "      <td>0.00000</td>\n",
       "      <td>2.020114</td>\n",
       "      <td>100.0</td>\n",
       "    </tr>\n",
       "    <tr>\n",
       "      <th>0024:B100:0002:8DD9</th>\n",
       "      <td>87.251654</td>\n",
       "      <td>6.229972</td>\n",
       "      <td>0.000000</td>\n",
       "      <td>0.00000</td>\n",
       "      <td>6.518373</td>\n",
       "      <td>100.0</td>\n",
       "    </tr>\n",
       "    <tr>\n",
       "      <th>0024:B100:0002:8DDC</th>\n",
       "      <td>82.625804</td>\n",
       "      <td>16.070773</td>\n",
       "      <td>0.000000</td>\n",
       "      <td>0.00000</td>\n",
       "      <td>1.303422</td>\n",
       "      <td>100.0</td>\n",
       "    </tr>\n",
       "    <tr>\n",
       "      <th>0024:B100:0002:8E02</th>\n",
       "      <td>97.921061</td>\n",
       "      <td>1.971983</td>\n",
       "      <td>0.016925</td>\n",
       "      <td>0.00000</td>\n",
       "      <td>0.090031</td>\n",
       "      <td>100.0</td>\n",
       "    </tr>\n",
       "    <tr>\n",
       "      <th>0024:B100:0002:8E27</th>\n",
       "      <td>63.393969</td>\n",
       "      <td>24.118745</td>\n",
       "      <td>0.000000</td>\n",
       "      <td>0.00000</td>\n",
       "      <td>12.487287</td>\n",
       "      <td>100.0</td>\n",
       "    </tr>\n",
       "    <tr>\n",
       "      <th>0024:B100:0002:8E28</th>\n",
       "      <td>99.080014</td>\n",
       "      <td>0.264742</td>\n",
       "      <td>0.000883</td>\n",
       "      <td>0.00000</td>\n",
       "      <td>0.654361</td>\n",
       "      <td>100.0</td>\n",
       "    </tr>\n",
       "    <tr>\n",
       "      <th>0024:B100:0002:8E2C</th>\n",
       "      <td>63.240375</td>\n",
       "      <td>24.265456</td>\n",
       "      <td>0.000078</td>\n",
       "      <td>0.00000</td>\n",
       "      <td>12.494091</td>\n",
       "      <td>100.0</td>\n",
       "    </tr>\n",
       "    <tr>\n",
       "      <th>0024:B100:0002:8E2F</th>\n",
       "      <td>62.932225</td>\n",
       "      <td>24.450876</td>\n",
       "      <td>0.000000</td>\n",
       "      <td>0.00000</td>\n",
       "      <td>12.616900</td>\n",
       "      <td>100.0</td>\n",
       "    </tr>\n",
       "    <tr>\n",
       "      <th>0024:B100:0002:8E32</th>\n",
       "      <td>88.333097</td>\n",
       "      <td>5.244109</td>\n",
       "      <td>0.000000</td>\n",
       "      <td>0.00000</td>\n",
       "      <td>6.422794</td>\n",
       "      <td>100.0</td>\n",
       "    </tr>\n",
       "    <tr>\n",
       "      <th>0024:B100:0002:8E36</th>\n",
       "      <td>99.204296</td>\n",
       "      <td>0.252044</td>\n",
       "      <td>0.000000</td>\n",
       "      <td>0.00000</td>\n",
       "      <td>0.543660</td>\n",
       "      <td>100.0</td>\n",
       "    </tr>\n",
       "    <tr>\n",
       "      <th>0024:B100:0002:8E37</th>\n",
       "      <td>98.707197</td>\n",
       "      <td>0.252065</td>\n",
       "      <td>0.000000</td>\n",
       "      <td>0.00000</td>\n",
       "      <td>1.040737</td>\n",
       "      <td>100.0</td>\n",
       "    </tr>\n",
       "    <tr>\n",
       "      <th>0024:B100:0002:8E49</th>\n",
       "      <td>99.197595</td>\n",
       "      <td>0.253059</td>\n",
       "      <td>0.000000</td>\n",
       "      <td>0.00000</td>\n",
       "      <td>0.549346</td>\n",
       "      <td>100.0</td>\n",
       "    </tr>\n",
       "    <tr>\n",
       "      <th>0024:B100:0002:8E4A</th>\n",
       "      <td>80.292602</td>\n",
       "      <td>2.903298</td>\n",
       "      <td>15.624598</td>\n",
       "      <td>0.00000</td>\n",
       "      <td>1.179502</td>\n",
       "      <td>100.0</td>\n",
       "    </tr>\n",
       "    <tr>\n",
       "      <th>0024:B100:0002:8F36</th>\n",
       "      <td>98.880391</td>\n",
       "      <td>0.895239</td>\n",
       "      <td>0.000000</td>\n",
       "      <td>0.00000</td>\n",
       "      <td>0.224370</td>\n",
       "      <td>100.0</td>\n",
       "    </tr>\n",
       "    <tr>\n",
       "      <th>0024:B100:0002:8FCA</th>\n",
       "      <td>67.731043</td>\n",
       "      <td>20.077001</td>\n",
       "      <td>0.002577</td>\n",
       "      <td>0.00000</td>\n",
       "      <td>12.189379</td>\n",
       "      <td>100.0</td>\n",
       "    </tr>\n",
       "    <tr>\n",
       "      <th>0024:B100:0002:8FD1</th>\n",
       "      <td>91.646503</td>\n",
       "      <td>8.282806</td>\n",
       "      <td>0.017023</td>\n",
       "      <td>0.00000</td>\n",
       "      <td>0.053668</td>\n",
       "      <td>100.0</td>\n",
       "    </tr>\n",
       "    <tr>\n",
       "      <th>0024:B100:0002:918F</th>\n",
       "      <td>98.595233</td>\n",
       "      <td>0.746063</td>\n",
       "      <td>0.000883</td>\n",
       "      <td>0.00000</td>\n",
       "      <td>0.657821</td>\n",
       "      <td>100.0</td>\n",
       "    </tr>\n",
       "    <tr>\n",
       "      <th>0024:B100:0002:9193</th>\n",
       "      <td>82.626267</td>\n",
       "      <td>0.568441</td>\n",
       "      <td>15.624553</td>\n",
       "      <td>0.00000</td>\n",
       "      <td>1.180739</td>\n",
       "      <td>100.0</td>\n",
       "    </tr>\n",
       "    <tr>\n",
       "      <th>0024:B100:0002:9194</th>\n",
       "      <td>88.417246</td>\n",
       "      <td>5.195776</td>\n",
       "      <td>0.000000</td>\n",
       "      <td>0.00000</td>\n",
       "      <td>6.386978</td>\n",
       "      <td>100.0</td>\n",
       "    </tr>\n",
       "    <tr>\n",
       "      <th>0024:B100:0002:919B</th>\n",
       "      <td>99.164284</td>\n",
       "      <td>0.000000</td>\n",
       "      <td>0.000000</td>\n",
       "      <td>0.00000</td>\n",
       "      <td>0.835716</td>\n",
       "      <td>100.0</td>\n",
       "    </tr>\n",
       "    <tr>\n",
       "      <th>0024:B100:0002:91B6</th>\n",
       "      <td>95.582004</td>\n",
       "      <td>3.169378</td>\n",
       "      <td>0.000000</td>\n",
       "      <td>0.00000</td>\n",
       "      <td>1.248618</td>\n",
       "      <td>100.0</td>\n",
       "    </tr>\n",
       "    <tr>\n",
       "      <th>0024:B100:0002:91C3</th>\n",
       "      <td>98.680096</td>\n",
       "      <td>0.266307</td>\n",
       "      <td>0.000000</td>\n",
       "      <td>0.00000</td>\n",
       "      <td>1.053597</td>\n",
       "      <td>100.0</td>\n",
       "    </tr>\n",
       "    <tr>\n",
       "      <th>0024:B100:0002:9202</th>\n",
       "      <td>97.048166</td>\n",
       "      <td>0.123903</td>\n",
       "      <td>0.000000</td>\n",
       "      <td>0.00000</td>\n",
       "      <td>2.827931</td>\n",
       "      <td>100.0</td>\n",
       "    </tr>\n",
       "    <tr>\n",
       "      <th>0024:B100:0002:A917</th>\n",
       "      <td>79.735729</td>\n",
       "      <td>12.378334</td>\n",
       "      <td>0.016612</td>\n",
       "      <td>0.00000</td>\n",
       "      <td>7.869325</td>\n",
       "      <td>100.0</td>\n",
       "    </tr>\n",
       "    <tr>\n",
       "      <th>0024:B100:0002:AD71</th>\n",
       "      <td>99.128274</td>\n",
       "      <td>0.000000</td>\n",
       "      <td>0.000225</td>\n",
       "      <td>0.00000</td>\n",
       "      <td>0.871502</td>\n",
       "      <td>100.0</td>\n",
       "    </tr>\n",
       "    <tr>\n",
       "      <th>0024:B100:0002:AE14</th>\n",
       "      <td>98.988802</td>\n",
       "      <td>0.000000</td>\n",
       "      <td>0.000000</td>\n",
       "      <td>0.00000</td>\n",
       "      <td>1.011198</td>\n",
       "      <td>100.0</td>\n",
       "    </tr>\n",
       "    <tr>\n",
       "      <th>0024:B100:0002:B04A</th>\n",
       "      <td>99.757396</td>\n",
       "      <td>0.000000</td>\n",
       "      <td>0.017210</td>\n",
       "      <td>0.00000</td>\n",
       "      <td>0.225394</td>\n",
       "      <td>100.0</td>\n",
       "    </tr>\n",
       "    <tr>\n",
       "      <th>0024:B100:0003:12D9</th>\n",
       "      <td>76.323377</td>\n",
       "      <td>3.971643</td>\n",
       "      <td>0.000651</td>\n",
       "      <td>0.00000</td>\n",
       "      <td>19.704330</td>\n",
       "      <td>100.0</td>\n",
       "    </tr>\n",
       "    <tr>\n",
       "      <th>0024:B100:0003:12EB</th>\n",
       "      <td>70.789123</td>\n",
       "      <td>22.180037</td>\n",
       "      <td>0.000121</td>\n",
       "      <td>0.00000</td>\n",
       "      <td>7.030719</td>\n",
       "      <td>100.0</td>\n",
       "    </tr>\n",
       "    <tr>\n",
       "      <th>0024:B100:0003:12EE</th>\n",
       "      <td>77.109247</td>\n",
       "      <td>3.865034</td>\n",
       "      <td>0.000000</td>\n",
       "      <td>0.00000</td>\n",
       "      <td>19.025719</td>\n",
       "      <td>100.0</td>\n",
       "    </tr>\n",
       "    <tr>\n",
       "      <th>0024:B100:0003:12F1</th>\n",
       "      <td>70.453016</td>\n",
       "      <td>10.307942</td>\n",
       "      <td>0.000000</td>\n",
       "      <td>0.00000</td>\n",
       "      <td>19.239043</td>\n",
       "      <td>100.0</td>\n",
       "    </tr>\n",
       "    <tr>\n",
       "      <th>0024:B100:0003:12F8</th>\n",
       "      <td>76.106959</td>\n",
       "      <td>5.739163</td>\n",
       "      <td>0.000820</td>\n",
       "      <td>0.00000</td>\n",
       "      <td>18.153058</td>\n",
       "      <td>100.0</td>\n",
       "    </tr>\n",
       "    <tr>\n",
       "      <th>0024:B100:0003:130B</th>\n",
       "      <td>71.169295</td>\n",
       "      <td>21.375342</td>\n",
       "      <td>0.000644</td>\n",
       "      <td>0.00000</td>\n",
       "      <td>7.454718</td>\n",
       "      <td>100.0</td>\n",
       "    </tr>\n",
       "    <tr>\n",
       "      <th>0024:B100:0003:130E</th>\n",
       "      <td>72.256684</td>\n",
       "      <td>20.025673</td>\n",
       "      <td>0.000299</td>\n",
       "      <td>0.00000</td>\n",
       "      <td>7.717344</td>\n",
       "      <td>100.0</td>\n",
       "    </tr>\n",
       "    <tr>\n",
       "      <th>0024:B100:0003:130F</th>\n",
       "      <td>70.641391</td>\n",
       "      <td>10.636162</td>\n",
       "      <td>0.000000</td>\n",
       "      <td>0.00000</td>\n",
       "      <td>18.722447</td>\n",
       "      <td>100.0</td>\n",
       "    </tr>\n",
       "    <tr>\n",
       "      <th>0024:B100:0003:1312</th>\n",
       "      <td>71.612344</td>\n",
       "      <td>21.358082</td>\n",
       "      <td>0.000709</td>\n",
       "      <td>0.00000</td>\n",
       "      <td>7.028864</td>\n",
       "      <td>100.0</td>\n",
       "    </tr>\n",
       "    <tr>\n",
       "      <th>0024:B100:0003:1318</th>\n",
       "      <td>71.577378</td>\n",
       "      <td>21.928983</td>\n",
       "      <td>0.000099</td>\n",
       "      <td>0.00000</td>\n",
       "      <td>6.493540</td>\n",
       "      <td>100.0</td>\n",
       "    </tr>\n",
       "    <tr>\n",
       "      <th>0024:B100:0003:1F95</th>\n",
       "      <td>88.059013</td>\n",
       "      <td>5.652455</td>\n",
       "      <td>0.000000</td>\n",
       "      <td>0.00000</td>\n",
       "      <td>6.288532</td>\n",
       "      <td>100.0</td>\n",
       "    </tr>\n",
       "    <tr>\n",
       "      <th>0024:B100:0003:2A8C</th>\n",
       "      <td>72.941741</td>\n",
       "      <td>20.424592</td>\n",
       "      <td>0.000000</td>\n",
       "      <td>0.00000</td>\n",
       "      <td>6.633667</td>\n",
       "      <td>100.0</td>\n",
       "    </tr>\n",
       "    <tr>\n",
       "      <th>0024:B100:0003:2AB1</th>\n",
       "      <td>60.839552</td>\n",
       "      <td>22.650798</td>\n",
       "      <td>12.635028</td>\n",
       "      <td>0.00000</td>\n",
       "      <td>3.874621</td>\n",
       "      <td>100.0</td>\n",
       "    </tr>\n",
       "    <tr>\n",
       "      <th>0024:B100:0003:2AB5</th>\n",
       "      <td>76.426947</td>\n",
       "      <td>19.053526</td>\n",
       "      <td>0.003555</td>\n",
       "      <td>0.00000</td>\n",
       "      <td>4.515972</td>\n",
       "      <td>100.0</td>\n",
       "    </tr>\n",
       "    <tr>\n",
       "      <th>0024:B100:0003:2ADF</th>\n",
       "      <td>73.006300</td>\n",
       "      <td>13.473794</td>\n",
       "      <td>8.715487</td>\n",
       "      <td>0.00000</td>\n",
       "      <td>4.804419</td>\n",
       "      <td>100.0</td>\n",
       "    </tr>\n",
       "    <tr>\n",
       "      <th>0024:B100:0003:2B24</th>\n",
       "      <td>9.124419</td>\n",
       "      <td>82.922008</td>\n",
       "      <td>0.000000</td>\n",
       "      <td>0.00000</td>\n",
       "      <td>7.953572</td>\n",
       "      <td>100.0</td>\n",
       "    </tr>\n",
       "    <tr>\n",
       "      <th>0024:B100:0003:2C1C</th>\n",
       "      <td>83.328058</td>\n",
       "      <td>1.068172</td>\n",
       "      <td>0.000304</td>\n",
       "      <td>0.00000</td>\n",
       "      <td>15.603465</td>\n",
       "      <td>100.0</td>\n",
       "    </tr>\n",
       "    <tr>\n",
       "      <th>0024:B100:0003:33C3</th>\n",
       "      <td>72.238068</td>\n",
       "      <td>19.653541</td>\n",
       "      <td>3.485570</td>\n",
       "      <td>0.00000</td>\n",
       "      <td>4.622821</td>\n",
       "      <td>100.0</td>\n",
       "    </tr>\n",
       "    <tr>\n",
       "      <th>0024:B100:0003:519A</th>\n",
       "      <td>6.557406</td>\n",
       "      <td>82.915503</td>\n",
       "      <td>0.000000</td>\n",
       "      <td>0.00000</td>\n",
       "      <td>10.527091</td>\n",
       "      <td>100.0</td>\n",
       "    </tr>\n",
       "    <tr>\n",
       "      <th>0024:B100:0003:66F6</th>\n",
       "      <td>58.826762</td>\n",
       "      <td>7.828331</td>\n",
       "      <td>0.000000</td>\n",
       "      <td>0.00000</td>\n",
       "      <td>33.344907</td>\n",
       "      <td>100.0</td>\n",
       "    </tr>\n",
       "    <tr>\n",
       "      <th>0024:B100:0003:6743</th>\n",
       "      <td>15.976887</td>\n",
       "      <td>66.441137</td>\n",
       "      <td>0.000000</td>\n",
       "      <td>0.00000</td>\n",
       "      <td>17.581975</td>\n",
       "      <td>100.0</td>\n",
       "    </tr>\n",
       "    <tr>\n",
       "      <th>0024:B100:0003:824E</th>\n",
       "      <td>98.035209</td>\n",
       "      <td>0.000059</td>\n",
       "      <td>0.001442</td>\n",
       "      <td>0.00000</td>\n",
       "      <td>1.963290</td>\n",
       "      <td>100.0</td>\n",
       "    </tr>\n",
       "    <tr>\n",
       "      <th>0024:B100:0003:9836</th>\n",
       "      <td>78.735857</td>\n",
       "      <td>1.038939</td>\n",
       "      <td>19.368136</td>\n",
       "      <td>0.00000</td>\n",
       "      <td>0.857068</td>\n",
       "      <td>100.0</td>\n",
       "    </tr>\n",
       "    <tr>\n",
       "      <th>0024:B100:0003:BF3B</th>\n",
       "      <td>77.553905</td>\n",
       "      <td>3.673862</td>\n",
       "      <td>0.000000</td>\n",
       "      <td>0.00000</td>\n",
       "      <td>18.772233</td>\n",
       "      <td>100.0</td>\n",
       "    </tr>\n",
       "    <tr>\n",
       "      <th>0024:B100:0003:BF3D</th>\n",
       "      <td>79.681080</td>\n",
       "      <td>3.655617</td>\n",
       "      <td>0.011379</td>\n",
       "      <td>0.00000</td>\n",
       "      <td>16.651924</td>\n",
       "      <td>100.0</td>\n",
       "    </tr>\n",
       "    <tr>\n",
       "      <th>0024:B100:0003:BF84</th>\n",
       "      <td>100.000000</td>\n",
       "      <td>0.000000</td>\n",
       "      <td>0.000000</td>\n",
       "      <td>0.00000</td>\n",
       "      <td>0.000000</td>\n",
       "      <td>100.0</td>\n",
       "    </tr>\n",
       "    <tr>\n",
       "      <th>0024:B100:0003:BF91</th>\n",
       "      <td>73.738314</td>\n",
       "      <td>4.838446</td>\n",
       "      <td>0.000000</td>\n",
       "      <td>0.00000</td>\n",
       "      <td>21.423240</td>\n",
       "      <td>100.0</td>\n",
       "    </tr>\n",
       "    <tr>\n",
       "      <th>0024:B100:0003:C689</th>\n",
       "      <td>59.486014</td>\n",
       "      <td>2.681783</td>\n",
       "      <td>0.000713</td>\n",
       "      <td>0.00000</td>\n",
       "      <td>37.831490</td>\n",
       "      <td>100.0</td>\n",
       "    </tr>\n",
       "    <tr>\n",
       "      <th>0024:B100:0003:C68A</th>\n",
       "      <td>70.319619</td>\n",
       "      <td>20.116560</td>\n",
       "      <td>0.003693</td>\n",
       "      <td>0.00000</td>\n",
       "      <td>9.560128</td>\n",
       "      <td>100.0</td>\n",
       "    </tr>\n",
       "    <tr>\n",
       "      <th>0024:B100:0003:D26F</th>\n",
       "      <td>96.433836</td>\n",
       "      <td>0.556579</td>\n",
       "      <td>1.252706</td>\n",
       "      <td>0.00000</td>\n",
       "      <td>1.756878</td>\n",
       "      <td>100.0</td>\n",
       "    </tr>\n",
       "    <tr>\n",
       "      <th>0024:B100:0003:D5D6</th>\n",
       "      <td>96.073756</td>\n",
       "      <td>0.634865</td>\n",
       "      <td>0.031756</td>\n",
       "      <td>0.00000</td>\n",
       "      <td>3.259623</td>\n",
       "      <td>100.0</td>\n",
       "    </tr>\n",
       "    <tr>\n",
       "      <th>0024:B100:0004:0667</th>\n",
       "      <td>98.176762</td>\n",
       "      <td>0.390821</td>\n",
       "      <td>0.706499</td>\n",
       "      <td>0.00000</td>\n",
       "      <td>0.725918</td>\n",
       "      <td>100.0</td>\n",
       "    </tr>\n",
       "    <tr>\n",
       "      <th>0024:B100:0004:0E93</th>\n",
       "      <td>85.049477</td>\n",
       "      <td>2.373737</td>\n",
       "      <td>0.000367</td>\n",
       "      <td>0.00000</td>\n",
       "      <td>12.576419</td>\n",
       "      <td>100.0</td>\n",
       "    </tr>\n",
       "    <tr>\n",
       "      <th>0024:B100:0004:0EC1</th>\n",
       "      <td>97.957280</td>\n",
       "      <td>0.000000</td>\n",
       "      <td>0.072520</td>\n",
       "      <td>0.00000</td>\n",
       "      <td>1.970200</td>\n",
       "      <td>100.0</td>\n",
       "    </tr>\n",
       "    <tr>\n",
       "      <th>0024:B100:0004:1B12</th>\n",
       "      <td>90.354018</td>\n",
       "      <td>0.085950</td>\n",
       "      <td>0.005604</td>\n",
       "      <td>0.00000</td>\n",
       "      <td>9.554428</td>\n",
       "      <td>100.0</td>\n",
       "    </tr>\n",
       "    <tr>\n",
       "      <th>0024:B100:0004:20C4</th>\n",
       "      <td>89.262797</td>\n",
       "      <td>1.066262</td>\n",
       "      <td>4.646702</td>\n",
       "      <td>0.00000</td>\n",
       "      <td>5.024239</td>\n",
       "      <td>100.0</td>\n",
       "    </tr>\n",
       "    <tr>\n",
       "      <th>0024:B100:0004:2ED8</th>\n",
       "      <td>98.552035</td>\n",
       "      <td>0.088258</td>\n",
       "      <td>0.000000</td>\n",
       "      <td>0.00000</td>\n",
       "      <td>1.359706</td>\n",
       "      <td>100.0</td>\n",
       "    </tr>\n",
       "    <tr>\n",
       "      <th>0024:B100:0004:3B91</th>\n",
       "      <td>94.498271</td>\n",
       "      <td>2.043504</td>\n",
       "      <td>1.712030</td>\n",
       "      <td>0.00000</td>\n",
       "      <td>1.746194</td>\n",
       "      <td>100.0</td>\n",
       "    </tr>\n",
       "    <tr>\n",
       "      <th>0024:B100:0004:5CE8</th>\n",
       "      <td>97.595357</td>\n",
       "      <td>0.002292</td>\n",
       "      <td>0.047205</td>\n",
       "      <td>0.00000</td>\n",
       "      <td>2.355146</td>\n",
       "      <td>100.0</td>\n",
       "    </tr>\n",
       "    <tr>\n",
       "      <th>0024:B100:0004:5D08</th>\n",
       "      <td>97.772749</td>\n",
       "      <td>0.049700</td>\n",
       "      <td>0.048495</td>\n",
       "      <td>0.00000</td>\n",
       "      <td>2.129056</td>\n",
       "      <td>100.0</td>\n",
       "    </tr>\n",
       "    <tr>\n",
       "      <th>0024:B100:0004:A22C</th>\n",
       "      <td>97.625510</td>\n",
       "      <td>0.087651</td>\n",
       "      <td>0.006848</td>\n",
       "      <td>0.00000</td>\n",
       "      <td>2.279991</td>\n",
       "      <td>100.0</td>\n",
       "    </tr>\n",
       "    <tr>\n",
       "      <th>0024:B100:0004:A250</th>\n",
       "      <td>90.843771</td>\n",
       "      <td>1.870008</td>\n",
       "      <td>6.117568</td>\n",
       "      <td>0.00000</td>\n",
       "      <td>1.168653</td>\n",
       "      <td>100.0</td>\n",
       "    </tr>\n",
       "    <tr>\n",
       "      <th>0024:B100:0004:C4B2</th>\n",
       "      <td>97.376213</td>\n",
       "      <td>0.188766</td>\n",
       "      <td>0.000292</td>\n",
       "      <td>0.00000</td>\n",
       "      <td>2.434728</td>\n",
       "      <td>100.0</td>\n",
       "    </tr>\n",
       "    <tr>\n",
       "      <th>0024:B100:0006:4538</th>\n",
       "      <td>99.251550</td>\n",
       "      <td>0.000000</td>\n",
       "      <td>0.003138</td>\n",
       "      <td>0.00000</td>\n",
       "      <td>0.745312</td>\n",
       "      <td>100.0</td>\n",
       "    </tr>\n",
       "    <tr>\n",
       "      <th>0024:B100:0006:BC3D</th>\n",
       "      <td>91.595456</td>\n",
       "      <td>0.456471</td>\n",
       "      <td>0.509333</td>\n",
       "      <td>0.00000</td>\n",
       "      <td>7.438740</td>\n",
       "      <td>100.0</td>\n",
       "    </tr>\n",
       "    <tr>\n",
       "      <th>0024:B100:0006:BD13</th>\n",
       "      <td>99.490721</td>\n",
       "      <td>0.000000</td>\n",
       "      <td>0.016349</td>\n",
       "      <td>0.00000</td>\n",
       "      <td>0.492930</td>\n",
       "      <td>100.0</td>\n",
       "    </tr>\n",
       "    <tr>\n",
       "      <th>0024:B100:0006:BD1D</th>\n",
       "      <td>98.728630</td>\n",
       "      <td>0.000000</td>\n",
       "      <td>0.015571</td>\n",
       "      <td>0.00000</td>\n",
       "      <td>1.255799</td>\n",
       "      <td>100.0</td>\n",
       "    </tr>\n",
       "    <tr>\n",
       "      <th>0024:B100:0006:BD20</th>\n",
       "      <td>99.330969</td>\n",
       "      <td>0.000000</td>\n",
       "      <td>0.012750</td>\n",
       "      <td>0.00000</td>\n",
       "      <td>0.656281</td>\n",
       "      <td>100.0</td>\n",
       "    </tr>\n",
       "    <tr>\n",
       "      <th>0024:B100:0006:C0E1</th>\n",
       "      <td>99.293640</td>\n",
       "      <td>0.000000</td>\n",
       "      <td>0.015917</td>\n",
       "      <td>0.00000</td>\n",
       "      <td>0.690443</td>\n",
       "      <td>100.0</td>\n",
       "    </tr>\n",
       "    <tr>\n",
       "      <th>0024:B100:0006:C0E2</th>\n",
       "      <td>99.426180</td>\n",
       "      <td>0.000000</td>\n",
       "      <td>0.002855</td>\n",
       "      <td>0.00000</td>\n",
       "      <td>0.570965</td>\n",
       "      <td>100.0</td>\n",
       "    </tr>\n",
       "    <tr>\n",
       "      <th>0024:B100:0006:C7DC</th>\n",
       "      <td>96.943220</td>\n",
       "      <td>2.821980</td>\n",
       "      <td>0.002737</td>\n",
       "      <td>0.00000</td>\n",
       "      <td>0.232064</td>\n",
       "      <td>100.0</td>\n",
       "    </tr>\n",
       "    <tr>\n",
       "      <th>0024:B100:0006:C802</th>\n",
       "      <td>99.225203</td>\n",
       "      <td>0.002382</td>\n",
       "      <td>0.014863</td>\n",
       "      <td>0.00000</td>\n",
       "      <td>0.757552</td>\n",
       "      <td>100.0</td>\n",
       "    </tr>\n",
       "    <tr>\n",
       "      <th>0024:B100:0006:C80C</th>\n",
       "      <td>99.594259</td>\n",
       "      <td>0.000000</td>\n",
       "      <td>0.014983</td>\n",
       "      <td>0.00000</td>\n",
       "      <td>0.390758</td>\n",
       "      <td>100.0</td>\n",
       "    </tr>\n",
       "    <tr>\n",
       "      <th>0024:B100:0006:C80F</th>\n",
       "      <td>98.808320</td>\n",
       "      <td>0.000000</td>\n",
       "      <td>0.028286</td>\n",
       "      <td>0.00000</td>\n",
       "      <td>1.163394</td>\n",
       "      <td>100.0</td>\n",
       "    </tr>\n",
       "    <tr>\n",
       "      <th>0024:B100:000C:083C</th>\n",
       "      <td>100.000000</td>\n",
       "      <td>0.000000</td>\n",
       "      <td>0.000000</td>\n",
       "      <td>0.00000</td>\n",
       "      <td>0.000000</td>\n",
       "      <td>100.0</td>\n",
       "    </tr>\n",
       "  </tbody>\n",
       "</table>\n",
       "</div>"
      ],
      "text/plain": [
       "State                 Available    Faulted  Unavailable  Unknown  Unreachable  \\\n",
       "MAC Address                                                                     \n",
       "000D:6F00:04F8:B0AC   36.601582  40.142410     0.000000  0.00000    23.256008   \n",
       "0024:B100:0002:13E5   93.474991   0.554936     0.014177  0.00000     5.955896   \n",
       "0024:B100:0002:15D0   84.861482   7.792291     0.000394  0.00000     7.345832   \n",
       "0024:B100:0002:15D4   87.829761   4.790399     0.001245  0.00000     7.378595   \n",
       "0024:B100:0002:15DF   87.977949   5.003380     0.001101  0.00000     7.017569   \n",
       "0024:B100:0002:16F3   98.840084   0.423679     0.388457  0.00000     0.347780   \n",
       "0024:B100:0002:1C6A   88.216445   4.290877     0.001093  0.00000     7.491585   \n",
       "0024:B100:0002:1E24   82.874010   3.991757     0.000404  0.00000    13.133829   \n",
       "0024:B100:0002:1EED   86.440153   3.655114     0.006238  0.00000     9.898494   \n",
       "0024:B100:0002:1F61   96.648080   2.276888     0.001902  0.00000     1.073130   \n",
       "0024:B100:0002:1F6C   86.032264   4.475756     0.000000  0.00000     9.491980   \n",
       "0024:B100:0002:1F71   94.191304   5.324396     0.000000  0.00000     0.484299   \n",
       "0024:B100:0002:2022   97.218316   2.230882     0.010159  0.00000     0.540643   \n",
       "0024:B100:0002:2940   69.906417  23.868776     4.084515  0.00000     2.140292   \n",
       "0024:B100:0002:294E   97.481923   0.156696     0.551467  0.00000     1.809913   \n",
       "0024:B100:0002:2954   89.686765   9.038209     0.000061  0.00000     1.274966   \n",
       "0024:B100:0002:2955   88.638434   2.453038     0.000210  0.00000     8.908318   \n",
       "0024:B100:0002:295F   87.700635   3.314914     0.001035  0.00000     8.983415   \n",
       "0024:B100:0002:2963   97.674184   0.000000     1.982100  0.00000     0.343716   \n",
       "0024:B100:0002:297C   87.776361   3.032166     0.000060  0.00000     9.191414   \n",
       "0024:B100:0002:299E   85.615370  12.357092     0.001132  0.00000     2.026407   \n",
       "0024:B100:0002:29C3   99.838665   0.030864     0.000000  0.00000     0.130470   \n",
       "0024:B100:0002:29C6   98.587621   0.407675     0.000001  0.00000     1.004703   \n",
       "0024:B100:0002:2A6B   96.076516   1.386183     0.456005  0.00000     2.081297   \n",
       "0024:B100:0002:2A6E   98.079361   0.156690     0.000000  0.00000     1.763949   \n",
       "0024:B100:0002:2A70   91.510541   3.711841     2.202751  0.00000     2.574867   \n",
       "0024:B100:0002:2A71   85.360075   5.782568     0.002300  0.00000     8.855056   \n",
       "0024:B100:0002:2A73   86.544104   9.821757     2.113182  0.00000     1.520957   \n",
       "0024:B100:0002:2A74   96.831136   0.981531     0.000000  0.00000     2.187333   \n",
       "0024:B100:0002:2A78   98.139314   0.780956     0.432209  0.00000     0.647521   \n",
       "0024:B100:0002:2A7B   87.237924   3.617742     0.001090  0.00000     9.143244   \n",
       "0024:B100:0002:2A7C   89.772227   8.998966     0.001215  0.00000     1.227592   \n",
       "0024:B100:0002:2A80   94.968837   1.491090     1.564020  0.00000     1.976052   \n",
       "0024:B100:0002:2A89   95.118485   4.361832     0.002005  0.00000     0.517678   \n",
       "0024:B100:0002:2A8E   84.522422   5.421186     1.769368  0.00000     8.287024   \n",
       "0024:B100:0002:3F5A   88.482204   9.931981     0.002196  0.00000     1.583619   \n",
       "0024:B100:0002:4AEB   72.425032  20.543593     0.013278  0.00067     7.017427   \n",
       "0024:B100:0002:5134   86.830691   3.585357     0.001635  0.00000     9.582317   \n",
       "0024:B100:0002:5144   73.688531  18.027242     1.913571  0.00000     6.370656   \n",
       "0024:B100:0002:5150   97.643032   1.777646     0.003552  0.00000     0.575770   \n",
       "0024:B100:0002:5154   95.977415   2.188537     0.278929  0.00000     1.555119   \n",
       "0024:B100:0002:5158   87.212981  11.137274     0.020498  0.00000     1.629246   \n",
       "0024:B100:0002:5752   72.358674  20.572262     0.013931  0.00000     7.055134   \n",
       "0024:B100:0002:575E   72.471996  20.720107     0.013155  0.00000     6.794743   \n",
       "0024:B100:0002:594F   97.979886   0.000000     0.000000  0.00000     2.020114   \n",
       "0024:B100:0002:8DD9   87.251654   6.229972     0.000000  0.00000     6.518373   \n",
       "0024:B100:0002:8DDC   82.625804  16.070773     0.000000  0.00000     1.303422   \n",
       "0024:B100:0002:8E02   97.921061   1.971983     0.016925  0.00000     0.090031   \n",
       "0024:B100:0002:8E27   63.393969  24.118745     0.000000  0.00000    12.487287   \n",
       "0024:B100:0002:8E28   99.080014   0.264742     0.000883  0.00000     0.654361   \n",
       "0024:B100:0002:8E2C   63.240375  24.265456     0.000078  0.00000    12.494091   \n",
       "0024:B100:0002:8E2F   62.932225  24.450876     0.000000  0.00000    12.616900   \n",
       "0024:B100:0002:8E32   88.333097   5.244109     0.000000  0.00000     6.422794   \n",
       "0024:B100:0002:8E36   99.204296   0.252044     0.000000  0.00000     0.543660   \n",
       "0024:B100:0002:8E37   98.707197   0.252065     0.000000  0.00000     1.040737   \n",
       "0024:B100:0002:8E49   99.197595   0.253059     0.000000  0.00000     0.549346   \n",
       "0024:B100:0002:8E4A   80.292602   2.903298    15.624598  0.00000     1.179502   \n",
       "0024:B100:0002:8F36   98.880391   0.895239     0.000000  0.00000     0.224370   \n",
       "0024:B100:0002:8FCA   67.731043  20.077001     0.002577  0.00000    12.189379   \n",
       "0024:B100:0002:8FD1   91.646503   8.282806     0.017023  0.00000     0.053668   \n",
       "0024:B100:0002:918F   98.595233   0.746063     0.000883  0.00000     0.657821   \n",
       "0024:B100:0002:9193   82.626267   0.568441    15.624553  0.00000     1.180739   \n",
       "0024:B100:0002:9194   88.417246   5.195776     0.000000  0.00000     6.386978   \n",
       "0024:B100:0002:919B   99.164284   0.000000     0.000000  0.00000     0.835716   \n",
       "0024:B100:0002:91B6   95.582004   3.169378     0.000000  0.00000     1.248618   \n",
       "0024:B100:0002:91C3   98.680096   0.266307     0.000000  0.00000     1.053597   \n",
       "0024:B100:0002:9202   97.048166   0.123903     0.000000  0.00000     2.827931   \n",
       "0024:B100:0002:A917   79.735729  12.378334     0.016612  0.00000     7.869325   \n",
       "0024:B100:0002:AD71   99.128274   0.000000     0.000225  0.00000     0.871502   \n",
       "0024:B100:0002:AE14   98.988802   0.000000     0.000000  0.00000     1.011198   \n",
       "0024:B100:0002:B04A   99.757396   0.000000     0.017210  0.00000     0.225394   \n",
       "0024:B100:0003:12D9   76.323377   3.971643     0.000651  0.00000    19.704330   \n",
       "0024:B100:0003:12EB   70.789123  22.180037     0.000121  0.00000     7.030719   \n",
       "0024:B100:0003:12EE   77.109247   3.865034     0.000000  0.00000    19.025719   \n",
       "0024:B100:0003:12F1   70.453016  10.307942     0.000000  0.00000    19.239043   \n",
       "0024:B100:0003:12F8   76.106959   5.739163     0.000820  0.00000    18.153058   \n",
       "0024:B100:0003:130B   71.169295  21.375342     0.000644  0.00000     7.454718   \n",
       "0024:B100:0003:130E   72.256684  20.025673     0.000299  0.00000     7.717344   \n",
       "0024:B100:0003:130F   70.641391  10.636162     0.000000  0.00000    18.722447   \n",
       "0024:B100:0003:1312   71.612344  21.358082     0.000709  0.00000     7.028864   \n",
       "0024:B100:0003:1318   71.577378  21.928983     0.000099  0.00000     6.493540   \n",
       "0024:B100:0003:1F95   88.059013   5.652455     0.000000  0.00000     6.288532   \n",
       "0024:B100:0003:2A8C   72.941741  20.424592     0.000000  0.00000     6.633667   \n",
       "0024:B100:0003:2AB1   60.839552  22.650798    12.635028  0.00000     3.874621   \n",
       "0024:B100:0003:2AB5   76.426947  19.053526     0.003555  0.00000     4.515972   \n",
       "0024:B100:0003:2ADF   73.006300  13.473794     8.715487  0.00000     4.804419   \n",
       "0024:B100:0003:2B24    9.124419  82.922008     0.000000  0.00000     7.953572   \n",
       "0024:B100:0003:2C1C   83.328058   1.068172     0.000304  0.00000    15.603465   \n",
       "0024:B100:0003:33C3   72.238068  19.653541     3.485570  0.00000     4.622821   \n",
       "0024:B100:0003:519A    6.557406  82.915503     0.000000  0.00000    10.527091   \n",
       "0024:B100:0003:66F6   58.826762   7.828331     0.000000  0.00000    33.344907   \n",
       "0024:B100:0003:6743   15.976887  66.441137     0.000000  0.00000    17.581975   \n",
       "0024:B100:0003:824E   98.035209   0.000059     0.001442  0.00000     1.963290   \n",
       "0024:B100:0003:9836   78.735857   1.038939    19.368136  0.00000     0.857068   \n",
       "0024:B100:0003:BF3B   77.553905   3.673862     0.000000  0.00000    18.772233   \n",
       "0024:B100:0003:BF3D   79.681080   3.655617     0.011379  0.00000    16.651924   \n",
       "0024:B100:0003:BF84  100.000000   0.000000     0.000000  0.00000     0.000000   \n",
       "0024:B100:0003:BF91   73.738314   4.838446     0.000000  0.00000    21.423240   \n",
       "0024:B100:0003:C689   59.486014   2.681783     0.000713  0.00000    37.831490   \n",
       "0024:B100:0003:C68A   70.319619  20.116560     0.003693  0.00000     9.560128   \n",
       "0024:B100:0003:D26F   96.433836   0.556579     1.252706  0.00000     1.756878   \n",
       "0024:B100:0003:D5D6   96.073756   0.634865     0.031756  0.00000     3.259623   \n",
       "0024:B100:0004:0667   98.176762   0.390821     0.706499  0.00000     0.725918   \n",
       "0024:B100:0004:0E93   85.049477   2.373737     0.000367  0.00000    12.576419   \n",
       "0024:B100:0004:0EC1   97.957280   0.000000     0.072520  0.00000     1.970200   \n",
       "0024:B100:0004:1B12   90.354018   0.085950     0.005604  0.00000     9.554428   \n",
       "0024:B100:0004:20C4   89.262797   1.066262     4.646702  0.00000     5.024239   \n",
       "0024:B100:0004:2ED8   98.552035   0.088258     0.000000  0.00000     1.359706   \n",
       "0024:B100:0004:3B91   94.498271   2.043504     1.712030  0.00000     1.746194   \n",
       "0024:B100:0004:5CE8   97.595357   0.002292     0.047205  0.00000     2.355146   \n",
       "0024:B100:0004:5D08   97.772749   0.049700     0.048495  0.00000     2.129056   \n",
       "0024:B100:0004:A22C   97.625510   0.087651     0.006848  0.00000     2.279991   \n",
       "0024:B100:0004:A250   90.843771   1.870008     6.117568  0.00000     1.168653   \n",
       "0024:B100:0004:C4B2   97.376213   0.188766     0.000292  0.00000     2.434728   \n",
       "0024:B100:0006:4538   99.251550   0.000000     0.003138  0.00000     0.745312   \n",
       "0024:B100:0006:BC3D   91.595456   0.456471     0.509333  0.00000     7.438740   \n",
       "0024:B100:0006:BD13   99.490721   0.000000     0.016349  0.00000     0.492930   \n",
       "0024:B100:0006:BD1D   98.728630   0.000000     0.015571  0.00000     1.255799   \n",
       "0024:B100:0006:BD20   99.330969   0.000000     0.012750  0.00000     0.656281   \n",
       "0024:B100:0006:C0E1   99.293640   0.000000     0.015917  0.00000     0.690443   \n",
       "0024:B100:0006:C0E2   99.426180   0.000000     0.002855  0.00000     0.570965   \n",
       "0024:B100:0006:C7DC   96.943220   2.821980     0.002737  0.00000     0.232064   \n",
       "0024:B100:0006:C802   99.225203   0.002382     0.014863  0.00000     0.757552   \n",
       "0024:B100:0006:C80C   99.594259   0.000000     0.014983  0.00000     0.390758   \n",
       "0024:B100:0006:C80F   98.808320   0.000000     0.028286  0.00000     1.163394   \n",
       "0024:B100:000C:083C  100.000000   0.000000     0.000000  0.00000     0.000000   \n",
       "\n",
       "State                Total  \n",
       "MAC Address                 \n",
       "000D:6F00:04F8:B0AC  100.0  \n",
       "0024:B100:0002:13E5  100.0  \n",
       "0024:B100:0002:15D0  100.0  \n",
       "0024:B100:0002:15D4  100.0  \n",
       "0024:B100:0002:15DF  100.0  \n",
       "0024:B100:0002:16F3  100.0  \n",
       "0024:B100:0002:1C6A  100.0  \n",
       "0024:B100:0002:1E24  100.0  \n",
       "0024:B100:0002:1EED  100.0  \n",
       "0024:B100:0002:1F61  100.0  \n",
       "0024:B100:0002:1F6C  100.0  \n",
       "0024:B100:0002:1F71  100.0  \n",
       "0024:B100:0002:2022  100.0  \n",
       "0024:B100:0002:2940  100.0  \n",
       "0024:B100:0002:294E  100.0  \n",
       "0024:B100:0002:2954  100.0  \n",
       "0024:B100:0002:2955  100.0  \n",
       "0024:B100:0002:295F  100.0  \n",
       "0024:B100:0002:2963  100.0  \n",
       "0024:B100:0002:297C  100.0  \n",
       "0024:B100:0002:299E  100.0  \n",
       "0024:B100:0002:29C3  100.0  \n",
       "0024:B100:0002:29C6  100.0  \n",
       "0024:B100:0002:2A6B  100.0  \n",
       "0024:B100:0002:2A6E  100.0  \n",
       "0024:B100:0002:2A70  100.0  \n",
       "0024:B100:0002:2A71  100.0  \n",
       "0024:B100:0002:2A73  100.0  \n",
       "0024:B100:0002:2A74  100.0  \n",
       "0024:B100:0002:2A78  100.0  \n",
       "0024:B100:0002:2A7B  100.0  \n",
       "0024:B100:0002:2A7C  100.0  \n",
       "0024:B100:0002:2A80  100.0  \n",
       "0024:B100:0002:2A89  100.0  \n",
       "0024:B100:0002:2A8E  100.0  \n",
       "0024:B100:0002:3F5A  100.0  \n",
       "0024:B100:0002:4AEB  100.0  \n",
       "0024:B100:0002:5134  100.0  \n",
       "0024:B100:0002:5144  100.0  \n",
       "0024:B100:0002:5150  100.0  \n",
       "0024:B100:0002:5154  100.0  \n",
       "0024:B100:0002:5158  100.0  \n",
       "0024:B100:0002:5752  100.0  \n",
       "0024:B100:0002:575E  100.0  \n",
       "0024:B100:0002:594F  100.0  \n",
       "0024:B100:0002:8DD9  100.0  \n",
       "0024:B100:0002:8DDC  100.0  \n",
       "0024:B100:0002:8E02  100.0  \n",
       "0024:B100:0002:8E27  100.0  \n",
       "0024:B100:0002:8E28  100.0  \n",
       "0024:B100:0002:8E2C  100.0  \n",
       "0024:B100:0002:8E2F  100.0  \n",
       "0024:B100:0002:8E32  100.0  \n",
       "0024:B100:0002:8E36  100.0  \n",
       "0024:B100:0002:8E37  100.0  \n",
       "0024:B100:0002:8E49  100.0  \n",
       "0024:B100:0002:8E4A  100.0  \n",
       "0024:B100:0002:8F36  100.0  \n",
       "0024:B100:0002:8FCA  100.0  \n",
       "0024:B100:0002:8FD1  100.0  \n",
       "0024:B100:0002:918F  100.0  \n",
       "0024:B100:0002:9193  100.0  \n",
       "0024:B100:0002:9194  100.0  \n",
       "0024:B100:0002:919B  100.0  \n",
       "0024:B100:0002:91B6  100.0  \n",
       "0024:B100:0002:91C3  100.0  \n",
       "0024:B100:0002:9202  100.0  \n",
       "0024:B100:0002:A917  100.0  \n",
       "0024:B100:0002:AD71  100.0  \n",
       "0024:B100:0002:AE14  100.0  \n",
       "0024:B100:0002:B04A  100.0  \n",
       "0024:B100:0003:12D9  100.0  \n",
       "0024:B100:0003:12EB  100.0  \n",
       "0024:B100:0003:12EE  100.0  \n",
       "0024:B100:0003:12F1  100.0  \n",
       "0024:B100:0003:12F8  100.0  \n",
       "0024:B100:0003:130B  100.0  \n",
       "0024:B100:0003:130E  100.0  \n",
       "0024:B100:0003:130F  100.0  \n",
       "0024:B100:0003:1312  100.0  \n",
       "0024:B100:0003:1318  100.0  \n",
       "0024:B100:0003:1F95  100.0  \n",
       "0024:B100:0003:2A8C  100.0  \n",
       "0024:B100:0003:2AB1  100.0  \n",
       "0024:B100:0003:2AB5  100.0  \n",
       "0024:B100:0003:2ADF  100.0  \n",
       "0024:B100:0003:2B24  100.0  \n",
       "0024:B100:0003:2C1C  100.0  \n",
       "0024:B100:0003:33C3  100.0  \n",
       "0024:B100:0003:519A  100.0  \n",
       "0024:B100:0003:66F6  100.0  \n",
       "0024:B100:0003:6743  100.0  \n",
       "0024:B100:0003:824E  100.0  \n",
       "0024:B100:0003:9836  100.0  \n",
       "0024:B100:0003:BF3B  100.0  \n",
       "0024:B100:0003:BF3D  100.0  \n",
       "0024:B100:0003:BF84  100.0  \n",
       "0024:B100:0003:BF91  100.0  \n",
       "0024:B100:0003:C689  100.0  \n",
       "0024:B100:0003:C68A  100.0  \n",
       "0024:B100:0003:D26F  100.0  \n",
       "0024:B100:0003:D5D6  100.0  \n",
       "0024:B100:0004:0667  100.0  \n",
       "0024:B100:0004:0E93  100.0  \n",
       "0024:B100:0004:0EC1  100.0  \n",
       "0024:B100:0004:1B12  100.0  \n",
       "0024:B100:0004:20C4  100.0  \n",
       "0024:B100:0004:2ED8  100.0  \n",
       "0024:B100:0004:3B91  100.0  \n",
       "0024:B100:0004:5CE8  100.0  \n",
       "0024:B100:0004:5D08  100.0  \n",
       "0024:B100:0004:A22C  100.0  \n",
       "0024:B100:0004:A250  100.0  \n",
       "0024:B100:0004:C4B2  100.0  \n",
       "0024:B100:0006:4538  100.0  \n",
       "0024:B100:0006:BC3D  100.0  \n",
       "0024:B100:0006:BD13  100.0  \n",
       "0024:B100:0006:BD1D  100.0  \n",
       "0024:B100:0006:BD20  100.0  \n",
       "0024:B100:0006:C0E1  100.0  \n",
       "0024:B100:0006:C0E2  100.0  \n",
       "0024:B100:0006:C7DC  100.0  \n",
       "0024:B100:0006:C802  100.0  \n",
       "0024:B100:0006:C80C  100.0  \n",
       "0024:B100:0006:C80F  100.0  \n",
       "0024:B100:000C:083C  100.0  "
      ]
     },
     "execution_count": 12,
     "metadata": {},
     "output_type": "execute_result"
    }
   ],
   "source": [
    "state_percentages = state_durations.divide(state_durations['Total'], axis=0) * 100\n",
    "state_percentages"
   ]
  },
  {
   "cell_type": "markdown",
   "metadata": {},
   "source": [
    "#### **Summary**"
   ]
  },
  {
   "cell_type": "code",
   "execution_count": 13,
   "metadata": {},
   "outputs": [
    {
     "data": {
      "text/html": [
       "<div>\n",
       "<style scoped>\n",
       "    .dataframe tbody tr th:only-of-type {\n",
       "        vertical-align: middle;\n",
       "    }\n",
       "\n",
       "    .dataframe tbody tr th {\n",
       "        vertical-align: top;\n",
       "    }\n",
       "\n",
       "    .dataframe thead th {\n",
       "        text-align: right;\n",
       "    }\n",
       "</style>\n",
       "<table border=\"1\" class=\"dataframe\">\n",
       "  <thead>\n",
       "    <tr style=\"text-align: right;\">\n",
       "      <th></th>\n",
       "      <th>Mean</th>\n",
       "      <th>Std. Dev.</th>\n",
       "    </tr>\n",
       "    <tr>\n",
       "      <th>State</th>\n",
       "      <th></th>\n",
       "      <th></th>\n",
       "    </tr>\n",
       "  </thead>\n",
       "  <tbody>\n",
       "    <tr>\n",
       "      <th>Available</th>\n",
       "      <td>85.584758</td>\n",
       "      <td>16.907438</td>\n",
       "    </tr>\n",
       "    <tr>\n",
       "      <th>Faulted</th>\n",
       "      <td>7.815756</td>\n",
       "      <td>13.577143</td>\n",
       "    </tr>\n",
       "    <tr>\n",
       "      <th>Unavailable</th>\n",
       "      <td>0.862589</td>\n",
       "      <td>2.995687</td>\n",
       "    </tr>\n",
       "    <tr>\n",
       "      <th>Unknown</th>\n",
       "      <td>0.000005</td>\n",
       "      <td>0.000060</td>\n",
       "    </tr>\n",
       "    <tr>\n",
       "      <th>Unreachable</th>\n",
       "      <td>5.736892</td>\n",
       "      <td>6.749624</td>\n",
       "    </tr>\n",
       "    <tr>\n",
       "      <th>Total</th>\n",
       "      <td>100.000000</td>\n",
       "      <td>0.000000</td>\n",
       "    </tr>\n",
       "  </tbody>\n",
       "</table>\n",
       "</div>"
      ],
      "text/plain": [
       "                   Mean  Std. Dev.\n",
       "State                             \n",
       "Available     85.584758  16.907438\n",
       "Faulted        7.815756  13.577143\n",
       "Unavailable    0.862589   2.995687\n",
       "Unknown        0.000005   0.000060\n",
       "Unreachable    5.736892   6.749624\n",
       "Total        100.000000   0.000000"
      ]
     },
     "metadata": {},
     "output_type": "display_data"
    }
   ],
   "source": [
    "display(pd.concat([state_percentages.mean(), state_percentages.std()], axis=1, keys=['Mean', 'Std. Dev.']))"
   ]
  },
  {
   "cell_type": "markdown",
   "metadata": {},
   "source": [
    "#### **Plots**"
   ]
  },
  {
   "cell_type": "code",
   "execution_count": 15,
   "metadata": {},
   "outputs": [
    {
     "data": {
      "application/vnd.jupyter.widget-view+json": {
       "model_id": "58fc39515437419b9810216c669db393",
       "version_major": 2,
       "version_minor": 0
      },
      "image/png": "[encoded data removed]",
      "text/html": [
       "\n",
       "            <div style=\"display: inline-block;\">\n",
       "                <div class=\"jupyter-widgets widget-label\" style=\"text-align: center;\">\n",
       "                    Figure\n",
       "                </div>\n",
       "                <img src='data:image/png;base64,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' width=640.0/>\n",
       "            </div>\n",
       "        "
      ],
      "text/plain": [
       "Canvas(toolbar=Toolbar(toolitems=[('Home', 'Reset original view', 'home', 'home'), ('Back', 'Back to previous …"
      ]
     },
     "metadata": {},
     "output_type": "display_data"
    }
   ],
   "source": [
    "state_to_plot_map = {\n",
    "    'Available': {\n",
    "        'color': 'blue'\n",
    "    },\n",
    "    'Faulted': {\n",
    "        'color': 'red'\n",
    "    },\n",
    "    'Unreachable': {\n",
    "        'color': 'yellow'\n",
    "    },\n",
    "    'Unavailable': {\n",
    "        'color': 'grey'\n",
    "    },\n",
    "    'Unknown': {\n",
    "        'color': 'black'\n",
    "    }\n",
    "}\n",
    "\n",
    "%matplotlib widget\n",
    "fig, ax = plt.subplots()\n",
    "\n",
    "for i, mac in enumerate(state_history['MAC Address'].unique()):\n",
    "    for state, properties in state_to_plot_map.items():\n",
    "        state_periods = state_history[(state_history['MAC Address'] == mac) & (state_history.State == state)]\n",
    "        xranges = [(row.Start.timestamp(), row.Duration.total_seconds()) for _, row in state_periods.iterrows()]\n",
    "        # display(xranges)\n",
    "        ax.broken_barh(xranges, (i*20, 10), color=properties['color'])\n",
    "\n",
    "locs = ax.get_xticks()\n",
    "labels = list(map(lambda loc: pd.Timestamp(loc, unit='s', tz='US/Pacific'), locs))\n",
    "# ax.set_xticks(locs, labels, rotation=270);\n"
   ]
  }
 ],
 "metadata": {
  "kernelspec": {
   "display_name": "Python 3",
   "language": "python",
   "name": "python3"
  },
  "language_info": {
   "codemirror_mode": {
    "name": "ipython",
    "version": 3
   },
   "file_extension": ".py",
   "mimetype": "text/x-python",
   "name": "python",
   "nbconvert_exporter": "python",
   "pygments_lexer": "ipython3",
   "version": "3.10.12"
  },
  "orig_nbformat": 4
 },
 "nbformat": 4,
 "nbformat_minor": 2
}
