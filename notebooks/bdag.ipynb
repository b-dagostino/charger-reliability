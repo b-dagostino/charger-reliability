{
 "cells": [
  {
   "cell_type": "markdown",
   "metadata": {},
   "source": [
    "# **Stanford Transportation - ChargePoint EV Chargers - Sep-2023**"
   ]
  },
  {
   "cell_type": "markdown",
   "metadata": {},
   "source": [
    "## **Code Utilities**"
   ]
  },
  {
   "cell_type": "code",
   "execution_count": 77,
   "metadata": {},
   "outputs": [],
   "source": [
    "from datetime import datetime, timedelta\n",
    "from functools import partial\n",
    "from pathlib import Path\n",
    "from pprint import pprint, pformat\n",
    "from types import SimpleNamespace\n",
    "from zoneinfo import ZoneInfo\n",
    "\n",
    "import IPython.display\n",
    "from IPython.display import display\n",
    "import pandas\n",
    "from schema import Schema, And, Use, Or\n",
    "import yaml\n",
    "\n",
    "# Schemas\n",
    "## Existing file\n",
    "class PathPrefixPrepender:\n",
    "    def validate(self, data, path_prefix: Path = Path()):\n",
    "        return path_prefix / data\n",
    "\n",
    "existing_file_path_schema = Schema(And(Use(Path), PathPrefixPrepender(), Path.is_file))\n",
    "\n",
    "## Dataset manifest\n",
    "dataset_manifest_schema_dict = {}\n",
    "dataset_manifest_schema = Schema(dataset_manifest_schema_dict)\n",
    "dataset_manifest_schema_dict.update({str: Or(existing_file_path_schema, dataset_manifest_schema)})\n",
    "\n",
    "## Easy access of schemas through namespace\n",
    "schemas = SimpleNamespace(\n",
    "    dataset_manifest = dataset_manifest_schema\n",
    ")\n",
    "\n",
    "# Dataset wrapper class\n",
    "class Dataset:\n",
    "    '''Convenience wrapper for datasets described by manifest.yml'''\n",
    "    def __init__(self, manifest_path: Path | str) -> None:\n",
    "        if isinstance(manifest_path, str):\n",
    "            manifest_path = Path(manifest_path)\n",
    "\n",
    "        # Open manifest\n",
    "        with open(manifest_path) as f:\n",
    "            manifest = yaml.safe_load(f)\n",
    "\n",
    "        # Validate manifest\n",
    "        manifest = schemas.dataset_manifest.validate(manifest, path_prefix = manifest_path.parent)\n",
    "\n",
    "        # Create namespaces attributes for easy access and pandas dataframes from CSVs\n",
    "        def dict_to_namespace(d: dict):\n",
    "            for k, v in d.items():\n",
    "                if isinstance(v, dict):\n",
    "                    d[k] = dict_to_namespace(v)\n",
    "                elif isinstance(v, Path) and v.suffix.lower() == \".csv\":\n",
    "                    d[k] = pandas.read_csv(v, keep_default_na=False)\n",
    "            return SimpleNamespace(**d)\n",
    "        \n",
    "        self.__dict__.update(dict_to_namespace(manifest).__dict__)\n",
    "\n",
    "# Functions\n",
    "print_md = partial(IPython.display.display_markdown, raw = True)\n",
    "\n",
    "# Output formatting\n",
    "pandas.set_option('display.max_columns', None)\n",
    "pandas.set_option('display.max_rows', 100)\n",
    "\n",
    "# Timezone abbreviation to zoneinfo\n",
    "tz_abbrev_to_zoneinfo = {\n",
    "    \"PDT\": ZoneInfo(\"US/Pacific\"),\n",
    "    \"PST\": ZoneInfo(\"US/Pacific\"),\n",
    "}\n",
    "\n",
    "# Convert alarm times to proper datetimes... why is this so hard???\n",
    "def alarm_time_to_datetime(alarm_time):\n",
    "    if isinstance(alarm_time, datetime):\n",
    "        return alarm_time\n",
    "\n",
    "    components = alarm_time.split()\n",
    "    naive_time = datetime.strptime(\" \".join(components[:-1]), \"%Y-%m-%d %H:%M:%S\")\n",
    "    aware_time = naive_time.astimezone(tz_abbrev_to_zoneinfo[components[-1][1:-1]])\n",
    "    return aware_time"
   ]
  },
  {
   "cell_type": "markdown",
   "metadata": {},
   "source": [
    "## **Load Dataset**"
   ]
  },
  {
   "cell_type": "code",
   "execution_count": 78,
   "metadata": {},
   "outputs": [],
   "source": [
    "dataset = Dataset(\"../data/manifest.yml\")\n",
    "station_overview = dataset.stations.overview\n",
    "alarms = dataset.reports.alarms\n",
    "# Convert alarm times to proper datetimes\n",
    "alarms[\"Alarm Time\"] = pandas.to_datetime(alarms[\"Alarm Time\"].apply(alarm_time_to_datetime))\n",
    "station_inventory = dataset.organizations.inventory.stations"
   ]
  },
  {
   "cell_type": "markdown",
   "metadata": {},
   "source": [
    "## **Analysis**"
   ]
  },
  {
   "cell_type": "markdown",
   "metadata": {},
   "source": [
    "### **Station Overview**"
   ]
  },
  {
   "cell_type": "code",
   "execution_count": 79,
   "metadata": {},
   "outputs": [
    {
     "data": {
      "text/markdown": [
       "#### **General Information**"
      ]
     },
     "metadata": {},
     "output_type": "display_data"
    },
    {
     "data": {
      "text/markdown": [
       "**Number of Rows:** 109"
      ]
     },
     "metadata": {},
     "output_type": "display_data"
    },
    {
     "data": {
      "text/markdown": [
       "**Columns:** Model Number, Station Name, Org Name, MAC Address, System S/N, Address 1, Address 2, Floor Label, City, State, Zip/Postal Code, County, Country , Activation Status, Network Status, Station Status, Port 1 Status, Port 2 Status, No. of Ports, Pricing Policy Name, Reservations, Station Message, Enabled, Station Activation Type, Usable By, Visibility (Access Policy Name), EVSE ID, Radio Group Name, Software Version, Customer Category, Customer Subcategory, Circuit Sharing, Currency Name, Power Select / AC Breaker Rating, Scheduled Charging Policy Name, Warranty, Station Activation Date, Warranty Expiration Date, Warranty Service, Plug Type, Device Access Restriction, Waitlist Policy Name, Asset Tag ID, Meter ID, Service Delivery Point ID, Point of Service ID, Account ID, Circuit ID, Panel ID, Customer Name, Customer ID, Site ID, Site mode, Site Validation Status, Paired, Latitude, Longitude"
      ]
     },
     "metadata": {},
     "output_type": "display_data"
    },
    {
     "data": {
      "text/markdown": [
       "#### **Unique Column Values**"
      ]
     },
     "metadata": {},
     "output_type": "display_data"
    },
    {
     "data": {
      "text/markdown": [
       "##### **Model Number**"
      ]
     },
     "metadata": {},
     "output_type": "display_data"
    },
    {
     "data": {
      "text/markdown": [
       "CT4020-HD, CT4020-HD-GW, CT4020-HD2-GW-LTE, CT4010-HD-GW, CT4010-HD, CPE200T-S-CHD-CMB"
      ]
     },
     "metadata": {},
     "output_type": "display_data"
    },
    {
     "data": {
      "text/markdown": [
       "##### **Station Name**"
      ]
     },
     "metadata": {},
     "output_type": "display_data"
    },
    {
     "data": {
      "text/markdown": [
       "STANFORD / THO NGW-B5, STANFORD / THO NGW-B4, STANFORD / THO NGW-B3, STANFORD / THO NGW-B2, STANFORD / THO NGW-B1, STANFORD / THO NGW-A5 ADA, STANFORD / THO NGW-A4, STANFORD / THO NGW-A3, STANFORD / THO NGW-A2, STANFORD / THO NGW-A1, STANFORD / THO GW-B, STANFORD / THO GW-A, STANFORD / TH WALL MOUNT, STANFORD / TH STATION 1, STANFORD / STATION 9, STANFORD / STATION 8 PS-5, STANFORD / STATION 8, STANFORD / STATION 7 PS-5, STANFORD / STATION 7, STANFORD / STATION 6 PS-5, STANFORD / STATION 6, STANFORD / STATION 5 PS-5, STANFORD / STATION 5, STANFORD / STATION 4 PS-5, STANFORD / STATION 4, STANFORD / STATION 3 PS-5, STANFORD / STATION 3, STANFORD / STATION 2 TMU, STANFORD / STATION 2 PS-5, STANFORD / STATION 2, STANFORD / STATION 11, STANFORD / STATION 10, STANFORD / STATION 1 TMU, STANFORD / STATION 1 PS-5, STANFORD / STATION 1, STANFORD / ROBLE LL2-12, STANFORD / OAK ROAD #1, STANFORD / CD STATION 6, STANFORD / CD STATION 4, STANFORD / CD STATION 3, STANFORD / CD STATION 2, STANFORD / CD STATION 1, STANFORD / CD GATEWAY #3, STANFORD / CD GATEWAY #2, STANFORD / CD GATEWAY #1, STANFORD / CAM 6 LL1, STANFORD / CAM 5 LL1, STANFORD / CAM 4 LL1, STANFORD / CAM 3 LL1, STANFORD / CAM 2 LL1, STANFORD / CAM 1 LL1, SRWC / RWC L5 5, SRWC / RWC L5 4, SRWC / RWC L5 3, SRWC / RWC L5 2, SRWC / RWC L5 1, SRWC / RWC L4 4, SRWC / RWC L4 3, SRWC / RWC L4 2, SRWC / RWC L4 1, SRWC / RWC L3 4, SRWC / RWC L3 3, SRWC / RWC L3 2, SRWC / RWC L3 1, SRWC / RWC L2 4, SRWC / RWC L2 3, SRWC / RWC L2 2, SRWC / RWC L2 1, SRWC / RWC L1 6, SRWC / RWC L1 5, SRWC / RWC L1 4, SRWC / RWC L1 3, SRWC / RWC L1 2, SRWC / RWC L1 1, SRWC / RWC B1 4, SRWC / RWC B1 3, SRWC / RWC B1 2, SRWC / RWC B1 1, SRWC / CHARGER 5, SRWC / CHARGER 4, SRWC / CHARGER 3, SRWC / CHARGER 2, SRWC / CHARGER 1, ROBLE / ROBLE LL2-9, ROBLE / ROBLE LL2-8, ROBLE / ROBLE LL2-7, ROBLE / ROBLE LL2-6, ROBLE / ROBLE LL2-5, ROBLE / ROBLE LL2-4, ROBLE / ROBLE LL2-3, ROBLE / ROBLE LL2-2, ROBLE / ROBLE LL2-14, ROBLE / ROBLE LL2-13, ROBLE / ROBLE LL2-11, ROBLE / ROBLE LL2-10, ROBLE / ROBLE LL2-1, ROBLE / ROBLE LL1-DIS, ROBLE / ROBLE LL1-9, ROBLE / ROBLE LL1-8, ROBLE / ROBLE LL1-7, ROBLE / ROBLE LL1-6, ROBLE / ROBLE LL1-5, ROBLE / ROBLE LL1-4, ROBLE / ROBLE LL1-3, ROBLE / ROBLE LL1-2, ROBLE / ROBLE LL1-12, ROBLE / ROBLE LL1-11, ROBLE / ROBLE LL1-10, ROBLE / ROBLE LL1-1"
      ]
     },
     "metadata": {},
     "output_type": "display_data"
    },
    {
     "data": {
      "text/markdown": [
       "##### **Org Name**"
      ]
     },
     "metadata": {},
     "output_type": "display_data"
    },
    {
     "data": {
      "text/markdown": [
       "Stanford University"
      ]
     },
     "metadata": {},
     "output_type": "display_data"
    },
    {
     "data": {
      "text/markdown": [
       "##### **MAC Address**"
      ]
     },
     "metadata": {},
     "output_type": "display_data"
    },
    {
     "data": {
      "text/markdown": [
       "0024:B100:0003:12F8, 0024:B100:0003:130F, 0024:B100:0003:12EE, 0024:B100:0003:12F1, 0024:B100:0003:12D9, 0024:B100:0003:1318, 0024:B100:0003:1312, 0024:B100:0003:130E, 0024:B100:0003:130B, 0024:B100:0003:12EB, 0024:B100:0003:2C1C, 0024:B100:0003:2A8C, 0024:B100:0002:16F3, 0024:B100:0004:0667, 0024:B100:0006:C0E1, 0024:B100:0002:15D4, 0024:B100:0006:BD1D, 0024:B100:0002:1C6A, 0024:B100:0006:C802, 0024:B100:0002:15D0, 0024:B100:0006:BD13, 0024:B100:0002:15DF, 0024:B100:0006:BD20, 0024:B100:0002:13E5, 0024:B100:0006:C80F, 0024:B100:0002:1F6C, 0024:B100:0006:C80C, 0024:B100:0006:BC3D, 0024:B100:0004:3B91, 0024:B100:0006:C0E2, 0024:B100:000C:083C, 0024:B100:0006:C7DC, 0024:B100:0003:33C3, 0024:B100:0002:1EED, 0024:B100:0006:4538, 0024:B100:0002:2A6E, 0024:B100:0003:824E, 0024:B100:0003:2ADF, 0024:B100:0004:2ED8, 0024:B100:0003:2AB1, 0024:B100:0004:A22C, 0024:B100:0003:2AB5, 0024:B100:0004:1B12, 0024:B100:0004:A250, 0024:B100:0004:C4B2, 0024:B100:0003:C68A, 0024:B100:0003:C689, 0024:B100:0003:BF91, 0024:B100:0003:BF3D, 0024:B100:0004:0E93, 0024:B100:0003:BF3B, 0024:B100:0002:8DD9, 0024:B100:0002:8E32, 0024:B100:0002:A917, 0024:B100:0003:1F95, 0024:B100:0002:9194, 0024:B100:0002:8E49, 0024:B100:0002:8FD1, 0024:B100:0002:8E36, 0024:B100:0002:8E37, 0024:B100:0002:8E28, 0024:B100:0002:8E02, 0024:B100:0002:91C3, 0024:B100:0002:918F, 0024:B100:0002:8E2F, 0024:B100:0002:8E27, 0024:B100:0002:8FCA, 0024:B100:0002:8E2C, 0024:B100:0002:B04A, 0024:B100:0002:919B, 0024:B100:0002:AE14, 0024:B100:0002:AD71, 0024:B100:0002:9202, 0024:B100:0002:594F, 0024:B100:0002:8DDC, 0024:B100:0003:9836, 0024:B100:0002:9193, 0024:B100:0002:8E4A, 000D:6F00:04F8:B0AC, 0024:B100:0002:5752, 0024:B100:0002:575E, 0024:B100:0002:5144, 0024:B100:0002:4AEB, 0024:B100:0002:295F, 0024:B100:0002:2A8E, 0024:B100:0002:2A74, 0024:B100:0002:2A6B, 0024:B100:0002:2A70, 0024:B100:0002:2A80, 0024:B100:0002:2955, 0024:B100:0002:297C, 0024:B100:0002:5154, 0024:B100:0002:294E, 0024:B100:0002:2A7B, 0024:B100:0002:2A71, 0024:B100:0002:5134, 0024:B100:0002:299E, 0024:B100:0004:5D08, 0024:B100:0002:2A7C, 0024:B100:0002:2940, 0024:B100:0002:2954, 0024:B100:0003:D5D6, 0024:B100:0003:D26F, 0024:B100:0002:2A73, 0024:B100:0004:20C4, 0024:B100:0004:0EC1, 0024:B100:0002:3F5A, 0024:B100:0004:5CE8, 0024:B100:0002:5158"
      ]
     },
     "metadata": {},
     "output_type": "display_data"
    },
    {
     "data": {
      "text/markdown": [
       "##### **System S/N**"
      ]
     },
     "metadata": {},
     "output_type": "display_data"
    },
    {
     "data": {
      "text/markdown": [
       "184141024581, 184141024600, 184141024577, 184141024593, 184141024567, 184141024610, 184141024603, 184141024588, 184141024608, 184141024573, 184841030920, 184741030870, 143641006567, 201741012775, 220241003311, 143441006254, 220141000705, 145041008118, 220241003288, 143441006255, 220141000697, 143441006275, 220141000714, 143041005775, 220241003284, 150341000232, 220241003312, 220141000444, 200541004831, 220241003310, 231641072278, 220241003273, 153741004116, 150241000120, 213841045402, 152741003067, 193041017182, 184741030714, 192741015842, 184741030692, 210241001954, 184741030683, 192641015360, 210241001974, 211141011323, 195241034416, 195241034419, 195041032475, 195041032407, 170141000309, 195041032410, 173441009978, 173441009986, 175241017410, 184541028755, 173641010743, 173441009989, 173541010301, 173441009990, 173441010008, 173441009974, 173541010298, 173641010752, 173641010749, 173441009983, 173441009973, 173541010306, 173441009984, 180241000629, 173641010742, 175241017163, 175141017015, 173641010746, 164041005488, 173441009933, 164741006937, 173641010737, 173441009991, 37569, 163841004932, 163841004941, 162741003523, 153441003891, 152541002783, 152741003076, 152741003072, 152741003068, 152741003081, 152741003082, 152541002779, 152541002807, 162841003554, 152541002762, 152741003077, 152741003079, 162741003546, 152641002898, 183441017415, 152741003088, 152541002775, 152541002778, 200441003033, 200341002120, 152741003075, 185141033955, 172641007698, 155141008435, 164941007425, 162841003560"
      ]
     },
     "metadata": {},
     "output_type": "display_data"
    },
    {
     "data": {
      "text/markdown": [
       "##### **Address 1**"
      ]
     },
     "metadata": {},
     "output_type": "display_data"
    },
    {
     "data": {
      "text/markdown": [
       "740 Serra St, 295 Galvez St, 400 El Camino Real, 340 Oak Rd, 495 El Camino Real, 360 Oak Rd, 526-566 Lagunita Dr, 526-566 Stanford UniversityLagunita Dr, 375 Santa Teresa St, 484 Oak Rd, 742 Campus Drive, 453 Quarry Rd, 425 Broadway, 2850 Bay Rd, 2858 Bay Rd, 585 Broadway, 900-998 Douglas Ave, 373 Santa Teresa St, 287 Santa Teresa St, 671-725 Panama St"
      ]
     },
     "metadata": {},
     "output_type": "display_data"
    },
    {
     "data": {
      "text/markdown": [
       "##### **Address 2**"
      ]
     },
     "metadata": {},
     "output_type": "display_data"
    },
    {
     "data": {
      "text/markdown": [
       "Manzanita Garage"
      ]
     },
     "metadata": {},
     "output_type": "display_data"
    },
    {
     "data": {
      "text/markdown": [
       "##### **Floor Label**"
      ]
     },
     "metadata": {},
     "output_type": "display_data"
    },
    {
     "data": {
      "text/markdown": [
       "1, L5, L4, L3, L2, L1, B1"
      ]
     },
     "metadata": {},
     "output_type": "display_data"
    },
    {
     "data": {
      "text/markdown": [
       "##### **City**"
      ]
     },
     "metadata": {},
     "output_type": "display_data"
    },
    {
     "data": {
      "text/markdown": [
       "Stanford, Menlo Park, Palo Alto, Redwood City"
      ]
     },
     "metadata": {},
     "output_type": "display_data"
    },
    {
     "data": {
      "text/markdown": [
       "##### **State**"
      ]
     },
     "metadata": {},
     "output_type": "display_data"
    },
    {
     "data": {
      "text/markdown": [
       "California"
      ]
     },
     "metadata": {},
     "output_type": "display_data"
    },
    {
     "data": {
      "text/markdown": [
       "##### **Zip/Postal Code**"
      ]
     },
     "metadata": {},
     "output_type": "display_data"
    },
    {
     "data": {
      "text/markdown": [
       "94305, 94025, 94304, 94063"
      ]
     },
     "metadata": {},
     "output_type": "display_data"
    },
    {
     "data": {
      "text/markdown": [
       "##### **County**"
      ]
     },
     "metadata": {},
     "output_type": "display_data"
    },
    {
     "data": {
      "text/markdown": [
       "Santa Clara County, San Mateo County"
      ]
     },
     "metadata": {},
     "output_type": "display_data"
    },
    {
     "data": {
      "text/markdown": [
       "##### **Country**"
      ]
     },
     "metadata": {},
     "output_type": "display_data"
    },
    {
     "data": {
      "text/markdown": [
       "United States"
      ]
     },
     "metadata": {},
     "output_type": "display_data"
    },
    {
     "data": {
      "text/markdown": [
       "##### **Activation Status**"
      ]
     },
     "metadata": {},
     "output_type": "display_data"
    },
    {
     "data": {
      "text/markdown": [
       "Activated"
      ]
     },
     "metadata": {},
     "output_type": "display_data"
    },
    {
     "data": {
      "text/markdown": [
       "##### **Network Status**"
      ]
     },
     "metadata": {},
     "output_type": "display_data"
    },
    {
     "data": {
      "text/markdown": [
       "Unreachable, Reachable"
      ]
     },
     "metadata": {},
     "output_type": "display_data"
    },
    {
     "data": {
      "text/markdown": [
       "##### **Station Status**"
      ]
     },
     "metadata": {},
     "output_type": "display_data"
    },
    {
     "data": {
      "text/markdown": [
       "Watch List, Available, Needs Service, Inuse"
      ]
     },
     "metadata": {},
     "output_type": "display_data"
    },
    {
     "data": {
      "text/markdown": [
       "##### **Port 1 Status**"
      ]
     },
     "metadata": {},
     "output_type": "display_data"
    },
    {
     "data": {
      "text/markdown": [
       "Watch List, Available, In Use, Needs Service"
      ]
     },
     "metadata": {},
     "output_type": "display_data"
    },
    {
     "data": {
      "text/markdown": [
       "##### **Port 2 Status**"
      ]
     },
     "metadata": {},
     "output_type": "display_data"
    },
    {
     "data": {
      "text/markdown": [
       "Watch List, Available, In Use, Needs Service"
      ]
     },
     "metadata": {},
     "output_type": "display_data"
    },
    {
     "data": {
      "text/markdown": [
       "##### **No. of Ports**"
      ]
     },
     "metadata": {},
     "output_type": "display_data"
    },
    {
     "data": {
      "text/markdown": [
       "2, 1"
      ]
     },
     "metadata": {},
     "output_type": "display_data"
    },
    {
     "data": {
      "text/markdown": [
       "##### **Pricing Policy Name**"
      ]
     },
     "metadata": {},
     "output_type": "display_data"
    },
    {
     "data": {
      "text/markdown": [
       "$1 per hr enforcement hours, $2 per hr enforcement hours $1 per hr otherwise (e, Stanford University Mirrored"
      ]
     },
     "metadata": {},
     "output_type": "display_data"
    },
    {
     "data": {
      "text/markdown": [
       "##### **Reservations**"
      ]
     },
     "metadata": {},
     "output_type": "display_data"
    },
    {
     "data": {
      "text/markdown": [
       "Disabled"
      ]
     },
     "metadata": {},
     "output_type": "display_data"
    },
    {
     "data": {
      "text/markdown": [
       "##### **Station Message**"
      ]
     },
     "metadata": {},
     "output_type": "display_data"
    },
    {
     "data": {
      "text/markdown": [
       "Plugged In Required"
      ]
     },
     "metadata": {},
     "output_type": "display_data"
    },
    {
     "data": {
      "text/markdown": [
       "##### **Enabled**"
      ]
     },
     "metadata": {},
     "output_type": "display_data"
    },
    {
     "data": {
      "text/markdown": [
       "Yes"
      ]
     },
     "metadata": {},
     "output_type": "display_data"
    },
    {
     "data": {
      "text/markdown": [
       "##### **Station Activation Type**"
      ]
     },
     "metadata": {},
     "output_type": "display_data"
    },
    {
     "data": {
      "text/markdown": [
       "Public"
      ]
     },
     "metadata": {},
     "output_type": "display_data"
    },
    {
     "data": {
      "text/markdown": [
       "##### **Usable By**"
      ]
     },
     "metadata": {},
     "output_type": "display_data"
    },
    {
     "data": {
      "text/markdown": [
       "All Drivers, Stanford University Mirrored"
      ]
     },
     "metadata": {},
     "output_type": "display_data"
    },
    {
     "data": {
      "text/markdown": [
       "##### **Visibility (Access Policy Name)**"
      ]
     },
     "metadata": {},
     "output_type": "display_data"
    },
    {
     "data": {
      "text/markdown": [
       "No Drivers, All Drivers, Stanford University Mirrored"
      ]
     },
     "metadata": {},
     "output_type": "display_data"
    },
    {
     "data": {
      "text/markdown": [
       "##### **EVSE ID**"
      ]
     },
     "metadata": {},
     "output_type": "display_data"
    },
    {
     "data": {
      "text/markdown": [
       "1942901, 1942891, 1942871, 1942831, 1942771, 1943001, 1942971, 1942961, 1942951, 1942911, 715031, 715051, 119361, 118801, 13124741, 110213, 13124781, 117141, 13124701, 110125, 13124811, 110209, 13124771, 107663, 13124731, 118797, 13124761, 118781, 119315, 13124721, 13125171, 13125341, 119355, 118785, 13124711, 126643, 2002541, 5499441, 5499291, 5499251, 5499161, 5498991, 5390121, 5441611, 5456051, 5485451, 5474401, 5474381, 5475761, 5480591, 5474391, 239571, 239611, 428361, 738381, 254601, 239441, 247101, 239411, 239671, 239621, 246721, 254841, 254621, 239541, 239631, 246861, 239531, 446341, 254801, 422291, 419271, 254681, 254641, 239661, 246781, 254711, 239511, 158679, 168373, 168401, 162597, 2100951, 125893, 126669, 126653, 126645, 126683, 126679, 125887, 125961, 162667, 125833, 126661, 126673, 162657, 126187, 126651, 126695, 125855, 125881, 126277, 125885, 126663, 126169, 162655, 148717, 126693, 162797"
      ]
     },
     "metadata": {},
     "output_type": "display_data"
    },
    {
     "data": {
      "text/markdown": [
       "##### **Radio Group Name**"
      ]
     },
     "metadata": {},
     "output_type": "display_data"
    },
    {
     "data": {
      "text/markdown": [
       "RG-GW1, RG-GW2, Track House, RG_00040667, GW 9, PS5 - SW Wall, GW 8, GW 7, GW 6, GW 5, GW 4, PS-5 NW Wall, GW 3, RG_0006BC3D, GW 2, GW 11, GW 10, TMU, GW 1, LL2 Group 1, Oak Road RG 01, Campus Dr RG2, RG_00042ED8, Campus Dr RG1, RG_0004A22C, Campus Dr RG3, Quarry Rd RG 6, Quarry Rd RG 5, Quarry Rd RG 4, Quarry Rd RG 3, Quarry Rd RG 2, Quarry Rd RG 1, RWC L5, RWC L4, RWC L3, RWC L2, RWC L1, RWC B1, Broadway GW2, Broadway GW1, Roble LL2 Group 2, Roble LL1 Group 2, RG_00045D08, Roble LL1 Group 1, RG_0003D5D6, RG_0003D26F, RG_000420C4, RG_00045CE8"
      ]
     },
     "metadata": {},
     "output_type": "display_data"
    },
    {
     "data": {
      "text/markdown": [
       "##### **Software Version**"
      ]
     },
     "metadata": {},
     "output_type": "display_data"
    },
    {
     "data": {
      "text/markdown": [
       "4.6.0.46, 4.20.0+2023.02.10.63-alpha, 4.6.0.39, 4.5.0.40, 3.7.9.19-6777192/v1.5.80000000000, 4.6.0.33, 4.6.0.35"
      ]
     },
     "metadata": {},
     "output_type": "display_data"
    },
    {
     "data": {
      "text/markdown": [
       "##### **Customer Category**"
      ]
     },
     "metadata": {},
     "output_type": "display_data"
    },
    {
     "data": {
      "text/markdown": [
       "Education, Workplace"
      ]
     },
     "metadata": {},
     "output_type": "display_data"
    },
    {
     "data": {
      "text/markdown": [
       "##### **Customer Subcategory**"
      ]
     },
     "metadata": {},
     "output_type": "display_data"
    },
    {
     "data": {
      "text/markdown": [
       "University / College, General"
      ]
     },
     "metadata": {},
     "output_type": "display_data"
    },
    {
     "data": {
      "text/markdown": [
       "##### **Circuit Sharing**"
      ]
     },
     "metadata": {},
     "output_type": "display_data"
    },
    {
     "data": {
      "text/markdown": [
       "Disabled, Enabled"
      ]
     },
     "metadata": {},
     "output_type": "display_data"
    },
    {
     "data": {
      "text/markdown": [
       "##### **Currency Name**"
      ]
     },
     "metadata": {},
     "output_type": "display_data"
    },
    {
     "data": {
      "text/markdown": [
       "U.S. Dollars (USD)"
      ]
     },
     "metadata": {},
     "output_type": "display_data"
    },
    {
     "data": {
      "text/markdown": [
       "##### **Power Select / AC Breaker Rating**"
      ]
     },
     "metadata": {},
     "output_type": "display_data"
    },
    {
     "data": {
      "text/markdown": [
       "40A, 30A"
      ]
     },
     "metadata": {},
     "output_type": "display_data"
    },
    {
     "data": {
      "text/markdown": [
       "##### **Scheduled Charging Policy Name**"
      ]
     },
     "metadata": {},
     "output_type": "display_data"
    },
    {
     "data": {
      "text/markdown": []
     },
     "metadata": {},
     "output_type": "display_data"
    },
    {
     "data": {
      "text/markdown": [
       "##### **Warranty**"
      ]
     },
     "metadata": {},
     "output_type": "display_data"
    },
    {
     "data": {
      "text/markdown": [
       "ChargePoint Assure, Standard Warranty"
      ]
     },
     "metadata": {},
     "output_type": "display_data"
    },
    {
     "data": {
      "text/markdown": [
       "##### **Station Activation Date**"
      ]
     },
     "metadata": {},
     "output_type": "display_data"
    },
    {
     "data": {
      "text/markdown": [
       "2020-09-17 15:38:10, 2020-09-17 15:35:51, 2020-09-17 15:29:31, 2020-09-17 15:36:26, 2020-09-17 15:38:46, 2020-09-17 15:40:18, 2020-09-17 15:39:25, 2020-09-17 15:42:11, 2020-09-17 15:44:39, 2020-09-17 15:40:00, 2020-08-19 23:02:32, 2020-08-19 23:10:20, 2015-03-19 08:32:56, 2015-03-20 12:37:34, 2023-01-19 08:43:35, 2016-06-08 14:14:10, 2023-01-19 08:41:24, 2016-06-08 14:56:20, 2023-02-02 10:49:00, 2016-06-08 14:54:04, 2023-01-19 08:37:34, 2016-06-08 14:45:44, 2023-01-19 08:33:44, 2016-06-08 14:11:06, 2023-01-19 08:31:07, 2015-03-18 15:43:43, 2023-01-19 08:26:50, 2015-03-30 07:36:25, 2015-03-18 15:12:52, 2023-01-19 08:20:56, 2023-05-11 14:04:13, 2023-03-06 12:38:27, 2015-03-19 15:24:31, 2015-03-18 15:22:59, 2023-01-19 08:10:23, 2017-02-01 11:44:03, 2020-05-28 05:26:59, 2020-12-22 17:53:21, 2020-11-25 17:06:57, 2020-11-25 17:07:07, 2020-11-25 16:50:44, 2020-11-25 16:52:25, 2021-05-11 09:01:41, 2020-12-19 23:28:41, 2020-11-25 14:57:07, 2021-03-22 10:30:10, 2021-03-16 14:00:45, 2021-03-16 13:53:28, 2021-03-22 11:53:21, 2021-10-12 12:55:13, 2021-03-16 12:59:29, 2019-03-15 06:51:13, 2019-03-15 06:55:18, 2019-03-15 05:56:15, 2019-03-15 06:53:15, 2019-03-15 06:49:16, 2019-03-15 06:35:19, 2019-03-15 05:44:19, 2019-03-15 06:39:16, 2019-03-15 06:37:20, 2019-03-15 06:45:14, 2019-03-15 05:38:11, 2019-03-15 06:47:15, 2019-03-15 06:43:15, 2019-03-15 06:39:14, 2019-03-15 06:35:18, 2019-03-15 05:36:14, 2019-03-15 06:37:13, 2019-03-15 05:34:14, 2019-03-15 06:43:16, 2019-03-15 06:49:14, 2019-03-15 06:39:15, 2019-03-15 06:47:14, 2019-03-15 06:45:15, 2019-03-15 05:54:18, 2019-03-15 05:22:14, 2019-03-15 05:52:14, 2019-03-15 05:56:13, 2020-11-11 06:56:36, 2017-03-23 17:38:00, 2017-03-23 17:37:23, 2017-03-23 16:35:37, 2020-02-11 13:52:31, 2017-01-31 15:24:07, 2017-01-31 14:43:12, 2017-01-31 15:24:08, 2017-01-31 15:20:58, 2017-02-01 03:56:40, 2017-01-31 15:27:12, 2017-01-27 17:27:15, 2017-01-27 18:33:32, 2017-01-27 13:18:14, 2017-01-27 13:30:53, 2017-01-31 16:36:41, 2017-02-01 02:20:56, 2017-01-27 16:59:07, 2017-01-27 15:02:08, 2017-01-26 17:26:13, 2017-01-26 17:35:38, 2017-01-26 17:45:11, 2017-01-26 17:32:28, 2017-01-26 18:10:23, 2017-01-26 17:48:17, 2017-01-26 17:29:23, 2017-01-26 17:51:26, 2017-01-26 14:33:33, 2017-01-26 15:27:05, 2017-01-31 15:17:50, 2017-01-26 16:39:08"
      ]
     },
     "metadata": {},
     "output_type": "display_data"
    },
    {
     "data": {
      "text/markdown": [
       "##### **Warranty Expiration Date**"
      ]
     },
     "metadata": {},
     "output_type": "display_data"
    },
    {
     "data": {
      "text/markdown": [
       "2023-12-31, 2027-09-11, 2021-05-28, 2026-03-22, 2026-03-16, 2026-10-12, 2020-03-15, 2021-11-11, 2018-03-23, 2021-02-11"
      ]
     },
     "metadata": {},
     "output_type": "display_data"
    },
    {
     "data": {
      "text/markdown": [
       "##### **Warranty Service**"
      ]
     },
     "metadata": {},
     "output_type": "display_data"
    },
    {
     "data": {
      "text/markdown": [
       "Parts & Labor, Parts Only"
      ]
     },
     "metadata": {},
     "output_type": "display_data"
    },
    {
     "data": {
      "text/markdown": [
       "##### **Plug Type**"
      ]
     },
     "metadata": {},
     "output_type": "display_data"
    },
    {
     "data": {
      "text/markdown": [
       "J1772, CHAdeMO, Combo"
      ]
     },
     "metadata": {},
     "output_type": "display_data"
    },
    {
     "data": {
      "text/markdown": [
       "##### **Device Access Restriction**"
      ]
     },
     "metadata": {},
     "output_type": "display_data"
    },
    {
     "data": {
      "text/markdown": [
       "NONE"
      ]
     },
     "metadata": {},
     "output_type": "display_data"
    },
    {
     "data": {
      "text/markdown": [
       "##### **Waitlist Policy Name**"
      ]
     },
     "metadata": {},
     "output_type": "display_data"
    },
    {
     "data": {
      "text/markdown": []
     },
     "metadata": {},
     "output_type": "display_data"
    },
    {
     "data": {
      "text/markdown": [
       "##### **Asset Tag ID**"
      ]
     },
     "metadata": {},
     "output_type": "display_data"
    },
    {
     "data": {
      "text/markdown": [
       "152541002783, 152741003076, 152741003072, 152741003068, 152741003081, 152741003082, 152541002779, 152541002807, 162841003554, 152541002762, 152741003077, 152741003079, 162741003546, 152641002898, 152741003088, 152541002775, 152541002778, 152641002895, 152541002782, 152741003075, 155141008435, 162841003560"
      ]
     },
     "metadata": {},
     "output_type": "display_data"
    },
    {
     "data": {
      "text/markdown": [
       "##### **Meter ID**"
      ]
     },
     "metadata": {},
     "output_type": "display_data"
    },
    {
     "data": {
      "text/markdown": [
       "SN152741003067"
      ]
     },
     "metadata": {},
     "output_type": "display_data"
    },
    {
     "data": {
      "text/markdown": [
       "##### **Service Delivery Point ID**"
      ]
     },
     "metadata": {},
     "output_type": "display_data"
    },
    {
     "data": {
      "text/markdown": []
     },
     "metadata": {},
     "output_type": "display_data"
    },
    {
     "data": {
      "text/markdown": [
       "##### **Point of Service ID**"
      ]
     },
     "metadata": {},
     "output_type": "display_data"
    },
    {
     "data": {
      "text/markdown": []
     },
     "metadata": {},
     "output_type": "display_data"
    },
    {
     "data": {
      "text/markdown": [
       "##### **Account ID**"
      ]
     },
     "metadata": {},
     "output_type": "display_data"
    },
    {
     "data": {
      "text/markdown": []
     },
     "metadata": {},
     "output_type": "display_data"
    },
    {
     "data": {
      "text/markdown": [
       "##### **Circuit ID**"
      ]
     },
     "metadata": {},
     "output_type": "display_data"
    },
    {
     "data": {
      "text/markdown": []
     },
     "metadata": {},
     "output_type": "display_data"
    },
    {
     "data": {
      "text/markdown": [
       "##### **Panel ID**"
      ]
     },
     "metadata": {},
     "output_type": "display_data"
    },
    {
     "data": {
      "text/markdown": []
     },
     "metadata": {},
     "output_type": "display_data"
    },
    {
     "data": {
      "text/markdown": [
       "##### **Customer Name**"
      ]
     },
     "metadata": {},
     "output_type": "display_data"
    },
    {
     "data": {
      "text/markdown": [
       "Stanford Parking & Transportation Services, ABM Electrical & Lighting Solutions, LLC (SoCal), Oak Park Unified School District, The Board of Trustees of The Leland Stanford Junior University, Stanford University"
      ]
     },
     "metadata": {},
     "output_type": "display_data"
    },
    {
     "data": {
      "text/markdown": [
       "##### **Customer ID**"
      ]
     },
     "metadata": {},
     "output_type": "display_data"
    },
    {
     "data": {
      "text/markdown": [
       "0014000000wFNW2, 0014000000aMh42, 0014000000gHPcz, 0014000000kfOC5"
      ]
     },
     "metadata": {},
     "output_type": "display_data"
    },
    {
     "data": {
      "text/markdown": [
       "##### **Site ID**"
      ]
     },
     "metadata": {},
     "output_type": "display_data"
    },
    {
     "data": {
      "text/markdown": []
     },
     "metadata": {},
     "output_type": "display_data"
    },
    {
     "data": {
      "text/markdown": [
       "##### **Site mode**"
      ]
     },
     "metadata": {},
     "output_type": "display_data"
    },
    {
     "data": {
      "text/markdown": []
     },
     "metadata": {},
     "output_type": "display_data"
    },
    {
     "data": {
      "text/markdown": [
       "##### **Site Validation Status**"
      ]
     },
     "metadata": {},
     "output_type": "display_data"
    },
    {
     "data": {
      "text/markdown": [
       "Validated, Not Validated"
      ]
     },
     "metadata": {},
     "output_type": "display_data"
    },
    {
     "data": {
      "text/markdown": [
       "##### **Paired**"
      ]
     },
     "metadata": {},
     "output_type": "display_data"
    },
    {
     "data": {
      "text/markdown": [
       "No"
      ]
     },
     "metadata": {},
     "output_type": "display_data"
    },
    {
     "data": {
      "text/markdown": [
       "##### **Latitude**"
      ]
     },
     "metadata": {},
     "output_type": "display_data"
    },
    {
     "data": {
      "text/markdown": [
       "37.426793659810016, 37.42680510868808, 37.42783416929919, 37.426802179905486, 37.4268107, 37.426785139713566, 37.4278075443645, 37.4278757041782, 37.43220734102387, 37.432241418935455, 37.45041, 37.43171044847697, 37.450394, 37.43175282649997, 37.45039733830973, 37.431757357410085, 37.45037, 37.43174023441741, 37.43175217797956, 37.4503876418016, 37.43187166339748, 37.450404144282025, 37.4235392953854, 37.43193981951077, 37.450413, 37.450653, 37.450396159211294, 37.42353031813845, 37.43199093655503, 37.42621544618659, 37.42925895023151, 37.42546342823224, 37.42563276795673, 37.42566152372096, 37.42562249843807, 37.42558910177513, 37.42552093987972, 37.425431477297856, 37.425595491949615, 37.43758993277954, 37.43994537522589, 37.437244799999995, 37.44008806162375, 37.440014588811074, 37.43996028277272, 37.483830085831535, 37.48380241662368, 37.48377900420903, 37.483708766921104, 37.483685354477096, 37.48385881922885, 37.4837598485916, 37.48374069296927, 37.483682161870526, 37.48382928768144, 37.4836513, 37.4837279225516, 37.483678969263806, 37.48382582903098, 37.483760912792704, 37.48375239918352, 37.48371408793006, 37.48384553997287, 37.48387691062148, 37.483716216333534, 37.483693069942404, 37.483680565567184, 37.48365555681048, 37.48380454502468, 37.483723665745266, 37.48365412633115, 37.48465735481143, 37.4846431782048, 37.4849383, 37.48494042836861, 37.484929786524965, 37.426269408993285, 37.426286449302594, 37.42632052990961, 37.426363130646514, 37.42638869107704, 37.42643129177518, 37.426439811911905, 37.426329050058925, 37.42631200975929, 37.42620976788015, 37.42622680820304, 37.426448332047634, 37.42632368474175, 37.42649998495956, 37.426465904434274, 37.426435544044864, 37.4264255395908, 37.42678556649676, 37.42639846349808, 37.426411897405714, 37.42634876198768, 37.426527734861885, 37.42647208247871, 37.426317033400885, 37.426334040085905"
      ]
     },
     "metadata": {},
     "output_type": "display_data"
    },
    {
     "data": {
      "text/markdown": [
       "##### **Longitude**"
      ]
     },
     "metadata": {},
     "output_type": "display_data"
    },
    {
     "data": {
      "text/markdown": [
       "-122.1592395153442, -122.15920263497024, -122.15657205847889, -122.15917514232784, -122.1591858711639, -122.1591322269836, -122.15916441349178, -122.15919659999996, -122.15915368465572, -122.15660022167354, -122.15649293331296, -122.16329689629517, -122.1632325232788, -122.177246, -122.1828376358759, -122.17716, -122.18284779288138, -122.17725536441804, -122.18285127986668, -122.17628, -122.18283775917509, -122.17633, -122.18286498364182, -122.17729425644876, -122.1826917650818, -122.17726810491084, -122.17110856613158, -122.18259520555728, -122.17723, -122.17668, -122.17727013988112, -122.17105130926204, -122.18247718836062, -122.17725, -122.17528922540896, -122.1844759464882, -122.15975492268448, -122.159489383992, -122.15954705148584, -122.15954674077344, -122.15958057909852, -122.15980588465575, -122.15982197790986, -122.15962885886078, -122.1714015910874, -122.17132815833588, -122.1716781, -122.1711511325409, -122.17118331904908, -122.17122623439332, -122.20392049695892, -122.20392586137694, -122.20395000125808, -122.20398486997529, -122.20401705648344, -122.20390306260032, -122.20396877672118, -122.20397682334824, -122.2040090098564, -122.20393357272786, -122.2037542, -122.2039915754978, -122.2040251031105, -122.2039164736454, -122.20396475340766, -122.20398755218427, -122.20399425770682, -122.20391669583968, -122.2038842871372, -122.2040063276474, -122.2040200739686, -122.20403113808078, -122.20404253746908, -122.20393122579496, -122.20393927242202, -122.20398218776626, -122.20403712440223, -122.20684677486878, -122.20742303177298, -122.2067073, -122.20677167301636, -122.20657855396728, -122.17548427354126, -122.17554864655762, -122.17566666375428, -122.17574176560667, -122.1758168674591, -122.17590269814758, -122.1759778, -122.17605290185242, -122.17551646004944, -122.17561301957396, -122.17535552750854, -122.17538771401672, -122.17614946137697, -122.17543473729552, -122.1761681952454, -122.17600726270445, -122.17591751852416, -122.17584955714722, -122.17600974127812, -122.17572525714723, -122.17569146903384, -122.17561776455688, -122.17609522209004, -122.17608156085204, -122.17560433068849, -122.17557698584444"
      ]
     },
     "metadata": {},
     "output_type": "display_data"
    }
   ],
   "source": [
    "print_md(\"#### **General Information**\")\n",
    "print_md(f\"**Number of Rows:** {len(station_overview)}\")\n",
    "print_md(f\"**Columns:** {', '.join(station_overview.columns)}\")\n",
    "\n",
    "print_md(\"#### **Unique Column Values**\")\n",
    "for column in station_overview.columns:\n",
    "    unique_column_values = \", \".join(filter(None, map(str, list(station_overview[column].unique()))))\n",
    "    print_md(f\"##### **{column.strip()}**\")\n",
    "    print_md(unique_column_values)"
   ]
  },
  {
   "cell_type": "markdown",
   "metadata": {},
   "source": [
    "### **Station and Port Status**"
   ]
  },
  {
   "cell_type": "code",
   "execution_count": 80,
   "metadata": {},
   "outputs": [
    {
     "data": {
      "text/markdown": [
       "**Number of Stations:** 109"
      ]
     },
     "metadata": {},
     "output_type": "display_data"
    },
    {
     "data": {
      "text/markdown": [
       "**Number of Ports:** 205"
      ]
     },
     "metadata": {},
     "output_type": "display_data"
    },
    {
     "data": {
      "text/markdown": [
       "#### **Station Count by Status**"
      ]
     },
     "metadata": {},
     "output_type": "display_data"
    },
    {
     "data": {
      "text/html": [
       "<div>\n",
       "<style scoped>\n",
       "    .dataframe tbody tr th:only-of-type {\n",
       "        vertical-align: middle;\n",
       "    }\n",
       "\n",
       "    .dataframe tbody tr th {\n",
       "        vertical-align: top;\n",
       "    }\n",
       "\n",
       "    .dataframe thead th {\n",
       "        text-align: right;\n",
       "    }\n",
       "</style>\n",
       "<table border=\"1\" class=\"dataframe\">\n",
       "  <thead>\n",
       "    <tr style=\"text-align: right;\">\n",
       "      <th></th>\n",
       "      <th>count</th>\n",
       "    </tr>\n",
       "    <tr>\n",
       "      <th>Station Status</th>\n",
       "      <th></th>\n",
       "    </tr>\n",
       "  </thead>\n",
       "  <tbody>\n",
       "    <tr>\n",
       "      <th>Available</th>\n",
       "      <td>88</td>\n",
       "    </tr>\n",
       "    <tr>\n",
       "      <th>Watch List</th>\n",
       "      <td>11</td>\n",
       "    </tr>\n",
       "    <tr>\n",
       "      <th>Needs Service</th>\n",
       "      <td>7</td>\n",
       "    </tr>\n",
       "    <tr>\n",
       "      <th>Inuse</th>\n",
       "      <td>3</td>\n",
       "    </tr>\n",
       "  </tbody>\n",
       "</table>\n",
       "</div>"
      ],
      "text/plain": [
       "                count\n",
       "Station Status       \n",
       "Available          88\n",
       "Watch List         11\n",
       "Needs Service       7\n",
       "Inuse               3"
      ]
     },
     "metadata": {},
     "output_type": "display_data"
    },
    {
     "data": {
      "text/markdown": [
       "**Stations Needing Service or on Watch List:** 18 (16.51%)"
      ]
     },
     "metadata": {},
     "output_type": "display_data"
    },
    {
     "data": {
      "text/markdown": [
       "#### **Port Count by Status**"
      ]
     },
     "metadata": {},
     "output_type": "display_data"
    },
    {
     "data": {
      "text/html": [
       "<div>\n",
       "<style scoped>\n",
       "    .dataframe tbody tr th:only-of-type {\n",
       "        vertical-align: middle;\n",
       "    }\n",
       "\n",
       "    .dataframe tbody tr th {\n",
       "        vertical-align: top;\n",
       "    }\n",
       "\n",
       "    .dataframe thead th {\n",
       "        text-align: right;\n",
       "    }\n",
       "</style>\n",
       "<table border=\"1\" class=\"dataframe\">\n",
       "  <thead>\n",
       "    <tr style=\"text-align: right;\">\n",
       "      <th></th>\n",
       "      <th>count</th>\n",
       "    </tr>\n",
       "    <tr>\n",
       "      <th>value</th>\n",
       "      <th></th>\n",
       "    </tr>\n",
       "  </thead>\n",
       "  <tbody>\n",
       "    <tr>\n",
       "      <th>Available</th>\n",
       "      <td>144</td>\n",
       "    </tr>\n",
       "    <tr>\n",
       "      <th>In Use</th>\n",
       "      <td>31</td>\n",
       "    </tr>\n",
       "    <tr>\n",
       "      <th>Watch List</th>\n",
       "      <td>22</td>\n",
       "    </tr>\n",
       "    <tr>\n",
       "      <th>Needs Service</th>\n",
       "      <td>8</td>\n",
       "    </tr>\n",
       "  </tbody>\n",
       "</table>\n",
       "</div>"
      ],
      "text/plain": [
       "               count\n",
       "value               \n",
       "Available        144\n",
       "In Use            31\n",
       "Watch List        22\n",
       "Needs Service      8"
      ]
     },
     "metadata": {},
     "output_type": "display_data"
    },
    {
     "data": {
      "text/markdown": [
       "**Ports Needing Service or on Watch List:** 30 (14.63%)"
      ]
     },
     "metadata": {},
     "output_type": "display_data"
    }
   ],
   "source": [
    "num_stations = len(station_overview)\n",
    "num_ports = station_overview[\"No. of Ports\"].sum()\n",
    "\n",
    "print_md(f\"**Number of Stations:** {num_stations}\")\n",
    "print_md(f\"**Number of Ports:** {num_ports}\")\n",
    "\n",
    "print_md(\"#### **Station Count by Status**\")\n",
    "station_status_counts = station_overview.value_counts(\"Station Status\")\n",
    "assert num_stations == station_status_counts.sum()\n",
    "display(station_status_counts.to_frame())\n",
    "\n",
    "num_stations_need_service_or_watch_list = station_status_counts.loc[[\"Watch List\", \"Needs Service\"]].sum()\n",
    "percent_stations_need_service_or_watch_list = round(num_stations_need_service_or_watch_list / num_stations * 100, 2)\n",
    "print_md(f\"**Stations Needing Service or on Watch List:** {num_stations_need_service_or_watch_list} ({percent_stations_need_service_or_watch_list}%)\")\n",
    "\n",
    "print_md(\"#### **Port Count by Status**\")\n",
    "port_status_counts = station_overview[[\"Port 1 Status\", \"Port 2 Status\"]].melt()[\"value\"].value_counts().drop(\"\")\n",
    "assert num_ports == port_status_counts.sum()\n",
    "display(port_status_counts.to_frame())\n",
    "\n",
    "num_ports_need_service_or_watch_list = port_status_counts.loc[[\"Watch List\", \"Needs Service\"]].sum()\n",
    "percent_ports_need_service_or_watch_list = round(num_ports_need_service_or_watch_list / num_ports * 100, 2)\n",
    "print_md(f\"**Ports Needing Service or on Watch List:** {num_ports_need_service_or_watch_list} ({percent_ports_need_service_or_watch_list}%)\")"
   ]
  },
  {
   "cell_type": "markdown",
   "metadata": {},
   "source": [
    "### **Alarms**"
   ]
  },
  {
   "cell_type": "code",
   "execution_count": 81,
   "metadata": {},
   "outputs": [
    {
     "data": {
      "text/markdown": [
       "#### **Troubled Stations (Watch List or Needs Service)**"
      ]
     },
     "metadata": {},
     "output_type": "display_data"
    },
    {
     "data": {
      "text/html": [
       "<div>\n",
       "<style scoped>\n",
       "    .dataframe tbody tr th:only-of-type {\n",
       "        vertical-align: middle;\n",
       "    }\n",
       "\n",
       "    .dataframe tbody tr th {\n",
       "        vertical-align: top;\n",
       "    }\n",
       "\n",
       "    .dataframe thead th {\n",
       "        text-align: right;\n",
       "    }\n",
       "</style>\n",
       "<table border=\"1\" class=\"dataframe\">\n",
       "  <thead>\n",
       "    <tr style=\"text-align: right;\">\n",
       "      <th></th>\n",
       "      <th>Model Number</th>\n",
       "      <th>Station Name</th>\n",
       "      <th>Org Name</th>\n",
       "      <th>MAC Address</th>\n",
       "      <th>System S/N</th>\n",
       "      <th>Address 1</th>\n",
       "      <th>Address 2</th>\n",
       "      <th>Floor Label</th>\n",
       "      <th>City</th>\n",
       "      <th>State</th>\n",
       "      <th>Zip/Postal Code</th>\n",
       "      <th>County</th>\n",
       "      <th>Country</th>\n",
       "      <th>Activation Status</th>\n",
       "      <th>Network Status</th>\n",
       "      <th>Station Status</th>\n",
       "      <th>Port 1 Status</th>\n",
       "      <th>Port 2 Status</th>\n",
       "      <th>No. of Ports</th>\n",
       "      <th>Pricing Policy Name</th>\n",
       "      <th>Reservations</th>\n",
       "      <th>Station Message</th>\n",
       "      <th>Enabled</th>\n",
       "      <th>Station Activation Type</th>\n",
       "      <th>Usable By</th>\n",
       "      <th>Visibility (Access Policy Name)</th>\n",
       "      <th>EVSE ID</th>\n",
       "      <th>Radio Group Name</th>\n",
       "      <th>Software Version</th>\n",
       "      <th>Customer Category</th>\n",
       "      <th>Customer Subcategory</th>\n",
       "      <th>Circuit Sharing</th>\n",
       "      <th>Currency Name</th>\n",
       "      <th>Power Select / AC Breaker Rating</th>\n",
       "      <th>Scheduled Charging Policy Name</th>\n",
       "      <th>Warranty</th>\n",
       "      <th>Station Activation Date</th>\n",
       "      <th>Warranty Expiration Date</th>\n",
       "      <th>Warranty Service</th>\n",
       "      <th>Plug Type</th>\n",
       "      <th>Device Access Restriction</th>\n",
       "      <th>Waitlist Policy Name</th>\n",
       "      <th>Asset Tag ID</th>\n",
       "      <th>Meter ID</th>\n",
       "      <th>Service Delivery Point ID</th>\n",
       "      <th>Point of Service ID</th>\n",
       "      <th>Account ID</th>\n",
       "      <th>Circuit ID</th>\n",
       "      <th>Panel ID</th>\n",
       "      <th>Customer Name</th>\n",
       "      <th>Customer ID</th>\n",
       "      <th>Site ID</th>\n",
       "      <th>Site mode</th>\n",
       "      <th>Site Validation Status</th>\n",
       "      <th>Paired</th>\n",
       "      <th>Latitude</th>\n",
       "      <th>Longitude</th>\n",
       "    </tr>\n",
       "  </thead>\n",
       "  <tbody>\n",
       "    <tr>\n",
       "      <th>0</th>\n",
       "      <td>CT4020-HD</td>\n",
       "      <td>STANFORD / THO NGW-B5</td>\n",
       "      <td>Stanford University</td>\n",
       "      <td>0024:B100:0003:12F8</td>\n",
       "      <td>184141024581</td>\n",
       "      <td>740 Serra St</td>\n",
       "      <td></td>\n",
       "      <td></td>\n",
       "      <td>Stanford</td>\n",
       "      <td>California</td>\n",
       "      <td>94305</td>\n",
       "      <td>Santa Clara County</td>\n",
       "      <td>United States</td>\n",
       "      <td>Activated</td>\n",
       "      <td>Unreachable</td>\n",
       "      <td>Watch List</td>\n",
       "      <td>Watch List</td>\n",
       "      <td>Watch List</td>\n",
       "      <td>2</td>\n",
       "      <td>$1 per hr enforcement hours</td>\n",
       "      <td>Disabled</td>\n",
       "      <td>Plugged In Required</td>\n",
       "      <td>Yes</td>\n",
       "      <td>Public</td>\n",
       "      <td>All Drivers</td>\n",
       "      <td>No Drivers</td>\n",
       "      <td>1942901</td>\n",
       "      <td>RG-GW1</td>\n",
       "      <td>4.6.0.46</td>\n",
       "      <td>Education</td>\n",
       "      <td>University / College</td>\n",
       "      <td>Disabled</td>\n",
       "      <td>U.S. Dollars (USD)</td>\n",
       "      <td></td>\n",
       "      <td></td>\n",
       "      <td>ChargePoint Assure</td>\n",
       "      <td>2020-09-17 15:38:10</td>\n",
       "      <td>2023-12-31</td>\n",
       "      <td>Parts &amp; Labor</td>\n",
       "      <td>J1772</td>\n",
       "      <td>NONE</td>\n",
       "      <td></td>\n",
       "      <td></td>\n",
       "      <td></td>\n",
       "      <td></td>\n",
       "      <td></td>\n",
       "      <td></td>\n",
       "      <td></td>\n",
       "      <td></td>\n",
       "      <td></td>\n",
       "      <td></td>\n",
       "      <td></td>\n",
       "      <td></td>\n",
       "      <td>Validated</td>\n",
       "      <td>No</td>\n",
       "      <td>37.426794</td>\n",
       "      <td>-122.159240</td>\n",
       "    </tr>\n",
       "    <tr>\n",
       "      <th>1</th>\n",
       "      <td>CT4020-HD</td>\n",
       "      <td>STANFORD / THO NGW-B4</td>\n",
       "      <td>Stanford University</td>\n",
       "      <td>0024:B100:0003:130F</td>\n",
       "      <td>184141024600</td>\n",
       "      <td>740 Serra St</td>\n",
       "      <td></td>\n",
       "      <td></td>\n",
       "      <td>Stanford</td>\n",
       "      <td>California</td>\n",
       "      <td>94305</td>\n",
       "      <td>Santa Clara County</td>\n",
       "      <td>United States</td>\n",
       "      <td>Activated</td>\n",
       "      <td>Unreachable</td>\n",
       "      <td>Watch List</td>\n",
       "      <td>Watch List</td>\n",
       "      <td>Watch List</td>\n",
       "      <td>2</td>\n",
       "      <td>$1 per hr enforcement hours</td>\n",
       "      <td>Disabled</td>\n",
       "      <td>Plugged In Required</td>\n",
       "      <td>Yes</td>\n",
       "      <td>Public</td>\n",
       "      <td>All Drivers</td>\n",
       "      <td>No Drivers</td>\n",
       "      <td>1942891</td>\n",
       "      <td>RG-GW1</td>\n",
       "      <td>4.6.0.46</td>\n",
       "      <td>Education</td>\n",
       "      <td>University / College</td>\n",
       "      <td>Disabled</td>\n",
       "      <td>U.S. Dollars (USD)</td>\n",
       "      <td></td>\n",
       "      <td></td>\n",
       "      <td>ChargePoint Assure</td>\n",
       "      <td>2020-09-17 15:35:51</td>\n",
       "      <td>2023-12-31</td>\n",
       "      <td>Parts &amp; Labor</td>\n",
       "      <td>J1772</td>\n",
       "      <td>NONE</td>\n",
       "      <td></td>\n",
       "      <td></td>\n",
       "      <td></td>\n",
       "      <td></td>\n",
       "      <td></td>\n",
       "      <td></td>\n",
       "      <td></td>\n",
       "      <td></td>\n",
       "      <td></td>\n",
       "      <td></td>\n",
       "      <td></td>\n",
       "      <td></td>\n",
       "      <td>Validated</td>\n",
       "      <td>No</td>\n",
       "      <td>37.426805</td>\n",
       "      <td>-122.159203</td>\n",
       "    </tr>\n",
       "    <tr>\n",
       "      <th>2</th>\n",
       "      <td>CT4020-HD</td>\n",
       "      <td>STANFORD / THO NGW-B3</td>\n",
       "      <td>Stanford University</td>\n",
       "      <td>0024:B100:0003:12EE</td>\n",
       "      <td>184141024577</td>\n",
       "      <td>740 Serra St</td>\n",
       "      <td></td>\n",
       "      <td></td>\n",
       "      <td>Stanford</td>\n",
       "      <td>California</td>\n",
       "      <td>94305</td>\n",
       "      <td>Santa Clara County</td>\n",
       "      <td>United States</td>\n",
       "      <td>Activated</td>\n",
       "      <td>Unreachable</td>\n",
       "      <td>Watch List</td>\n",
       "      <td>Watch List</td>\n",
       "      <td>Watch List</td>\n",
       "      <td>2</td>\n",
       "      <td>$1 per hr enforcement hours</td>\n",
       "      <td>Disabled</td>\n",
       "      <td>Plugged In Required</td>\n",
       "      <td>Yes</td>\n",
       "      <td>Public</td>\n",
       "      <td>All Drivers</td>\n",
       "      <td>No Drivers</td>\n",
       "      <td>1942871</td>\n",
       "      <td>RG-GW1</td>\n",
       "      <td>4.6.0.46</td>\n",
       "      <td>Education</td>\n",
       "      <td>University / College</td>\n",
       "      <td>Disabled</td>\n",
       "      <td>U.S. Dollars (USD)</td>\n",
       "      <td></td>\n",
       "      <td></td>\n",
       "      <td>ChargePoint Assure</td>\n",
       "      <td>2020-09-17 15:29:31</td>\n",
       "      <td>2023-12-31</td>\n",
       "      <td>Parts &amp; Labor</td>\n",
       "      <td>J1772</td>\n",
       "      <td>NONE</td>\n",
       "      <td></td>\n",
       "      <td></td>\n",
       "      <td></td>\n",
       "      <td></td>\n",
       "      <td></td>\n",
       "      <td></td>\n",
       "      <td></td>\n",
       "      <td></td>\n",
       "      <td></td>\n",
       "      <td></td>\n",
       "      <td></td>\n",
       "      <td></td>\n",
       "      <td>Validated</td>\n",
       "      <td>No</td>\n",
       "      <td>37.427834</td>\n",
       "      <td>-122.156572</td>\n",
       "    </tr>\n",
       "    <tr>\n",
       "      <th>3</th>\n",
       "      <td>CT4020-HD</td>\n",
       "      <td>STANFORD / THO NGW-B2</td>\n",
       "      <td>Stanford University</td>\n",
       "      <td>0024:B100:0003:12F1</td>\n",
       "      <td>184141024593</td>\n",
       "      <td>740 Serra St</td>\n",
       "      <td></td>\n",
       "      <td></td>\n",
       "      <td>Stanford</td>\n",
       "      <td>California</td>\n",
       "      <td>94305</td>\n",
       "      <td>Santa Clara County</td>\n",
       "      <td>United States</td>\n",
       "      <td>Activated</td>\n",
       "      <td>Unreachable</td>\n",
       "      <td>Watch List</td>\n",
       "      <td>Watch List</td>\n",
       "      <td>Watch List</td>\n",
       "      <td>2</td>\n",
       "      <td>$1 per hr enforcement hours</td>\n",
       "      <td>Disabled</td>\n",
       "      <td>Plugged In Required</td>\n",
       "      <td>Yes</td>\n",
       "      <td>Public</td>\n",
       "      <td>All Drivers</td>\n",
       "      <td>No Drivers</td>\n",
       "      <td>1942831</td>\n",
       "      <td>RG-GW1</td>\n",
       "      <td>4.6.0.46</td>\n",
       "      <td>Education</td>\n",
       "      <td>University / College</td>\n",
       "      <td>Disabled</td>\n",
       "      <td>U.S. Dollars (USD)</td>\n",
       "      <td></td>\n",
       "      <td></td>\n",
       "      <td>ChargePoint Assure</td>\n",
       "      <td>2020-09-17 15:36:26</td>\n",
       "      <td>2023-12-31</td>\n",
       "      <td>Parts &amp; Labor</td>\n",
       "      <td>J1772</td>\n",
       "      <td>NONE</td>\n",
       "      <td></td>\n",
       "      <td></td>\n",
       "      <td></td>\n",
       "      <td></td>\n",
       "      <td></td>\n",
       "      <td></td>\n",
       "      <td></td>\n",
       "      <td></td>\n",
       "      <td></td>\n",
       "      <td></td>\n",
       "      <td></td>\n",
       "      <td></td>\n",
       "      <td>Validated</td>\n",
       "      <td>No</td>\n",
       "      <td>37.426802</td>\n",
       "      <td>-122.159175</td>\n",
       "    </tr>\n",
       "    <tr>\n",
       "      <th>4</th>\n",
       "      <td>CT4020-HD</td>\n",
       "      <td>STANFORD / THO NGW-B1</td>\n",
       "      <td>Stanford University</td>\n",
       "      <td>0024:B100:0003:12D9</td>\n",
       "      <td>184141024567</td>\n",
       "      <td>740 Serra St</td>\n",
       "      <td></td>\n",
       "      <td></td>\n",
       "      <td>Stanford</td>\n",
       "      <td>California</td>\n",
       "      <td>94305</td>\n",
       "      <td></td>\n",
       "      <td>United States</td>\n",
       "      <td>Activated</td>\n",
       "      <td>Unreachable</td>\n",
       "      <td>Watch List</td>\n",
       "      <td>Watch List</td>\n",
       "      <td>Watch List</td>\n",
       "      <td>2</td>\n",
       "      <td>$1 per hr enforcement hours</td>\n",
       "      <td>Disabled</td>\n",
       "      <td>Plugged In Required</td>\n",
       "      <td>Yes</td>\n",
       "      <td>Public</td>\n",
       "      <td>All Drivers</td>\n",
       "      <td>No Drivers</td>\n",
       "      <td>1942771</td>\n",
       "      <td>RG-GW1</td>\n",
       "      <td>4.6.0.46</td>\n",
       "      <td>Education</td>\n",
       "      <td>University / College</td>\n",
       "      <td>Disabled</td>\n",
       "      <td>U.S. Dollars (USD)</td>\n",
       "      <td></td>\n",
       "      <td></td>\n",
       "      <td>ChargePoint Assure</td>\n",
       "      <td>2020-09-17 15:38:46</td>\n",
       "      <td>2023-12-31</td>\n",
       "      <td>Parts &amp; Labor</td>\n",
       "      <td>J1772</td>\n",
       "      <td>NONE</td>\n",
       "      <td></td>\n",
       "      <td></td>\n",
       "      <td></td>\n",
       "      <td></td>\n",
       "      <td></td>\n",
       "      <td></td>\n",
       "      <td></td>\n",
       "      <td></td>\n",
       "      <td></td>\n",
       "      <td></td>\n",
       "      <td></td>\n",
       "      <td></td>\n",
       "      <td>Validated</td>\n",
       "      <td>No</td>\n",
       "      <td>37.426811</td>\n",
       "      <td>-122.159186</td>\n",
       "    </tr>\n",
       "    <tr>\n",
       "      <th>5</th>\n",
       "      <td>CT4020-HD</td>\n",
       "      <td>STANFORD / THO NGW-A5 ADA</td>\n",
       "      <td>Stanford University</td>\n",
       "      <td>0024:B100:0003:1318</td>\n",
       "      <td>184141024610</td>\n",
       "      <td>740 Serra St</td>\n",
       "      <td></td>\n",
       "      <td></td>\n",
       "      <td>Stanford</td>\n",
       "      <td>California</td>\n",
       "      <td>94305</td>\n",
       "      <td>Santa Clara County</td>\n",
       "      <td>United States</td>\n",
       "      <td>Activated</td>\n",
       "      <td>Unreachable</td>\n",
       "      <td>Watch List</td>\n",
       "      <td>Watch List</td>\n",
       "      <td>Watch List</td>\n",
       "      <td>2</td>\n",
       "      <td>$1 per hr enforcement hours</td>\n",
       "      <td>Disabled</td>\n",
       "      <td>Plugged In Required</td>\n",
       "      <td>Yes</td>\n",
       "      <td>Public</td>\n",
       "      <td>All Drivers</td>\n",
       "      <td>No Drivers</td>\n",
       "      <td>1943001</td>\n",
       "      <td>RG-GW2</td>\n",
       "      <td>4.6.0.46</td>\n",
       "      <td>Education</td>\n",
       "      <td>University / College</td>\n",
       "      <td>Disabled</td>\n",
       "      <td>U.S. Dollars (USD)</td>\n",
       "      <td></td>\n",
       "      <td></td>\n",
       "      <td>ChargePoint Assure</td>\n",
       "      <td>2020-09-17 15:40:18</td>\n",
       "      <td>2023-12-31</td>\n",
       "      <td>Parts &amp; Labor</td>\n",
       "      <td>J1772</td>\n",
       "      <td>NONE</td>\n",
       "      <td></td>\n",
       "      <td></td>\n",
       "      <td></td>\n",
       "      <td></td>\n",
       "      <td></td>\n",
       "      <td></td>\n",
       "      <td></td>\n",
       "      <td></td>\n",
       "      <td></td>\n",
       "      <td></td>\n",
       "      <td></td>\n",
       "      <td></td>\n",
       "      <td>Validated</td>\n",
       "      <td>No</td>\n",
       "      <td>37.426802</td>\n",
       "      <td>-122.159132</td>\n",
       "    </tr>\n",
       "    <tr>\n",
       "      <th>7</th>\n",
       "      <td>CT4020-HD</td>\n",
       "      <td>STANFORD / THO NGW-A3</td>\n",
       "      <td>Stanford University</td>\n",
       "      <td>0024:B100:0003:130E</td>\n",
       "      <td>184141024588</td>\n",
       "      <td>740 Serra St</td>\n",
       "      <td></td>\n",
       "      <td></td>\n",
       "      <td>Stanford</td>\n",
       "      <td>California</td>\n",
       "      <td>94305</td>\n",
       "      <td>Santa Clara County</td>\n",
       "      <td>United States</td>\n",
       "      <td>Activated</td>\n",
       "      <td>Unreachable</td>\n",
       "      <td>Watch List</td>\n",
       "      <td>Watch List</td>\n",
       "      <td>Watch List</td>\n",
       "      <td>2</td>\n",
       "      <td>$1 per hr enforcement hours</td>\n",
       "      <td>Disabled</td>\n",
       "      <td>Plugged In Required</td>\n",
       "      <td>Yes</td>\n",
       "      <td>Public</td>\n",
       "      <td>All Drivers</td>\n",
       "      <td>No Drivers</td>\n",
       "      <td>1942961</td>\n",
       "      <td>RG-GW2</td>\n",
       "      <td>4.6.0.46</td>\n",
       "      <td>Education</td>\n",
       "      <td>University / College</td>\n",
       "      <td>Disabled</td>\n",
       "      <td>U.S. Dollars (USD)</td>\n",
       "      <td></td>\n",
       "      <td></td>\n",
       "      <td>ChargePoint Assure</td>\n",
       "      <td>2020-09-17 15:42:11</td>\n",
       "      <td>2023-12-31</td>\n",
       "      <td>Parts &amp; Labor</td>\n",
       "      <td>J1772</td>\n",
       "      <td>NONE</td>\n",
       "      <td></td>\n",
       "      <td></td>\n",
       "      <td></td>\n",
       "      <td></td>\n",
       "      <td></td>\n",
       "      <td></td>\n",
       "      <td></td>\n",
       "      <td></td>\n",
       "      <td></td>\n",
       "      <td></td>\n",
       "      <td></td>\n",
       "      <td></td>\n",
       "      <td>Validated</td>\n",
       "      <td>No</td>\n",
       "      <td>37.426811</td>\n",
       "      <td>-122.159164</td>\n",
       "    </tr>\n",
       "    <tr>\n",
       "      <th>9</th>\n",
       "      <td>CT4020-HD</td>\n",
       "      <td>STANFORD / THO NGW-A1</td>\n",
       "      <td>Stanford University</td>\n",
       "      <td>0024:B100:0003:12EB</td>\n",
       "      <td>184141024573</td>\n",
       "      <td>740 Serra St</td>\n",
       "      <td></td>\n",
       "      <td></td>\n",
       "      <td>Stanford</td>\n",
       "      <td>California</td>\n",
       "      <td>94305</td>\n",
       "      <td>Santa Clara County</td>\n",
       "      <td>United States</td>\n",
       "      <td>Activated</td>\n",
       "      <td>Unreachable</td>\n",
       "      <td>Watch List</td>\n",
       "      <td>Watch List</td>\n",
       "      <td>Watch List</td>\n",
       "      <td>2</td>\n",
       "      <td>$1 per hr enforcement hours</td>\n",
       "      <td>Disabled</td>\n",
       "      <td>Plugged In Required</td>\n",
       "      <td>Yes</td>\n",
       "      <td>Public</td>\n",
       "      <td>All Drivers</td>\n",
       "      <td>No Drivers</td>\n",
       "      <td>1942911</td>\n",
       "      <td>RG-GW2</td>\n",
       "      <td>4.6.0.46</td>\n",
       "      <td>Education</td>\n",
       "      <td>University / College</td>\n",
       "      <td>Disabled</td>\n",
       "      <td>U.S. Dollars (USD)</td>\n",
       "      <td></td>\n",
       "      <td></td>\n",
       "      <td>ChargePoint Assure</td>\n",
       "      <td>2020-09-17 15:40:00</td>\n",
       "      <td>2023-12-31</td>\n",
       "      <td>Parts &amp; Labor</td>\n",
       "      <td>J1772</td>\n",
       "      <td>NONE</td>\n",
       "      <td></td>\n",
       "      <td></td>\n",
       "      <td></td>\n",
       "      <td></td>\n",
       "      <td></td>\n",
       "      <td></td>\n",
       "      <td></td>\n",
       "      <td></td>\n",
       "      <td></td>\n",
       "      <td></td>\n",
       "      <td></td>\n",
       "      <td></td>\n",
       "      <td>Validated</td>\n",
       "      <td>No</td>\n",
       "      <td>37.426802</td>\n",
       "      <td>-122.159154</td>\n",
       "    </tr>\n",
       "    <tr>\n",
       "      <th>10</th>\n",
       "      <td>CT4020-HD-GW</td>\n",
       "      <td>STANFORD / THO GW-B</td>\n",
       "      <td>Stanford University</td>\n",
       "      <td>0024:B100:0003:2C1C</td>\n",
       "      <td>184841030920</td>\n",
       "      <td>740 Serra St</td>\n",
       "      <td></td>\n",
       "      <td></td>\n",
       "      <td>Stanford</td>\n",
       "      <td>California</td>\n",
       "      <td>94305</td>\n",
       "      <td>Santa Clara County</td>\n",
       "      <td>United States</td>\n",
       "      <td>Activated</td>\n",
       "      <td>Unreachable</td>\n",
       "      <td>Watch List</td>\n",
       "      <td>Watch List</td>\n",
       "      <td>Watch List</td>\n",
       "      <td>2</td>\n",
       "      <td>$1 per hr enforcement hours</td>\n",
       "      <td>Disabled</td>\n",
       "      <td>Plugged In Required</td>\n",
       "      <td>Yes</td>\n",
       "      <td>Public</td>\n",
       "      <td>All Drivers</td>\n",
       "      <td>All Drivers</td>\n",
       "      <td>715031</td>\n",
       "      <td>RG-GW1</td>\n",
       "      <td>4.6.0.46</td>\n",
       "      <td>Education</td>\n",
       "      <td>University / College</td>\n",
       "      <td>Disabled</td>\n",
       "      <td>U.S. Dollars (USD)</td>\n",
       "      <td>40A</td>\n",
       "      <td></td>\n",
       "      <td>ChargePoint Assure</td>\n",
       "      <td>2020-08-19 23:02:32</td>\n",
       "      <td>2023-12-31</td>\n",
       "      <td>Parts &amp; Labor</td>\n",
       "      <td>J1772</td>\n",
       "      <td>NONE</td>\n",
       "      <td></td>\n",
       "      <td></td>\n",
       "      <td></td>\n",
       "      <td></td>\n",
       "      <td></td>\n",
       "      <td></td>\n",
       "      <td></td>\n",
       "      <td></td>\n",
       "      <td></td>\n",
       "      <td></td>\n",
       "      <td></td>\n",
       "      <td></td>\n",
       "      <td>Validated</td>\n",
       "      <td>No</td>\n",
       "      <td>37.427808</td>\n",
       "      <td>-122.156600</td>\n",
       "    </tr>\n",
       "    <tr>\n",
       "      <th>11</th>\n",
       "      <td>CT4020-HD-GW</td>\n",
       "      <td>STANFORD / THO GW-A</td>\n",
       "      <td>Stanford University</td>\n",
       "      <td>0024:B100:0003:2A8C</td>\n",
       "      <td>184741030870</td>\n",
       "      <td>740 Serra St</td>\n",
       "      <td></td>\n",
       "      <td></td>\n",
       "      <td>Stanford</td>\n",
       "      <td>California</td>\n",
       "      <td>94305</td>\n",
       "      <td>Santa Clara County</td>\n",
       "      <td>United States</td>\n",
       "      <td>Activated</td>\n",
       "      <td>Unreachable</td>\n",
       "      <td>Watch List</td>\n",
       "      <td>Watch List</td>\n",
       "      <td>Watch List</td>\n",
       "      <td>2</td>\n",
       "      <td>$1 per hr enforcement hours</td>\n",
       "      <td>Disabled</td>\n",
       "      <td>Plugged In Required</td>\n",
       "      <td>Yes</td>\n",
       "      <td>Public</td>\n",
       "      <td>All Drivers</td>\n",
       "      <td>All Drivers</td>\n",
       "      <td>715051</td>\n",
       "      <td>RG-GW2</td>\n",
       "      <td>4.6.0.46</td>\n",
       "      <td>Education</td>\n",
       "      <td>University / College</td>\n",
       "      <td>Disabled</td>\n",
       "      <td>U.S. Dollars (USD)</td>\n",
       "      <td>40A</td>\n",
       "      <td></td>\n",
       "      <td>ChargePoint Assure</td>\n",
       "      <td>2020-08-19 23:10:20</td>\n",
       "      <td>2023-12-31</td>\n",
       "      <td>Parts &amp; Labor</td>\n",
       "      <td>J1772</td>\n",
       "      <td>NONE</td>\n",
       "      <td></td>\n",
       "      <td></td>\n",
       "      <td></td>\n",
       "      <td></td>\n",
       "      <td></td>\n",
       "      <td></td>\n",
       "      <td></td>\n",
       "      <td></td>\n",
       "      <td></td>\n",
       "      <td></td>\n",
       "      <td></td>\n",
       "      <td></td>\n",
       "      <td>Validated</td>\n",
       "      <td>No</td>\n",
       "      <td>37.427876</td>\n",
       "      <td>-122.156493</td>\n",
       "    </tr>\n",
       "    <tr>\n",
       "      <th>22</th>\n",
       "      <td>CT4020-HD-GW</td>\n",
       "      <td>STANFORD / STATION 5</td>\n",
       "      <td>Stanford University</td>\n",
       "      <td>0024:B100:0006:BD20</td>\n",
       "      <td>220141000714</td>\n",
       "      <td>400 El Camino Real</td>\n",
       "      <td></td>\n",
       "      <td></td>\n",
       "      <td>Menlo Park</td>\n",
       "      <td>California</td>\n",
       "      <td>94025</td>\n",
       "      <td>San Mateo County</td>\n",
       "      <td>United States</td>\n",
       "      <td>Activated</td>\n",
       "      <td>Reachable</td>\n",
       "      <td>Needs Service</td>\n",
       "      <td>Needs Service</td>\n",
       "      <td>Available</td>\n",
       "      <td>2</td>\n",
       "      <td>$1 per hr enforcement hours</td>\n",
       "      <td>Disabled</td>\n",
       "      <td></td>\n",
       "      <td>Yes</td>\n",
       "      <td>Public</td>\n",
       "      <td>All Drivers</td>\n",
       "      <td>All Drivers</td>\n",
       "      <td>13124771</td>\n",
       "      <td>GW 5</td>\n",
       "      <td>4.6.0.46</td>\n",
       "      <td>Workplace</td>\n",
       "      <td>General</td>\n",
       "      <td>Disabled</td>\n",
       "      <td>U.S. Dollars (USD)</td>\n",
       "      <td>40A</td>\n",
       "      <td></td>\n",
       "      <td>ChargePoint Assure</td>\n",
       "      <td>2023-01-19 08:33:44</td>\n",
       "      <td>2027-09-11</td>\n",
       "      <td>Parts Only</td>\n",
       "      <td>J1772</td>\n",
       "      <td>NONE</td>\n",
       "      <td></td>\n",
       "      <td></td>\n",
       "      <td></td>\n",
       "      <td></td>\n",
       "      <td></td>\n",
       "      <td></td>\n",
       "      <td></td>\n",
       "      <td></td>\n",
       "      <td></td>\n",
       "      <td></td>\n",
       "      <td></td>\n",
       "      <td></td>\n",
       "      <td>Not Validated</td>\n",
       "      <td>No</td>\n",
       "      <td>37.450394</td>\n",
       "      <td>-122.176330</td>\n",
       "    </tr>\n",
       "    <tr>\n",
       "      <th>61</th>\n",
       "      <td>CT4020-HD-GW</td>\n",
       "      <td>SRWC / RWC L3 3</td>\n",
       "      <td>Stanford University</td>\n",
       "      <td>0024:B100:0002:8E02</td>\n",
       "      <td>173541010298</td>\n",
       "      <td>2858 Bay Rd</td>\n",
       "      <td></td>\n",
       "      <td>L3</td>\n",
       "      <td>Redwood City</td>\n",
       "      <td>California</td>\n",
       "      <td>94063</td>\n",
       "      <td>San Mateo County</td>\n",
       "      <td>United States</td>\n",
       "      <td>Activated</td>\n",
       "      <td>Reachable</td>\n",
       "      <td>Needs Service</td>\n",
       "      <td>Needs Service</td>\n",
       "      <td>Needs Service</td>\n",
       "      <td>2</td>\n",
       "      <td>$1 per hr enforcement hours</td>\n",
       "      <td>Disabled</td>\n",
       "      <td>Plugged In Required</td>\n",
       "      <td>Yes</td>\n",
       "      <td>Public</td>\n",
       "      <td>All Drivers</td>\n",
       "      <td>All Drivers</td>\n",
       "      <td>246721</td>\n",
       "      <td>RWC L3</td>\n",
       "      <td>4.6.0.46</td>\n",
       "      <td>Education</td>\n",
       "      <td>University / College</td>\n",
       "      <td>Disabled</td>\n",
       "      <td>U.S. Dollars (USD)</td>\n",
       "      <td>40A</td>\n",
       "      <td></td>\n",
       "      <td>Standard Warranty</td>\n",
       "      <td>2019-03-15 05:38:11</td>\n",
       "      <td>2020-03-15</td>\n",
       "      <td></td>\n",
       "      <td>J1772</td>\n",
       "      <td>NONE</td>\n",
       "      <td></td>\n",
       "      <td></td>\n",
       "      <td></td>\n",
       "      <td></td>\n",
       "      <td></td>\n",
       "      <td></td>\n",
       "      <td></td>\n",
       "      <td></td>\n",
       "      <td>The Board of Trustees of The Leland Stanford J...</td>\n",
       "      <td>0014000000kfOC5</td>\n",
       "      <td></td>\n",
       "      <td></td>\n",
       "      <td>Validated</td>\n",
       "      <td>No</td>\n",
       "      <td>37.483651</td>\n",
       "      <td>-122.203754</td>\n",
       "    </tr>\n",
       "    <tr>\n",
       "      <th>78</th>\n",
       "      <td>CPE200T-S-CHD-CMB</td>\n",
       "      <td>SRWC / CHARGER 5</td>\n",
       "      <td>Stanford University</td>\n",
       "      <td>000D:6F00:04F8:B0AC</td>\n",
       "      <td>37569</td>\n",
       "      <td>585 Broadway</td>\n",
       "      <td></td>\n",
       "      <td></td>\n",
       "      <td>Redwood City</td>\n",
       "      <td>California</td>\n",
       "      <td>94063</td>\n",
       "      <td></td>\n",
       "      <td>United States</td>\n",
       "      <td>Activated</td>\n",
       "      <td>Unreachable</td>\n",
       "      <td>Watch List</td>\n",
       "      <td>Watch List</td>\n",
       "      <td></td>\n",
       "      <td>1</td>\n",
       "      <td>$1 per hr enforcement hours</td>\n",
       "      <td>Disabled</td>\n",
       "      <td>Plugged In Required</td>\n",
       "      <td>Yes</td>\n",
       "      <td>Public</td>\n",
       "      <td>All Drivers</td>\n",
       "      <td>All Drivers</td>\n",
       "      <td>158679</td>\n",
       "      <td>Broadway GW2</td>\n",
       "      <td>3.7.9.19-6777192/v1.5.80000000000</td>\n",
       "      <td>Education</td>\n",
       "      <td>University / College</td>\n",
       "      <td>Disabled</td>\n",
       "      <td>U.S. Dollars (USD)</td>\n",
       "      <td>40A</td>\n",
       "      <td></td>\n",
       "      <td>Standard Warranty</td>\n",
       "      <td>2020-11-11 06:56:36</td>\n",
       "      <td>2021-11-11</td>\n",
       "      <td></td>\n",
       "      <td>CHAdeMO, Combo</td>\n",
       "      <td>NONE</td>\n",
       "      <td></td>\n",
       "      <td></td>\n",
       "      <td></td>\n",
       "      <td></td>\n",
       "      <td></td>\n",
       "      <td></td>\n",
       "      <td></td>\n",
       "      <td></td>\n",
       "      <td></td>\n",
       "      <td></td>\n",
       "      <td></td>\n",
       "      <td></td>\n",
       "      <td>Not Validated</td>\n",
       "      <td>No</td>\n",
       "      <td>37.484657</td>\n",
       "      <td>-122.206847</td>\n",
       "    </tr>\n",
       "    <tr>\n",
       "      <th>79</th>\n",
       "      <td>CT4010-HD</td>\n",
       "      <td>SRWC / CHARGER 4</td>\n",
       "      <td>Stanford University</td>\n",
       "      <td>0024:B100:0002:5752</td>\n",
       "      <td>163841004932</td>\n",
       "      <td>900-998 Douglas Ave</td>\n",
       "      <td></td>\n",
       "      <td></td>\n",
       "      <td>Redwood City</td>\n",
       "      <td>California</td>\n",
       "      <td>94063</td>\n",
       "      <td>San Mateo County</td>\n",
       "      <td>United States</td>\n",
       "      <td>Activated</td>\n",
       "      <td>Unreachable</td>\n",
       "      <td>Needs Service</td>\n",
       "      <td>Needs Service</td>\n",
       "      <td></td>\n",
       "      <td>1</td>\n",
       "      <td>Stanford University Mirrored</td>\n",
       "      <td>Disabled</td>\n",
       "      <td>Plugged In Required</td>\n",
       "      <td>Yes</td>\n",
       "      <td>Public</td>\n",
       "      <td>Stanford University Mirrored</td>\n",
       "      <td>Stanford University Mirrored</td>\n",
       "      <td>168373</td>\n",
       "      <td>Broadway GW1</td>\n",
       "      <td>4.6.0.33</td>\n",
       "      <td>Workplace</td>\n",
       "      <td>General</td>\n",
       "      <td>Disabled</td>\n",
       "      <td>U.S. Dollars (USD)</td>\n",
       "      <td>40A</td>\n",
       "      <td></td>\n",
       "      <td>Standard Warranty</td>\n",
       "      <td>2017-03-23 17:38:00</td>\n",
       "      <td>2018-03-23</td>\n",
       "      <td></td>\n",
       "      <td>J1772</td>\n",
       "      <td>NONE</td>\n",
       "      <td></td>\n",
       "      <td></td>\n",
       "      <td></td>\n",
       "      <td></td>\n",
       "      <td></td>\n",
       "      <td></td>\n",
       "      <td></td>\n",
       "      <td></td>\n",
       "      <td>Stanford University</td>\n",
       "      <td>0014000000kfOC5</td>\n",
       "      <td></td>\n",
       "      <td></td>\n",
       "      <td>Not Validated</td>\n",
       "      <td>No</td>\n",
       "      <td>37.484643</td>\n",
       "      <td>-122.207423</td>\n",
       "    </tr>\n",
       "    <tr>\n",
       "      <th>80</th>\n",
       "      <td>CT4010-HD</td>\n",
       "      <td>SRWC / CHARGER 3</td>\n",
       "      <td>Stanford University</td>\n",
       "      <td>0024:B100:0002:575E</td>\n",
       "      <td>163841004941</td>\n",
       "      <td>585 Broadway</td>\n",
       "      <td></td>\n",
       "      <td></td>\n",
       "      <td>Redwood City</td>\n",
       "      <td>California</td>\n",
       "      <td>94063</td>\n",
       "      <td>San Mateo County</td>\n",
       "      <td>United States</td>\n",
       "      <td>Activated</td>\n",
       "      <td>Unreachable</td>\n",
       "      <td>Needs Service</td>\n",
       "      <td>Needs Service</td>\n",
       "      <td></td>\n",
       "      <td>1</td>\n",
       "      <td>$1 per hr enforcement hours</td>\n",
       "      <td>Disabled</td>\n",
       "      <td>Plugged In Required</td>\n",
       "      <td>Yes</td>\n",
       "      <td>Public</td>\n",
       "      <td>All Drivers</td>\n",
       "      <td>All Drivers</td>\n",
       "      <td>168401</td>\n",
       "      <td>Broadway GW1</td>\n",
       "      <td>4.6.0.33</td>\n",
       "      <td>Education</td>\n",
       "      <td>University / College</td>\n",
       "      <td>Disabled</td>\n",
       "      <td>U.S. Dollars (USD)</td>\n",
       "      <td>30A</td>\n",
       "      <td></td>\n",
       "      <td>Standard Warranty</td>\n",
       "      <td>2017-03-23 17:37:23</td>\n",
       "      <td>2018-03-23</td>\n",
       "      <td></td>\n",
       "      <td>J1772</td>\n",
       "      <td>NONE</td>\n",
       "      <td></td>\n",
       "      <td></td>\n",
       "      <td></td>\n",
       "      <td></td>\n",
       "      <td></td>\n",
       "      <td></td>\n",
       "      <td></td>\n",
       "      <td></td>\n",
       "      <td>Stanford University</td>\n",
       "      <td>0014000000kfOC5</td>\n",
       "      <td></td>\n",
       "      <td></td>\n",
       "      <td>Not Validated</td>\n",
       "      <td>No</td>\n",
       "      <td>37.484938</td>\n",
       "      <td>-122.206707</td>\n",
       "    </tr>\n",
       "    <tr>\n",
       "      <th>81</th>\n",
       "      <td>CT4010-HD-GW</td>\n",
       "      <td>SRWC / CHARGER 2</td>\n",
       "      <td>Stanford University</td>\n",
       "      <td>0024:B100:0002:5144</td>\n",
       "      <td>162741003523</td>\n",
       "      <td>585 Broadway</td>\n",
       "      <td></td>\n",
       "      <td></td>\n",
       "      <td>Redwood City</td>\n",
       "      <td>California</td>\n",
       "      <td>94063</td>\n",
       "      <td>San Mateo County</td>\n",
       "      <td>United States</td>\n",
       "      <td>Activated</td>\n",
       "      <td>Unreachable</td>\n",
       "      <td>Needs Service</td>\n",
       "      <td>Needs Service</td>\n",
       "      <td></td>\n",
       "      <td>1</td>\n",
       "      <td>$1 per hr enforcement hours</td>\n",
       "      <td>Disabled</td>\n",
       "      <td>Plugged In Required</td>\n",
       "      <td>Yes</td>\n",
       "      <td>Public</td>\n",
       "      <td>All Drivers</td>\n",
       "      <td>All Drivers</td>\n",
       "      <td>162597</td>\n",
       "      <td>Broadway GW1</td>\n",
       "      <td>4.6.0.35</td>\n",
       "      <td>Workplace</td>\n",
       "      <td>General</td>\n",
       "      <td>Disabled</td>\n",
       "      <td>U.S. Dollars (USD)</td>\n",
       "      <td>40A</td>\n",
       "      <td></td>\n",
       "      <td>Standard Warranty</td>\n",
       "      <td>2017-03-23 16:35:37</td>\n",
       "      <td>2018-03-23</td>\n",
       "      <td></td>\n",
       "      <td>J1772</td>\n",
       "      <td>NONE</td>\n",
       "      <td></td>\n",
       "      <td></td>\n",
       "      <td></td>\n",
       "      <td></td>\n",
       "      <td></td>\n",
       "      <td></td>\n",
       "      <td></td>\n",
       "      <td></td>\n",
       "      <td>Stanford University</td>\n",
       "      <td>0014000000kfOC5</td>\n",
       "      <td></td>\n",
       "      <td></td>\n",
       "      <td>Not Validated</td>\n",
       "      <td>No</td>\n",
       "      <td>37.484940</td>\n",
       "      <td>-122.206772</td>\n",
       "    </tr>\n",
       "    <tr>\n",
       "      <th>82</th>\n",
       "      <td>CT4010-HD</td>\n",
       "      <td>SRWC / CHARGER 1</td>\n",
       "      <td>Stanford University</td>\n",
       "      <td>0024:B100:0002:4AEB</td>\n",
       "      <td>153441003891</td>\n",
       "      <td>585 Broadway</td>\n",
       "      <td></td>\n",
       "      <td></td>\n",
       "      <td>Redwood City</td>\n",
       "      <td>California</td>\n",
       "      <td>94063</td>\n",
       "      <td>San Mateo County</td>\n",
       "      <td>United States</td>\n",
       "      <td>Activated</td>\n",
       "      <td>Unreachable</td>\n",
       "      <td>Needs Service</td>\n",
       "      <td>Needs Service</td>\n",
       "      <td></td>\n",
       "      <td>1</td>\n",
       "      <td>$1 per hr enforcement hours</td>\n",
       "      <td>Disabled</td>\n",
       "      <td>Plugged In Required</td>\n",
       "      <td>Yes</td>\n",
       "      <td>Public</td>\n",
       "      <td>All Drivers</td>\n",
       "      <td>All Drivers</td>\n",
       "      <td>2100951</td>\n",
       "      <td>Broadway GW1</td>\n",
       "      <td>4.6.0.33</td>\n",
       "      <td>Education</td>\n",
       "      <td>University / College</td>\n",
       "      <td>Disabled</td>\n",
       "      <td>U.S. Dollars (USD)</td>\n",
       "      <td></td>\n",
       "      <td></td>\n",
       "      <td>Standard Warranty</td>\n",
       "      <td>2020-02-11 13:52:31</td>\n",
       "      <td>2021-02-11</td>\n",
       "      <td></td>\n",
       "      <td>J1772</td>\n",
       "      <td>NONE</td>\n",
       "      <td></td>\n",
       "      <td></td>\n",
       "      <td></td>\n",
       "      <td></td>\n",
       "      <td></td>\n",
       "      <td></td>\n",
       "      <td></td>\n",
       "      <td></td>\n",
       "      <td></td>\n",
       "      <td></td>\n",
       "      <td></td>\n",
       "      <td></td>\n",
       "      <td>Not Validated</td>\n",
       "      <td>No</td>\n",
       "      <td>37.484930</td>\n",
       "      <td>-122.206579</td>\n",
       "    </tr>\n",
       "    <tr>\n",
       "      <th>100</th>\n",
       "      <td>CT4020-HD</td>\n",
       "      <td>ROBLE / ROBLE LL1-6</td>\n",
       "      <td>Stanford University</td>\n",
       "      <td>0024:B100:0002:2954</td>\n",
       "      <td>152541002778</td>\n",
       "      <td>287 Santa Teresa St</td>\n",
       "      <td></td>\n",
       "      <td></td>\n",
       "      <td>Stanford</td>\n",
       "      <td>California</td>\n",
       "      <td>94305</td>\n",
       "      <td>Santa Clara County</td>\n",
       "      <td>United States</td>\n",
       "      <td>Activated</td>\n",
       "      <td>Reachable</td>\n",
       "      <td>Needs Service</td>\n",
       "      <td>Needs Service</td>\n",
       "      <td>In Use</td>\n",
       "      <td>2</td>\n",
       "      <td>$1 per hr enforcement hours</td>\n",
       "      <td>Disabled</td>\n",
       "      <td>Plugged In Required</td>\n",
       "      <td>Yes</td>\n",
       "      <td>Public</td>\n",
       "      <td>All Drivers</td>\n",
       "      <td>All Drivers</td>\n",
       "      <td>125881</td>\n",
       "      <td>Roble LL1 Group 1</td>\n",
       "      <td>4.6.0.46</td>\n",
       "      <td>Education</td>\n",
       "      <td>University / College</td>\n",
       "      <td>Enabled</td>\n",
       "      <td>U.S. Dollars (USD)</td>\n",
       "      <td>40A</td>\n",
       "      <td></td>\n",
       "      <td>ChargePoint Assure</td>\n",
       "      <td>2017-01-26 17:32:28</td>\n",
       "      <td>2023-12-31</td>\n",
       "      <td>Parts &amp; Labor</td>\n",
       "      <td>J1772</td>\n",
       "      <td>NONE</td>\n",
       "      <td></td>\n",
       "      <td>152541002778</td>\n",
       "      <td></td>\n",
       "      <td></td>\n",
       "      <td></td>\n",
       "      <td></td>\n",
       "      <td></td>\n",
       "      <td></td>\n",
       "      <td></td>\n",
       "      <td></td>\n",
       "      <td></td>\n",
       "      <td></td>\n",
       "      <td>Validated</td>\n",
       "      <td>No</td>\n",
       "      <td>37.426426</td>\n",
       "      <td>-122.175850</td>\n",
       "    </tr>\n",
       "  </tbody>\n",
       "</table>\n",
       "</div>"
      ],
      "text/plain": [
       "          Model Number               Station Name             Org Name  \\\n",
       "0            CT4020-HD      STANFORD / THO NGW-B5  Stanford University   \n",
       "1            CT4020-HD      STANFORD / THO NGW-B4  Stanford University   \n",
       "2            CT4020-HD      STANFORD / THO NGW-B3  Stanford University   \n",
       "3            CT4020-HD      STANFORD / THO NGW-B2  Stanford University   \n",
       "4            CT4020-HD      STANFORD / THO NGW-B1  Stanford University   \n",
       "5            CT4020-HD  STANFORD / THO NGW-A5 ADA  Stanford University   \n",
       "7            CT4020-HD      STANFORD / THO NGW-A3  Stanford University   \n",
       "9            CT4020-HD      STANFORD / THO NGW-A1  Stanford University   \n",
       "10        CT4020-HD-GW        STANFORD / THO GW-B  Stanford University   \n",
       "11        CT4020-HD-GW        STANFORD / THO GW-A  Stanford University   \n",
       "22        CT4020-HD-GW       STANFORD / STATION 5  Stanford University   \n",
       "61        CT4020-HD-GW            SRWC / RWC L3 3  Stanford University   \n",
       "78   CPE200T-S-CHD-CMB           SRWC / CHARGER 5  Stanford University   \n",
       "79           CT4010-HD           SRWC / CHARGER 4  Stanford University   \n",
       "80           CT4010-HD           SRWC / CHARGER 3  Stanford University   \n",
       "81        CT4010-HD-GW           SRWC / CHARGER 2  Stanford University   \n",
       "82           CT4010-HD           SRWC / CHARGER 1  Stanford University   \n",
       "100          CT4020-HD        ROBLE / ROBLE LL1-6  Stanford University   \n",
       "\n",
       "             MAC Address    System S/N            Address 1 Address 2  \\\n",
       "0    0024:B100:0003:12F8  184141024581         740 Serra St             \n",
       "1    0024:B100:0003:130F  184141024600         740 Serra St             \n",
       "2    0024:B100:0003:12EE  184141024577         740 Serra St             \n",
       "3    0024:B100:0003:12F1  184141024593         740 Serra St             \n",
       "4    0024:B100:0003:12D9  184141024567         740 Serra St             \n",
       "5    0024:B100:0003:1318  184141024610         740 Serra St             \n",
       "7    0024:B100:0003:130E  184141024588         740 Serra St             \n",
       "9    0024:B100:0003:12EB  184141024573         740 Serra St             \n",
       "10   0024:B100:0003:2C1C  184841030920         740 Serra St             \n",
       "11   0024:B100:0003:2A8C  184741030870         740 Serra St             \n",
       "22   0024:B100:0006:BD20  220141000714   400 El Camino Real             \n",
       "61   0024:B100:0002:8E02  173541010298          2858 Bay Rd             \n",
       "78   000D:6F00:04F8:B0AC         37569         585 Broadway             \n",
       "79   0024:B100:0002:5752  163841004932  900-998 Douglas Ave             \n",
       "80   0024:B100:0002:575E  163841004941         585 Broadway             \n",
       "81   0024:B100:0002:5144  162741003523         585 Broadway             \n",
       "82   0024:B100:0002:4AEB  153441003891         585 Broadway             \n",
       "100  0024:B100:0002:2954  152541002778  287 Santa Teresa St             \n",
       "\n",
       "    Floor Label          City       State  Zip/Postal Code  \\\n",
       "0                    Stanford  California            94305   \n",
       "1                    Stanford  California            94305   \n",
       "2                    Stanford  California            94305   \n",
       "3                    Stanford  California            94305   \n",
       "4                    Stanford  California            94305   \n",
       "5                    Stanford  California            94305   \n",
       "7                    Stanford  California            94305   \n",
       "9                    Stanford  California            94305   \n",
       "10                   Stanford  California            94305   \n",
       "11                   Stanford  California            94305   \n",
       "22                 Menlo Park  California            94025   \n",
       "61           L3  Redwood City  California            94063   \n",
       "78               Redwood City  California            94063   \n",
       "79               Redwood City  California            94063   \n",
       "80               Redwood City  California            94063   \n",
       "81               Redwood City  California            94063   \n",
       "82               Redwood City  California            94063   \n",
       "100                  Stanford  California            94305   \n",
       "\n",
       "                 County       Country  Activation Status Network Status  \\\n",
       "0    Santa Clara County  United States         Activated    Unreachable   \n",
       "1    Santa Clara County  United States         Activated    Unreachable   \n",
       "2    Santa Clara County  United States         Activated    Unreachable   \n",
       "3    Santa Clara County  United States         Activated    Unreachable   \n",
       "4                        United States         Activated    Unreachable   \n",
       "5    Santa Clara County  United States         Activated    Unreachable   \n",
       "7    Santa Clara County  United States         Activated    Unreachable   \n",
       "9    Santa Clara County  United States         Activated    Unreachable   \n",
       "10   Santa Clara County  United States         Activated    Unreachable   \n",
       "11   Santa Clara County  United States         Activated    Unreachable   \n",
       "22     San Mateo County  United States         Activated      Reachable   \n",
       "61     San Mateo County  United States         Activated      Reachable   \n",
       "78                       United States         Activated    Unreachable   \n",
       "79     San Mateo County  United States         Activated    Unreachable   \n",
       "80     San Mateo County  United States         Activated    Unreachable   \n",
       "81     San Mateo County  United States         Activated    Unreachable   \n",
       "82     San Mateo County  United States         Activated    Unreachable   \n",
       "100  Santa Clara County  United States         Activated      Reachable   \n",
       "\n",
       "    Station Status  Port 1 Status  Port 2 Status  No. of Ports  \\\n",
       "0       Watch List     Watch List     Watch List             2   \n",
       "1       Watch List     Watch List     Watch List             2   \n",
       "2       Watch List     Watch List     Watch List             2   \n",
       "3       Watch List     Watch List     Watch List             2   \n",
       "4       Watch List     Watch List     Watch List             2   \n",
       "5       Watch List     Watch List     Watch List             2   \n",
       "7       Watch List     Watch List     Watch List             2   \n",
       "9       Watch List     Watch List     Watch List             2   \n",
       "10      Watch List     Watch List     Watch List             2   \n",
       "11      Watch List     Watch List     Watch List             2   \n",
       "22   Needs Service  Needs Service      Available             2   \n",
       "61   Needs Service  Needs Service  Needs Service             2   \n",
       "78      Watch List     Watch List                            1   \n",
       "79   Needs Service  Needs Service                            1   \n",
       "80   Needs Service  Needs Service                            1   \n",
       "81   Needs Service  Needs Service                            1   \n",
       "82   Needs Service  Needs Service                            1   \n",
       "100  Needs Service  Needs Service         In Use             2   \n",
       "\n",
       "              Pricing Policy Name Reservations      Station Message Enabled  \\\n",
       "0     $1 per hr enforcement hours     Disabled  Plugged In Required     Yes   \n",
       "1     $1 per hr enforcement hours     Disabled  Plugged In Required     Yes   \n",
       "2     $1 per hr enforcement hours     Disabled  Plugged In Required     Yes   \n",
       "3     $1 per hr enforcement hours     Disabled  Plugged In Required     Yes   \n",
       "4     $1 per hr enforcement hours     Disabled  Plugged In Required     Yes   \n",
       "5     $1 per hr enforcement hours     Disabled  Plugged In Required     Yes   \n",
       "7     $1 per hr enforcement hours     Disabled  Plugged In Required     Yes   \n",
       "9     $1 per hr enforcement hours     Disabled  Plugged In Required     Yes   \n",
       "10    $1 per hr enforcement hours     Disabled  Plugged In Required     Yes   \n",
       "11    $1 per hr enforcement hours     Disabled  Plugged In Required     Yes   \n",
       "22    $1 per hr enforcement hours     Disabled                          Yes   \n",
       "61    $1 per hr enforcement hours     Disabled  Plugged In Required     Yes   \n",
       "78    $1 per hr enforcement hours     Disabled  Plugged In Required     Yes   \n",
       "79   Stanford University Mirrored     Disabled  Plugged In Required     Yes   \n",
       "80    $1 per hr enforcement hours     Disabled  Plugged In Required     Yes   \n",
       "81    $1 per hr enforcement hours     Disabled  Plugged In Required     Yes   \n",
       "82    $1 per hr enforcement hours     Disabled  Plugged In Required     Yes   \n",
       "100   $1 per hr enforcement hours     Disabled  Plugged In Required     Yes   \n",
       "\n",
       "    Station Activation Type                     Usable By  \\\n",
       "0                    Public                   All Drivers   \n",
       "1                    Public                   All Drivers   \n",
       "2                    Public                   All Drivers   \n",
       "3                    Public                   All Drivers   \n",
       "4                    Public                   All Drivers   \n",
       "5                    Public                   All Drivers   \n",
       "7                    Public                   All Drivers   \n",
       "9                    Public                   All Drivers   \n",
       "10                   Public                   All Drivers   \n",
       "11                   Public                   All Drivers   \n",
       "22                   Public                   All Drivers   \n",
       "61                   Public                   All Drivers   \n",
       "78                   Public                   All Drivers   \n",
       "79                   Public  Stanford University Mirrored   \n",
       "80                   Public                   All Drivers   \n",
       "81                   Public                   All Drivers   \n",
       "82                   Public                   All Drivers   \n",
       "100                  Public                   All Drivers   \n",
       "\n",
       "    Visibility (Access Policy Name)   EVSE ID   Radio Group Name  \\\n",
       "0                        No Drivers   1942901             RG-GW1   \n",
       "1                        No Drivers   1942891             RG-GW1   \n",
       "2                        No Drivers   1942871             RG-GW1   \n",
       "3                        No Drivers   1942831             RG-GW1   \n",
       "4                        No Drivers   1942771             RG-GW1   \n",
       "5                        No Drivers   1943001             RG-GW2   \n",
       "7                        No Drivers   1942961             RG-GW2   \n",
       "9                        No Drivers   1942911             RG-GW2   \n",
       "10                      All Drivers    715031             RG-GW1   \n",
       "11                      All Drivers    715051             RG-GW2   \n",
       "22                      All Drivers  13124771               GW 5   \n",
       "61                      All Drivers    246721             RWC L3   \n",
       "78                      All Drivers    158679       Broadway GW2   \n",
       "79     Stanford University Mirrored    168373       Broadway GW1   \n",
       "80                      All Drivers    168401       Broadway GW1   \n",
       "81                      All Drivers    162597       Broadway GW1   \n",
       "82                      All Drivers   2100951       Broadway GW1   \n",
       "100                     All Drivers    125881  Roble LL1 Group 1   \n",
       "\n",
       "                      Software Version Customer Category  \\\n",
       "0                             4.6.0.46         Education   \n",
       "1                             4.6.0.46         Education   \n",
       "2                             4.6.0.46         Education   \n",
       "3                             4.6.0.46         Education   \n",
       "4                             4.6.0.46         Education   \n",
       "5                             4.6.0.46         Education   \n",
       "7                             4.6.0.46         Education   \n",
       "9                             4.6.0.46         Education   \n",
       "10                            4.6.0.46         Education   \n",
       "11                            4.6.0.46         Education   \n",
       "22                            4.6.0.46         Workplace   \n",
       "61                            4.6.0.46         Education   \n",
       "78   3.7.9.19-6777192/v1.5.80000000000         Education   \n",
       "79                            4.6.0.33         Workplace   \n",
       "80                            4.6.0.33         Education   \n",
       "81                            4.6.0.35         Workplace   \n",
       "82                            4.6.0.33         Education   \n",
       "100                           4.6.0.46         Education   \n",
       "\n",
       "     Customer Subcategory Circuit Sharing       Currency Name  \\\n",
       "0    University / College        Disabled  U.S. Dollars (USD)   \n",
       "1    University / College        Disabled  U.S. Dollars (USD)   \n",
       "2    University / College        Disabled  U.S. Dollars (USD)   \n",
       "3    University / College        Disabled  U.S. Dollars (USD)   \n",
       "4    University / College        Disabled  U.S. Dollars (USD)   \n",
       "5    University / College        Disabled  U.S. Dollars (USD)   \n",
       "7    University / College        Disabled  U.S. Dollars (USD)   \n",
       "9    University / College        Disabled  U.S. Dollars (USD)   \n",
       "10   University / College        Disabled  U.S. Dollars (USD)   \n",
       "11   University / College        Disabled  U.S. Dollars (USD)   \n",
       "22                General        Disabled  U.S. Dollars (USD)   \n",
       "61   University / College        Disabled  U.S. Dollars (USD)   \n",
       "78   University / College        Disabled  U.S. Dollars (USD)   \n",
       "79                General        Disabled  U.S. Dollars (USD)   \n",
       "80   University / College        Disabled  U.S. Dollars (USD)   \n",
       "81                General        Disabled  U.S. Dollars (USD)   \n",
       "82   University / College        Disabled  U.S. Dollars (USD)   \n",
       "100  University / College         Enabled  U.S. Dollars (USD)   \n",
       "\n",
       "    Power Select / AC Breaker Rating Scheduled Charging Policy Name  \\\n",
       "0                                                                     \n",
       "1                                                                     \n",
       "2                                                                     \n",
       "3                                                                     \n",
       "4                                                                     \n",
       "5                                                                     \n",
       "7                                                                     \n",
       "9                                                                     \n",
       "10                               40A                                  \n",
       "11                               40A                                  \n",
       "22                               40A                                  \n",
       "61                               40A                                  \n",
       "78                               40A                                  \n",
       "79                               40A                                  \n",
       "80                               30A                                  \n",
       "81                               40A                                  \n",
       "82                                                                    \n",
       "100                              40A                                  \n",
       "\n",
       "               Warranty Station Activation Date Warranty Expiration Date  \\\n",
       "0    ChargePoint Assure     2020-09-17 15:38:10               2023-12-31   \n",
       "1    ChargePoint Assure     2020-09-17 15:35:51               2023-12-31   \n",
       "2    ChargePoint Assure     2020-09-17 15:29:31               2023-12-31   \n",
       "3    ChargePoint Assure     2020-09-17 15:36:26               2023-12-31   \n",
       "4    ChargePoint Assure     2020-09-17 15:38:46               2023-12-31   \n",
       "5    ChargePoint Assure     2020-09-17 15:40:18               2023-12-31   \n",
       "7    ChargePoint Assure     2020-09-17 15:42:11               2023-12-31   \n",
       "9    ChargePoint Assure     2020-09-17 15:40:00               2023-12-31   \n",
       "10   ChargePoint Assure     2020-08-19 23:02:32               2023-12-31   \n",
       "11   ChargePoint Assure     2020-08-19 23:10:20               2023-12-31   \n",
       "22   ChargePoint Assure     2023-01-19 08:33:44               2027-09-11   \n",
       "61    Standard Warranty     2019-03-15 05:38:11               2020-03-15   \n",
       "78    Standard Warranty     2020-11-11 06:56:36               2021-11-11   \n",
       "79    Standard Warranty     2017-03-23 17:38:00               2018-03-23   \n",
       "80    Standard Warranty     2017-03-23 17:37:23               2018-03-23   \n",
       "81    Standard Warranty     2017-03-23 16:35:37               2018-03-23   \n",
       "82    Standard Warranty     2020-02-11 13:52:31               2021-02-11   \n",
       "100  ChargePoint Assure     2017-01-26 17:32:28               2023-12-31   \n",
       "\n",
       "    Warranty Service       Plug Type Device Access Restriction  \\\n",
       "0      Parts & Labor           J1772                      NONE   \n",
       "1      Parts & Labor           J1772                      NONE   \n",
       "2      Parts & Labor           J1772                      NONE   \n",
       "3      Parts & Labor           J1772                      NONE   \n",
       "4      Parts & Labor           J1772                      NONE   \n",
       "5      Parts & Labor           J1772                      NONE   \n",
       "7      Parts & Labor           J1772                      NONE   \n",
       "9      Parts & Labor           J1772                      NONE   \n",
       "10     Parts & Labor           J1772                      NONE   \n",
       "11     Parts & Labor           J1772                      NONE   \n",
       "22        Parts Only           J1772                      NONE   \n",
       "61                             J1772                      NONE   \n",
       "78                    CHAdeMO, Combo                      NONE   \n",
       "79                             J1772                      NONE   \n",
       "80                             J1772                      NONE   \n",
       "81                             J1772                      NONE   \n",
       "82                             J1772                      NONE   \n",
       "100    Parts & Labor           J1772                      NONE   \n",
       "\n",
       "    Waitlist Policy Name  Asset Tag ID Meter ID Service Delivery Point ID  \\\n",
       "0                                                                           \n",
       "1                                                                           \n",
       "2                                                                           \n",
       "3                                                                           \n",
       "4                                                                           \n",
       "5                                                                           \n",
       "7                                                                           \n",
       "9                                                                           \n",
       "10                                                                          \n",
       "11                                                                          \n",
       "22                                                                          \n",
       "61                                                                          \n",
       "78                                                                          \n",
       "79                                                                          \n",
       "80                                                                          \n",
       "81                                                                          \n",
       "82                                                                          \n",
       "100                       152541002778                                      \n",
       "\n",
       "    Point of Service ID Account ID Circuit ID Panel ID  \\\n",
       "0                                                        \n",
       "1                                                        \n",
       "2                                                        \n",
       "3                                                        \n",
       "4                                                        \n",
       "5                                                        \n",
       "7                                                        \n",
       "9                                                        \n",
       "10                                                       \n",
       "11                                                       \n",
       "22                                                       \n",
       "61                                                       \n",
       "78                                                       \n",
       "79                                                       \n",
       "80                                                       \n",
       "81                                                       \n",
       "82                                                       \n",
       "100                                                      \n",
       "\n",
       "                                         Customer Name      Customer ID  \\\n",
       "0                                                                         \n",
       "1                                                                         \n",
       "2                                                                         \n",
       "3                                                                         \n",
       "4                                                                         \n",
       "5                                                                         \n",
       "7                                                                         \n",
       "9                                                                         \n",
       "10                                                                        \n",
       "11                                                                        \n",
       "22                                                                        \n",
       "61   The Board of Trustees of The Leland Stanford J...  0014000000kfOC5   \n",
       "78                                                                        \n",
       "79                                 Stanford University  0014000000kfOC5   \n",
       "80                                 Stanford University  0014000000kfOC5   \n",
       "81                                 Stanford University  0014000000kfOC5   \n",
       "82                                                                        \n",
       "100                                                                       \n",
       "\n",
       "    Site ID Site mode Site Validation Status Paired   Latitude   Longitude  \n",
       "0                                  Validated     No  37.426794 -122.159240  \n",
       "1                                  Validated     No  37.426805 -122.159203  \n",
       "2                                  Validated     No  37.427834 -122.156572  \n",
       "3                                  Validated     No  37.426802 -122.159175  \n",
       "4                                  Validated     No  37.426811 -122.159186  \n",
       "5                                  Validated     No  37.426802 -122.159132  \n",
       "7                                  Validated     No  37.426811 -122.159164  \n",
       "9                                  Validated     No  37.426802 -122.159154  \n",
       "10                                 Validated     No  37.427808 -122.156600  \n",
       "11                                 Validated     No  37.427876 -122.156493  \n",
       "22                             Not Validated     No  37.450394 -122.176330  \n",
       "61                                 Validated     No  37.483651 -122.203754  \n",
       "78                             Not Validated     No  37.484657 -122.206847  \n",
       "79                             Not Validated     No  37.484643 -122.207423  \n",
       "80                             Not Validated     No  37.484938 -122.206707  \n",
       "81                             Not Validated     No  37.484940 -122.206772  \n",
       "82                             Not Validated     No  37.484930 -122.206579  \n",
       "100                                Validated     No  37.426426 -122.175850  "
      ]
     },
     "metadata": {},
     "output_type": "display_data"
    },
    {
     "data": {
      "text/markdown": [
       "#### **Alarms From Troubled Stations (Last 30 days)**"
      ]
     },
     "metadata": {},
     "output_type": "display_data"
    },
    {
     "data": {
      "text/html": [
       "<div>\n",
       "<style scoped>\n",
       "    .dataframe tbody tr th:only-of-type {\n",
       "        vertical-align: middle;\n",
       "    }\n",
       "\n",
       "    .dataframe tbody tr th {\n",
       "        vertical-align: top;\n",
       "    }\n",
       "\n",
       "    .dataframe thead th {\n",
       "        text-align: right;\n",
       "    }\n",
       "</style>\n",
       "<table border=\"1\" class=\"dataframe\">\n",
       "  <thead>\n",
       "    <tr style=\"text-align: right;\">\n",
       "      <th></th>\n",
       "      <th>Display Name</th>\n",
       "      <th>MAC Address</th>\n",
       "      <th>Org Name</th>\n",
       "      <th>Alarm Severity</th>\n",
       "      <th>Alarm Name</th>\n",
       "      <th>Alarm ID</th>\n",
       "      <th>FRU Name</th>\n",
       "      <th>Alarm Time</th>\n",
       "      <th>Model Number</th>\n",
       "      <th>Port</th>\n",
       "      <th>Reason For Clearing</th>\n",
       "      <th>Component Serial Number</th>\n",
       "    </tr>\n",
       "  </thead>\n",
       "  <tbody>\n",
       "    <tr>\n",
       "      <th>39</th>\n",
       "      <td>ROBLE / ROBLE LL1-6</td>\n",
       "      <td>0024:B100:0002:2954</td>\n",
       "      <td>Stanford University</td>\n",
       "      <td></td>\n",
       "      <td>Unreachable</td>\n",
       "      <td></td>\n",
       "      <td></td>\n",
       "      <td>2023-09-26 11:54:26-07:00</td>\n",
       "      <td>CT4020-HD</td>\n",
       "      <td></td>\n",
       "      <td>---</td>\n",
       "      <td></td>\n",
       "    </tr>\n",
       "    <tr>\n",
       "      <th>58</th>\n",
       "      <td>ROBLE / ROBLE LL1-6</td>\n",
       "      <td>0024:B100:0002:2954</td>\n",
       "      <td>Stanford University</td>\n",
       "      <td></td>\n",
       "      <td>Reachable</td>\n",
       "      <td></td>\n",
       "      <td></td>\n",
       "      <td>2023-09-26 11:23:41-07:00</td>\n",
       "      <td>CT4020-HD</td>\n",
       "      <td></td>\n",
       "      <td>---</td>\n",
       "      <td></td>\n",
       "    </tr>\n",
       "    <tr>\n",
       "      <th>76</th>\n",
       "      <td>ROBLE / ROBLE LL1-6</td>\n",
       "      <td>0024:B100:0002:2954</td>\n",
       "      <td>Stanford University</td>\n",
       "      <td></td>\n",
       "      <td>Unreachable</td>\n",
       "      <td></td>\n",
       "      <td></td>\n",
       "      <td>2023-09-26 10:42:27-07:00</td>\n",
       "      <td>CT4020-HD</td>\n",
       "      <td></td>\n",
       "      <td>---</td>\n",
       "      <td></td>\n",
       "    </tr>\n",
       "    <tr>\n",
       "      <th>90</th>\n",
       "      <td>ROBLE / ROBLE LL1-6</td>\n",
       "      <td>0024:B100:0002:2954</td>\n",
       "      <td>Stanford University</td>\n",
       "      <td></td>\n",
       "      <td>Circuit Sharing Current Restored</td>\n",
       "      <td></td>\n",
       "      <td></td>\n",
       "      <td>2023-09-26 09:42:50-07:00</td>\n",
       "      <td>CT4020-HD</td>\n",
       "      <td>2</td>\n",
       "      <td>---</td>\n",
       "      <td></td>\n",
       "    </tr>\n",
       "    <tr>\n",
       "      <th>145</th>\n",
       "      <td>STANFORD / THO NGW-B5</td>\n",
       "      <td>0024:B100:0003:12F8</td>\n",
       "      <td>Stanford University</td>\n",
       "      <td></td>\n",
       "      <td>Unreachable</td>\n",
       "      <td></td>\n",
       "      <td></td>\n",
       "      <td>2023-09-26 01:04:27-07:00</td>\n",
       "      <td>CT4020-HD</td>\n",
       "      <td></td>\n",
       "      <td>---</td>\n",
       "      <td></td>\n",
       "    </tr>\n",
       "    <tr>\n",
       "      <th>...</th>\n",
       "      <td>...</td>\n",
       "      <td>...</td>\n",
       "      <td>...</td>\n",
       "      <td>...</td>\n",
       "      <td>...</td>\n",
       "      <td>...</td>\n",
       "      <td>...</td>\n",
       "      <td>...</td>\n",
       "      <td>...</td>\n",
       "      <td>...</td>\n",
       "      <td>...</td>\n",
       "      <td>...</td>\n",
       "    </tr>\n",
       "    <tr>\n",
       "      <th>8948</th>\n",
       "      <td>STANFORD / THO NGW-A3</td>\n",
       "      <td>0024:B100:0003:130E</td>\n",
       "      <td>Stanford University</td>\n",
       "      <td></td>\n",
       "      <td>Unreachable</td>\n",
       "      <td></td>\n",
       "      <td></td>\n",
       "      <td>2023-08-31 17:25:05-07:00</td>\n",
       "      <td>CT4020-HD</td>\n",
       "      <td></td>\n",
       "      <td>---</td>\n",
       "      <td></td>\n",
       "    </tr>\n",
       "    <tr>\n",
       "      <th>9011</th>\n",
       "      <td>STANFORD / STATION 5</td>\n",
       "      <td>0024:B100:0006:BD20</td>\n",
       "      <td>Stanford University</td>\n",
       "      <td></td>\n",
       "      <td>Reachable</td>\n",
       "      <td></td>\n",
       "      <td></td>\n",
       "      <td>2023-08-31 14:55:38-07:00</td>\n",
       "      <td>CT4020-HD-GW</td>\n",
       "      <td></td>\n",
       "      <td>---</td>\n",
       "      <td></td>\n",
       "    </tr>\n",
       "    <tr>\n",
       "      <th>9028</th>\n",
       "      <td>STANFORD / STATION 5</td>\n",
       "      <td>0024:B100:0006:BD20</td>\n",
       "      <td>Stanford University</td>\n",
       "      <td></td>\n",
       "      <td>IP Mismatch Detected</td>\n",
       "      <td></td>\n",
       "      <td></td>\n",
       "      <td>2023-08-31 14:45:38-07:00</td>\n",
       "      <td>CT4020-HD-GW</td>\n",
       "      <td></td>\n",
       "      <td>---</td>\n",
       "      <td></td>\n",
       "    </tr>\n",
       "    <tr>\n",
       "      <th>9029</th>\n",
       "      <td>STANFORD / STATION 5</td>\n",
       "      <td>0024:B100:0006:BD20</td>\n",
       "      <td>Stanford University</td>\n",
       "      <td></td>\n",
       "      <td>Reachable</td>\n",
       "      <td></td>\n",
       "      <td></td>\n",
       "      <td>2023-08-31 14:45:38-07:00</td>\n",
       "      <td>CT4020-HD-GW</td>\n",
       "      <td></td>\n",
       "      <td>---</td>\n",
       "      <td></td>\n",
       "    </tr>\n",
       "    <tr>\n",
       "      <th>9032</th>\n",
       "      <td>STANFORD / STATION 5</td>\n",
       "      <td>0024:B100:0006:BD20</td>\n",
       "      <td>Stanford University</td>\n",
       "      <td></td>\n",
       "      <td>Unreachable</td>\n",
       "      <td></td>\n",
       "      <td></td>\n",
       "      <td>2023-08-31 14:45:01-07:00</td>\n",
       "      <td>CT4020-HD-GW</td>\n",
       "      <td></td>\n",
       "      <td>---</td>\n",
       "      <td></td>\n",
       "    </tr>\n",
       "  </tbody>\n",
       "</table>\n",
       "<p>947 rows × 12 columns</p>\n",
       "</div>"
      ],
      "text/plain": [
       "               Display Name          MAC Address             Org Name  \\\n",
       "39      ROBLE / ROBLE LL1-6  0024:B100:0002:2954  Stanford University   \n",
       "58      ROBLE / ROBLE LL1-6  0024:B100:0002:2954  Stanford University   \n",
       "76      ROBLE / ROBLE LL1-6  0024:B100:0002:2954  Stanford University   \n",
       "90      ROBLE / ROBLE LL1-6  0024:B100:0002:2954  Stanford University   \n",
       "145   STANFORD / THO NGW-B5  0024:B100:0003:12F8  Stanford University   \n",
       "...                     ...                  ...                  ...   \n",
       "8948  STANFORD / THO NGW-A3  0024:B100:0003:130E  Stanford University   \n",
       "9011   STANFORD / STATION 5  0024:B100:0006:BD20  Stanford University   \n",
       "9028   STANFORD / STATION 5  0024:B100:0006:BD20  Stanford University   \n",
       "9029   STANFORD / STATION 5  0024:B100:0006:BD20  Stanford University   \n",
       "9032   STANFORD / STATION 5  0024:B100:0006:BD20  Stanford University   \n",
       "\n",
       "     Alarm Severity                        Alarm Name Alarm ID FRU Name  \\\n",
       "39                                        Unreachable                     \n",
       "58                                          Reachable                     \n",
       "76                                        Unreachable                     \n",
       "90                   Circuit Sharing Current Restored                     \n",
       "145                                       Unreachable                     \n",
       "...             ...                               ...      ...      ...   \n",
       "8948                                      Unreachable                     \n",
       "9011                                        Reachable                     \n",
       "9028                             IP Mismatch Detected                     \n",
       "9029                                        Reachable                     \n",
       "9032                                      Unreachable                     \n",
       "\n",
       "                    Alarm Time  Model Number Port Reason For Clearing  \\\n",
       "39   2023-09-26 11:54:26-07:00     CT4020-HD                      ---   \n",
       "58   2023-09-26 11:23:41-07:00     CT4020-HD                      ---   \n",
       "76   2023-09-26 10:42:27-07:00     CT4020-HD                      ---   \n",
       "90   2023-09-26 09:42:50-07:00     CT4020-HD    2                 ---   \n",
       "145  2023-09-26 01:04:27-07:00     CT4020-HD                      ---   \n",
       "...                        ...           ...  ...                 ...   \n",
       "8948 2023-08-31 17:25:05-07:00     CT4020-HD                      ---   \n",
       "9011 2023-08-31 14:55:38-07:00  CT4020-HD-GW                      ---   \n",
       "9028 2023-08-31 14:45:38-07:00  CT4020-HD-GW                      ---   \n",
       "9029 2023-08-31 14:45:38-07:00  CT4020-HD-GW                      ---   \n",
       "9032 2023-08-31 14:45:01-07:00  CT4020-HD-GW                      ---   \n",
       "\n",
       "     Component Serial Number  \n",
       "39                            \n",
       "58                            \n",
       "76                            \n",
       "90                            \n",
       "145                           \n",
       "...                      ...  \n",
       "8948                          \n",
       "9011                          \n",
       "9028                          \n",
       "9029                          \n",
       "9032                          \n",
       "\n",
       "[947 rows x 12 columns]"
      ]
     },
     "metadata": {},
     "output_type": "display_data"
    },
    {
     "data": {
      "text/markdown": [
       "#### **Alarm Name Counts and Frequency From Troubled Stations (Last 30 days)**"
      ]
     },
     "metadata": {},
     "output_type": "display_data"
    },
    {
     "data": {
      "text/html": [
       "<div>\n",
       "<style scoped>\n",
       "    .dataframe tbody tr th:only-of-type {\n",
       "        vertical-align: middle;\n",
       "    }\n",
       "\n",
       "    .dataframe tbody tr th {\n",
       "        vertical-align: top;\n",
       "    }\n",
       "\n",
       "    .dataframe thead th {\n",
       "        text-align: right;\n",
       "    }\n",
       "</style>\n",
       "<table border=\"1\" class=\"dataframe\">\n",
       "  <thead>\n",
       "    <tr style=\"text-align: right;\">\n",
       "      <th></th>\n",
       "      <th>count</th>\n",
       "      <th>proportion</th>\n",
       "    </tr>\n",
       "    <tr>\n",
       "      <th>Alarm Name</th>\n",
       "      <th></th>\n",
       "      <th></th>\n",
       "    </tr>\n",
       "  </thead>\n",
       "  <tbody>\n",
       "    <tr>\n",
       "      <th>Reachable</th>\n",
       "      <td>475</td>\n",
       "      <td>0.501584</td>\n",
       "    </tr>\n",
       "    <tr>\n",
       "      <th>Unreachable</th>\n",
       "      <td>292</td>\n",
       "      <td>0.308342</td>\n",
       "    </tr>\n",
       "    <tr>\n",
       "      <th>Fault Cleared</th>\n",
       "      <td>85</td>\n",
       "      <td>0.089757</td>\n",
       "    </tr>\n",
       "    <tr>\n",
       "      <th>Boot up</th>\n",
       "      <td>34</td>\n",
       "      <td>0.035903</td>\n",
       "    </tr>\n",
       "    <tr>\n",
       "      <th>Bootup Due to WATCHDOG</th>\n",
       "      <td>11</td>\n",
       "      <td>0.011616</td>\n",
       "    </tr>\n",
       "    <tr>\n",
       "      <th>Maintenance Required</th>\n",
       "      <td>11</td>\n",
       "      <td>0.011616</td>\n",
       "    </tr>\n",
       "    <tr>\n",
       "      <th>Circuit Sharing Current Restored</th>\n",
       "      <td>10</td>\n",
       "      <td>0.010560</td>\n",
       "    </tr>\n",
       "    <tr>\n",
       "      <th>Data Partition Full</th>\n",
       "      <td>9</td>\n",
       "      <td>0.009504</td>\n",
       "    </tr>\n",
       "    <tr>\n",
       "      <th>Bootup Due to SOFT RESET</th>\n",
       "      <td>7</td>\n",
       "      <td>0.007392</td>\n",
       "    </tr>\n",
       "    <tr>\n",
       "      <th>Circuit Sharing Current Reduced</th>\n",
       "      <td>5</td>\n",
       "      <td>0.005280</td>\n",
       "    </tr>\n",
       "    <tr>\n",
       "      <th>IP Mismatch Detected</th>\n",
       "      <td>4</td>\n",
       "      <td>0.004224</td>\n",
       "    </tr>\n",
       "    <tr>\n",
       "      <th>Bootup Due to POWER ON</th>\n",
       "      <td>2</td>\n",
       "      <td>0.002112</td>\n",
       "    </tr>\n",
       "    <tr>\n",
       "      <th>Hardware Fault Station Out Of Service</th>\n",
       "      <td>1</td>\n",
       "      <td>0.001056</td>\n",
       "    </tr>\n",
       "    <tr>\n",
       "      <th>Powered Off</th>\n",
       "      <td>1</td>\n",
       "      <td>0.001056</td>\n",
       "    </tr>\n",
       "  </tbody>\n",
       "</table>\n",
       "</div>"
      ],
      "text/plain": [
       "                                       count  proportion\n",
       "Alarm Name                                              \n",
       "Reachable                                475    0.501584\n",
       "Unreachable                              292    0.308342\n",
       "Fault Cleared                             85    0.089757\n",
       "Boot up                                   34    0.035903\n",
       "Bootup Due to WATCHDOG                    11    0.011616\n",
       "Maintenance Required                      11    0.011616\n",
       "Circuit Sharing Current Restored          10    0.010560\n",
       "Data Partition Full                        9    0.009504\n",
       "Bootup Due to SOFT RESET                   7    0.007392\n",
       "Circuit Sharing Current Reduced            5    0.005280\n",
       "IP Mismatch Detected                       4    0.004224\n",
       "Bootup Due to POWER ON                     2    0.002112\n",
       "Hardware Fault Station Out Of Service      1    0.001056\n",
       "Powered Off                                1    0.001056"
      ]
     },
     "metadata": {},
     "output_type": "display_data"
    },
    {
     "data": {
      "text/markdown": [
       "#### **Alarm Name Counts From Non-Troubled Stations (Last 30 days)**"
      ]
     },
     "metadata": {},
     "output_type": "display_data"
    },
    {
     "data": {
      "text/html": [
       "<div>\n",
       "<style scoped>\n",
       "    .dataframe tbody tr th:only-of-type {\n",
       "        vertical-align: middle;\n",
       "    }\n",
       "\n",
       "    .dataframe tbody tr th {\n",
       "        vertical-align: top;\n",
       "    }\n",
       "\n",
       "    .dataframe thead th {\n",
       "        text-align: right;\n",
       "    }\n",
       "</style>\n",
       "<table border=\"1\" class=\"dataframe\">\n",
       "  <thead>\n",
       "    <tr style=\"text-align: right;\">\n",
       "      <th></th>\n",
       "      <th>count</th>\n",
       "      <th>proportion</th>\n",
       "    </tr>\n",
       "    <tr>\n",
       "      <th>Alarm Name</th>\n",
       "      <th></th>\n",
       "      <th></th>\n",
       "    </tr>\n",
       "  </thead>\n",
       "  <tbody>\n",
       "    <tr>\n",
       "      <th>Reachable</th>\n",
       "      <td>3188</td>\n",
       "      <td>0.393532</td>\n",
       "    </tr>\n",
       "    <tr>\n",
       "      <th>Unreachable</th>\n",
       "      <td>1929</td>\n",
       "      <td>0.238119</td>\n",
       "    </tr>\n",
       "    <tr>\n",
       "      <th>Circuit Sharing Current Restored</th>\n",
       "      <td>767</td>\n",
       "      <td>0.094680</td>\n",
       "    </tr>\n",
       "    <tr>\n",
       "      <th>Tamper Detect</th>\n",
       "      <td>761</td>\n",
       "      <td>0.093939</td>\n",
       "    </tr>\n",
       "    <tr>\n",
       "      <th>Fault Cleared</th>\n",
       "      <td>440</td>\n",
       "      <td>0.054314</td>\n",
       "    </tr>\n",
       "    <tr>\n",
       "      <th>Circuit Sharing Current Reduced</th>\n",
       "      <td>434</td>\n",
       "      <td>0.053574</td>\n",
       "    </tr>\n",
       "    <tr>\n",
       "      <th>IP Mismatch Detected</th>\n",
       "      <td>150</td>\n",
       "      <td>0.018516</td>\n",
       "    </tr>\n",
       "    <tr>\n",
       "      <th>Data Partition Full</th>\n",
       "      <td>126</td>\n",
       "      <td>0.015554</td>\n",
       "    </tr>\n",
       "    <tr>\n",
       "      <th>Bootup Due to SOFT RESET</th>\n",
       "      <td>114</td>\n",
       "      <td>0.014072</td>\n",
       "    </tr>\n",
       "    <tr>\n",
       "      <th>Boot up</th>\n",
       "      <td>91</td>\n",
       "      <td>0.011233</td>\n",
       "    </tr>\n",
       "    <tr>\n",
       "      <th>Bootup Due to WATCHDOG</th>\n",
       "      <td>61</td>\n",
       "      <td>0.007530</td>\n",
       "    </tr>\n",
       "    <tr>\n",
       "      <th>Unknown RFID</th>\n",
       "      <td>12</td>\n",
       "      <td>0.001481</td>\n",
       "    </tr>\n",
       "    <tr>\n",
       "      <th>Bootup Due to POWER ON</th>\n",
       "      <td>10</td>\n",
       "      <td>0.001234</td>\n",
       "    </tr>\n",
       "    <tr>\n",
       "      <th>Maintenance Required</th>\n",
       "      <td>6</td>\n",
       "      <td>0.000741</td>\n",
       "    </tr>\n",
       "    <tr>\n",
       "      <th>Powered Off</th>\n",
       "      <td>5</td>\n",
       "      <td>0.000617</td>\n",
       "    </tr>\n",
       "    <tr>\n",
       "      <th>Bootup Due to SWITCH</th>\n",
       "      <td>4</td>\n",
       "      <td>0.000494</td>\n",
       "    </tr>\n",
       "    <tr>\n",
       "      <th>FCheck Error</th>\n",
       "      <td>1</td>\n",
       "      <td>0.000123</td>\n",
       "    </tr>\n",
       "    <tr>\n",
       "      <th>GFCI Soft Trip</th>\n",
       "      <td>1</td>\n",
       "      <td>0.000123</td>\n",
       "    </tr>\n",
       "    <tr>\n",
       "      <th>RFID Update Failed</th>\n",
       "      <td>1</td>\n",
       "      <td>0.000123</td>\n",
       "    </tr>\n",
       "  </tbody>\n",
       "</table>\n",
       "</div>"
      ],
      "text/plain": [
       "                                  count  proportion\n",
       "Alarm Name                                         \n",
       "Reachable                          3188    0.393532\n",
       "Unreachable                        1929    0.238119\n",
       "Circuit Sharing Current Restored    767    0.094680\n",
       "Tamper Detect                       761    0.093939\n",
       "Fault Cleared                       440    0.054314\n",
       "Circuit Sharing Current Reduced     434    0.053574\n",
       "IP Mismatch Detected                150    0.018516\n",
       "Data Partition Full                 126    0.015554\n",
       "Bootup Due to SOFT RESET            114    0.014072\n",
       "Boot up                              91    0.011233\n",
       "Bootup Due to WATCHDOG               61    0.007530\n",
       "Unknown RFID                         12    0.001481\n",
       "Bootup Due to POWER ON               10    0.001234\n",
       "Maintenance Required                  6    0.000741\n",
       "Powered Off                           5    0.000617\n",
       "Bootup Due to SWITCH                  4    0.000494\n",
       "FCheck Error                          1    0.000123\n",
       "GFCI Soft Trip                        1    0.000123\n",
       "RFID Update Failed                    1    0.000123"
      ]
     },
     "metadata": {},
     "output_type": "display_data"
    },
    {
     "data": {
      "text/markdown": [
       "#### **Alarm Name Frequency of Troubled vs. Non-Troubled Stations (Last 30 days)**"
      ]
     },
     "metadata": {},
     "output_type": "display_data"
    },
    {
     "data": {
      "text/html": [
       "<div>\n",
       "<style scoped>\n",
       "    .dataframe tbody tr th:only-of-type {\n",
       "        vertical-align: middle;\n",
       "    }\n",
       "\n",
       "    .dataframe tbody tr th {\n",
       "        vertical-align: top;\n",
       "    }\n",
       "\n",
       "    .dataframe thead th {\n",
       "        text-align: right;\n",
       "    }\n",
       "</style>\n",
       "<table border=\"1\" class=\"dataframe\">\n",
       "  <thead>\n",
       "    <tr style=\"text-align: right;\">\n",
       "      <th></th>\n",
       "      <th>Troubled</th>\n",
       "      <th>Non-Troubled</th>\n",
       "    </tr>\n",
       "    <tr>\n",
       "      <th>Alarm Name</th>\n",
       "      <th></th>\n",
       "      <th></th>\n",
       "    </tr>\n",
       "  </thead>\n",
       "  <tbody>\n",
       "    <tr>\n",
       "      <th>Reachable</th>\n",
       "      <td>0.501584</td>\n",
       "      <td>0.393532</td>\n",
       "    </tr>\n",
       "    <tr>\n",
       "      <th>Unreachable</th>\n",
       "      <td>0.308342</td>\n",
       "      <td>0.238119</td>\n",
       "    </tr>\n",
       "    <tr>\n",
       "      <th>Fault Cleared</th>\n",
       "      <td>0.089757</td>\n",
       "      <td>0.054314</td>\n",
       "    </tr>\n",
       "    <tr>\n",
       "      <th>Boot up</th>\n",
       "      <td>0.035903</td>\n",
       "      <td>0.011233</td>\n",
       "    </tr>\n",
       "    <tr>\n",
       "      <th>Bootup Due to WATCHDOG</th>\n",
       "      <td>0.011616</td>\n",
       "      <td>0.007530</td>\n",
       "    </tr>\n",
       "    <tr>\n",
       "      <th>Maintenance Required</th>\n",
       "      <td>0.011616</td>\n",
       "      <td>0.000741</td>\n",
       "    </tr>\n",
       "    <tr>\n",
       "      <th>Circuit Sharing Current Restored</th>\n",
       "      <td>0.010560</td>\n",
       "      <td>0.094680</td>\n",
       "    </tr>\n",
       "    <tr>\n",
       "      <th>Data Partition Full</th>\n",
       "      <td>0.009504</td>\n",
       "      <td>0.015554</td>\n",
       "    </tr>\n",
       "    <tr>\n",
       "      <th>Bootup Due to SOFT RESET</th>\n",
       "      <td>0.007392</td>\n",
       "      <td>0.014072</td>\n",
       "    </tr>\n",
       "    <tr>\n",
       "      <th>Circuit Sharing Current Reduced</th>\n",
       "      <td>0.005280</td>\n",
       "      <td>0.053574</td>\n",
       "    </tr>\n",
       "    <tr>\n",
       "      <th>IP Mismatch Detected</th>\n",
       "      <td>0.004224</td>\n",
       "      <td>0.018516</td>\n",
       "    </tr>\n",
       "    <tr>\n",
       "      <th>Bootup Due to POWER ON</th>\n",
       "      <td>0.002112</td>\n",
       "      <td>0.001234</td>\n",
       "    </tr>\n",
       "    <tr>\n",
       "      <th>Hardware Fault Station Out Of Service</th>\n",
       "      <td>0.001056</td>\n",
       "      <td>NaN</td>\n",
       "    </tr>\n",
       "    <tr>\n",
       "      <th>Powered Off</th>\n",
       "      <td>0.001056</td>\n",
       "      <td>0.000617</td>\n",
       "    </tr>\n",
       "    <tr>\n",
       "      <th>Tamper Detect</th>\n",
       "      <td>NaN</td>\n",
       "      <td>0.093939</td>\n",
       "    </tr>\n",
       "    <tr>\n",
       "      <th>Unknown RFID</th>\n",
       "      <td>NaN</td>\n",
       "      <td>0.001481</td>\n",
       "    </tr>\n",
       "    <tr>\n",
       "      <th>Bootup Due to SWITCH</th>\n",
       "      <td>NaN</td>\n",
       "      <td>0.000494</td>\n",
       "    </tr>\n",
       "    <tr>\n",
       "      <th>FCheck Error</th>\n",
       "      <td>NaN</td>\n",
       "      <td>0.000123</td>\n",
       "    </tr>\n",
       "    <tr>\n",
       "      <th>GFCI Soft Trip</th>\n",
       "      <td>NaN</td>\n",
       "      <td>0.000123</td>\n",
       "    </tr>\n",
       "    <tr>\n",
       "      <th>RFID Update Failed</th>\n",
       "      <td>NaN</td>\n",
       "      <td>0.000123</td>\n",
       "    </tr>\n",
       "  </tbody>\n",
       "</table>\n",
       "</div>"
      ],
      "text/plain": [
       "                                       Troubled  Non-Troubled\n",
       "Alarm Name                                                   \n",
       "Reachable                              0.501584      0.393532\n",
       "Unreachable                            0.308342      0.238119\n",
       "Fault Cleared                          0.089757      0.054314\n",
       "Boot up                                0.035903      0.011233\n",
       "Bootup Due to WATCHDOG                 0.011616      0.007530\n",
       "Maintenance Required                   0.011616      0.000741\n",
       "Circuit Sharing Current Restored       0.010560      0.094680\n",
       "Data Partition Full                    0.009504      0.015554\n",
       "Bootup Due to SOFT RESET               0.007392      0.014072\n",
       "Circuit Sharing Current Reduced        0.005280      0.053574\n",
       "IP Mismatch Detected                   0.004224      0.018516\n",
       "Bootup Due to POWER ON                 0.002112      0.001234\n",
       "Hardware Fault Station Out Of Service  0.001056           NaN\n",
       "Powered Off                            0.001056      0.000617\n",
       "Tamper Detect                               NaN      0.093939\n",
       "Unknown RFID                                NaN      0.001481\n",
       "Bootup Due to SWITCH                        NaN      0.000494\n",
       "FCheck Error                                NaN      0.000123\n",
       "GFCI Soft Trip                              NaN      0.000123\n",
       "RFID Update Failed                          NaN      0.000123"
      ]
     },
     "metadata": {},
     "output_type": "display_data"
    }
   ],
   "source": [
    "print_md(\"#### **Troubled Stations (Watch List or Needs Service)**\")\n",
    "troubled_stations = station_overview[station_overview[\"Station Status\"].isin([\"Watch List\", \"Needs Service\"])]\n",
    "display(troubled_stations)\n",
    "\n",
    "print_md(\"#### **Alarms From Troubled Stations (Last 30 days)**\")\n",
    "thirty_days_ago = pandas.to_datetime(datetime.now() - timedelta(days=30), utc=True)\n",
    "month_alarms = alarms[alarms[\"Alarm Time\"] > thirty_days_ago]\n",
    "troubled_month_alarms = month_alarms[month_alarms[\"MAC Address\"].isin(troubled_stations[\"MAC Address\"])]\n",
    "display(troubled_month_alarms)\n",
    "\n",
    "print_md(\"#### **Alarm Name Counts and Frequency From Troubled Stations (Last 30 days)**\")\n",
    "alarm_name_counts_troubled = troubled_month_alarms.value_counts(\"Alarm Name\")\n",
    "alarm_name_freq_troubled = troubled_month_alarms.value_counts(\"Alarm Name\", normalize=True)\n",
    "display(pandas.concat([alarm_name_counts_troubled, alarm_name_freq_troubled], axis=1))\n",
    "\n",
    "print_md(\"#### **Alarm Name Counts From Non-Troubled Stations (Last 30 days)**\")\n",
    "non_troubled_month_alarms = month_alarms[month_alarms[\"MAC Address\"].isin(troubled_stations[\"MAC Address\"]) == False]\n",
    "alarm_name_counts_non_troubled = non_troubled_month_alarms.value_counts(\"Alarm Name\")\n",
    "alarm_name_freq_non_troubled = non_troubled_month_alarms.value_counts(\"Alarm Name\", normalize=True)\n",
    "display(pandas.concat([alarm_name_counts_non_troubled, alarm_name_freq_non_troubled], axis=1))\n",
    "\n",
    "print_md(\"#### **Alarm Name Frequency of Troubled vs. Non-Troubled Stations (Last 30 days)**\")\n",
    "alarm_name_freq_compare = pandas.concat([alarm_name_freq_troubled, alarm_name_freq_non_troubled], axis=1)\n",
    "alarm_name_freq_compare.columns = [\"Troubled\", \"Non-Troubled\"]\n",
    "display(alarm_name_freq_compare)"
   ]
  }
 ],
 "metadata": {
  "kernelspec": {
   "display_name": "Python 3",
   "language": "python",
   "name": "python3"
  },
  "language_info": {
   "codemirror_mode": {
    "name": "ipython",
    "version": 3
   },
   "file_extension": ".py",
   "mimetype": "text/x-python",
   "name": "python",
   "nbconvert_exporter": "python",
   "pygments_lexer": "ipython3",
   "version": "3.11.4"
  },
  "orig_nbformat": 4
 },
 "nbformat": 4,
 "nbformat_minor": 2
}
