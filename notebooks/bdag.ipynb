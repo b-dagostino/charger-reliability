{
 "cells": [
  {
   "cell_type": "markdown",
   "metadata": {},
   "source": [
    "# **Stanford Transportation - ChargePoint EV Chargers - Sep-2023**"
   ]
  },
  {
   "cell_type": "markdown",
   "metadata": {},
   "source": [
    "## **Initialization**"
   ]
  },
  {
   "cell_type": "markdown",
   "metadata": {},
   "source": [
    "### **Code Setup**"
   ]
  },
  {
   "cell_type": "code",
   "execution_count": 1,
   "metadata": {},
   "outputs": [],
   "source": [
    "from datetime import datetime, timedelta\n",
    "import sys\n",
    "from typing import Optional\n",
    "from zoneinfo import ZoneInfo\n",
    "\n",
    "from IPython.display import display\n",
    "from matplotlib import pyplot as plt\n",
    "import networkx as nx\n",
    "import pandas as pd\n",
    "\n",
    "# Add repo's python directory to PYTHONPATH so we can import our utilities\n",
    "sys.path.append('../python/')\n",
    "\n",
    "from s3l_utils.dataset import Dataset\n",
    "from s3l_utils.notebook import print_md\n",
    "from s3l_utils.functional import grouper\n",
    "\n",
    "# Output formatting\n",
    "pd.set_option('display.max_columns', None)\n",
    "pd.set_option('display.max_rows', 100)\n",
    "\n",
    "# Timezone abbreviation to zoneinfo\n",
    "tz_abbrev_to_zoneinfo = {\n",
    "    'PDT': ZoneInfo('US/Pacific'),\n",
    "    'PST': ZoneInfo('US/Pacific'),\n",
    "}\n",
    "\n",
    "# Convert alarm times to proper datetimes... why is this so hard???\n",
    "def alarm_time_to_datetime(alarm_time):\n",
    "    if isinstance(alarm_time, datetime):\n",
    "        return alarm_time\n",
    "\n",
    "    components = alarm_time.split()\n",
    "    naive_time = datetime.strptime(' '.join(components[:-1]), '%Y-%m-%d %H:%M:%S')\n",
    "    aware_time = naive_time.astimezone(tz_abbrev_to_zoneinfo[components[-1][1:-1]])\n",
    "    return aware_time\n",
    "\n",
    "# Summarize table\n",
    "def summarize_dataframe_md(df: pd.DataFrame, header: str = ''):\n",
    "    if header:\n",
    "        print_md(f'#### **{header}**')\n",
    "    \n",
    "    print_md(f'**Number of Rows:** {len(df)}')\n",
    "    print_md(f'**Columns:** {\", \".join(df.columns)}')\n",
    "\n",
    "    print_md('#### **Unique Column Values**')\n",
    "    for column in df.columns:\n",
    "        unique_column_values = ', '.join(filter(None, map(str, list(df[column].unique()))))\n",
    "        print_md(f'##### **{column.strip()}**')\n",
    "        print_md(unique_column_values)\n",
    "\n",
    "# Pandas options\n",
    "# pd.set_option('display.max_rows', None)"
   ]
  },
  {
   "cell_type": "markdown",
   "metadata": {},
   "source": [
    "### **Load and Prepare Dataset**"
   ]
  },
  {
   "cell_type": "code",
   "execution_count": 2,
   "metadata": {},
   "outputs": [],
   "source": [
    "# Load dataset and tables\n",
    "dataset = Dataset('../data/manifest.yml')\n",
    "station_overview = dataset.stations.overview\n",
    "alarms = dataset.reports.alarms\n",
    "station_inventory = dataset.organizations.inventory.stations\n",
    "\n",
    "# Canonicalize alarm times to US/Pacific datetimes\n",
    "if not pd.api.types.is_datetime64_any_dtype(alarms['Alarm Time']):\n",
    "    # alarms['Alarm Time'] = pd.to_datetime(alarms['Alarm Time'].map(lambda x: ' '.join(x.split()[:-1]))).dt.tz_localize('US/Pacific', ambiguous='NaT')\n",
    "    dst_map = alarms['Alarm Time'].str.contains('PST')\n",
    "    alarms['Alarm Time'] = pd.to_datetime(alarms['Alarm Time'].map(lambda x: ' '.join(x.split()[:-1]))).dt.tz_localize('US/Pacific', dst_map)"
   ]
  },
  {
   "cell_type": "markdown",
   "metadata": {},
   "source": [
    "## **Analysis**"
   ]
  },
  {
   "cell_type": "markdown",
   "metadata": {},
   "source": [
    "### **Station Overview**"
   ]
  },
  {
   "cell_type": "code",
   "execution_count": 3,
   "metadata": {},
   "outputs": [
    {
     "data": {
      "text/markdown": [
       "#### **Station Overview Summary**"
      ]
     },
     "metadata": {},
     "output_type": "display_data"
    },
    {
     "data": {
      "text/markdown": [
       "**Number of Rows:** 109"
      ]
     },
     "metadata": {},
     "output_type": "display_data"
    },
    {
     "data": {
      "text/markdown": [
       "**Columns:** Model Number, Station Name, Org Name, MAC Address, System S/N, Address 1, Address 2, Floor Label, City, State, Zip/Postal Code, County, Country , Activation Status, Network Status, Station Status, Port 1 Status, Port 2 Status, No. of Ports, Pricing Policy Name, Reservations, Station Message, Enabled, Station Activation Type, Usable By, Visibility (Access Policy Name), EVSE ID, Radio Group Name, Software Version, Customer Category, Customer Subcategory, Circuit Sharing, Currency Name, Power Select / AC Breaker Rating, Scheduled Charging Policy Name, Warranty, Station Activation Date, Warranty Expiration Date, Warranty Service, Plug Type, Device Access Restriction, Waitlist Policy Name, Asset Tag ID, Meter ID, Service Delivery Point ID, Point of Service ID, Account ID, Circuit ID, Panel ID, Customer Name, Customer ID, Site ID, Site mode, Site Validation Status, Paired, Latitude, Longitude"
      ]
     },
     "metadata": {},
     "output_type": "display_data"
    },
    {
     "data": {
      "text/markdown": [
       "#### **Unique Column Values**"
      ]
     },
     "metadata": {},
     "output_type": "display_data"
    },
    {
     "data": {
      "text/markdown": [
       "##### **Model Number**"
      ]
     },
     "metadata": {},
     "output_type": "display_data"
    },
    {
     "data": {
      "text/markdown": [
       "CT4020-HD, CT4020-HD-GW, CT4020-HD2-GW-LTE, CT4010-HD-GW, CT4010-HD, CPE200T-S-CHD-CMB"
      ]
     },
     "metadata": {},
     "output_type": "display_data"
    },
    {
     "data": {
      "text/markdown": [
       "##### **Station Name**"
      ]
     },
     "metadata": {},
     "output_type": "display_data"
    },
    {
     "data": {
      "text/markdown": [
       "STANFORD / THO NGW-B5, STANFORD / THO NGW-B4, STANFORD / THO NGW-B3, STANFORD / THO NGW-B2, STANFORD / THO NGW-B1, STANFORD / THO NGW-A5 ADA, STANFORD / THO NGW-A4, STANFORD / THO NGW-A3, STANFORD / THO NGW-A2, STANFORD / THO NGW-A1, STANFORD / THO GW-B, STANFORD / THO GW-A, STANFORD / TH WALL MOUNT, STANFORD / TH STATION 1, STANFORD / STATION 9, STANFORD / STATION 8 PS-5, STANFORD / STATION 8, STANFORD / STATION 7 PS-5, STANFORD / STATION 7, STANFORD / STATION 6 PS-5, STANFORD / STATION 6, STANFORD / STATION 5 PS-5, STANFORD / STATION 5, STANFORD / STATION 4 PS-5, STANFORD / STATION 4, STANFORD / STATION 3 PS-5, STANFORD / STATION 3, STANFORD / STATION 2 TMU, STANFORD / STATION 2 PS-5, STANFORD / STATION 2, STANFORD / STATION 11, STANFORD / STATION 10, STANFORD / STATION 1 TMU, STANFORD / STATION 1 PS-5, STANFORD / STATION 1, STANFORD / ROBLE LL2-12, STANFORD / OAK ROAD #1, STANFORD / CD STATION 6, STANFORD / CD STATION 4, STANFORD / CD STATION 3, STANFORD / CD STATION 2, STANFORD / CD STATION 1, STANFORD / CD GATEWAY #3, STANFORD / CD GATEWAY #2, STANFORD / CD GATEWAY #1, STANFORD / CAM 6 LL1, STANFORD / CAM 5 LL1, STANFORD / CAM 4 LL1, STANFORD / CAM 3 LL1, STANFORD / CAM 2 LL1, STANFORD / CAM 1 LL1, SRWC / RWC L5 5, SRWC / RWC L5 4, SRWC / RWC L5 3, SRWC / RWC L5 2, SRWC / RWC L5 1, SRWC / RWC L4 4, SRWC / RWC L4 3, SRWC / RWC L4 2, SRWC / RWC L4 1, SRWC / RWC L3 4, SRWC / RWC L3 3, SRWC / RWC L3 2, SRWC / RWC L3 1, SRWC / RWC L2 4, SRWC / RWC L2 3, SRWC / RWC L2 2, SRWC / RWC L2 1, SRWC / RWC L1 6, SRWC / RWC L1 5, SRWC / RWC L1 4, SRWC / RWC L1 3, SRWC / RWC L1 2, SRWC / RWC L1 1, SRWC / RWC B1 4, SRWC / RWC B1 3, SRWC / RWC B1 2, SRWC / RWC B1 1, SRWC / CHARGER 5, SRWC / CHARGER 4, SRWC / CHARGER 3, SRWC / CHARGER 2, SRWC / CHARGER 1, ROBLE / ROBLE LL2-9, ROBLE / ROBLE LL2-8, ROBLE / ROBLE LL2-7, ROBLE / ROBLE LL2-6, ROBLE / ROBLE LL2-5, ROBLE / ROBLE LL2-4, ROBLE / ROBLE LL2-3, ROBLE / ROBLE LL2-2, ROBLE / ROBLE LL2-14, ROBLE / ROBLE LL2-13, ROBLE / ROBLE LL2-11, ROBLE / ROBLE LL2-10, ROBLE / ROBLE LL2-1, ROBLE / ROBLE LL1-DIS, ROBLE / ROBLE LL1-9, ROBLE / ROBLE LL1-8, ROBLE / ROBLE LL1-7, ROBLE / ROBLE LL1-6, ROBLE / ROBLE LL1-5, ROBLE / ROBLE LL1-4, ROBLE / ROBLE LL1-3, ROBLE / ROBLE LL1-2, ROBLE / ROBLE LL1-12, ROBLE / ROBLE LL1-11, ROBLE / ROBLE LL1-10, ROBLE / ROBLE LL1-1"
      ]
     },
     "metadata": {},
     "output_type": "display_data"
    },
    {
     "data": {
      "text/markdown": [
       "##### **Org Name**"
      ]
     },
     "metadata": {},
     "output_type": "display_data"
    },
    {
     "data": {
      "text/markdown": [
       "Stanford University"
      ]
     },
     "metadata": {},
     "output_type": "display_data"
    },
    {
     "data": {
      "text/markdown": [
       "##### **MAC Address**"
      ]
     },
     "metadata": {},
     "output_type": "display_data"
    },
    {
     "data": {
      "text/markdown": [
       "0024:B100:0003:12F8, 0024:B100:0003:130F, 0024:B100:0003:12EE, 0024:B100:0003:12F1, 0024:B100:0003:12D9, 0024:B100:0003:1318, 0024:B100:0003:1312, 0024:B100:0003:130E, 0024:B100:0003:130B, 0024:B100:0003:12EB, 0024:B100:0003:2C1C, 0024:B100:0003:2A8C, 0024:B100:0002:16F3, 0024:B100:0004:0667, 0024:B100:0006:C0E1, 0024:B100:0002:15D4, 0024:B100:0006:BD1D, 0024:B100:0002:1C6A, 0024:B100:0006:C802, 0024:B100:0002:15D0, 0024:B100:0006:BD13, 0024:B100:0002:15DF, 0024:B100:0006:BD20, 0024:B100:0002:13E5, 0024:B100:0006:C80F, 0024:B100:0002:1F6C, 0024:B100:0006:C80C, 0024:B100:0006:BC3D, 0024:B100:0004:3B91, 0024:B100:0006:C0E2, 0024:B100:000C:083C, 0024:B100:0006:C7DC, 0024:B100:0003:33C3, 0024:B100:0002:1EED, 0024:B100:0006:4538, 0024:B100:0002:2A6E, 0024:B100:0003:824E, 0024:B100:0003:2ADF, 0024:B100:0004:2ED8, 0024:B100:0003:2AB1, 0024:B100:0004:A22C, 0024:B100:0003:2AB5, 0024:B100:0004:1B12, 0024:B100:0004:A250, 0024:B100:0004:C4B2, 0024:B100:0003:C68A, 0024:B100:0003:C689, 0024:B100:0003:BF91, 0024:B100:0003:BF3D, 0024:B100:0004:0E93, 0024:B100:0003:BF3B, 0024:B100:0002:8DD9, 0024:B100:0002:8E32, 0024:B100:0002:A917, 0024:B100:0003:1F95, 0024:B100:0002:9194, 0024:B100:0002:8E49, 0024:B100:0002:8FD1, 0024:B100:0002:8E36, 0024:B100:0002:8E37, 0024:B100:0002:8E28, 0024:B100:0002:8E02, 0024:B100:0002:91C3, 0024:B100:0002:918F, 0024:B100:0002:8E2F, 0024:B100:0002:8E27, 0024:B100:0002:8FCA, 0024:B100:0002:8E2C, 0024:B100:0002:B04A, 0024:B100:0002:919B, 0024:B100:0002:AE14, 0024:B100:0002:AD71, 0024:B100:0002:9202, 0024:B100:0002:594F, 0024:B100:0002:8DDC, 0024:B100:0003:9836, 0024:B100:0002:9193, 0024:B100:0002:8E4A, 000D:6F00:04F8:B0AC, 0024:B100:0002:5752, 0024:B100:0002:575E, 0024:B100:0002:5144, 0024:B100:0002:4AEB, 0024:B100:0002:295F, 0024:B100:0002:2A8E, 0024:B100:0002:2A74, 0024:B100:0002:2A6B, 0024:B100:0002:2A70, 0024:B100:0002:2A80, 0024:B100:0002:2955, 0024:B100:0002:297C, 0024:B100:0002:5154, 0024:B100:0002:294E, 0024:B100:0002:2A7B, 0024:B100:0002:2A71, 0024:B100:0002:5134, 0024:B100:0002:299E, 0024:B100:0004:5D08, 0024:B100:0002:2A7C, 0024:B100:0002:2940, 0024:B100:0002:2954, 0024:B100:0003:D5D6, 0024:B100:0003:D26F, 0024:B100:0002:2A73, 0024:B100:0004:20C4, 0024:B100:0004:0EC1, 0024:B100:0002:3F5A, 0024:B100:0004:5CE8, 0024:B100:0002:5158"
      ]
     },
     "metadata": {},
     "output_type": "display_data"
    },
    {
     "data": {
      "text/markdown": [
       "##### **System S/N**"
      ]
     },
     "metadata": {},
     "output_type": "display_data"
    },
    {
     "data": {
      "text/markdown": [
       "184141024581, 184141024600, 184141024577, 184141024593, 184141024567, 184141024610, 184141024603, 184141024588, 184141024608, 184141024573, 184841030920, 184741030870, 143641006567, 201741012775, 220241003311, 143441006254, 220141000705, 145041008118, 220241003288, 143441006255, 220141000697, 143441006275, 220141000714, 143041005775, 220241003284, 150341000232, 220241003312, 220141000444, 200541004831, 220241003310, 231641072278, 220241003273, 153741004116, 150241000120, 213841045402, 152741003067, 193041017182, 184741030714, 192741015842, 184741030692, 210241001954, 184741030683, 192641015360, 210241001974, 211141011323, 195241034416, 195241034419, 195041032475, 195041032407, 170141000309, 195041032410, 173441009978, 173441009986, 175241017410, 184541028755, 173641010743, 173441009989, 173541010301, 173441009990, 173441010008, 173441009974, 173541010298, 173641010752, 173641010749, 173441009983, 173441009973, 173541010306, 173441009984, 180241000629, 173641010742, 175241017163, 175141017015, 173641010746, 164041005488, 173441009933, 164741006937, 173641010737, 173441009991, 37569, 163841004932, 163841004941, 162741003523, 153441003891, 152541002783, 152741003076, 152741003072, 152741003068, 152741003081, 152741003082, 152541002779, 152541002807, 162841003554, 152541002762, 152741003077, 152741003079, 162741003546, 152641002898, 183441017415, 152741003088, 152541002775, 152541002778, 200441003033, 200341002120, 152741003075, 185141033955, 172641007698, 155141008435, 164941007425, 162841003560"
      ]
     },
     "metadata": {},
     "output_type": "display_data"
    },
    {
     "data": {
      "text/markdown": [
       "##### **Address 1**"
      ]
     },
     "metadata": {},
     "output_type": "display_data"
    },
    {
     "data": {
      "text/markdown": [
       "740 Serra St, 295 Galvez St, 400 El Camino Real, 340 Oak Rd, 495 El Camino Real, 360 Oak Rd, 526-566 Lagunita Dr, 526-566 Stanford UniversityLagunita Dr, 375 Santa Teresa St, 484 Oak Rd, 742 Campus Drive, 453 Quarry Rd, 425 Broadway, 2850 Bay Rd, 2858 Bay Rd, 585 Broadway, 900-998 Douglas Ave, 373 Santa Teresa St, 287 Santa Teresa St, 671-725 Panama St"
      ]
     },
     "metadata": {},
     "output_type": "display_data"
    },
    {
     "data": {
      "text/markdown": [
       "##### **Address 2**"
      ]
     },
     "metadata": {},
     "output_type": "display_data"
    },
    {
     "data": {
      "text/markdown": [
       "Manzanita Garage"
      ]
     },
     "metadata": {},
     "output_type": "display_data"
    },
    {
     "data": {
      "text/markdown": [
       "##### **Floor Label**"
      ]
     },
     "metadata": {},
     "output_type": "display_data"
    },
    {
     "data": {
      "text/markdown": [
       "1, L5, L4, L3, L2, L1, B1"
      ]
     },
     "metadata": {},
     "output_type": "display_data"
    },
    {
     "data": {
      "text/markdown": [
       "##### **City**"
      ]
     },
     "metadata": {},
     "output_type": "display_data"
    },
    {
     "data": {
      "text/markdown": [
       "Stanford, Menlo Park, Palo Alto, Redwood City"
      ]
     },
     "metadata": {},
     "output_type": "display_data"
    },
    {
     "data": {
      "text/markdown": [
       "##### **State**"
      ]
     },
     "metadata": {},
     "output_type": "display_data"
    },
    {
     "data": {
      "text/markdown": [
       "California"
      ]
     },
     "metadata": {},
     "output_type": "display_data"
    },
    {
     "data": {
      "text/markdown": [
       "##### **Zip/Postal Code**"
      ]
     },
     "metadata": {},
     "output_type": "display_data"
    },
    {
     "data": {
      "text/markdown": [
       "94305, 94025, 94304, 94063"
      ]
     },
     "metadata": {},
     "output_type": "display_data"
    },
    {
     "data": {
      "text/markdown": [
       "##### **County**"
      ]
     },
     "metadata": {},
     "output_type": "display_data"
    },
    {
     "data": {
      "text/markdown": [
       "Santa Clara County, San Mateo County"
      ]
     },
     "metadata": {},
     "output_type": "display_data"
    },
    {
     "data": {
      "text/markdown": [
       "##### **Country**"
      ]
     },
     "metadata": {},
     "output_type": "display_data"
    },
    {
     "data": {
      "text/markdown": [
       "United States"
      ]
     },
     "metadata": {},
     "output_type": "display_data"
    },
    {
     "data": {
      "text/markdown": [
       "##### **Activation Status**"
      ]
     },
     "metadata": {},
     "output_type": "display_data"
    },
    {
     "data": {
      "text/markdown": [
       "Activated"
      ]
     },
     "metadata": {},
     "output_type": "display_data"
    },
    {
     "data": {
      "text/markdown": [
       "##### **Network Status**"
      ]
     },
     "metadata": {},
     "output_type": "display_data"
    },
    {
     "data": {
      "text/markdown": [
       "Unreachable, Reachable"
      ]
     },
     "metadata": {},
     "output_type": "display_data"
    },
    {
     "data": {
      "text/markdown": [
       "##### **Station Status**"
      ]
     },
     "metadata": {},
     "output_type": "display_data"
    },
    {
     "data": {
      "text/markdown": [
       "Watch List, Available, Needs Service, Inuse"
      ]
     },
     "metadata": {},
     "output_type": "display_data"
    },
    {
     "data": {
      "text/markdown": [
       "##### **Port 1 Status**"
      ]
     },
     "metadata": {},
     "output_type": "display_data"
    },
    {
     "data": {
      "text/markdown": [
       "Watch List, Available, In Use, Needs Service"
      ]
     },
     "metadata": {},
     "output_type": "display_data"
    },
    {
     "data": {
      "text/markdown": [
       "##### **Port 2 Status**"
      ]
     },
     "metadata": {},
     "output_type": "display_data"
    },
    {
     "data": {
      "text/markdown": [
       "Watch List, Available, In Use, Needs Service"
      ]
     },
     "metadata": {},
     "output_type": "display_data"
    },
    {
     "data": {
      "text/markdown": [
       "##### **No. of Ports**"
      ]
     },
     "metadata": {},
     "output_type": "display_data"
    },
    {
     "data": {
      "text/markdown": [
       "2, 1"
      ]
     },
     "metadata": {},
     "output_type": "display_data"
    },
    {
     "data": {
      "text/markdown": [
       "##### **Pricing Policy Name**"
      ]
     },
     "metadata": {},
     "output_type": "display_data"
    },
    {
     "data": {
      "text/markdown": [
       "$1 per hr enforcement hours, $2 per hr enforcement hours $1 per hr otherwise (e, Stanford University Mirrored"
      ]
     },
     "metadata": {},
     "output_type": "display_data"
    },
    {
     "data": {
      "text/markdown": [
       "##### **Reservations**"
      ]
     },
     "metadata": {},
     "output_type": "display_data"
    },
    {
     "data": {
      "text/markdown": [
       "Disabled"
      ]
     },
     "metadata": {},
     "output_type": "display_data"
    },
    {
     "data": {
      "text/markdown": [
       "##### **Station Message**"
      ]
     },
     "metadata": {},
     "output_type": "display_data"
    },
    {
     "data": {
      "text/markdown": [
       "Plugged In Required"
      ]
     },
     "metadata": {},
     "output_type": "display_data"
    },
    {
     "data": {
      "text/markdown": [
       "##### **Enabled**"
      ]
     },
     "metadata": {},
     "output_type": "display_data"
    },
    {
     "data": {
      "text/markdown": [
       "Yes"
      ]
     },
     "metadata": {},
     "output_type": "display_data"
    },
    {
     "data": {
      "text/markdown": [
       "##### **Station Activation Type**"
      ]
     },
     "metadata": {},
     "output_type": "display_data"
    },
    {
     "data": {
      "text/markdown": [
       "Public"
      ]
     },
     "metadata": {},
     "output_type": "display_data"
    },
    {
     "data": {
      "text/markdown": [
       "##### **Usable By**"
      ]
     },
     "metadata": {},
     "output_type": "display_data"
    },
    {
     "data": {
      "text/markdown": [
       "All Drivers, Stanford University Mirrored"
      ]
     },
     "metadata": {},
     "output_type": "display_data"
    },
    {
     "data": {
      "text/markdown": [
       "##### **Visibility (Access Policy Name)**"
      ]
     },
     "metadata": {},
     "output_type": "display_data"
    },
    {
     "data": {
      "text/markdown": [
       "No Drivers, All Drivers, Stanford University Mirrored"
      ]
     },
     "metadata": {},
     "output_type": "display_data"
    },
    {
     "data": {
      "text/markdown": [
       "##### **EVSE ID**"
      ]
     },
     "metadata": {},
     "output_type": "display_data"
    },
    {
     "data": {
      "text/markdown": [
       "1942901, 1942891, 1942871, 1942831, 1942771, 1943001, 1942971, 1942961, 1942951, 1942911, 715031, 715051, 119361, 118801, 13124741, 110213, 13124781, 117141, 13124701, 110125, 13124811, 110209, 13124771, 107663, 13124731, 118797, 13124761, 118781, 119315, 13124721, 13125171, 13125341, 119355, 118785, 13124711, 126643, 2002541, 5499441, 5499291, 5499251, 5499161, 5498991, 5390121, 5441611, 5456051, 5485451, 5474401, 5474381, 5475761, 5480591, 5474391, 239571, 239611, 428361, 738381, 254601, 239441, 247101, 239411, 239671, 239621, 246721, 254841, 254621, 239541, 239631, 246861, 239531, 446341, 254801, 422291, 419271, 254681, 254641, 239661, 246781, 254711, 239511, 158679, 168373, 168401, 162597, 2100951, 125893, 126669, 126653, 126645, 126683, 126679, 125887, 125961, 162667, 125833, 126661, 126673, 162657, 126187, 126651, 126695, 125855, 125881, 126277, 125885, 126663, 126169, 162655, 148717, 126693, 162797"
      ]
     },
     "metadata": {},
     "output_type": "display_data"
    },
    {
     "data": {
      "text/markdown": [
       "##### **Radio Group Name**"
      ]
     },
     "metadata": {},
     "output_type": "display_data"
    },
    {
     "data": {
      "text/markdown": [
       "RG-GW1, RG-GW2, Track House, RG_00040667, GW 9, PS5 - SW Wall, GW 8, GW 7, GW 6, GW 5, GW 4, PS-5 NW Wall, GW 3, RG_0006BC3D, GW 2, GW 11, GW 10, TMU, GW 1, LL2 Group 1, Oak Road RG 01, Campus Dr RG2, RG_00042ED8, Campus Dr RG1, RG_0004A22C, Campus Dr RG3, Quarry Rd RG 6, Quarry Rd RG 5, Quarry Rd RG 4, Quarry Rd RG 3, Quarry Rd RG 2, Quarry Rd RG 1, RWC L5, RWC L4, RWC L3, RWC L2, RWC L1, RWC B1, Broadway GW2, Broadway GW1, Roble LL2 Group 2, Roble LL1 Group 2, RG_00045D08, Roble LL1 Group 1, RG_0003D5D6, RG_0003D26F, RG_000420C4, RG_00045CE8"
      ]
     },
     "metadata": {},
     "output_type": "display_data"
    },
    {
     "data": {
      "text/markdown": [
       "##### **Software Version**"
      ]
     },
     "metadata": {},
     "output_type": "display_data"
    },
    {
     "data": {
      "text/markdown": [
       "4.6.0.46, 4.20.0+2023.02.10.63-alpha, 4.6.0.39, 4.5.0.40, 3.7.9.19-6777192/v1.5.80000000000, 4.6.0.33, 4.6.0.35"
      ]
     },
     "metadata": {},
     "output_type": "display_data"
    },
    {
     "data": {
      "text/markdown": [
       "##### **Customer Category**"
      ]
     },
     "metadata": {},
     "output_type": "display_data"
    },
    {
     "data": {
      "text/markdown": [
       "Education, Workplace"
      ]
     },
     "metadata": {},
     "output_type": "display_data"
    },
    {
     "data": {
      "text/markdown": [
       "##### **Customer Subcategory**"
      ]
     },
     "metadata": {},
     "output_type": "display_data"
    },
    {
     "data": {
      "text/markdown": [
       "University / College, General"
      ]
     },
     "metadata": {},
     "output_type": "display_data"
    },
    {
     "data": {
      "text/markdown": [
       "##### **Circuit Sharing**"
      ]
     },
     "metadata": {},
     "output_type": "display_data"
    },
    {
     "data": {
      "text/markdown": [
       "Disabled, Enabled"
      ]
     },
     "metadata": {},
     "output_type": "display_data"
    },
    {
     "data": {
      "text/markdown": [
       "##### **Currency Name**"
      ]
     },
     "metadata": {},
     "output_type": "display_data"
    },
    {
     "data": {
      "text/markdown": [
       "U.S. Dollars (USD)"
      ]
     },
     "metadata": {},
     "output_type": "display_data"
    },
    {
     "data": {
      "text/markdown": [
       "##### **Power Select / AC Breaker Rating**"
      ]
     },
     "metadata": {},
     "output_type": "display_data"
    },
    {
     "data": {
      "text/markdown": [
       "40A, 30A"
      ]
     },
     "metadata": {},
     "output_type": "display_data"
    },
    {
     "data": {
      "text/markdown": [
       "##### **Scheduled Charging Policy Name**"
      ]
     },
     "metadata": {},
     "output_type": "display_data"
    },
    {
     "data": {
      "text/markdown": []
     },
     "metadata": {},
     "output_type": "display_data"
    },
    {
     "data": {
      "text/markdown": [
       "##### **Warranty**"
      ]
     },
     "metadata": {},
     "output_type": "display_data"
    },
    {
     "data": {
      "text/markdown": [
       "ChargePoint Assure, Standard Warranty"
      ]
     },
     "metadata": {},
     "output_type": "display_data"
    },
    {
     "data": {
      "text/markdown": [
       "##### **Station Activation Date**"
      ]
     },
     "metadata": {},
     "output_type": "display_data"
    },
    {
     "data": {
      "text/markdown": [
       "2020-09-17 15:38:10, 2020-09-17 15:35:51, 2020-09-17 15:29:31, 2020-09-17 15:36:26, 2020-09-17 15:38:46, 2020-09-17 15:40:18, 2020-09-17 15:39:25, 2020-09-17 15:42:11, 2020-09-17 15:44:39, 2020-09-17 15:40:00, 2020-08-19 23:02:32, 2020-08-19 23:10:20, 2015-03-19 08:32:56, 2015-03-20 12:37:34, 2023-01-19 08:43:35, 2016-06-08 14:14:10, 2023-01-19 08:41:24, 2016-06-08 14:56:20, 2023-02-02 10:49:00, 2016-06-08 14:54:04, 2023-01-19 08:37:34, 2016-06-08 14:45:44, 2023-01-19 08:33:44, 2016-06-08 14:11:06, 2023-01-19 08:31:07, 2015-03-18 15:43:43, 2023-01-19 08:26:50, 2015-03-30 07:36:25, 2015-03-18 15:12:52, 2023-01-19 08:20:56, 2023-05-11 14:04:13, 2023-03-06 12:38:27, 2015-03-19 15:24:31, 2015-03-18 15:22:59, 2023-01-19 08:10:23, 2017-02-01 11:44:03, 2020-05-28 05:26:59, 2020-12-22 17:53:21, 2020-11-25 17:06:57, 2020-11-25 17:07:07, 2020-11-25 16:50:44, 2020-11-25 16:52:25, 2021-05-11 09:01:41, 2020-12-19 23:28:41, 2020-11-25 14:57:07, 2021-03-22 10:30:10, 2021-03-16 14:00:45, 2021-03-16 13:53:28, 2021-03-22 11:53:21, 2021-10-12 12:55:13, 2021-03-16 12:59:29, 2019-03-15 06:51:13, 2019-03-15 06:55:18, 2019-03-15 05:56:15, 2019-03-15 06:53:15, 2019-03-15 06:49:16, 2019-03-15 06:35:19, 2019-03-15 05:44:19, 2019-03-15 06:39:16, 2019-03-15 06:37:20, 2019-03-15 06:45:14, 2019-03-15 05:38:11, 2019-03-15 06:47:15, 2019-03-15 06:43:15, 2019-03-15 06:39:14, 2019-03-15 06:35:18, 2019-03-15 05:36:14, 2019-03-15 06:37:13, 2019-03-15 05:34:14, 2019-03-15 06:43:16, 2019-03-15 06:49:14, 2019-03-15 06:39:15, 2019-03-15 06:47:14, 2019-03-15 06:45:15, 2019-03-15 05:54:18, 2019-03-15 05:22:14, 2019-03-15 05:52:14, 2019-03-15 05:56:13, 2020-11-11 06:56:36, 2017-03-23 17:38:00, 2017-03-23 17:37:23, 2017-03-23 16:35:37, 2020-02-11 13:52:31, 2017-01-31 15:24:07, 2017-01-31 14:43:12, 2017-01-31 15:24:08, 2017-01-31 15:20:58, 2017-02-01 03:56:40, 2017-01-31 15:27:12, 2017-01-27 17:27:15, 2017-01-27 18:33:32, 2017-01-27 13:18:14, 2017-01-27 13:30:53, 2017-01-31 16:36:41, 2017-02-01 02:20:56, 2017-01-27 16:59:07, 2017-01-27 15:02:08, 2017-01-26 17:26:13, 2017-01-26 17:35:38, 2017-01-26 17:45:11, 2017-01-26 17:32:28, 2017-01-26 18:10:23, 2017-01-26 17:48:17, 2017-01-26 17:29:23, 2017-01-26 17:51:26, 2017-01-26 14:33:33, 2017-01-26 15:27:05, 2017-01-31 15:17:50, 2017-01-26 16:39:08"
      ]
     },
     "metadata": {},
     "output_type": "display_data"
    },
    {
     "data": {
      "text/markdown": [
       "##### **Warranty Expiration Date**"
      ]
     },
     "metadata": {},
     "output_type": "display_data"
    },
    {
     "data": {
      "text/markdown": [
       "2023-12-31, 2027-09-11, 2021-05-28, 2026-03-22, 2026-03-16, 2026-10-12, 2020-03-15, 2021-11-11, 2018-03-23, 2021-02-11"
      ]
     },
     "metadata": {},
     "output_type": "display_data"
    },
    {
     "data": {
      "text/markdown": [
       "##### **Warranty Service**"
      ]
     },
     "metadata": {},
     "output_type": "display_data"
    },
    {
     "data": {
      "text/markdown": [
       "Parts & Labor, Parts Only"
      ]
     },
     "metadata": {},
     "output_type": "display_data"
    },
    {
     "data": {
      "text/markdown": [
       "##### **Plug Type**"
      ]
     },
     "metadata": {},
     "output_type": "display_data"
    },
    {
     "data": {
      "text/markdown": [
       "J1772, CHAdeMO, Combo"
      ]
     },
     "metadata": {},
     "output_type": "display_data"
    },
    {
     "data": {
      "text/markdown": [
       "##### **Device Access Restriction**"
      ]
     },
     "metadata": {},
     "output_type": "display_data"
    },
    {
     "data": {
      "text/markdown": [
       "NONE"
      ]
     },
     "metadata": {},
     "output_type": "display_data"
    },
    {
     "data": {
      "text/markdown": [
       "##### **Waitlist Policy Name**"
      ]
     },
     "metadata": {},
     "output_type": "display_data"
    },
    {
     "data": {
      "text/markdown": []
     },
     "metadata": {},
     "output_type": "display_data"
    },
    {
     "data": {
      "text/markdown": [
       "##### **Asset Tag ID**"
      ]
     },
     "metadata": {},
     "output_type": "display_data"
    },
    {
     "data": {
      "text/markdown": [
       "152541002783, 152741003076, 152741003072, 152741003068, 152741003081, 152741003082, 152541002779, 152541002807, 162841003554, 152541002762, 152741003077, 152741003079, 162741003546, 152641002898, 152741003088, 152541002775, 152541002778, 152641002895, 152541002782, 152741003075, 155141008435, 162841003560"
      ]
     },
     "metadata": {},
     "output_type": "display_data"
    },
    {
     "data": {
      "text/markdown": [
       "##### **Meter ID**"
      ]
     },
     "metadata": {},
     "output_type": "display_data"
    },
    {
     "data": {
      "text/markdown": [
       "SN152741003067"
      ]
     },
     "metadata": {},
     "output_type": "display_data"
    },
    {
     "data": {
      "text/markdown": [
       "##### **Service Delivery Point ID**"
      ]
     },
     "metadata": {},
     "output_type": "display_data"
    },
    {
     "data": {
      "text/markdown": []
     },
     "metadata": {},
     "output_type": "display_data"
    },
    {
     "data": {
      "text/markdown": [
       "##### **Point of Service ID**"
      ]
     },
     "metadata": {},
     "output_type": "display_data"
    },
    {
     "data": {
      "text/markdown": []
     },
     "metadata": {},
     "output_type": "display_data"
    },
    {
     "data": {
      "text/markdown": [
       "##### **Account ID**"
      ]
     },
     "metadata": {},
     "output_type": "display_data"
    },
    {
     "data": {
      "text/markdown": []
     },
     "metadata": {},
     "output_type": "display_data"
    },
    {
     "data": {
      "text/markdown": [
       "##### **Circuit ID**"
      ]
     },
     "metadata": {},
     "output_type": "display_data"
    },
    {
     "data": {
      "text/markdown": []
     },
     "metadata": {},
     "output_type": "display_data"
    },
    {
     "data": {
      "text/markdown": [
       "##### **Panel ID**"
      ]
     },
     "metadata": {},
     "output_type": "display_data"
    },
    {
     "data": {
      "text/markdown": []
     },
     "metadata": {},
     "output_type": "display_data"
    },
    {
     "data": {
      "text/markdown": [
       "##### **Customer Name**"
      ]
     },
     "metadata": {},
     "output_type": "display_data"
    },
    {
     "data": {
      "text/markdown": [
       "Stanford Parking & Transportation Services, ABM Electrical & Lighting Solutions, LLC (SoCal), Oak Park Unified School District, The Board of Trustees of The Leland Stanford Junior University, Stanford University"
      ]
     },
     "metadata": {},
     "output_type": "display_data"
    },
    {
     "data": {
      "text/markdown": [
       "##### **Customer ID**"
      ]
     },
     "metadata": {},
     "output_type": "display_data"
    },
    {
     "data": {
      "text/markdown": [
       "0014000000wFNW2, 0014000000aMh42, 0014000000gHPcz, 0014000000kfOC5"
      ]
     },
     "metadata": {},
     "output_type": "display_data"
    },
    {
     "data": {
      "text/markdown": [
       "##### **Site ID**"
      ]
     },
     "metadata": {},
     "output_type": "display_data"
    },
    {
     "data": {
      "text/markdown": []
     },
     "metadata": {},
     "output_type": "display_data"
    },
    {
     "data": {
      "text/markdown": [
       "##### **Site mode**"
      ]
     },
     "metadata": {},
     "output_type": "display_data"
    },
    {
     "data": {
      "text/markdown": []
     },
     "metadata": {},
     "output_type": "display_data"
    },
    {
     "data": {
      "text/markdown": [
       "##### **Site Validation Status**"
      ]
     },
     "metadata": {},
     "output_type": "display_data"
    },
    {
     "data": {
      "text/markdown": [
       "Validated, Not Validated"
      ]
     },
     "metadata": {},
     "output_type": "display_data"
    },
    {
     "data": {
      "text/markdown": [
       "##### **Paired**"
      ]
     },
     "metadata": {},
     "output_type": "display_data"
    },
    {
     "data": {
      "text/markdown": [
       "No"
      ]
     },
     "metadata": {},
     "output_type": "display_data"
    },
    {
     "data": {
      "text/markdown": [
       "##### **Latitude**"
      ]
     },
     "metadata": {},
     "output_type": "display_data"
    },
    {
     "data": {
      "text/markdown": [
       "37.426793659810016, 37.42680510868808, 37.42783416929919, 37.426802179905486, 37.4268107, 37.426785139713566, 37.4278075443645, 37.4278757041782, 37.43220734102387, 37.432241418935455, 37.45041, 37.43171044847697, 37.450394, 37.43175282649997, 37.45039733830973, 37.431757357410085, 37.45037, 37.43174023441741, 37.43175217797956, 37.4503876418016, 37.43187166339748, 37.450404144282025, 37.4235392953854, 37.43193981951077, 37.450413, 37.450653, 37.450396159211294, 37.42353031813845, 37.43199093655503, 37.42621544618659, 37.42925895023151, 37.42546342823224, 37.42563276795673, 37.42566152372096, 37.42562249843807, 37.42558910177513, 37.42552093987972, 37.425431477297856, 37.425595491949615, 37.43758993277954, 37.43994537522589, 37.437244799999995, 37.44008806162375, 37.440014588811074, 37.43996028277272, 37.483830085831535, 37.48380241662368, 37.48377900420903, 37.483708766921104, 37.483685354477096, 37.48385881922885, 37.4837598485916, 37.48374069296927, 37.483682161870526, 37.48382928768144, 37.4836513, 37.4837279225516, 37.483678969263806, 37.48382582903098, 37.483760912792704, 37.48375239918352, 37.48371408793006, 37.48384553997287, 37.48387691062148, 37.483716216333534, 37.483693069942404, 37.483680565567184, 37.48365555681048, 37.48380454502468, 37.483723665745266, 37.48365412633115, 37.48465735481143, 37.4846431782048, 37.4849383, 37.48494042836861, 37.484929786524965, 37.426269408993285, 37.426286449302594, 37.42632052990961, 37.426363130646514, 37.42638869107704, 37.42643129177518, 37.426439811911905, 37.426329050058925, 37.42631200975929, 37.42620976788015, 37.42622680820304, 37.426448332047634, 37.42632368474175, 37.42649998495956, 37.426465904434274, 37.426435544044864, 37.4264255395908, 37.42678556649676, 37.42639846349808, 37.426411897405714, 37.42634876198768, 37.426527734861885, 37.42647208247871, 37.426317033400885, 37.426334040085905"
      ]
     },
     "metadata": {},
     "output_type": "display_data"
    },
    {
     "data": {
      "text/markdown": [
       "##### **Longitude**"
      ]
     },
     "metadata": {},
     "output_type": "display_data"
    },
    {
     "data": {
      "text/markdown": [
       "-122.1592395153442, -122.15920263497024, -122.15657205847889, -122.15917514232784, -122.1591858711639, -122.1591322269836, -122.15916441349178, -122.15919659999996, -122.15915368465572, -122.15660022167354, -122.15649293331296, -122.16329689629517, -122.1632325232788, -122.177246, -122.1828376358759, -122.17716, -122.18284779288138, -122.17725536441804, -122.18285127986668, -122.17628, -122.18283775917509, -122.17633, -122.18286498364182, -122.17729425644876, -122.1826917650818, -122.17726810491084, -122.17110856613158, -122.18259520555728, -122.17723, -122.17668, -122.17727013988112, -122.17105130926204, -122.18247718836062, -122.17725, -122.17528922540896, -122.1844759464882, -122.15975492268448, -122.159489383992, -122.15954705148584, -122.15954674077344, -122.15958057909852, -122.15980588465575, -122.15982197790986, -122.15962885886078, -122.1714015910874, -122.17132815833588, -122.1716781, -122.1711511325409, -122.17118331904908, -122.17122623439332, -122.20392049695892, -122.20392586137694, -122.20395000125808, -122.20398486997529, -122.20401705648344, -122.20390306260032, -122.20396877672118, -122.20397682334824, -122.2040090098564, -122.20393357272786, -122.2037542, -122.2039915754978, -122.2040251031105, -122.2039164736454, -122.20396475340766, -122.20398755218427, -122.20399425770682, -122.20391669583968, -122.2038842871372, -122.2040063276474, -122.2040200739686, -122.20403113808078, -122.20404253746908, -122.20393122579496, -122.20393927242202, -122.20398218776626, -122.20403712440223, -122.20684677486878, -122.20742303177298, -122.2067073, -122.20677167301636, -122.20657855396728, -122.17548427354126, -122.17554864655762, -122.17566666375428, -122.17574176560667, -122.1758168674591, -122.17590269814758, -122.1759778, -122.17605290185242, -122.17551646004944, -122.17561301957396, -122.17535552750854, -122.17538771401672, -122.17614946137697, -122.17543473729552, -122.1761681952454, -122.17600726270445, -122.17591751852416, -122.17584955714722, -122.17600974127812, -122.17572525714723, -122.17569146903384, -122.17561776455688, -122.17609522209004, -122.17608156085204, -122.17560433068849, -122.17557698584444"
      ]
     },
     "metadata": {},
     "output_type": "display_data"
    }
   ],
   "source": [
    "summarize_dataframe_md(station_overview, 'Station Overview Summary')"
   ]
  },
  {
   "cell_type": "markdown",
   "metadata": {},
   "source": [
    "### **Station and Port Status**"
   ]
  },
  {
   "cell_type": "code",
   "execution_count": 4,
   "metadata": {},
   "outputs": [
    {
     "data": {
      "text/markdown": [
       "**Number of Stations:** 109"
      ]
     },
     "metadata": {},
     "output_type": "display_data"
    },
    {
     "data": {
      "text/markdown": [
       "**Number of Ports:** 205"
      ]
     },
     "metadata": {},
     "output_type": "display_data"
    },
    {
     "data": {
      "text/markdown": [
       "#### **Station Count by Status**"
      ]
     },
     "metadata": {},
     "output_type": "display_data"
    },
    {
     "data": {
      "text/html": [
       "<div>\n",
       "<style scoped>\n",
       "    .dataframe tbody tr th:only-of-type {\n",
       "        vertical-align: middle;\n",
       "    }\n",
       "\n",
       "    .dataframe tbody tr th {\n",
       "        vertical-align: top;\n",
       "    }\n",
       "\n",
       "    .dataframe thead th {\n",
       "        text-align: right;\n",
       "    }\n",
       "</style>\n",
       "<table border=\"1\" class=\"dataframe\">\n",
       "  <thead>\n",
       "    <tr style=\"text-align: right;\">\n",
       "      <th></th>\n",
       "      <th>count</th>\n",
       "    </tr>\n",
       "    <tr>\n",
       "      <th>Station Status</th>\n",
       "      <th></th>\n",
       "    </tr>\n",
       "  </thead>\n",
       "  <tbody>\n",
       "    <tr>\n",
       "      <th>Available</th>\n",
       "      <td>88</td>\n",
       "    </tr>\n",
       "    <tr>\n",
       "      <th>Watch List</th>\n",
       "      <td>11</td>\n",
       "    </tr>\n",
       "    <tr>\n",
       "      <th>Needs Service</th>\n",
       "      <td>7</td>\n",
       "    </tr>\n",
       "    <tr>\n",
       "      <th>Inuse</th>\n",
       "      <td>3</td>\n",
       "    </tr>\n",
       "  </tbody>\n",
       "</table>\n",
       "</div>"
      ],
      "text/plain": [
       "                count\n",
       "Station Status       \n",
       "Available          88\n",
       "Watch List         11\n",
       "Needs Service       7\n",
       "Inuse               3"
      ]
     },
     "metadata": {},
     "output_type": "display_data"
    },
    {
     "data": {
      "text/markdown": [
       "**Stations Needing Service or on Watch List:** 18 (16.51%)"
      ]
     },
     "metadata": {},
     "output_type": "display_data"
    },
    {
     "data": {
      "text/markdown": [
       "#### **Port Count by Status**"
      ]
     },
     "metadata": {},
     "output_type": "display_data"
    },
    {
     "data": {
      "text/html": [
       "<div>\n",
       "<style scoped>\n",
       "    .dataframe tbody tr th:only-of-type {\n",
       "        vertical-align: middle;\n",
       "    }\n",
       "\n",
       "    .dataframe tbody tr th {\n",
       "        vertical-align: top;\n",
       "    }\n",
       "\n",
       "    .dataframe thead th {\n",
       "        text-align: right;\n",
       "    }\n",
       "</style>\n",
       "<table border=\"1\" class=\"dataframe\">\n",
       "  <thead>\n",
       "    <tr style=\"text-align: right;\">\n",
       "      <th></th>\n",
       "      <th>count</th>\n",
       "    </tr>\n",
       "    <tr>\n",
       "      <th>value</th>\n",
       "      <th></th>\n",
       "    </tr>\n",
       "  </thead>\n",
       "  <tbody>\n",
       "    <tr>\n",
       "      <th>Available</th>\n",
       "      <td>144</td>\n",
       "    </tr>\n",
       "    <tr>\n",
       "      <th>In Use</th>\n",
       "      <td>31</td>\n",
       "    </tr>\n",
       "    <tr>\n",
       "      <th>Watch List</th>\n",
       "      <td>22</td>\n",
       "    </tr>\n",
       "    <tr>\n",
       "      <th>Needs Service</th>\n",
       "      <td>8</td>\n",
       "    </tr>\n",
       "  </tbody>\n",
       "</table>\n",
       "</div>"
      ],
      "text/plain": [
       "               count\n",
       "value               \n",
       "Available        144\n",
       "In Use            31\n",
       "Watch List        22\n",
       "Needs Service      8"
      ]
     },
     "metadata": {},
     "output_type": "display_data"
    },
    {
     "data": {
      "text/markdown": [
       "**Ports Needing Service or on Watch List:** 30 (14.63%)"
      ]
     },
     "metadata": {},
     "output_type": "display_data"
    }
   ],
   "source": [
    "num_stations = len(station_overview)\n",
    "num_ports = station_overview['No. of Ports'].sum()\n",
    "\n",
    "print_md(f'**Number of Stations:** {num_stations}')\n",
    "print_md(f'**Number of Ports:** {num_ports}')\n",
    "\n",
    "print_md('#### **Station Count by Status**')\n",
    "station_status_counts = station_overview.value_counts('Station Status')\n",
    "assert num_stations == station_status_counts.sum()\n",
    "display(station_status_counts.to_frame())\n",
    "\n",
    "num_stations_need_service_or_watch_list = station_status_counts.loc[['Watch List', 'Needs Service']].sum()\n",
    "percent_stations_need_service_or_watch_list = round(num_stations_need_service_or_watch_list / num_stations * 100, 2)\n",
    "print_md(f'**Stations Needing Service or on Watch List:** {num_stations_need_service_or_watch_list} ({percent_stations_need_service_or_watch_list}%)')\n",
    "\n",
    "print_md('#### **Port Count by Status**')\n",
    "port_status_counts = station_overview[['Port 1 Status', 'Port 2 Status']].melt()['value'].value_counts().drop('')\n",
    "assert num_ports == port_status_counts.sum()\n",
    "display(port_status_counts.to_frame())\n",
    "\n",
    "num_ports_need_service_or_watch_list = port_status_counts.loc[['Watch List', 'Needs Service']].sum()\n",
    "percent_ports_need_service_or_watch_list = round(num_ports_need_service_or_watch_list / num_ports * 100, 2)\n",
    "print_md(f'**Ports Needing Service or on Watch List:** {num_ports_need_service_or_watch_list} ({percent_ports_need_service_or_watch_list}%)')"
   ]
  },
  {
   "cell_type": "markdown",
   "metadata": {},
   "source": [
    "### **Alarms**"
   ]
  },
  {
   "cell_type": "code",
   "execution_count": 5,
   "metadata": {},
   "outputs": [
    {
     "data": {
      "text/markdown": [
       "#### **Alarms Summary**"
      ]
     },
     "metadata": {},
     "output_type": "display_data"
    },
    {
     "data": {
      "text/markdown": [
       "**Number of Rows:** 340967"
      ]
     },
     "metadata": {},
     "output_type": "display_data"
    },
    {
     "data": {
      "text/markdown": [
       "**Columns:** Display Name, MAC Address, Org Name, Alarm Severity, Alarm Name, Alarm ID, FRU Name, Model Number, Port, Reason For Clearing, Component Serial Number"
      ]
     },
     "metadata": {},
     "output_type": "display_data"
    },
    {
     "data": {
      "text/markdown": [
       "#### **Unique Column Values**"
      ]
     },
     "metadata": {},
     "output_type": "display_data"
    },
    {
     "data": {
      "text/markdown": [
       "##### **Display Name**"
      ]
     },
     "metadata": {},
     "output_type": "display_data"
    },
    {
     "data": {
      "text/markdown": [
       "STANFORD / STATION 1 TMU, STANFORD / STATION 2 TMU, STANFORD / CD STATION 6, STANFORD / CD GATEWAY #2, STANFORD / THO NGW-B5, STANFORD / THO NGW-B1, STANFORD / THO NGW-B4, STANFORD / THO NGW-B3, STANFORD / THO NGW-B2, STANFORD / THO GW-B, ROBLE / ROBLE LL1-11, ROBLE / ROBLE LL1-8, ROBLE / ROBLE LL1-12, ROBLE / ROBLE LL1-6, ROBLE / ROBLE LL1-3, ROBLE / ROBLE LL1-1, ROBLE / ROBLE LL1-DIS, ROBLE / ROBLE LL1-2, STANFORD / TH STATION 1, ROBLE / ROBLE LL2-9, ROBLE / ROBLE LL2-1, SRWC / RWC L4 3, SRWC / RWC L2 2, ROBLE / ROBLE LL2-14, STANFORD / CAM 5 LL1, SRWC / RWC L2 3, SRWC / RWC L2 4, SRWC / RWC L2 1, ROBLE / ROBLE LL2-10, ROBLE / ROBLE LL2-13, ROBLE / ROBLE LL2-2, ROBLE / ROBLE LL1-7, ROBLE / ROBLE LL2-4, ROBLE / ROBLE LL2-8, STANFORD / STATION 3 PS-5, STANFORD / ROBLE LL2-12, STANFORD / TH WALL MOUNT, ROBLE / ROBLE LL2-3, ROBLE / ROBLE LL2-5, ROBLE / ROBLE LL2-11, STANFORD / STATION 2 PS-5, ROBLE / ROBLE LL1-5, ROBLE / ROBLE LL1-10, ROBLE / ROBLE LL2-6, ROBLE / ROBLE LL2-7, STANFORD / STATION 1 PS-5, ROBLE / ROBLE LL1-9, ROBLE / ROBLE LL1-4, SRWC / RWC L1 6, SRWC / RWC L1 5, SRWC / RWC L1 3, SRWC / RWC L1 4, STANFORD / THO NGW-A3, STANFORD / THO GW-A, STANFORD / THO NGW-A5 ADA, STANFORD / THO NGW-A1, STANFORD / THO NGW-A4, STANFORD / THO NGW-A2, STANFORD / CAM 1 LL1, STANFORD / STATION 11, STANFORD / CAM 2 LL1, STANFORD / STATION 2, STANFORD / STATION 3, STANFORD / STATION 5, STANFORD / STATION 7 PS-5, STANFORD / STATION 7, SRWC / RWC L5 2, SRWC / RWC L3 4, SRWC / RWC L3 2, SRWC / RWC L3 1, SRWC / RWC L4 2, SRWC / RWC L4 1, SRWC / RWC L1 1, SRWC / RWC L1 2, SRWC / RWC L5 5, SRWC / RWC L5 1, SRWC / RWC L5 4, SRWC / RWC B1 2, SRWC / RWC B1 1, SRWC / RWC B1 4, STANFORD / STATION 6 PS-5, STANFORD / STATION 8 PS-5, STANFORD / STATION 5 PS-5, STANFORD / CD GATEWAY #3, STANFORD / CD STATION 2, STANFORD / CD STATION 3, STANFORD / CD GATEWAY #1, STANFORD / CD STATION 1, STANFORD / CAM 3 LL1, STANFORD / STATION 4 PS-5, SRWC / RWC L5 3, SRWC / RWC L4 4, SRWC / RWC B1 3, STANFORD / OAK ROAD #1, STANFORD / CD STATION 4, SRWC / RWC L3 3, STANFORD / CAM 6 LL1, STANFORD / STATION 8, STANFORD / CAM 4 LL1, STANFORD / STATION 9, STANFORD / STATION 6, STANFORD / STATION 1, STANFORD / STATION 4, STANFORD / STATION 10, SRWC / CHARGER 1, SRWC / CHARGER 4, SRWC / CHARGER 2, SRWC / CHARGER 3, STANFORD / OFF NETWORK 1, STANFORD / OFF NETWORK1, STANFORD / CHARGER 1, STANFORD / CHARGER 3, STANFORD / CHARGER 4, STANFORD / CHARGER 2, STANFORD / CHARGER 5, STANFORD / RWC L2 2, STANFORD / RWC L4 1, STANFORD / RWC L4 4, STANFORD / RWC L4 2, STANFORD / RWC L4 3, STANFORD / RWC L5 3, STANFORD / RWC L3 3, STANFORD / RWC L1 6, STANFORD / RWC L5 2, STANFORD / RWC L5 1, STANFORD / RWC L5 5, STANFORD / RWC L5 4, STANFORD / RWC L3 2, STANFORD / RWC L3 1, STANFORD / RWC L3 4, STANFORD / RWC B1 3, STANFORD / RWC B1 2, STANFORD / RWC B1 1, STANFORD / RWC B1 4, STANFORD / RWC L1 4, STANFORD / RWC L1 3, STANFORD / RWC L1 2, STANFORD / RWC L1 5, STANFORD / RWC L1 1, STANFORD / RWC L2 1, STANFORD / RWC L2 4, STANFORD / RWC L2 3, STANFORD / THOBURN 2, STANFORD / THOBURN 1"
      ]
     },
     "metadata": {},
     "output_type": "display_data"
    },
    {
     "data": {
      "text/markdown": [
       "##### **MAC Address**"
      ]
     },
     "metadata": {},
     "output_type": "display_data"
    },
    {
     "data": {
      "text/markdown": [
       "0024:B100:0003:33C3, 0024:B100:0006:BC3D, 0024:B100:0003:2ADF, 0024:B100:0004:A250, 0024:B100:0003:12F8, 0024:B100:0003:12D9, 0024:B100:0003:130F, 0024:B100:0003:12EE, 0024:B100:0003:12F1, 0024:B100:0003:2C1C, 0024:B100:0002:3F5A, 0024:B100:0002:2A7C, 0024:B100:0004:0EC1, 0024:B100:0002:2954, 0024:B100:0002:2A73, 0024:B100:0002:5158, 0024:B100:0002:299E, 0024:B100:0004:20C4, 0024:B100:0004:0667, 0024:B100:0002:295F, 0024:B100:0002:5134, 0024:B100:0002:8FD1, 0024:B100:0002:8FCA, 0024:B100:0002:5154, 0024:B100:0003:C689, 0024:B100:0002:8E27, 0024:B100:0002:8E2F, 0024:B100:0002:8E2C, 0024:B100:0002:2A71, 0024:B100:0002:294E, 0024:B100:0002:297C, 0024:B100:0002:2940, 0024:B100:0002:2A80, 0024:B100:0002:2A8E, 0024:B100:0002:1F6C, 0024:B100:0002:2A6E, 0024:B100:0002:16F3, 0024:B100:0002:2955, 0024:B100:0002:2A70, 0024:B100:0002:2A7B, 0024:B100:0004:3B91, 0024:B100:0003:D5D6, 0024:B100:0004:5CE8, 0024:B100:0002:2A6B, 0024:B100:0002:2A74, 0024:B100:0002:1EED, 0024:B100:0004:5D08, 0024:B100:0003:D26F, 0024:B100:0002:B04A, 0024:B100:0002:919B, 0024:B100:0002:AD71, 0024:B100:0002:AE14, 0024:B100:0003:130E, 0024:B100:0003:2A8C, 0024:B100:0003:1318, 0024:B100:0003:12EB, 0024:B100:0003:1312, 0024:B100:0003:130B, 0024:B100:0003:BF3B, 0024:B100:000C:083C, 0024:B100:0004:0E93, 0024:B100:0006:C0E2, 0024:B100:0006:C80C, 0024:B100:0006:BD20, 0024:B100:0002:1C6A, 0024:B100:0006:C802, 0024:B100:0003:1F95, 0024:B100:0002:8E28, 0024:B100:0002:91C3, 0024:B100:0002:918F, 0024:B100:0002:8E36, 0024:B100:0002:8E37, 0024:B100:0002:594F, 0024:B100:0002:9202, 0024:B100:0002:8DD9, 0024:B100:0002:9194, 0024:B100:0002:8E32, 0024:B100:0002:9193, 0024:B100:0002:8E4A, 0024:B100:0002:8DDC, 0024:B100:0002:15D0, 0024:B100:0002:15D4, 0024:B100:0002:15DF, 0024:B100:0004:1B12, 0024:B100:0004:A22C, 0024:B100:0003:2AB1, 0024:B100:0004:C4B2, 0024:B100:0003:2AB5, 0024:B100:0003:BF3D, 0024:B100:0002:13E5, 0024:B100:0002:A917, 0024:B100:0002:8E49, 0024:B100:0003:9836, 0024:B100:0003:824E, 0024:B100:0004:2ED8, 0024:B100:0002:8E02, 0024:B100:0003:C68A, 0024:B100:0006:BD1D, 0024:B100:0003:BF91, 0024:B100:0006:C0E1, 0024:B100:0006:BD13, 0024:B100:0006:4538, 0024:B100:0006:C80F, 0024:B100:0006:C7DC, 0024:B100:0002:4AEB, 0024:B100:0002:5752, 0024:B100:0002:5144, 0024:B100:0002:575E, 0024:B100:0002:1E24, 0024:B100:0002:1F61, 000D:6F00:04F8:B0AC, 0024:B100:0002:5150, 0024:B100:0003:BF84, 0024:B100:0003:6743, 0024:B100:0002:29C6, 0024:B100:0002:2A78, 0024:B100:0002:2A89, 0024:B100:0003:66F6, 0024:B100:0003:519A, 0024:B100:0003:2B24, 0024:B100:0002:1F71, 0024:B100:0002:29C3, 0024:B100:0002:2963, 0024:B100:0002:8F36, 0024:B100:0002:91B6, 0024:B100:0002:2022"
      ]
     },
     "metadata": {},
     "output_type": "display_data"
    },
    {
     "data": {
      "text/markdown": [
       "##### **Org Name**"
      ]
     },
     "metadata": {},
     "output_type": "display_data"
    },
    {
     "data": {
      "text/markdown": [
       "Stanford University"
      ]
     },
     "metadata": {},
     "output_type": "display_data"
    },
    {
     "data": {
      "text/markdown": [
       "##### **Alarm Severity**"
      ]
     },
     "metadata": {},
     "output_type": "display_data"
    },
    {
     "data": {
      "text/markdown": []
     },
     "metadata": {},
     "output_type": "display_data"
    },
    {
     "data": {
      "text/markdown": [
       "##### **Alarm Name**"
      ]
     },
     "metadata": {},
     "output_type": "display_data"
    },
    {
     "data": {
      "text/markdown": [
       "Tamper Detect, Circuit Sharing Current Restored, Fault Cleared, Bootup Due to POWER ON, Reachable, Unreachable, Circuit Sharing Current Reduced, Boot up, Bootup Due to SOFT RESET, Data Partition Full, Bootup Due to WATCHDOG, IP Mismatch Detected, Powered Off, Unknown RFID, Maintenance Required, Hardware Fault Station Out Of Service, Bootup Due to SWITCH, GFCI Soft Trip, FCheck Error, RFID Update Failed, Pilot Unreachable (18), Relay Stuck Close, Pilot current level exceeded, Hardware Fault, Earth Fault Station In Service, GFCI Hard Trip, Grace Sessions Exceeded, Earth Fault Station Out Of Service, Ventilation Fault, CHAdeMO control loop detected fault (39), EVSE Unreachable, Emergency Stop button pressed - No circuit breaker Trip fired (Soft E-Stop) (188), Communication timeout. (63), Communication timeout. (62), Vehicle fault (50), Charger Fault - contact Tritium (28), Station Not Activated"
      ]
     },
     "metadata": {},
     "output_type": "display_data"
    },
    {
     "data": {
      "text/markdown": [
       "##### **Alarm ID**"
      ]
     },
     "metadata": {},
     "output_type": "display_data"
    },
    {
     "data": {
      "text/markdown": [
       "23, 18, 27, 33, 29, 4, 24, 8, 2, 28, 25, 5, 30, 17, 39, 65575, 31, 65724, 65599, 65598, 65586, 65564"
      ]
     },
     "metadata": {},
     "output_type": "display_data"
    },
    {
     "data": {
      "text/markdown": [
       "##### **FRU Name**"
      ]
     },
     "metadata": {},
     "output_type": "display_data"
    },
    {
     "data": {
      "text/markdown": []
     },
     "metadata": {},
     "output_type": "display_data"
    },
    {
     "data": {
      "text/markdown": [
       "##### **Model Number**"
      ]
     },
     "metadata": {},
     "output_type": "display_data"
    },
    {
     "data": {
      "text/markdown": [
       "CT4020-HD-GW, CT4020-HD, CT4010-HD-GW, CT4020-HD2-GW-LTE, CT4010-HD, CPE200T-S-CHD-CMB"
      ]
     },
     "metadata": {},
     "output_type": "display_data"
    },
    {
     "data": {
      "text/markdown": [
       "##### **Port**"
      ]
     },
     "metadata": {},
     "output_type": "display_data"
    },
    {
     "data": {
      "text/markdown": [
       "1, 2, 1A, 1B"
      ]
     },
     "metadata": {},
     "output_type": "display_data"
    },
    {
     "data": {
      "text/markdown": [
       "##### **Reason For Clearing**"
      ]
     },
     "metadata": {},
     "output_type": "display_data"
    },
    {
     "data": {
      "text/markdown": [
       "---"
      ]
     },
     "metadata": {},
     "output_type": "display_data"
    },
    {
     "data": {
      "text/markdown": [
       "##### **Component Serial Number**"
      ]
     },
     "metadata": {},
     "output_type": "display_data"
    },
    {
     "data": {
      "text/markdown": []
     },
     "metadata": {},
     "output_type": "display_data"
    }
   ],
   "source": [
    "summarize_dataframe_md(alarms.drop('Alarm Time', axis=1), 'Alarms Summary')"
   ]
  },
  {
   "cell_type": "code",
   "execution_count": 6,
   "metadata": {},
   "outputs": [
    {
     "data": {
      "text/plain": [
       "Alarm Name\n",
       "Boot up                                                                               25187\n",
       "Bootup Due to POWER ON                                                                  714\n",
       "Bootup Due to SOFT RESET                                                               3060\n",
       "Bootup Due to SWITCH                                                                   1294\n",
       "Bootup Due to WATCHDOG                                                                11286\n",
       "CHAdeMO control loop detected fault (39)                                                 57\n",
       "Charger Fault - contact Tritium (28)                                                     17\n",
       "Circuit Sharing Current Reduced                                                       18812\n",
       "Circuit Sharing Current Restored                                                      31511\n",
       "Communication timeout. (62)                                                               2\n",
       "Communication timeout. (63)                                                               6\n",
       "Data Partition Full                                                                    1498\n",
       "EVSE Unreachable                                                                         25\n",
       "Earth Fault Station In Service                                                            2\n",
       "Earth Fault Station Out Of Service                                                        2\n",
       "Emergency Stop button pressed - No circuit breaker Trip fired (Soft E-Stop) (188)        20\n",
       "FCheck Error                                                                            352\n",
       "Fault Cleared                                                                         45828\n",
       "GFCI Hard Trip                                                                            5\n",
       "GFCI Soft Trip                                                                           85\n",
       "Grace Sessions Exceeded                                                                   1\n",
       "Hardware Fault                                                                           22\n",
       "Hardware Fault Station Out Of Service                                                    19\n",
       "IP Mismatch Detected                                                                   4609\n",
       "Maintenance Required                                                                    783\n",
       "Pilot Unreachable (18)                                                                  321\n",
       "Pilot current level exceeded                                                              3\n",
       "Powered Off                                                                             379\n",
       "RFID Update Failed                                                                       16\n",
       "Reachable                                                                            109915\n",
       "Relay Stuck Close                                                                        93\n",
       "Station Not Activated                                                                     1\n",
       "Tamper Detect                                                                         20720\n",
       "Unknown RFID                                                                           1509\n",
       "Unreachable                                                                           62808\n",
       "Vehicle fault (50)                                                                        2\n",
       "Ventilation Fault                                                                         3\n",
       "Name: count, dtype: int64"
      ]
     },
     "metadata": {},
     "output_type": "display_data"
    },
    {
     "name": "stdout",
     "output_type": "stream",
     "text": [
      "Boot up\n",
      "Bootup Due to POWER ON\n",
      "Bootup Due to SOFT RESET\n",
      "Bootup Due to SWITCH\n",
      "Bootup Due to WATCHDOG\n",
      "CHAdeMO control loop detected fault (39)\n",
      "Charger Fault - contact Tritium (28)\n",
      "Circuit Sharing Current Reduced\n",
      "Circuit Sharing Current Restored\n",
      "Communication timeout. (62)\n",
      "Communication timeout. (63)\n",
      "Data Partition Full\n",
      "EVSE Unreachable\n",
      "Earth Fault Station In Service\n",
      "Earth Fault Station Out Of Service\n",
      "Emergency Stop button pressed - No circuit breaker Trip fired (Soft E-Stop) (188)\n",
      "FCheck Error\n",
      "Fault Cleared\n",
      "GFCI Hard Trip\n",
      "GFCI Soft Trip\n",
      "Grace Sessions Exceeded\n",
      "Hardware Fault\n",
      "Hardware Fault Station Out Of Service\n",
      "IP Mismatch Detected\n",
      "Maintenance Required\n",
      "Pilot Unreachable (18)\n",
      "Pilot current level exceeded\n",
      "Powered Off\n",
      "RFID Update Failed\n",
      "Reachable\n",
      "Relay Stuck Close\n",
      "Station Not Activated\n",
      "Tamper Detect\n",
      "Unknown RFID\n",
      "Unreachable\n",
      "Vehicle fault (50)\n",
      "Ventilation Fault\n"
     ]
    },
    {
     "data": {
      "image/png": "[encoded data removed]",
      "text/plain": [
       "<Figure size 640x480 with 1 Axes>"
      ]
     },
     "metadata": {},
     "output_type": "display_data"
    }
   ],
   "source": [
    "alarm_name_vcs = alarms['Alarm Name'].value_counts()\n",
    "display(alarm_name_vcs.sort_index())\n",
    "for x in alarm_name_vcs.sort_index().index:\n",
    "    print(x)\n",
    "# alarm_name.hist(xrot=90, bins=alarm_name.nunique(), density=True)\n",
    "ax = (alarm_name_vcs / alarm_name_vcs.sum()).plot.bar(color='black')\n",
    "ax.grid()\n"
   ]
  },
  {
   "cell_type": "markdown",
   "metadata": {},
   "source": [
    "### **Uptime**"
   ]
  },
  {
   "cell_type": "markdown",
   "metadata": {},
   "source": [
    "#### **State Model**"
   ]
  },
  {
   "cell_type": "code",
   "execution_count": 7,
   "metadata": {},
   "outputs": [],
   "source": [
    "def calculate_state_from_alarms(alarms):\n",
    "    from chargepoint import ChargerModel, AlarmEnum\n",
    "\n",
    "    # Mapping from MAC addresses to models. Each MAC address corresponds to one unique charger model.\n",
    "    models: dict[str, ChargerModel] = {}\n",
    "\n",
    "    state_alarms = alarms.copy()\n",
    "    state_alarms['State'] = pd.Series()\n",
    "\n",
    "    # Iterate through all alarms chronologically and send to underlying charger state models. \n",
    "    for index, row in state_alarms.sort_values('Alarm Time').iterrows():\n",
    "        mac = row['MAC Address']\n",
    "        if mac in models:\n",
    "            model = models[mac]\n",
    "        else:\n",
    "            model = ChargerModel(return_to_last_known_state=True)\n",
    "            models[mac] = model\n",
    "\n",
    "        alarm = AlarmEnum(row['Alarm Name'])\n",
    "        model.send(alarm)\n",
    "        state_alarms.loc[index, 'State'] = model.state.station_status.current_state.name\n",
    "\n",
    "    return state_alarms\n",
    "\n",
    "state_alarms = calculate_state_from_alarms(alarms)"
   ]
  },
  {
   "cell_type": "code",
   "execution_count": 8,
   "metadata": {},
   "outputs": [
    {
     "data": {
      "text/html": [
       "<div>\n",
       "<style scoped>\n",
       "    .dataframe tbody tr th:only-of-type {\n",
       "        vertical-align: middle;\n",
       "    }\n",
       "\n",
       "    .dataframe tbody tr th {\n",
       "        vertical-align: top;\n",
       "    }\n",
       "\n",
       "    .dataframe thead th {\n",
       "        text-align: right;\n",
       "    }\n",
       "</style>\n",
       "<table border=\"1\" class=\"dataframe\">\n",
       "  <thead>\n",
       "    <tr style=\"text-align: right;\">\n",
       "      <th></th>\n",
       "      <th>Display Name</th>\n",
       "      <th>MAC Address</th>\n",
       "      <th>Org Name</th>\n",
       "      <th>Alarm Severity</th>\n",
       "      <th>Alarm Name</th>\n",
       "      <th>Alarm ID</th>\n",
       "      <th>FRU Name</th>\n",
       "      <th>Alarm Time</th>\n",
       "      <th>Model Number</th>\n",
       "      <th>Port</th>\n",
       "      <th>Reason For Clearing</th>\n",
       "      <th>Component Serial Number</th>\n",
       "      <th>State</th>\n",
       "    </tr>\n",
       "  </thead>\n",
       "  <tbody>\n",
       "    <tr>\n",
       "      <th>0</th>\n",
       "      <td>STANFORD / STATION 1 TMU</td>\n",
       "      <td>0024:B100:0003:33C3</td>\n",
       "      <td>Stanford University</td>\n",
       "      <td></td>\n",
       "      <td>Tamper Detect</td>\n",
       "      <td>23</td>\n",
       "      <td></td>\n",
       "      <td>2023-09-26 20:37:15-07:00</td>\n",
       "      <td>CT4020-HD-GW</td>\n",
       "      <td></td>\n",
       "      <td>---</td>\n",
       "      <td></td>\n",
       "      <td>Faulted</td>\n",
       "    </tr>\n",
       "    <tr>\n",
       "      <th>1</th>\n",
       "      <td>STANFORD / STATION 1 TMU</td>\n",
       "      <td>0024:B100:0003:33C3</td>\n",
       "      <td>Stanford University</td>\n",
       "      <td></td>\n",
       "      <td>Tamper Detect</td>\n",
       "      <td>23</td>\n",
       "      <td></td>\n",
       "      <td>2023-09-26 20:16:50-07:00</td>\n",
       "      <td>CT4020-HD-GW</td>\n",
       "      <td></td>\n",
       "      <td>---</td>\n",
       "      <td></td>\n",
       "      <td>Faulted</td>\n",
       "    </tr>\n",
       "    <tr>\n",
       "      <th>2</th>\n",
       "      <td>STANFORD / STATION 1 TMU</td>\n",
       "      <td>0024:B100:0003:33C3</td>\n",
       "      <td>Stanford University</td>\n",
       "      <td></td>\n",
       "      <td>Tamper Detect</td>\n",
       "      <td>23</td>\n",
       "      <td></td>\n",
       "      <td>2023-09-26 19:56:30-07:00</td>\n",
       "      <td>CT4020-HD-GW</td>\n",
       "      <td></td>\n",
       "      <td>---</td>\n",
       "      <td></td>\n",
       "      <td>Faulted</td>\n",
       "    </tr>\n",
       "    <tr>\n",
       "      <th>3</th>\n",
       "      <td>STANFORD / STATION 2 TMU</td>\n",
       "      <td>0024:B100:0006:BC3D</td>\n",
       "      <td>Stanford University</td>\n",
       "      <td></td>\n",
       "      <td>Circuit Sharing Current Restored</td>\n",
       "      <td></td>\n",
       "      <td></td>\n",
       "      <td>2023-09-26 19:55:25-07:00</td>\n",
       "      <td>CT4020-HD-GW</td>\n",
       "      <td>1</td>\n",
       "      <td>---</td>\n",
       "      <td></td>\n",
       "      <td>Available</td>\n",
       "    </tr>\n",
       "    <tr>\n",
       "      <th>4</th>\n",
       "      <td>STANFORD / CD STATION 6</td>\n",
       "      <td>0024:B100:0003:2ADF</td>\n",
       "      <td>Stanford University</td>\n",
       "      <td></td>\n",
       "      <td>Fault Cleared</td>\n",
       "      <td>18</td>\n",
       "      <td></td>\n",
       "      <td>2023-09-26 19:44:51-07:00</td>\n",
       "      <td>CT4020-HD</td>\n",
       "      <td>2</td>\n",
       "      <td>---</td>\n",
       "      <td></td>\n",
       "      <td>Available</td>\n",
       "    </tr>\n",
       "    <tr>\n",
       "      <th>...</th>\n",
       "      <td>...</td>\n",
       "      <td>...</td>\n",
       "      <td>...</td>\n",
       "      <td>...</td>\n",
       "      <td>...</td>\n",
       "      <td>...</td>\n",
       "      <td>...</td>\n",
       "      <td>...</td>\n",
       "      <td>...</td>\n",
       "      <td>...</td>\n",
       "      <td>...</td>\n",
       "      <td>...</td>\n",
       "      <td>...</td>\n",
       "    </tr>\n",
       "    <tr>\n",
       "      <th>340962</th>\n",
       "      <td>ROBLE / ROBLE LL1-11</td>\n",
       "      <td>0024:B100:0002:3F5A</td>\n",
       "      <td>Stanford University</td>\n",
       "      <td></td>\n",
       "      <td>Circuit Sharing Current Reduced</td>\n",
       "      <td></td>\n",
       "      <td></td>\n",
       "      <td>2018-03-30 09:39:03-07:00</td>\n",
       "      <td>CT4020-HD</td>\n",
       "      <td>1</td>\n",
       "      <td>---</td>\n",
       "      <td></td>\n",
       "      <td>Available</td>\n",
       "    </tr>\n",
       "    <tr>\n",
       "      <th>340963</th>\n",
       "      <td>ROBLE / ROBLE LL1-12</td>\n",
       "      <td>0024:B100:0002:5150</td>\n",
       "      <td>Stanford University</td>\n",
       "      <td></td>\n",
       "      <td>Circuit Sharing Current Reduced</td>\n",
       "      <td></td>\n",
       "      <td></td>\n",
       "      <td>2018-03-30 08:34:49-07:00</td>\n",
       "      <td>CT4020-HD-GW</td>\n",
       "      <td>2</td>\n",
       "      <td>---</td>\n",
       "      <td></td>\n",
       "      <td>Available</td>\n",
       "    </tr>\n",
       "    <tr>\n",
       "      <th>340964</th>\n",
       "      <td>STANFORD / STATION 2 TMU</td>\n",
       "      <td>0024:B100:0002:1F61</td>\n",
       "      <td>Stanford University</td>\n",
       "      <td></td>\n",
       "      <td>Circuit Sharing Current Reduced</td>\n",
       "      <td></td>\n",
       "      <td></td>\n",
       "      <td>2018-03-30 08:31:46-07:00</td>\n",
       "      <td>CT4020-HD</td>\n",
       "      <td>2</td>\n",
       "      <td>---</td>\n",
       "      <td></td>\n",
       "      <td>Available</td>\n",
       "    </tr>\n",
       "    <tr>\n",
       "      <th>340965</th>\n",
       "      <td>STANFORD / TH STATION 1</td>\n",
       "      <td>0024:B100:0002:1F71</td>\n",
       "      <td>Stanford University</td>\n",
       "      <td></td>\n",
       "      <td>Circuit Sharing Current Reduced</td>\n",
       "      <td></td>\n",
       "      <td></td>\n",
       "      <td>2018-03-30 07:40:55-07:00</td>\n",
       "      <td>CT4020-HD</td>\n",
       "      <td>1</td>\n",
       "      <td>---</td>\n",
       "      <td></td>\n",
       "      <td>Available</td>\n",
       "    </tr>\n",
       "    <tr>\n",
       "      <th>340966</th>\n",
       "      <td>STANFORD / STATION 2 PS-5</td>\n",
       "      <td>0024:B100:0002:1E24</td>\n",
       "      <td>Stanford University</td>\n",
       "      <td></td>\n",
       "      <td>Circuit Sharing Current Reduced</td>\n",
       "      <td></td>\n",
       "      <td></td>\n",
       "      <td>2018-03-30 02:07:27-07:00</td>\n",
       "      <td>CT4020-HD-GW</td>\n",
       "      <td>2</td>\n",
       "      <td>---</td>\n",
       "      <td></td>\n",
       "      <td>Available</td>\n",
       "    </tr>\n",
       "  </tbody>\n",
       "</table>\n",
       "<p>340967 rows × 13 columns</p>\n",
       "</div>"
      ],
      "text/plain": [
       "                     Display Name          MAC Address             Org Name  \\\n",
       "0        STANFORD / STATION 1 TMU  0024:B100:0003:33C3  Stanford University   \n",
       "1        STANFORD / STATION 1 TMU  0024:B100:0003:33C3  Stanford University   \n",
       "2        STANFORD / STATION 1 TMU  0024:B100:0003:33C3  Stanford University   \n",
       "3        STANFORD / STATION 2 TMU  0024:B100:0006:BC3D  Stanford University   \n",
       "4         STANFORD / CD STATION 6  0024:B100:0003:2ADF  Stanford University   \n",
       "...                           ...                  ...                  ...   \n",
       "340962       ROBLE / ROBLE LL1-11  0024:B100:0002:3F5A  Stanford University   \n",
       "340963       ROBLE / ROBLE LL1-12  0024:B100:0002:5150  Stanford University   \n",
       "340964   STANFORD / STATION 2 TMU  0024:B100:0002:1F61  Stanford University   \n",
       "340965    STANFORD / TH STATION 1  0024:B100:0002:1F71  Stanford University   \n",
       "340966  STANFORD / STATION 2 PS-5  0024:B100:0002:1E24  Stanford University   \n",
       "\n",
       "       Alarm Severity                        Alarm Name Alarm ID FRU Name  \\\n",
       "0                                         Tamper Detect       23            \n",
       "1                                         Tamper Detect       23            \n",
       "2                                         Tamper Detect       23            \n",
       "3                      Circuit Sharing Current Restored                     \n",
       "4                                         Fault Cleared       18            \n",
       "...               ...                               ...      ...      ...   \n",
       "340962                  Circuit Sharing Current Reduced                     \n",
       "340963                  Circuit Sharing Current Reduced                     \n",
       "340964                  Circuit Sharing Current Reduced                     \n",
       "340965                  Circuit Sharing Current Reduced                     \n",
       "340966                  Circuit Sharing Current Reduced                     \n",
       "\n",
       "                      Alarm Time  Model Number Port Reason For Clearing  \\\n",
       "0      2023-09-26 20:37:15-07:00  CT4020-HD-GW                      ---   \n",
       "1      2023-09-26 20:16:50-07:00  CT4020-HD-GW                      ---   \n",
       "2      2023-09-26 19:56:30-07:00  CT4020-HD-GW                      ---   \n",
       "3      2023-09-26 19:55:25-07:00  CT4020-HD-GW    1                 ---   \n",
       "4      2023-09-26 19:44:51-07:00     CT4020-HD    2                 ---   \n",
       "...                          ...           ...  ...                 ...   \n",
       "340962 2018-03-30 09:39:03-07:00     CT4020-HD    1                 ---   \n",
       "340963 2018-03-30 08:34:49-07:00  CT4020-HD-GW    2                 ---   \n",
       "340964 2018-03-30 08:31:46-07:00     CT4020-HD    2                 ---   \n",
       "340965 2018-03-30 07:40:55-07:00     CT4020-HD    1                 ---   \n",
       "340966 2018-03-30 02:07:27-07:00  CT4020-HD-GW    2                 ---   \n",
       "\n",
       "       Component Serial Number      State  \n",
       "0                                 Faulted  \n",
       "1                                 Faulted  \n",
       "2                                 Faulted  \n",
       "3                               Available  \n",
       "4                               Available  \n",
       "...                        ...        ...  \n",
       "340962                          Available  \n",
       "340963                          Available  \n",
       "340964                          Available  \n",
       "340965                          Available  \n",
       "340966                          Available  \n",
       "\n",
       "[340967 rows x 13 columns]"
      ]
     },
     "execution_count": 8,
     "metadata": {},
     "output_type": "execute_result"
    }
   ],
   "source": [
    "state_alarms"
   ]
  },
  {
   "cell_type": "markdown",
   "metadata": {},
   "source": [
    "#### **State History**"
   ]
  },
  {
   "cell_type": "code",
   "execution_count": 9,
   "metadata": {},
   "outputs": [],
   "source": [
    "def build_state_history(state_alarms):\n",
    "    # Sort state alarms by MAC Address and Alarm Time\n",
    "    state_alarms = state_alarms.sort_values(['MAC Address', 'Alarm Time'])\n",
    "\n",
    "    # For duplicate alarm times (for a given charger), only keep latest alarm\n",
    "    state_alarms = state_alarms.drop_duplicates(['MAC Address', 'Alarm Time'], keep='last')\n",
    "\n",
    "    state_history = None\n",
    "\n",
    "    # Compute state history for each charger\n",
    "    # Derived from:\n",
    "    # https://www.codeforests.com/2021/03/30/group-consecutive-rows-in-pandas/\n",
    "    # https://stackoverflow.com/questions/26911851/how-to-use-pandas-to-find-consecutive-same-data-in-time-series\n",
    "    for mac, group in state_alarms.groupby('MAC Address'):\n",
    "        group['Period'] = (group.State != group.State.shift()).cumsum()\n",
    "        period_group = group.groupby('Period')\n",
    "        charger_state_history = pd.DataFrame({\n",
    "            'State': period_group.State.first(),\n",
    "            'Time' : period_group['Alarm Time'].first(),\n",
    "            'Alarms': period_group.size()}).reset_index(drop=True)\n",
    "\n",
    "        charger_state_history['MAC Address'] = mac\n",
    "        charger_state_history['Period'] = charger_state_history.index\n",
    "\n",
    "        # Calculate duration\n",
    "        charger_state_history['Duration'] = charger_state_history['Time'].shift(-1) - charger_state_history['Time']\n",
    "\n",
    "        # Order columns\n",
    "        charger_state_history = charger_state_history[['MAC Address', 'Period', 'State', 'Time', 'Duration', 'Alarms']]\n",
    "\n",
    "        # Concat\n",
    "        if state_history is None:\n",
    "            state_history = charger_state_history\n",
    "        else:\n",
    "            state_history = pd.concat([state_history, charger_state_history])\n",
    "\n",
    "    return state_history\n",
    "\n",
    "state_history = build_state_history(state_alarms).dropna()"
   ]
  },
  {
   "cell_type": "code",
   "execution_count": 10,
   "metadata": {},
   "outputs": [
    {
     "data": {
      "text/html": [
       "<div>\n",
       "<style scoped>\n",
       "    .dataframe tbody tr th:only-of-type {\n",
       "        vertical-align: middle;\n",
       "    }\n",
       "\n",
       "    .dataframe tbody tr th {\n",
       "        vertical-align: top;\n",
       "    }\n",
       "\n",
       "    .dataframe thead th {\n",
       "        text-align: right;\n",
       "    }\n",
       "</style>\n",
       "<table border=\"1\" class=\"dataframe\">\n",
       "  <thead>\n",
       "    <tr style=\"text-align: right;\">\n",
       "      <th></th>\n",
       "      <th>MAC Address</th>\n",
       "      <th>Period</th>\n",
       "      <th>State</th>\n",
       "      <th>Time</th>\n",
       "      <th>Duration</th>\n",
       "      <th>Alarms</th>\n",
       "    </tr>\n",
       "  </thead>\n",
       "  <tbody>\n",
       "    <tr>\n",
       "      <th>0</th>\n",
       "      <td>000D:6F00:04F8:B0AC</td>\n",
       "      <td>0</td>\n",
       "      <td>Available</td>\n",
       "      <td>2020-11-19 17:45:41-08:00</td>\n",
       "      <td>0 days 00:00:03</td>\n",
       "      <td>1</td>\n",
       "    </tr>\n",
       "    <tr>\n",
       "      <th>1</th>\n",
       "      <td>000D:6F00:04F8:B0AC</td>\n",
       "      <td>1</td>\n",
       "      <td>Faulted</td>\n",
       "      <td>2020-11-19 17:45:44-08:00</td>\n",
       "      <td>0 days 00:03:15</td>\n",
       "      <td>1</td>\n",
       "    </tr>\n",
       "    <tr>\n",
       "      <th>2</th>\n",
       "      <td>000D:6F00:04F8:B0AC</td>\n",
       "      <td>2</td>\n",
       "      <td>Available</td>\n",
       "      <td>2020-11-19 17:48:59-08:00</td>\n",
       "      <td>0 days 00:00:05</td>\n",
       "      <td>3</td>\n",
       "    </tr>\n",
       "    <tr>\n",
       "      <th>3</th>\n",
       "      <td>000D:6F00:04F8:B0AC</td>\n",
       "      <td>3</td>\n",
       "      <td>Unreachable</td>\n",
       "      <td>2020-11-19 17:49:04-08:00</td>\n",
       "      <td>0 days 00:00:01</td>\n",
       "      <td>1</td>\n",
       "    </tr>\n",
       "    <tr>\n",
       "      <th>4</th>\n",
       "      <td>000D:6F00:04F8:B0AC</td>\n",
       "      <td>4</td>\n",
       "      <td>Available</td>\n",
       "      <td>2020-11-19 17:49:05-08:00</td>\n",
       "      <td>0 days 00:00:04</td>\n",
       "      <td>1</td>\n",
       "    </tr>\n",
       "    <tr>\n",
       "      <th>...</th>\n",
       "      <td>...</td>\n",
       "      <td>...</td>\n",
       "      <td>...</td>\n",
       "      <td>...</td>\n",
       "      <td>...</td>\n",
       "      <td>...</td>\n",
       "    </tr>\n",
       "    <tr>\n",
       "      <th>13</th>\n",
       "      <td>0024:B100:0006:C80F</td>\n",
       "      <td>13</td>\n",
       "      <td>Unreachable</td>\n",
       "      <td>2023-08-07 22:58:26-07:00</td>\n",
       "      <td>1 days 11:31:28</td>\n",
       "      <td>1</td>\n",
       "    </tr>\n",
       "    <tr>\n",
       "      <th>14</th>\n",
       "      <td>0024:B100:0006:C80F</td>\n",
       "      <td>14</td>\n",
       "      <td>Available</td>\n",
       "      <td>2023-08-09 10:29:54-07:00</td>\n",
       "      <td>3 days 05:01:00</td>\n",
       "      <td>5</td>\n",
       "    </tr>\n",
       "    <tr>\n",
       "      <th>15</th>\n",
       "      <td>0024:B100:0006:C80F</td>\n",
       "      <td>15</td>\n",
       "      <td>Unreachable</td>\n",
       "      <td>2023-08-12 15:30:54-07:00</td>\n",
       "      <td>0 days 00:08:11</td>\n",
       "      <td>1</td>\n",
       "    </tr>\n",
       "    <tr>\n",
       "      <th>16</th>\n",
       "      <td>0024:B100:0006:C80F</td>\n",
       "      <td>16</td>\n",
       "      <td>Available</td>\n",
       "      <td>2023-08-12 15:39:05-07:00</td>\n",
       "      <td>14 days 15:51:10</td>\n",
       "      <td>3</td>\n",
       "    </tr>\n",
       "    <tr>\n",
       "      <th>17</th>\n",
       "      <td>0024:B100:0006:C80F</td>\n",
       "      <td>17</td>\n",
       "      <td>Unreachable</td>\n",
       "      <td>2023-08-27 07:30:15-07:00</td>\n",
       "      <td>0 days 01:18:21</td>\n",
       "      <td>1</td>\n",
       "    </tr>\n",
       "  </tbody>\n",
       "</table>\n",
       "<p>124673 rows × 6 columns</p>\n",
       "</div>"
      ],
      "text/plain": [
       "            MAC Address  Period        State                      Time  \\\n",
       "0   000D:6F00:04F8:B0AC       0    Available 2020-11-19 17:45:41-08:00   \n",
       "1   000D:6F00:04F8:B0AC       1      Faulted 2020-11-19 17:45:44-08:00   \n",
       "2   000D:6F00:04F8:B0AC       2    Available 2020-11-19 17:48:59-08:00   \n",
       "3   000D:6F00:04F8:B0AC       3  Unreachable 2020-11-19 17:49:04-08:00   \n",
       "4   000D:6F00:04F8:B0AC       4    Available 2020-11-19 17:49:05-08:00   \n",
       "..                  ...     ...          ...                       ...   \n",
       "13  0024:B100:0006:C80F      13  Unreachable 2023-08-07 22:58:26-07:00   \n",
       "14  0024:B100:0006:C80F      14    Available 2023-08-09 10:29:54-07:00   \n",
       "15  0024:B100:0006:C80F      15  Unreachable 2023-08-12 15:30:54-07:00   \n",
       "16  0024:B100:0006:C80F      16    Available 2023-08-12 15:39:05-07:00   \n",
       "17  0024:B100:0006:C80F      17  Unreachable 2023-08-27 07:30:15-07:00   \n",
       "\n",
       "           Duration  Alarms  \n",
       "0   0 days 00:00:03       1  \n",
       "1   0 days 00:03:15       1  \n",
       "2   0 days 00:00:05       3  \n",
       "3   0 days 00:00:01       1  \n",
       "4   0 days 00:00:04       1  \n",
       "..              ...     ...  \n",
       "13  1 days 11:31:28       1  \n",
       "14  3 days 05:01:00       5  \n",
       "15  0 days 00:08:11       1  \n",
       "16 14 days 15:51:10       3  \n",
       "17  0 days 01:18:21       1  \n",
       "\n",
       "[124673 rows x 6 columns]"
      ]
     },
     "execution_count": 10,
     "metadata": {},
     "output_type": "execute_result"
    }
   ],
   "source": [
    "state_history"
   ]
  },
  {
   "cell_type": "markdown",
   "metadata": {},
   "source": [
    "#### **State Durations**"
   ]
  },
  {
   "cell_type": "code",
   "execution_count": 11,
   "metadata": {},
   "outputs": [],
   "source": [
    "state_durations = state_history.pivot_table(index='MAC Address', columns='State', values='Duration', aggfunc='sum', fill_value=pd.Timedelta(seconds=0))\n",
    "state_durations[\"Total\"] = state_durations.sum(axis=1)\n",
    "\n",
    "with pd.option_context('display.max_rows', None):\n",
    "    state_durations"
   ]
  },
  {
   "cell_type": "code",
   "execution_count": 12,
   "metadata": {},
   "outputs": [],
   "source": [
    "state_percentages = state_durations.divide(state_durations['Total'], axis=0) * 100\n",
    "\n",
    "with pd.option_context('display.max_rows', None):\n",
    "    state_percentages"
   ]
  },
  {
   "cell_type": "code",
   "execution_count": 13,
   "metadata": {},
   "outputs": [
    {
     "data": {
      "text/markdown": [
       "##### **Ordered by Availability**"
      ]
     },
     "metadata": {},
     "output_type": "display_data"
    }
   ],
   "source": [
    "print_md('##### **Ordered by Availability**')\n",
    "\n",
    "with pd.option_context('display.max_rows', None):\n",
    "    state_percentages.sort_values('Available')\n"
   ]
  },
  {
   "cell_type": "markdown",
   "metadata": {},
   "source": [
    "#### **Summary**"
   ]
  },
  {
   "cell_type": "code",
   "execution_count": 14,
   "metadata": {},
   "outputs": [
    {
     "data": {
      "text/html": [
       "<div>\n",
       "<style scoped>\n",
       "    .dataframe tbody tr th:only-of-type {\n",
       "        vertical-align: middle;\n",
       "    }\n",
       "\n",
       "    .dataframe tbody tr th {\n",
       "        vertical-align: top;\n",
       "    }\n",
       "\n",
       "    .dataframe thead th {\n",
       "        text-align: right;\n",
       "    }\n",
       "</style>\n",
       "<table border=\"1\" class=\"dataframe\">\n",
       "  <thead>\n",
       "    <tr style=\"text-align: right;\">\n",
       "      <th></th>\n",
       "      <th>Mean</th>\n",
       "      <th>Std. Dev.</th>\n",
       "    </tr>\n",
       "    <tr>\n",
       "      <th>State</th>\n",
       "      <th></th>\n",
       "      <th></th>\n",
       "    </tr>\n",
       "  </thead>\n",
       "  <tbody>\n",
       "    <tr>\n",
       "      <th>Available</th>\n",
       "      <td>85.350180</td>\n",
       "      <td>16.943353</td>\n",
       "    </tr>\n",
       "    <tr>\n",
       "      <th>Faulted</th>\n",
       "      <td>7.942293</td>\n",
       "      <td>13.650017</td>\n",
       "    </tr>\n",
       "    <tr>\n",
       "      <th>Unavailable</th>\n",
       "      <td>0.876718</td>\n",
       "      <td>3.017967</td>\n",
       "    </tr>\n",
       "    <tr>\n",
       "      <th>Unknown</th>\n",
       "      <td>0.000005</td>\n",
       "      <td>0.000060</td>\n",
       "    </tr>\n",
       "    <tr>\n",
       "      <th>Unreachable</th>\n",
       "      <td>5.830804</td>\n",
       "      <td>6.767413</td>\n",
       "    </tr>\n",
       "    <tr>\n",
       "      <th>Total</th>\n",
       "      <td>100.000000</td>\n",
       "      <td>0.000000</td>\n",
       "    </tr>\n",
       "  </tbody>\n",
       "</table>\n",
       "</div>"
      ],
      "text/plain": [
       "                   Mean  Std. Dev.\n",
       "State                             \n",
       "Available     85.350180  16.943353\n",
       "Faulted        7.942293  13.650017\n",
       "Unavailable    0.876718   3.017967\n",
       "Unknown        0.000005   0.000060\n",
       "Unreachable    5.830804   6.767413\n",
       "Total        100.000000   0.000000"
      ]
     },
     "metadata": {},
     "output_type": "display_data"
    }
   ],
   "source": [
    "display(pd.concat([state_percentages.mean(), state_percentages.std()], axis=1, keys=['Mean', 'Std. Dev.']))"
   ]
  },
  {
   "cell_type": "markdown",
   "metadata": {},
   "source": [
    "#### **State History Visualized**"
   ]
  },
  {
   "cell_type": "code",
   "execution_count": 15,
   "metadata": {},
   "outputs": [
    {
     "data": {
      "application/vnd.jupyter.widget-view+json": {
       "model_id": "d02a88b94a03400b8d9e30326187f52c",
       "version_major": 2,
       "version_minor": 0
      },
      "image/png": "[encoded data removed]",
      "text/html": [
       "\n",
       "            <div style=\"display: inline-block;\">\n",
       "                <div class=\"jupyter-widgets widget-label\" style=\"text-align: center;\">\n",
       "                    Figure\n",
       "                </div>\n",
       "                <img src='data:image/png;base64,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' width=640.0/>\n",
       "            </div>\n",
       "        "
      ],
      "text/plain": [
       "Canvas(toolbar=Toolbar(toolitems=[('Home', 'Reset original view', 'home', 'home'), ('Back', 'Back to previous …"
      ]
     },
     "metadata": {},
     "output_type": "display_data"
    }
   ],
   "source": [
    "state_to_plot_map = {\n",
    "    'Available': {\n",
    "        'color': 'blue'\n",
    "    },\n",
    "    'Faulted': {\n",
    "        'color': 'red'\n",
    "    },\n",
    "    'Unreachable': {\n",
    "        'color': 'yellow'\n",
    "    },\n",
    "    'Unavailable': {\n",
    "        'color': 'grey'\n",
    "    },\n",
    "    'Unknown': {\n",
    "        'color': 'black'\n",
    "    }\n",
    "}\n",
    "\n",
    "%matplotlib widget\n",
    "fig, ax = plt.subplots()\n",
    "\n",
    "for i, mac in enumerate(state_history['MAC Address'].unique()):\n",
    "    for state, properties in state_to_plot_map.items():\n",
    "        state_periods = state_history[(state_history['MAC Address'] == mac) & (state_history.State == state)]\n",
    "        xranges = [(row.Time.timestamp(), row.Duration.total_seconds()) for _, row in state_periods.iterrows()]\n",
    "        # display(xranges)\n",
    "        ax.broken_barh(xranges, (i*20, 10), color=properties['color'])\n",
    "\n",
    "locs = ax.get_xticks()\n",
    "labels = list(map(lambda loc: pd.Timestamp(loc, unit='s', tz='US/Pacific'), locs))\n",
    "# ax.set_xticks(locs, labels, rotation=270);\n"
   ]
  },
  {
   "cell_type": "markdown",
   "metadata": {},
   "source": [
    "#### **Time Averages**"
   ]
  },
  {
   "cell_type": "code",
   "execution_count": 53,
   "metadata": {},
   "outputs": [
    {
     "data": {
      "text/html": [
       "<div>\n",
       "<style scoped>\n",
       "    .dataframe tbody tr th:only-of-type {\n",
       "        vertical-align: middle;\n",
       "    }\n",
       "\n",
       "    .dataframe tbody tr th {\n",
       "        vertical-align: top;\n",
       "    }\n",
       "\n",
       "    .dataframe thead th {\n",
       "        text-align: right;\n",
       "    }\n",
       "</style>\n",
       "<table border=\"1\" class=\"dataframe\">\n",
       "  <thead>\n",
       "    <tr style=\"text-align: right;\">\n",
       "      <th></th>\n",
       "      <th>MAC Address</th>\n",
       "      <th>State</th>\n",
       "    </tr>\n",
       "    <tr>\n",
       "      <th>Time</th>\n",
       "      <th></th>\n",
       "      <th></th>\n",
       "    </tr>\n",
       "  </thead>\n",
       "  <tbody>\n",
       "    <tr>\n",
       "      <th>2020-11-19 17:00:00-08:00</th>\n",
       "      <td>1</td>\n",
       "      <td>3</td>\n",
       "    </tr>\n",
       "    <tr>\n",
       "      <th>2020-11-19 18:00:00-08:00</th>\n",
       "      <td>0</td>\n",
       "      <td>0</td>\n",
       "    </tr>\n",
       "    <tr>\n",
       "      <th>2020-11-19 19:00:00-08:00</th>\n",
       "      <td>0</td>\n",
       "      <td>0</td>\n",
       "    </tr>\n",
       "    <tr>\n",
       "      <th>2020-11-19 20:00:00-08:00</th>\n",
       "      <td>0</td>\n",
       "      <td>0</td>\n",
       "    </tr>\n",
       "    <tr>\n",
       "      <th>2020-11-19 21:00:00-08:00</th>\n",
       "      <td>0</td>\n",
       "      <td>0</td>\n",
       "    </tr>\n",
       "    <tr>\n",
       "      <th>...</th>\n",
       "      <td>...</td>\n",
       "      <td>...</td>\n",
       "    </tr>\n",
       "    <tr>\n",
       "      <th>2021-09-25 02:00:00-07:00</th>\n",
       "      <td>0</td>\n",
       "      <td>0</td>\n",
       "    </tr>\n",
       "    <tr>\n",
       "      <th>2021-09-25 03:00:00-07:00</th>\n",
       "      <td>0</td>\n",
       "      <td>0</td>\n",
       "    </tr>\n",
       "    <tr>\n",
       "      <th>2021-09-25 04:00:00-07:00</th>\n",
       "      <td>0</td>\n",
       "      <td>0</td>\n",
       "    </tr>\n",
       "    <tr>\n",
       "      <th>2021-09-25 05:00:00-07:00</th>\n",
       "      <td>0</td>\n",
       "      <td>0</td>\n",
       "    </tr>\n",
       "    <tr>\n",
       "      <th>2021-09-25 06:00:00-07:00</th>\n",
       "      <td>1</td>\n",
       "      <td>2</td>\n",
       "    </tr>\n",
       "  </tbody>\n",
       "</table>\n",
       "<p>7429 rows × 2 columns</p>\n",
       "</div>"
      ],
      "text/plain": [
       "                           MAC Address  State\n",
       "Time                                         \n",
       "2020-11-19 17:00:00-08:00            1      3\n",
       "2020-11-19 18:00:00-08:00            0      0\n",
       "2020-11-19 19:00:00-08:00            0      0\n",
       "2020-11-19 20:00:00-08:00            0      0\n",
       "2020-11-19 21:00:00-08:00            0      0\n",
       "...                                ...    ...\n",
       "2021-09-25 02:00:00-07:00            0      0\n",
       "2021-09-25 03:00:00-07:00            0      0\n",
       "2021-09-25 04:00:00-07:00            0      0\n",
       "2021-09-25 05:00:00-07:00            0      0\n",
       "2021-09-25 06:00:00-07:00            1      2\n",
       "\n",
       "[7429 rows x 2 columns]"
      ]
     },
     "metadata": {},
     "output_type": "display_data"
    }
   ],
   "source": [
    "with pd.option_context('display.max_rows', 1000):\n",
    "    # x = state_history.pivot(columns='MAC Address', index='Time', values='State')\n",
    "    x = state_history[state_history['MAC Address'] == '000D:6F00:04F8:B0AC'][['MAC Address', 'Time', 'State']]\n",
    "    x = x.set_index('Time')\n",
    "    x = x.resample('1H').nunique()\n",
    "    display(x)"
   ]
  }
 ],
 "metadata": {
  "kernelspec": {
   "display_name": "Python 3",
   "language": "python",
   "name": "python3"
  },
  "language_info": {
   "codemirror_mode": {
    "name": "ipython",
    "version": 3
   },
   "file_extension": ".py",
   "mimetype": "text/x-python",
   "name": "python",
   "nbconvert_exporter": "python",
   "pygments_lexer": "ipython3",
   "version": "3.10.12"
  },
  "orig_nbformat": 4
 },
 "nbformat": 4,
 "nbformat_minor": 2
}
