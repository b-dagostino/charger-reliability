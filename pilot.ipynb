{
 "cells": [
  {
   "cell_type": "markdown",
   "metadata": {},
   "source": [
    "# Charger Reliability Problem"
   ]
  },
  {
   "cell_type": "markdown",
   "metadata": {},
   "source": [
    "## Data "
   ]
  },
  {
   "cell_type": "code",
   "execution_count": 2,
   "metadata": {},
   "outputs": [],
   "source": [
    "import pandas as pd"
   ]
  },
  {
   "cell_type": "markdown",
   "metadata": {},
   "source": [
    "## Stations Overview"
   ]
  },
  {
   "cell_type": "code",
   "execution_count": 5,
   "metadata": {},
   "outputs": [],
   "source": [
    "df_stations = pd.read_csv(\"data/stations/stations_overview.csv\")"
   ]
  },
  {
   "cell_type": "code",
   "execution_count": 7,
   "metadata": {},
   "outputs": [
    {
     "data": {
      "text/plain": [
       "Index(['Station Name', 'Org Name', 'MAC Address', 'System S/N', 'Address 1',\n",
       "       'Address 2', 'Floor Label', 'City', 'State', 'Zip/Postal Code',\n",
       "       'County', 'Country ', 'Activation Status', 'Network Status',\n",
       "       'Station Status', 'Port 1 Status', 'Port 2 Status', 'No. of Ports',\n",
       "       'Pricing Policy Name', 'Reservations', 'Station Message', 'Enabled',\n",
       "       'Station Activation Type', 'Usable By',\n",
       "       'Visibility (Access Policy Name)', 'Radio Group Name',\n",
       "       'Customer Category', 'Customer Subcategory', 'Circuit Sharing',\n",
       "       'Currency Name', 'Power Select / AC Breaker Rating',\n",
       "       'Scheduled Charging Policy Name', 'Warranty', 'Station Activation Date',\n",
       "       'Warranty Expiration Date', 'Warranty Service',\n",
       "       'Device Access Restriction', 'Waitlist Policy Name', 'Asset Tag ID',\n",
       "       'Meter ID', 'Service Delivery Point ID', 'Point of Service ID',\n",
       "       'Account ID', 'Circuit ID', 'Panel ID', 'Customer Name', 'Customer ID',\n",
       "       'Site Validation Status', 'Paired'],\n",
       "      dtype='object')"
      ]
     },
     "execution_count": 7,
     "metadata": {},
     "output_type": "execute_result"
    }
   ],
   "source": [
    "df_stations.columns"
   ]
  },
  {
   "cell_type": "code",
   "execution_count": 64,
   "metadata": {},
   "outputs": [
    {
     "data": {
      "text/plain": [
       "Pricing Policy Name\n",
       "$1 per hr enforcement hours                           89\n",
       "$2 per hr enforcement hours $1 per hr otherwise (e    19\n",
       "Stanford University Mirrored                           1\n",
       "Name: count, dtype: int64"
      ]
     },
     "execution_count": 64,
     "metadata": {},
     "output_type": "execute_result"
    }
   ],
   "source": [
    "df_stations['Pricing Policy Name'].value_counts()"
   ]
  },
  {
   "cell_type": "code",
   "execution_count": 59,
   "metadata": {},
   "outputs": [
    {
     "name": "stdout",
     "output_type": "stream",
     "text": [
      "Number of stations:\n",
      "109\n",
      "Cities:\n",
      "['Stanford' 'Menlo Park' 'Palo Alto' 'Redwood City']\n",
      "Number of Parking lots: \n",
      "20\n",
      "Counties:\n",
      "['Santa Clara County' nan 'San Mateo County']\n",
      "Network Status:\n",
      "['Unreachable' 'Reachable']\n",
      "Station Status:\n",
      "['Watch List' 'Available' 'Inuse' 'Needs Service']\n",
      "Number of ports\n",
      "No. of Ports\n",
      "2    96\n",
      "1    13\n",
      "Name: count, dtype: int64\n"
     ]
    }
   ],
   "source": [
    "print('Number of stations:')\n",
    "print(df_stations['Station Name'].nunique())\n",
    "print('Cities:')\n",
    "print(df_stations['City'].unique())\n",
    "print('Number of Parking lots: ')\n",
    "print(df_stations['Address 1'].nunique())\n",
    "print('Counties:')\n",
    "print(df_stations['County'].unique())\n",
    "print('Network Status:')\n",
    "print(df_stations['Network Status'].unique())\n",
    "print('Station Status:')\n",
    "print(df_stations['Station Status'].unique())\n",
    "print('Number of ports')\n",
    "print(df_stations['No. of Ports'].value_counts())\n"
   ]
  },
  {
   "cell_type": "code",
   "execution_count": 58,
   "metadata": {},
   "outputs": [
    {
     "data": {
      "text/plain": [
       "No. of Ports\n",
       "2    96\n",
       "1    13\n",
       "Name: count, dtype: int64"
      ]
     },
     "execution_count": 58,
     "metadata": {},
     "output_type": "execute_result"
    }
   ],
   "source": []
  },
  {
   "cell_type": "code",
   "execution_count": 10,
   "metadata": {},
   "outputs": [
    {
     "data": {
      "text/plain": [
       "array([nan, '40A', '30A'], dtype=object)"
      ]
     },
     "execution_count": 10,
     "metadata": {},
     "output_type": "execute_result"
    }
   ],
   "source": [
    "df_stations['Power Select / AC Breaker Rating'].unique()"
   ]
  }
 ],
 "metadata": {
  "kernelspec": {
   "display_name": "charger_rel_env",
   "language": "python",
   "name": "python3"
  },
  "language_info": {
   "codemirror_mode": {
    "name": "ipython",
    "version": 3
   },
   "file_extension": ".py",
   "mimetype": "text/x-python",
   "name": "python",
   "nbconvert_exporter": "python",
   "pygments_lexer": "ipython3",
   "version": "3.10.7"
  },
  "orig_nbformat": 4
 },
 "nbformat": 4,
 "nbformat_minor": 2
}
