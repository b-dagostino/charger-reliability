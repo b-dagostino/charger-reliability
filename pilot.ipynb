{
 "cells": [
  {
   "cell_type": "markdown",
   "metadata": {},
   "source": [
    "# Charger Reliability Problem"
   ]
  },
  {
   "cell_type": "markdown",
   "metadata": {},
   "source": [
    "## Data "
   ]
  },
  {
   "cell_type": "code",
   "execution_count": 210,
   "metadata": {},
   "outputs": [],
   "source": [
    "import pandas as pd"
   ]
  },
  {
   "cell_type": "markdown",
   "metadata": {},
   "source": [
    "## Stations Overview"
   ]
  },
  {
   "cell_type": "code",
   "execution_count": 211,
   "metadata": {},
   "outputs": [],
   "source": [
    "df_stations = pd.read_csv(\"data/stations/stations_overview.csv\")"
   ]
  },
  {
   "cell_type": "code",
   "execution_count": 212,
   "metadata": {},
   "outputs": [
    {
     "data": {
      "text/plain": [
       "Index(['Station Name', 'Org Name', 'MAC Address', 'System S/N', 'Address 1',\n",
       "       'Address 2', 'Floor Label', 'City', 'State', 'Zip/Postal Code',\n",
       "       'County', 'Country ', 'Activation Status', 'Network Status',\n",
       "       'Station Status', 'Port 1 Status', 'Port 2 Status', 'No. of Ports',\n",
       "       'Pricing Policy Name', 'Reservations', 'Station Message', 'Enabled',\n",
       "       'Station Activation Type', 'Usable By',\n",
       "       'Visibility (Access Policy Name)', 'Radio Group Name',\n",
       "       'Customer Category', 'Customer Subcategory', 'Circuit Sharing',\n",
       "       'Currency Name', 'Power Select / AC Breaker Rating',\n",
       "       'Scheduled Charging Policy Name', 'Warranty', 'Station Activation Date',\n",
       "       'Warranty Expiration Date', 'Warranty Service',\n",
       "       'Device Access Restriction', 'Waitlist Policy Name', 'Asset Tag ID',\n",
       "       'Meter ID', 'Service Delivery Point ID', 'Point of Service ID',\n",
       "       'Account ID', 'Circuit ID', 'Panel ID', 'Customer Name', 'Customer ID',\n",
       "       'Site Validation Status', 'Paired'],\n",
       "      dtype='object')"
      ]
     },
     "execution_count": 212,
     "metadata": {},
     "output_type": "execute_result"
    }
   ],
   "source": [
    "df_stations.columns"
   ]
  },
  {
   "cell_type": "code",
   "execution_count": 213,
   "metadata": {},
   "outputs": [
    {
     "name": "stdout",
     "output_type": "stream",
     "text": [
      "Number of stations:\n",
      "109\n",
      "Cities:\n",
      "['Stanford' 'Menlo Park' 'Palo Alto' 'Redwood City']\n",
      "Number of Parking lots: \n",
      "20\n",
      "Counties:\n",
      "['Santa Clara County' nan 'San Mateo County']\n",
      "Network Status:\n",
      "['Unreachable' 'Reachable']\n",
      "Station Status:\n",
      "['Watch List' 'Available' 'Inuse' 'Needs Service']\n",
      "Number of ports:\n",
      "No. of Ports\n",
      "2    96\n",
      "1    13\n",
      "Name: count, dtype: int64\n",
      "Pricing Policy:\n",
      "Pricing Policy Name\n",
      "$1 per hr enforcement hours                           89\n",
      "$2 per hr enforcement hours $1 per hr otherwise (e    19\n",
      "Stanford University Mirrored                           1\n",
      "Name: count, dtype: int64\n"
     ]
    }
   ],
   "source": [
    "print('Number of stations:')\n",
    "print(df_stations['Station Name'].nunique())\n",
    "print('Cities:')\n",
    "print(df_stations['City'].unique())\n",
    "print('Number of Parking lots: ')\n",
    "print(df_stations['Address 1'].nunique())\n",
    "print('Counties:')\n",
    "print(df_stations['County'].unique())\n",
    "print('Network Status:')\n",
    "print(df_stations['Network Status'].unique())\n",
    "print('Station Status:')\n",
    "print(df_stations['Station Status'].unique())\n",
    "print('Number of ports:')\n",
    "print(df_stations['No. of Ports'].value_counts())\n",
    "print('Pricing Policy:')\n",
    "print(df_stations['Pricing Policy Name'].value_counts())\n"
   ]
  },
  {
   "cell_type": "code",
   "execution_count": 214,
   "metadata": {},
   "outputs": [
    {
     "name": "stdout",
     "output_type": "stream",
     "text": [
      "Customer Category\n",
      "Education    96\n",
      "Workplace    13\n",
      "Name: count, dtype: int64\n",
      "Customer Subcategory\n",
      "University / College    96\n",
      "General                 13\n",
      "Name: count, dtype: int64\n",
      "Circuit Sharing\n",
      "Disabled    74\n",
      "Enabled     35\n",
      "Name: count, dtype: int64\n",
      "Power Select / AC Breaker Rating\n",
      "40A    89\n",
      "30A     3\n",
      "Name: count, dtype: int64\n"
     ]
    }
   ],
   "source": [
    "print(df_stations['Customer Category'].value_counts())\n",
    "print(df_stations['Customer Subcategory'].value_counts())\n",
    "print(df_stations['Circuit Sharing'].value_counts())\n",
    "print(df_stations['Power Select / AC Breaker Rating'].value_counts())"
   ]
  },
  {
   "cell_type": "code",
   "execution_count": 215,
   "metadata": {},
   "outputs": [
    {
     "name": "stdout",
     "output_type": "stream",
     "text": [
      "Customer Name\n",
      "Stanford Parking & Transportation Services                        6\n",
      "ABM Electrical & Lighting Solutions, LLC (SoCal)                  4\n",
      "The Board of Trustees of The Leland Stanford Junior University    4\n",
      "Stanford University                                               3\n",
      "Oak Park Unified School District                                  1\n",
      "Name: count, dtype: int64\n",
      "Warranty\n",
      "ChargePoint Assure    76\n",
      "Standard Warranty     33\n",
      "Name: count, dtype: int64\n",
      "Site Validation Status\n",
      "Validated        91\n",
      "Not Validated    18\n",
      "Name: count, dtype: int64\n"
     ]
    }
   ],
   "source": [
    "print(df_stations['Customer Name'].value_counts())\n",
    "print(df_stations['Warranty'].value_counts())\n",
    "print(df_stations['Site Validation Status'].value_counts())"
   ]
  },
  {
   "cell_type": "code",
   "execution_count": 216,
   "metadata": {},
   "outputs": [
    {
     "name": "stdout",
     "output_type": "stream",
     "text": [
      "<class 'pandas.core.frame.DataFrame'>\n",
      "RangeIndex: 109 entries, 0 to 108\n",
      "Data columns (total 49 columns):\n",
      " #   Column                            Non-Null Count  Dtype  \n",
      "---  ------                            --------------  -----  \n",
      " 0   Station Name                      109 non-null    object \n",
      " 1   Org Name                          109 non-null    object \n",
      " 2   MAC Address                       109 non-null    object \n",
      " 3   System S/N                        109 non-null    int64  \n",
      " 4   Address 1                         109 non-null    object \n",
      " 5   Address 2                         1 non-null      object \n",
      " 6   Floor Label                       26 non-null     object \n",
      " 7   City                              109 non-null    object \n",
      " 8   State                             109 non-null    object \n",
      " 9   Zip/Postal Code                   109 non-null    int64  \n",
      " 10  County                            104 non-null    object \n",
      " 11  Country                           109 non-null    object \n",
      " 12  Activation Status                 109 non-null    object \n",
      " 13  Network Status                    109 non-null    object \n",
      " 14  Station Status                    109 non-null    object \n",
      " 15  Port 1 Status                     109 non-null    object \n",
      " 16  Port 2 Status                     96 non-null     object \n",
      " 17  No. of Ports                      109 non-null    int64  \n",
      " 18  Pricing Policy Name               109 non-null    object \n",
      " 19  Reservations                      109 non-null    object \n",
      " 20  Station Message                   86 non-null     object \n",
      " 21  Enabled                           109 non-null    object \n",
      " 22  Station Activation Type           109 non-null    object \n",
      " 23  Usable By                         109 non-null    object \n",
      " 24  Visibility (Access Policy Name)   109 non-null    object \n",
      " 25  Radio Group Name                  109 non-null    object \n",
      " 26  Customer Category                 109 non-null    object \n",
      " 27  Customer Subcategory              109 non-null    object \n",
      " 28  Circuit Sharing                   109 non-null    object \n",
      " 29  Currency Name                     109 non-null    object \n",
      " 30  Power Select / AC Breaker Rating  92 non-null     object \n",
      " 31  Scheduled Charging Policy Name    0 non-null      float64\n",
      " 32  Warranty                          109 non-null    object \n",
      " 33  Station Activation Date           109 non-null    object \n",
      " 34  Warranty Expiration Date          109 non-null    object \n",
      " 35  Warranty Service                  76 non-null     object \n",
      " 36  Device Access Restriction         109 non-null    object \n",
      " 37  Waitlist Policy Name              0 non-null      float64\n",
      " 38  Asset Tag ID                      22 non-null     float64\n",
      " 39  Meter ID                          1 non-null      object \n",
      " 40  Service Delivery Point ID         0 non-null      float64\n",
      " 41  Point of Service ID               0 non-null      float64\n",
      " 42  Account ID                        0 non-null      float64\n",
      " 43  Circuit ID                        0 non-null      float64\n",
      " 44  Panel ID                          0 non-null      float64\n",
      " 45  Customer Name                     18 non-null     object \n",
      " 46  Customer ID                       18 non-null     object \n",
      " 47  Site Validation Status            109 non-null    object \n",
      " 48  Paired                            109 non-null    object \n",
      "dtypes: float64(8), int64(3), object(38)\n",
      "memory usage: 41.9+ KB\n"
     ]
    }
   ],
   "source": [
    "df_stations.info()"
   ]
  },
  {
   "cell_type": "markdown",
   "metadata": {},
   "source": [
    "## Alarms"
   ]
  },
  {
   "cell_type": "code",
   "execution_count": 241,
   "metadata": {},
   "outputs": [],
   "source": [
    "df_alarms = pd.read_csv('data/reports/alarms/alarms.csv')\n",
    "df_alarms['Alarm Time'] = df_alarms['Alarm Time'].str.replace(' (PDT)', '')\n",
    "df_alarms['Alarm Time'] = df_alarms['Alarm Time'].str.replace(' (PST)', '')\n",
    "df_alarms['Alarm Time'] = pd.to_datetime(df_alarms['Alarm Time']) #.dt.tz_localize('America/Los_Angeles')"
   ]
  },
  {
   "cell_type": "markdown",
   "metadata": {},
   "source": [
    "## Logs Overview"
   ]
  },
  {
   "cell_type": "code",
   "execution_count": 239,
   "metadata": {},
   "outputs": [
    {
     "name": "stdout",
     "output_type": "stream",
     "text": [
      "Display Name\n",
      "STANFORD / STATION 1 TMU    21829\n",
      "SRWC / RWC L5 3             11338\n",
      "SRWC / RWC L5 5              6851\n",
      "SRWC / RWC L5 1              6737\n",
      "SRWC / RWC L5 2              6707\n",
      "                            ...  \n",
      "STANFORD / STATION 1           59\n",
      "STANFORD / STATION 3           54\n",
      "STANFORD / STATION 2           50\n",
      "STANFORD / STATION 4           49\n",
      "STANFORD / STATION 10          46\n",
      "Name: count, Length: 110, dtype: int64\n"
     ]
    }
   ],
   "source": [
    "print(df_alarms['Display Name'].value_counts())"
   ]
  },
  {
   "cell_type": "code",
   "execution_count": 240,
   "metadata": {},
   "outputs": [
    {
     "data": {
      "text/plain": [
       "<Axes: >"
      ]
     },
     "execution_count": 240,
     "metadata": {},
     "output_type": "execute_result"
    },
    {
     "data": {
      "image/png": "[encoded data removed]",
      "text/plain": [
       "<Figure size 640x480 with 1 Axes>"
      ]
     },
     "metadata": {},
     "output_type": "display_data"
    }
   ],
   "source": [
    "df_alarms['Display Name'].hist()"
   ]
  }
 ],
 "metadata": {
  "kernelspec": {
   "display_name": "charger_rel_env",
   "language": "python",
   "name": "python3"
  },
  "language_info": {
   "codemirror_mode": {
    "name": "ipython",
    "version": 3
   },
   "file_extension": ".py",
   "mimetype": "text/x-python",
   "name": "python",
   "nbconvert_exporter": "python",
   "pygments_lexer": "ipython3",
   "version": "3.10.7"
  },
  "orig_nbformat": 4
 },
 "nbformat": 4,
 "nbformat_minor": 2
}
